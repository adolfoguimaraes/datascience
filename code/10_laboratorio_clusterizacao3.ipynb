{
  "cells": [
    {
      "cell_type": "markdown",
      "metadata": {
        "id": "view-in-github",
        "colab_type": "text"
      },
      "source": [
        "<a href=\"https://colab.research.google.com/github/adolfoguimaraes/datascience/blob/main/code/10_laboratorio_clusterizacao3.ipynb\" target=\"_parent\"><img src=\"https://colab.research.google.com/assets/colab-badge.svg\" alt=\"Open In Colab\"/></a>"
      ]
    },
    {
      "cell_type": "markdown",
      "metadata": {
        "id": "9g_VjUv9KAIs"
      },
      "source": [
        "# Clusterização de textos em português - Atividade\n",
        "\n",
        "A base a seguir possui 60000 textos de notícias em português. Os textos foram extraídos da Folha de São Paulo e consiste de um subconjunto da base utilizada no [desafio correspondente do Kaggle](https://www.kaggle.com/marlesson/news-of-the-site-folhauol). \n",
        "\n",
        "A base com o subconjunto ficou muito grande, logo não está disponível neste repositório.\n"
      ]
    },
    {
      "cell_type": "code",
      "execution_count": null,
      "metadata": {
        "id": "PFWDBGt1KAIw",
        "outputId": "e72fbf84-ab9c-452b-8d5a-c89cab9cb078"
      },
      "outputs": [
        {
          "data": {
            "text/html": [
              "<div>\n",
              "<style scoped>\n",
              "    .dataframe tbody tr th:only-of-type {\n",
              "        vertical-align: middle;\n",
              "    }\n",
              "\n",
              "    .dataframe tbody tr th {\n",
              "        vertical-align: top;\n",
              "    }\n",
              "\n",
              "    .dataframe thead th {\n",
              "        text-align: right;\n",
              "    }\n",
              "</style>\n",
              "<table border=\"1\" class=\"dataframe\">\n",
              "  <thead>\n",
              "    <tr style=\"text-align: right;\">\n",
              "      <th></th>\n",
              "      <th>index</th>\n",
              "      <th>text</th>\n",
              "    </tr>\n",
              "  </thead>\n",
              "  <tbody>\n",
              "    <tr>\n",
              "      <th>0</th>\n",
              "      <td>0</td>\n",
              "      <td>No dia em que deixou a Síria com instruções pa...</td>\n",
              "    </tr>\n",
              "    <tr>\n",
              "      <th>1</th>\n",
              "      <td>1</td>\n",
              "      <td>Havia um vazio em Brasília e ele foi ocupado p...</td>\n",
              "    </tr>\n",
              "    <tr>\n",
              "      <th>2</th>\n",
              "      <td>2</td>\n",
              "      <td>Espaços vazios de terminais do metrô e de ônib...</td>\n",
              "    </tr>\n",
              "    <tr>\n",
              "      <th>3</th>\n",
              "      <td>3</td>\n",
              "      <td>A primeira imagem mostra uma multidão de milha...</td>\n",
              "    </tr>\n",
              "    <tr>\n",
              "      <th>4</th>\n",
              "      <td>4</td>\n",
              "      <td>A seletiva francesa para o Mundial de Kazan te...</td>\n",
              "    </tr>\n",
              "  </tbody>\n",
              "</table>\n",
              "</div>"
            ],
            "text/plain": [
              "   index                                               text\n",
              "0      0  No dia em que deixou a Síria com instruções pa...\n",
              "1      1  Havia um vazio em Brasília e ele foi ocupado p...\n",
              "2      2  Espaços vazios de terminais do metrô e de ônib...\n",
              "3      3  A primeira imagem mostra uma multidão de milha...\n",
              "4      4  A seletiva francesa para o Mundial de Kazan te..."
            ]
          },
          "execution_count": 1,
          "metadata": {},
          "output_type": "execute_result"
        }
      ],
      "source": [
        "import pandas as pd\n",
        "dados_noticias = pd.read_csv(\"../datasets/clusterizacao/DataNews.csv\")\n",
        "dados_noticias.dropna(inplace=True)\n",
        "dados_noticias.head()"
      ]
    },
    {
      "cell_type": "code",
      "execution_count": null,
      "metadata": {
        "id": "a0l6yOW8KAIy"
      },
      "outputs": [],
      "source": [
        "# Imports necessários\n",
        "from sklearn.feature_extraction.text import TfidfVectorizer\n",
        "\n",
        "# Criação da lista de textos que serão vetorizados. O método não aceita o dataframe como entrada. \n",
        "texts = list(dados_noticias['text'])\n",
        "\n",
        "# Aplicação da Vetorização\n",
        "tfidf_vectorizer = TfidfVectorizer(max_df=0.8,\n",
        "                                 min_df=0.2,\n",
        "                                 use_idf=True, ngram_range=(1,3),)\n",
        "tfidf_matrix = tfidf_vectorizer.fit_transform(texts)\n"
      ]
    },
    {
      "cell_type": "markdown",
      "metadata": {
        "id": "X2-IpO0sKAI0"
      },
      "source": [
        "Aplique técnicas de clusterização para agrupar os documentos e analise a partir dos textos agrupados de qual categoria consiste cada um dos grupos de notícias. \n",
        "\n",
        "Apresente a análise em uma seção separada do notebook explicando os resultados obtidos.\n",
        "\n",
        "**Criem um notebook a parte realizar a atividade e use o cógido acima para carregar a base de trabalho**.\n",
        "\n",
        "Divirtam-se ;) "
      ]
    },
    {
      "cell_type": "markdown",
      "metadata": {
        "id": "xWeB4klQKAI1"
      },
      "source": [
        ""
      ]
    }
  ],
  "metadata": {
    "interpreter": {
      "hash": "5063cfe71bac910fcf2a966b61d684c7ab1acf2cfb80646acb374e5182a49f95"
    },
    "kernelspec": {
      "display_name": "Python 3.9.7 ('datascience')",
      "language": "python",
      "name": "python3"
    },
    "language_info": {
      "codemirror_mode": {
        "name": "ipython",
        "version": 3
      },
      "file_extension": ".py",
      "mimetype": "text/x-python",
      "name": "python",
      "nbconvert_exporter": "python",
      "pygments_lexer": "ipython3",
      "version": "3.9.7"
    },
    "orig_nbformat": 4,
    "colab": {
      "name": "10_laboratorio_clusterizacao3.ipynb",
      "provenance": [],
      "include_colab_link": true
    }
  },
  "nbformat": 4,
  "nbformat_minor": 0
}