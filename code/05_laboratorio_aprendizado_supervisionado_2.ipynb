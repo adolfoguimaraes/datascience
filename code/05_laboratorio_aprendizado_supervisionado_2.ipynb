{
  "cells": [
    {
      "cell_type": "markdown",
      "metadata": {
        "colab_type": "text",
        "id": "view-in-github"
      },
      "source": [
        "<a href=\"https://colab.research.google.com/github/adolfoguimaraes/datascience/blob/main/code/05_laboratorio_aprendizado_supervisionado_2.ipynb\" target=\"_parent\"><img src=\"https://colab.research.google.com/assets/colab-badge.svg\" alt=\"Open In Colab\"/></a>"
      ]
    },
    {
      "cell_type": "markdown",
      "metadata": {
        "id": "NVXtd2XMhPLC"
      },
      "source": [
        "# Aprendizado Supervisionado\n",
        "\n",
        "Vamos trabalhar com mais uma base e testar diferentes algortimos de Machine Learning. No entanto, nosso foco vai ser olhar as métricas de avaliação estudadas em sala de aula."
      ]
    },
    {
      "cell_type": "code",
      "execution_count": 1,
      "metadata": {
        "id": "HSBd3CC6hPLH"
      },
      "outputs": [],
      "source": [
        "import pandas as pd\n",
        "from tabulate import tabulate"
      ]
    },
    {
      "cell_type": "markdown",
      "metadata": {
        "id": "ugFF6CLWhPLK"
      },
      "source": [
        "## Base dos Dados \n",
        "\n",
        "Vamos utilizar a base de dados disponível nesse link: https://archive.ics.uci.edu/ml/datasets/spambase. A base está disponível na pasta `datasets` com o nome `SpamDataset.csv`. A versão deste repositório já está com os nomes das colunas. No repositório original, essas informações estão em arquivos separados. Não foi feita nenhuma modificação nos dados, apenas a inclusão no nome das colunas. "
      ]
    },
    {
      "cell_type": "code",
      "execution_count": 2,
      "metadata": {
        "id": "jCAk5wS8hPLP",
        "outputId": "8da22405-c693-4c16-8120-aa069da192fd"
      },
      "outputs": [
        {
          "data": {
            "text/html": [
              "<div>\n",
              "<style scoped>\n",
              "    .dataframe tbody tr th:only-of-type {\n",
              "        vertical-align: middle;\n",
              "    }\n",
              "\n",
              "    .dataframe tbody tr th {\n",
              "        vertical-align: top;\n",
              "    }\n",
              "\n",
              "    .dataframe thead th {\n",
              "        text-align: right;\n",
              "    }\n",
              "</style>\n",
              "<table border=\"1\" class=\"dataframe\">\n",
              "  <thead>\n",
              "    <tr style=\"text-align: right;\">\n",
              "      <th></th>\n",
              "      <th>word_freq_make</th>\n",
              "      <th>word_freq_address</th>\n",
              "      <th>word_freq_all</th>\n",
              "      <th>word_freq_3d</th>\n",
              "      <th>word_freq_our</th>\n",
              "      <th>word_freq_over</th>\n",
              "      <th>word_freq_remove</th>\n",
              "      <th>word_freq_internet</th>\n",
              "      <th>word_freq_order</th>\n",
              "      <th>word_freq_mail</th>\n",
              "      <th>...</th>\n",
              "      <th>char_freq_;</th>\n",
              "      <th>char_freq_(</th>\n",
              "      <th>char_freq_[</th>\n",
              "      <th>char_freq_!</th>\n",
              "      <th>char_freq_$</th>\n",
              "      <th>char_freq_#</th>\n",
              "      <th>capital_run_length_average</th>\n",
              "      <th>capital_run_length_longest</th>\n",
              "      <th>capital_run_length_total</th>\n",
              "      <th>classe</th>\n",
              "    </tr>\n",
              "  </thead>\n",
              "  <tbody>\n",
              "    <tr>\n",
              "      <th>0</th>\n",
              "      <td>0.00</td>\n",
              "      <td>0.64</td>\n",
              "      <td>0.64</td>\n",
              "      <td>0.0</td>\n",
              "      <td>0.32</td>\n",
              "      <td>0.00</td>\n",
              "      <td>0.00</td>\n",
              "      <td>0.00</td>\n",
              "      <td>0.00</td>\n",
              "      <td>0.00</td>\n",
              "      <td>...</td>\n",
              "      <td>0.000</td>\n",
              "      <td>0.000</td>\n",
              "      <td>0.0</td>\n",
              "      <td>0.778</td>\n",
              "      <td>0.000</td>\n",
              "      <td>0.000</td>\n",
              "      <td>3.756</td>\n",
              "      <td>61</td>\n",
              "      <td>278</td>\n",
              "      <td>1</td>\n",
              "    </tr>\n",
              "    <tr>\n",
              "      <th>1</th>\n",
              "      <td>0.21</td>\n",
              "      <td>0.28</td>\n",
              "      <td>0.50</td>\n",
              "      <td>0.0</td>\n",
              "      <td>0.14</td>\n",
              "      <td>0.28</td>\n",
              "      <td>0.21</td>\n",
              "      <td>0.07</td>\n",
              "      <td>0.00</td>\n",
              "      <td>0.94</td>\n",
              "      <td>...</td>\n",
              "      <td>0.000</td>\n",
              "      <td>0.132</td>\n",
              "      <td>0.0</td>\n",
              "      <td>0.372</td>\n",
              "      <td>0.180</td>\n",
              "      <td>0.048</td>\n",
              "      <td>5.114</td>\n",
              "      <td>101</td>\n",
              "      <td>1028</td>\n",
              "      <td>1</td>\n",
              "    </tr>\n",
              "    <tr>\n",
              "      <th>2</th>\n",
              "      <td>0.06</td>\n",
              "      <td>0.00</td>\n",
              "      <td>0.71</td>\n",
              "      <td>0.0</td>\n",
              "      <td>1.23</td>\n",
              "      <td>0.19</td>\n",
              "      <td>0.19</td>\n",
              "      <td>0.12</td>\n",
              "      <td>0.64</td>\n",
              "      <td>0.25</td>\n",
              "      <td>...</td>\n",
              "      <td>0.010</td>\n",
              "      <td>0.143</td>\n",
              "      <td>0.0</td>\n",
              "      <td>0.276</td>\n",
              "      <td>0.184</td>\n",
              "      <td>0.010</td>\n",
              "      <td>9.821</td>\n",
              "      <td>485</td>\n",
              "      <td>2259</td>\n",
              "      <td>1</td>\n",
              "    </tr>\n",
              "    <tr>\n",
              "      <th>3</th>\n",
              "      <td>0.00</td>\n",
              "      <td>0.00</td>\n",
              "      <td>0.00</td>\n",
              "      <td>0.0</td>\n",
              "      <td>0.63</td>\n",
              "      <td>0.00</td>\n",
              "      <td>0.31</td>\n",
              "      <td>0.63</td>\n",
              "      <td>0.31</td>\n",
              "      <td>0.63</td>\n",
              "      <td>...</td>\n",
              "      <td>0.000</td>\n",
              "      <td>0.137</td>\n",
              "      <td>0.0</td>\n",
              "      <td>0.137</td>\n",
              "      <td>0.000</td>\n",
              "      <td>0.000</td>\n",
              "      <td>3.537</td>\n",
              "      <td>40</td>\n",
              "      <td>191</td>\n",
              "      <td>1</td>\n",
              "    </tr>\n",
              "    <tr>\n",
              "      <th>4</th>\n",
              "      <td>0.00</td>\n",
              "      <td>0.00</td>\n",
              "      <td>0.00</td>\n",
              "      <td>0.0</td>\n",
              "      <td>0.63</td>\n",
              "      <td>0.00</td>\n",
              "      <td>0.31</td>\n",
              "      <td>0.63</td>\n",
              "      <td>0.31</td>\n",
              "      <td>0.63</td>\n",
              "      <td>...</td>\n",
              "      <td>0.000</td>\n",
              "      <td>0.135</td>\n",
              "      <td>0.0</td>\n",
              "      <td>0.135</td>\n",
              "      <td>0.000</td>\n",
              "      <td>0.000</td>\n",
              "      <td>3.537</td>\n",
              "      <td>40</td>\n",
              "      <td>191</td>\n",
              "      <td>1</td>\n",
              "    </tr>\n",
              "    <tr>\n",
              "      <th>...</th>\n",
              "      <td>...</td>\n",
              "      <td>...</td>\n",
              "      <td>...</td>\n",
              "      <td>...</td>\n",
              "      <td>...</td>\n",
              "      <td>...</td>\n",
              "      <td>...</td>\n",
              "      <td>...</td>\n",
              "      <td>...</td>\n",
              "      <td>...</td>\n",
              "      <td>...</td>\n",
              "      <td>...</td>\n",
              "      <td>...</td>\n",
              "      <td>...</td>\n",
              "      <td>...</td>\n",
              "      <td>...</td>\n",
              "      <td>...</td>\n",
              "      <td>...</td>\n",
              "      <td>...</td>\n",
              "      <td>...</td>\n",
              "      <td>...</td>\n",
              "    </tr>\n",
              "    <tr>\n",
              "      <th>4596</th>\n",
              "      <td>0.31</td>\n",
              "      <td>0.00</td>\n",
              "      <td>0.62</td>\n",
              "      <td>0.0</td>\n",
              "      <td>0.00</td>\n",
              "      <td>0.31</td>\n",
              "      <td>0.00</td>\n",
              "      <td>0.00</td>\n",
              "      <td>0.00</td>\n",
              "      <td>0.00</td>\n",
              "      <td>...</td>\n",
              "      <td>0.000</td>\n",
              "      <td>0.232</td>\n",
              "      <td>0.0</td>\n",
              "      <td>0.000</td>\n",
              "      <td>0.000</td>\n",
              "      <td>0.000</td>\n",
              "      <td>1.142</td>\n",
              "      <td>3</td>\n",
              "      <td>88</td>\n",
              "      <td>0</td>\n",
              "    </tr>\n",
              "    <tr>\n",
              "      <th>4597</th>\n",
              "      <td>0.00</td>\n",
              "      <td>0.00</td>\n",
              "      <td>0.00</td>\n",
              "      <td>0.0</td>\n",
              "      <td>0.00</td>\n",
              "      <td>0.00</td>\n",
              "      <td>0.00</td>\n",
              "      <td>0.00</td>\n",
              "      <td>0.00</td>\n",
              "      <td>0.00</td>\n",
              "      <td>...</td>\n",
              "      <td>0.000</td>\n",
              "      <td>0.000</td>\n",
              "      <td>0.0</td>\n",
              "      <td>0.353</td>\n",
              "      <td>0.000</td>\n",
              "      <td>0.000</td>\n",
              "      <td>1.555</td>\n",
              "      <td>4</td>\n",
              "      <td>14</td>\n",
              "      <td>0</td>\n",
              "    </tr>\n",
              "    <tr>\n",
              "      <th>4598</th>\n",
              "      <td>0.30</td>\n",
              "      <td>0.00</td>\n",
              "      <td>0.30</td>\n",
              "      <td>0.0</td>\n",
              "      <td>0.00</td>\n",
              "      <td>0.00</td>\n",
              "      <td>0.00</td>\n",
              "      <td>0.00</td>\n",
              "      <td>0.00</td>\n",
              "      <td>0.00</td>\n",
              "      <td>...</td>\n",
              "      <td>0.102</td>\n",
              "      <td>0.718</td>\n",
              "      <td>0.0</td>\n",
              "      <td>0.000</td>\n",
              "      <td>0.000</td>\n",
              "      <td>0.000</td>\n",
              "      <td>1.404</td>\n",
              "      <td>6</td>\n",
              "      <td>118</td>\n",
              "      <td>0</td>\n",
              "    </tr>\n",
              "    <tr>\n",
              "      <th>4599</th>\n",
              "      <td>0.96</td>\n",
              "      <td>0.00</td>\n",
              "      <td>0.00</td>\n",
              "      <td>0.0</td>\n",
              "      <td>0.32</td>\n",
              "      <td>0.00</td>\n",
              "      <td>0.00</td>\n",
              "      <td>0.00</td>\n",
              "      <td>0.00</td>\n",
              "      <td>0.00</td>\n",
              "      <td>...</td>\n",
              "      <td>0.000</td>\n",
              "      <td>0.057</td>\n",
              "      <td>0.0</td>\n",
              "      <td>0.000</td>\n",
              "      <td>0.000</td>\n",
              "      <td>0.000</td>\n",
              "      <td>1.147</td>\n",
              "      <td>5</td>\n",
              "      <td>78</td>\n",
              "      <td>0</td>\n",
              "    </tr>\n",
              "    <tr>\n",
              "      <th>4600</th>\n",
              "      <td>0.00</td>\n",
              "      <td>0.00</td>\n",
              "      <td>0.65</td>\n",
              "      <td>0.0</td>\n",
              "      <td>0.00</td>\n",
              "      <td>0.00</td>\n",
              "      <td>0.00</td>\n",
              "      <td>0.00</td>\n",
              "      <td>0.00</td>\n",
              "      <td>0.00</td>\n",
              "      <td>...</td>\n",
              "      <td>0.000</td>\n",
              "      <td>0.000</td>\n",
              "      <td>0.0</td>\n",
              "      <td>0.125</td>\n",
              "      <td>0.000</td>\n",
              "      <td>0.000</td>\n",
              "      <td>1.250</td>\n",
              "      <td>5</td>\n",
              "      <td>40</td>\n",
              "      <td>0</td>\n",
              "    </tr>\n",
              "  </tbody>\n",
              "</table>\n",
              "<p>4601 rows × 58 columns</p>\n",
              "</div>"
            ],
            "text/plain": [
              "      word_freq_make  word_freq_address  word_freq_all  word_freq_3d  \\\n",
              "0               0.00               0.64           0.64           0.0   \n",
              "1               0.21               0.28           0.50           0.0   \n",
              "2               0.06               0.00           0.71           0.0   \n",
              "3               0.00               0.00           0.00           0.0   \n",
              "4               0.00               0.00           0.00           0.0   \n",
              "...              ...                ...            ...           ...   \n",
              "4596            0.31               0.00           0.62           0.0   \n",
              "4597            0.00               0.00           0.00           0.0   \n",
              "4598            0.30               0.00           0.30           0.0   \n",
              "4599            0.96               0.00           0.00           0.0   \n",
              "4600            0.00               0.00           0.65           0.0   \n",
              "\n",
              "      word_freq_our  word_freq_over  word_freq_remove  word_freq_internet  \\\n",
              "0              0.32            0.00              0.00                0.00   \n",
              "1              0.14            0.28              0.21                0.07   \n",
              "2              1.23            0.19              0.19                0.12   \n",
              "3              0.63            0.00              0.31                0.63   \n",
              "4              0.63            0.00              0.31                0.63   \n",
              "...             ...             ...               ...                 ...   \n",
              "4596           0.00            0.31              0.00                0.00   \n",
              "4597           0.00            0.00              0.00                0.00   \n",
              "4598           0.00            0.00              0.00                0.00   \n",
              "4599           0.32            0.00              0.00                0.00   \n",
              "4600           0.00            0.00              0.00                0.00   \n",
              "\n",
              "      word_freq_order  word_freq_mail  ...  char_freq_;  char_freq_(  \\\n",
              "0                0.00            0.00  ...        0.000        0.000   \n",
              "1                0.00            0.94  ...        0.000        0.132   \n",
              "2                0.64            0.25  ...        0.010        0.143   \n",
              "3                0.31            0.63  ...        0.000        0.137   \n",
              "4                0.31            0.63  ...        0.000        0.135   \n",
              "...               ...             ...  ...          ...          ...   \n",
              "4596             0.00            0.00  ...        0.000        0.232   \n",
              "4597             0.00            0.00  ...        0.000        0.000   \n",
              "4598             0.00            0.00  ...        0.102        0.718   \n",
              "4599             0.00            0.00  ...        0.000        0.057   \n",
              "4600             0.00            0.00  ...        0.000        0.000   \n",
              "\n",
              "      char_freq_[  char_freq_!  char_freq_$  char_freq_#  \\\n",
              "0             0.0        0.778        0.000        0.000   \n",
              "1             0.0        0.372        0.180        0.048   \n",
              "2             0.0        0.276        0.184        0.010   \n",
              "3             0.0        0.137        0.000        0.000   \n",
              "4             0.0        0.135        0.000        0.000   \n",
              "...           ...          ...          ...          ...   \n",
              "4596          0.0        0.000        0.000        0.000   \n",
              "4597          0.0        0.353        0.000        0.000   \n",
              "4598          0.0        0.000        0.000        0.000   \n",
              "4599          0.0        0.000        0.000        0.000   \n",
              "4600          0.0        0.125        0.000        0.000   \n",
              "\n",
              "      capital_run_length_average  capital_run_length_longest  \\\n",
              "0                          3.756                          61   \n",
              "1                          5.114                         101   \n",
              "2                          9.821                         485   \n",
              "3                          3.537                          40   \n",
              "4                          3.537                          40   \n",
              "...                          ...                         ...   \n",
              "4596                       1.142                           3   \n",
              "4597                       1.555                           4   \n",
              "4598                       1.404                           6   \n",
              "4599                       1.147                           5   \n",
              "4600                       1.250                           5   \n",
              "\n",
              "      capital_run_length_total  classe  \n",
              "0                          278       1  \n",
              "1                         1028       1  \n",
              "2                         2259       1  \n",
              "3                          191       1  \n",
              "4                          191       1  \n",
              "...                        ...     ...  \n",
              "4596                        88       0  \n",
              "4597                        14       0  \n",
              "4598                       118       0  \n",
              "4599                        78       0  \n",
              "4600                        40       0  \n",
              "\n",
              "[4601 rows x 58 columns]"
            ]
          },
          "execution_count": 2,
          "metadata": {},
          "output_type": "execute_result"
        }
      ],
      "source": [
        "data_ = pd.read_csv(\"../datasets/SpamDataset.csv\")\n",
        "data_"
      ]
    },
    {
      "cell_type": "markdown",
      "metadata": {
        "id": "8qvw-wIqhPLQ"
      },
      "source": [
        "A base que vamos trabalhar é usada para classificar textos como SPAM ou NÃO SPAM. Cada instância é um e-mail que foi classificado nestas duas classes. Cada instância é caracterizada por 57 atributos e 1 atributo de classe. Cada um dos 57 atributos tem relação com o conteúdo do texto usado para gerar a base. A classe pode assumir dois valores: 1 (texto classificado como Spam) e 0 (texto classificado como Não Spam).\n",
        "\n",
        "Segue uma descrição dos atributos (em inglês) tirada da documentação da base:\n",
        "\n",
        "```\n",
        "The last column of 'spambase.data' denotes whether the e-mail was \n",
        "considered spam (1) or not (0), i.e. unsolicited commercial e-mail.  \n",
        "Most of the attributes indicate whether a particular word or\n",
        "character was frequently occuring in the e-mail.  The run-length\n",
        "attributes (55-57) measure the length of sequences of consecutive \n",
        "capital letters.  For the statistical measures of each attribute, \n",
        "see the end of this file.  Here are the definitions of the attributes:\n",
        "\n",
        "48 continuous real [0,100] attributes of type word_freq_WORD \n",
        "= percentage of words in the e-mail that match WORD,\n",
        "i.e. 100 * (number of times the WORD appears in the e-mail) / \n",
        "total number of words in e-mail.  A \"word\" in this case is any \n",
        "string of alphanumeric characters bounded by non-alphanumeric \n",
        "characters or end-of-string.\n",
        "\n",
        "6 continuous real [0,100] attributes of type char_freq_CHAR\n",
        "= percentage of characters in the e-mail that match CHAR,\n",
        "i.e. 100 * (number of CHAR occurences) / total characters in e-mail\n",
        "\n",
        "1 continuous real [1,...] attribute of type capital_run_length_average\n",
        "= average length of uninterrupted sequences of capital letters\n",
        "\n",
        "1 continuous integer [1,...] attribute of type capital_run_length_longest\n",
        "= length of longest uninterrupted sequence of capital letters\n",
        "\n",
        "1 continuous integer [1,...] attribute of type capital_run_length_total\n",
        "= sum of length of uninterrupted sequences of capital letters\n",
        "= total number of capital letters in the e-mail\n",
        "\n",
        "1 nominal {0,1} class attribute of type spam\n",
        "= denotes whether the e-mail was considered spam (1) or not (0), \n",
        "i.e. unsolicited commercial e-mail.  \n",
        "```\n",
        "\n",
        "Para mais informações, acesse o link original da base. \n",
        "\n",
        "Vamos separar os atributos da classe nas variáveis `X` e `y`, respectivamente. "
      ]
    },
    {
      "cell_type": "code",
      "execution_count": 3,
      "metadata": {
        "id": "1uq05HIthPLS"
      },
      "outputs": [],
      "source": [
        "X = data_[data_.columns[:-1]]\n",
        "y = data_[data_.columns[-1]]"
      ]
    },
    {
      "cell_type": "markdown",
      "metadata": {
        "id": "ZTqSkrbjhPLU"
      },
      "source": [
        "## Treinando os modelos \n",
        "\n",
        "Vamos treinar os modelos vistos em sala de aula: KNN, Árvore de Decisão e SVM. Em cada um destes modelos vamos alterar alguns atributos com o intuito de ajustar o melhor modelo. \n",
        "\n",
        "### KNN\n",
        "\n",
        "Vamos usar a implementação [`sklearn.neighbors.KNeighborsClassifier`](https://scikit-learn.org/stable/modules/generated/sklearn.neighbors.KNeighborsClassifier.html) do KNN no Scikit-Learn. Neste caso, vamos modificar o parâmetro K (número de vizinhos), representado pelo atributo `n_neighbors`. A escolha do melhor valor de K depende dos dados que serão treinados. De forma geral, um valor alto de K reduz os efeitos de ruídos. No entanto, eles tornam os limites de classificação menos distintos, o que pode implicar em erros do modelo. \n",
        "\n",
        "### Árvore de Decisão \n",
        "\n",
        "Vamos usar a implementação [`sklearn.tree.DecisionTreeClassifier`](https://scikit-learn.org/stable/modules/generated/sklearn.tree.DecisionTreeClassifier.html) da árvore de Decisão do Scikit-Learn. Neste exemplo, vamos trabalhar com dois parâmetros que nos ajudam a controlar o tamanho da árvore de decisão gerada. Lembre que em alguns casos, o tamanho da árvore pode ser um problema. Podar essa árvore pode evitar problemas de consumo de memória e, em alguns casos, evitar uma árvore superajustada que cause o que chamamos de `overfitting`. O tamanho da árvore vai ser controlado pelo parâmetro `max_depth` (A profundidade máxima da árvore. Se `None` (valor padrão), os nós são expandidos até todos os nós serem puros ou até todas as folhas conterem pelo menos `min_samples_split` exemplos). \n",
        "\n",
        "[Ver esse link](https://stackoverflow.com/questions/46480457/difference-between-min-samples-split-and-min-samples-leaf-in-sklearn-decisiontre) para entender um pouco melhor a diferença de `min_samples_split` e `min_samples_leaf`. \n",
        "\n",
        "### SVM \n",
        "\n",
        "Vamos usar a implementação [`sklearn.svm.SVC`](https://scikit-learn.org/stable/modules/generated/sklearn.svm.SVC.html) do SVM do Scikit-Learn. Vamos modificar três parâmetros: \n",
        "\n",
        "* `kernel`: Especifica o tipo de kernel que queremos usar no algoritmo. O `rbf` é o padrão e pode assumir os valores `linear`, `poly`, `rbf`, `sigmoid`, `precomputed`. Vamos utilizar o `linear`, `poly` e o `rbf` nos nossos exemplos. \n",
        "* `C`: O `C` é um parâmetro de regularização que controla \"o quanto o modelo erra\". Valores altos implica que o modelo vai errar mais e valores baixos implica em menos erros. Não existe uma regra de que o menor erro implica em um modelo melhor. O parâmetro deve ser modificado e testado para a base de dados. \n",
        "* `gamma`: O `gamma` é um parâmetro utilizado quando trabalhamos com o kernel `rbf` que ajuda a controlar o quanto de curvatura vamos querer no modelo. Maior valor implica em maior curvaturas e menor, menos curvaturas. Isso ajuda a controlar o quão complexo é o modelo que está sendo gerado. \n",
        "\n",
        "[Veja esse link](https://medium.com/@myselfaman12345/c-and-gamma-in-svm-e6cee48626be) para entender um pouco mais destes parâmetros.\n",
        "\n",
        "\n",
        "Vamos treinar nosso modelos :) \n",
        "\n",
        "\n",
        "\n"
      ]
    },
    {
      "cell_type": "markdown",
      "metadata": {
        "id": "CPuAWLBdhPLV"
      },
      "source": [
        "## Usando Validação Cruzada\n",
        "\n",
        "Vamos utilizar a validação cruzada para executar os testes dos modelos escolhidos. Para cada modelo, vamos mudar alguns parâmetros e analisar do ponto de vista das métricas a qualidade de cada modelo. \n",
        "\n"
      ]
    },
    {
      "cell_type": "code",
      "execution_count": 4,
      "metadata": {
        "id": "_owdVYedhPLW"
      },
      "outputs": [],
      "source": [
        "def cross_validate_model(model, value_X, value_y):\n",
        "\n",
        "    cross_result = cross_validate(model, value_X, value_y, scoring=('accuracy','precision','recall','f1'))\n",
        "\n",
        "    result_values = [\n",
        "        cross_result['fit_time'].mean(), \n",
        "        cross_result['score_time'].mean(), \n",
        "        cross_result['test_accuracy'].mean(), \n",
        "        cross_result['test_precision'].mean(), \n",
        "        cross_result['test_recall'].mean(), \n",
        "        cross_result['test_f1'].mean()\n",
        "    ]\n",
        "\n",
        "    return result_values\n",
        "\n",
        "    "
      ]
    },
    {
      "cell_type": "markdown",
      "metadata": {
        "id": "f-jYhqhUhPLY"
      },
      "source": [
        "Vamos começar com o KNN, informando que o valor de K deve variar de 1 a 15. "
      ]
    },
    {
      "cell_type": "code",
      "execution_count": 5,
      "metadata": {
        "id": "k1wxU_c2hPLZ"
      },
      "outputs": [],
      "source": [
        "from sklearn.model_selection import cross_validate\n",
        "from sklearn.neighbors import KNeighborsClassifier"
      ]
    },
    {
      "cell_type": "code",
      "execution_count": 6,
      "metadata": {
        "id": "KV6H5SsahPLa"
      },
      "outputs": [],
      "source": [
        "all_knn_results = []\n",
        "for k in range(1,15):\n",
        "\n",
        "    # Validação Cruzada\n",
        "    knn_ = KNeighborsClassifier(n_neighbors=k)\n",
        "    results_ = cross_validate_model(knn_, X, y)\n",
        "\n",
        "    # Gerar a lista de valores\n",
        "    temp_list = [k]\n",
        "    temp_list.extend(results_)\n",
        "    all_knn_results.append(temp_list)\n"
      ]
    },
    {
      "cell_type": "code",
      "execution_count": 7,
      "metadata": {
        "id": "nW7lgJewhPLa",
        "outputId": "88a409d6-b791-4a25-b79f-cf15388d6937"
      },
      "outputs": [
        {
          "name": "stdout",
          "output_type": "stream",
          "text": [
            "  k    Tempo Treimo    Tempo Teste    Acurácia    Precisão    Recall        F1\n",
            "---  --------------  -------------  ----------  ----------  --------  --------\n",
            "  1      0.00836754       0.150531    0.777007    0.717829  0.724201  0.720072\n",
            "  2      0.00512824       0.112086    0.764835    0.781242  0.563131  0.653822\n",
            "  3      0.0049839        0.122019    0.776354    0.720975  0.719234  0.718433\n",
            "  4      0.00458016       0.132687    0.767444    0.754983  0.613873  0.675613\n",
            "  5      0.00441027       0.136835    0.772446    0.720053  0.699938  0.708679\n",
            "  6      0.00559516       0.13261     0.760059    0.732517  0.62272   0.672297\n",
            "  7      0.00395522       0.135565    0.768752    0.713367  0.70105   0.70594\n",
            "  8      0.00434074       0.133412    0.759624    0.728924  0.628793  0.673932\n",
            "  9      0.0047761        0.134825    0.759842    0.702385  0.687268  0.693561\n",
            " 10      0.00540185       0.132385    0.759842    0.724332  0.639823  0.677938\n",
            " 11      0.00471277       0.132832    0.760278    0.70485   0.685055  0.693429\n",
            " 12      0.00416927       0.131722    0.753538    0.716661  0.629897  0.669113\n",
            " 13      0.00510998       0.14783     0.756799    0.700361  0.680107  0.688703\n",
            " 14      0.00417347       0.150279    0.756146    0.71677   0.639829  0.674828\n"
          ]
        }
      ],
      "source": [
        "print(tabulate(all_knn_results, headers=['k','Tempo Treimo','Tempo Teste','Acurácia','Precisão','Recall','F1']))"
      ]
    },
    {
      "cell_type": "markdown",
      "metadata": {
        "id": "xg4mPckahPLc"
      },
      "source": [
        "No caso da árvore de decisão vamos modificar o atributo que controla o tamanho da árvore. "
      ]
    },
    {
      "cell_type": "code",
      "execution_count": 8,
      "metadata": {
        "id": "00XXt4kthPLd"
      },
      "outputs": [],
      "source": [
        "from sklearn.tree import DecisionTreeClassifier"
      ]
    },
    {
      "cell_type": "code",
      "execution_count": 9,
      "metadata": {
        "id": "UTODET_shPLd"
      },
      "outputs": [],
      "source": [
        "all_tree_results = []\n",
        "for depth_ in range(1, 15): \n",
        "    tree_ = DecisionTreeClassifier(max_depth=depth_, random_state=42)\n",
        "    temp_list = [depth_]\n",
        "    results_ = cross_validate_model(tree_, X, y)\n",
        "    temp_list.extend(results_)\n",
        "    all_tree_results.append(temp_list)"
      ]
    },
    {
      "cell_type": "code",
      "execution_count": 10,
      "metadata": {
        "id": "egp6Fy4_hPLe",
        "outputId": "c85f636c-4e38-4da6-a38e-77adfb723a74"
      },
      "outputs": [
        {
          "name": "stdout",
          "output_type": "stream",
          "text": [
            "  Profundidade    Tempo Treimo    Tempo Teste    Acurácia    Precisão    Recall        F1\n",
            "--------------  --------------  -------------  ----------  ----------  --------  --------\n",
            "             1       0.0392785      0.047644     0.77505     0.825201  0.591349  0.677385\n",
            "             2       0.0564623      0.0256186    0.840902    0.873568  0.73528   0.790326\n",
            "             3       0.116419       0.0408113    0.869814    0.873883  0.791515  0.827812\n",
            "             4       0.0962426      0.0449592    0.881762    0.900529  0.796452  0.843372\n",
            "             5       0.140757       0.0229484    0.889586    0.886307  0.836175  0.858561\n",
            "             6       0.103733       0.0247947    0.899148    0.893452  0.853804  0.871505\n",
            "             7       0.0843343      0.015084     0.899799    0.886041  0.867606  0.874813\n",
            "             8       0.0942235      0.0149621    0.896538    0.882163  0.864849  0.871281\n",
            "             9       0.100732       0.0152923    0.895018    0.880424  0.863197  0.869354\n",
            "            10       0.108846       0.0158148    0.901107    0.890226  0.864859  0.875637\n",
            "            11       0.12531        0.0159338    0.895239    0.879075  0.862661  0.868773\n",
            "            12       0.131424       0.0163136    0.895455    0.882355  0.861002  0.86928\n",
            "            13       0.133531       0.0150807    0.896323    0.876642  0.868717  0.870918\n",
            "            14       0.141662       0.0155855    0.896976    0.877605  0.870924  0.872226\n"
          ]
        }
      ],
      "source": [
        "print(tabulate(all_tree_results, headers=['Profundidade','Tempo Treimo','Tempo Teste','Acurácia','Precisão','Recall','F1']))"
      ]
    },
    {
      "cell_type": "markdown",
      "metadata": {
        "id": "FpOcC12khPLh"
      },
      "source": [
        "No caso do SVM vamos modificar os atributos `C` e `gamma` que controla as funções de separação que são geradas. "
      ]
    },
    {
      "cell_type": "code",
      "execution_count": null,
      "metadata": {
        "id": "wsjFlcsKhPLi"
      },
      "outputs": [],
      "source": [
        "from sklearn.svm import SVC "
      ]
    },
    {
      "cell_type": "markdown",
      "metadata": {
        "id": "IoVyFMPMhPLj"
      },
      "source": [
        "O `C` vai variar com os valores `[0.01, 0.1, 1, 10, 100, 1000]`."
      ]
    },
    {
      "cell_type": "code",
      "execution_count": null,
      "metadata": {
        "id": "NaIF6-YlhPLk",
        "outputId": "b8690445-ac71-4490-daa4-d50663eb9a47"
      },
      "outputs": [
        {
          "name": "stdout",
          "output_type": "stream",
          "text": [
            "C = 0.010000 C = 0.100000 C = 1.000000 C = 10.000000 C = 100.000000 C = 1000.000000 "
          ]
        }
      ],
      "source": [
        "all_svm_results = []\n",
        "for C in [0.01, 0.1, 1, 10, 100, 1000]:\n",
        "    print(\"C = %f\" % C, end=\" \")\n",
        "    svm = SVC(kernel='rbf', C=C, random_state=42)\n",
        "    temp_list = [C]\n",
        "    result_ = cross_validate_model(svm, X, y)\n",
        "    temp_list.extend(result_)\n",
        "    all_svm_results.append(temp_list)\n",
        "\n"
      ]
    },
    {
      "cell_type": "code",
      "execution_count": null,
      "metadata": {
        "id": "MnI7LLPvhPLl",
        "outputId": "9a3d86a9-3d99-4327-bcc0-3296fac5b461"
      },
      "outputs": [
        {
          "name": "stdout",
          "output_type": "stream",
          "text": [
            "      C    Tempo Treimo    Tempo Teste    Acurácia    Precisão    Recall        F1\n",
            "-------  --------------  -------------  ----------  ----------  --------  --------\n",
            "   0.01        1.06864        0.781397    0.668129    0.686506  0.301167  0.417589\n",
            "   0.1         0.866678       0.678889    0.69008     0.670696  0.424713  0.51959\n",
            "   1           0.948487       0.6499      0.705075    0.706021  0.43849   0.539785\n",
            "  10           0.86999        0.638836    0.732235    0.745362  0.493119  0.592809\n",
            " 100           0.828926       0.584946    0.821997    0.81729   0.724242  0.764404\n",
            "1000           1.15679        0.437789    0.885458    0.871563  0.847211  0.856721\n"
          ]
        }
      ],
      "source": [
        "print(tabulate(all_svm_results, headers=['C','Tempo Treimo','Tempo Teste','Acurácia','Precisão','Recall','F1']))"
      ]
    },
    {
      "cell_type": "markdown",
      "metadata": {
        "id": "5_wEFE3-hPLl"
      },
      "source": [
        "O `gamma` vai variar com os valores `[0.001, 0.01, 0.1, 1, 10, 100, 1000]`"
      ]
    },
    {
      "cell_type": "code",
      "execution_count": null,
      "metadata": {
        "id": "cFLBhDjshPLm",
        "outputId": "36307ad7-c33f-48e5-a98b-54a32f2a8983"
      },
      "outputs": [
        {
          "name": "stdout",
          "output_type": "stream",
          "text": [
            "Gamma = 0.001 Gamma = 0.010 Gamma = 0.100 Gamma = 1.000 Gamma = 10.000 Gamma = 100.000 Gamma = 1000.000 "
          ]
        }
      ],
      "source": [
        "all_svm_results = []\n",
        "for gamma in [0.001, 0.01, 0.1, 1, 10, 100, 1000]:\n",
        "    print(\"Gamma = %.3f\" % gamma, end=\" \")\n",
        "    svm = SVC(kernel='rbf', C=1000, gamma=gamma, random_state=42)\n",
        "    temp_list = [gamma]\n",
        "    result_ = cross_validate_model(svm, X, y)\n",
        "    temp_list.extend(result_)\n",
        "    all_svm_results.append(temp_list)\n",
        "\n"
      ]
    },
    {
      "cell_type": "code",
      "execution_count": null,
      "metadata": {
        "id": "MTKKK_e_hPLn",
        "outputId": "8677938c-f29c-4dc5-cdd8-3a26befb834d"
      },
      "outputs": [
        {
          "name": "stdout",
          "output_type": "stream",
          "text": [
            "       C    Tempo Treimo    Tempo Teste    Acurácia    Precisão    Recall        F1\n",
            "--------  --------------  -------------  ----------  ----------  --------  --------\n",
            "   0.001         2.25774       0.374322    0.859811    0.822488  0.838927  0.828333\n",
            "   0.01          1.31231       0.645213    0.824821    0.761331  0.820176  0.788416\n",
            "   0.1           1.38736       0.967566    0.726141    0.779357  0.424081  0.548392\n",
            "   1             1.16926       1.00877     0.677682    0.989387  0.184196  0.307747\n",
            "  10             1.21665       1.05491     0.664858    0.994286  0.150564  0.259727\n",
            " 100             1.0731        0.95421     0.661164    0.994118  0.141187  0.24548\n",
            "1000             1.07908       0.996343    0.655079    0.99375   0.125743  0.220919\n"
          ]
        }
      ],
      "source": [
        "print(tabulate(all_svm_results, headers=['C','Tempo Treimo','Tempo Teste','Acurácia','Precisão','Recall','F1']))"
      ]
    },
    {
      "cell_type": "markdown",
      "metadata": {
        "id": "re9fHZqbhPLo"
      },
      "source": [
        "## Agora é como vocês\n",
        "\n",
        "Analise os resultados gerados até aqui juntamente com mais dois métodos: Regressão Logística e RandomForest. Pesquise sobre esses métodos e veja quais atributos seriam interessantes de modificar. Execute os testes e escolha dentre todos os modelos analisados qual é o melhor para a tarefa de detecção de SPAM e NÃO SPAM. \n",
        "\n",
        "* Documentação da Regressão Logística: https://scikit-learn.org/stable/modules/generated/sklearn.linear_model.LogisticRegression.html\n",
        "* Documentação do Random Forest: https://scikit-learn.org/stable/modules/generated/sklearn.ensemble.RandomForestClassifier.html"
      ]
    },
    {
      "cell_type": "code",
      "execution_count": null,
      "metadata": {
        "id": "AFdb244EhPLo"
      },
      "outputs": [],
      "source": []
    }
  ],
  "metadata": {
    "colab": {
      "include_colab_link": true,
      "name": "05_laboratorio_aprendizado_supervisionado_2.ipynb",
      "provenance": []
    },
    "interpreter": {
      "hash": "5063cfe71bac910fcf2a966b61d684c7ab1acf2cfb80646acb374e5182a49f95"
    },
    "kernelspec": {
      "display_name": "Python 3.9.7 ('datascience')",
      "language": "python",
      "name": "python3"
    },
    "language_info": {
      "codemirror_mode": {
        "name": "ipython",
        "version": 3
      },
      "file_extension": ".py",
      "mimetype": "text/x-python",
      "name": "python",
      "nbconvert_exporter": "python",
      "pygments_lexer": "ipython3",
      "version": "3.9.7"
    },
    "orig_nbformat": 4
  },
  "nbformat": 4,
  "nbformat_minor": 0
}
