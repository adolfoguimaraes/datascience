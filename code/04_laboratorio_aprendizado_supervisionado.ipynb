{
  "cells": [
    {
      "cell_type": "markdown",
      "metadata": {
        "id": "JMLYZkZAgt2D"
      },
      "source": [
        "# Aprendizado Supervisionado\n",
        "\n"
      ]
    },
    {
      "cell_type": "markdown",
      "metadata": {
        "id": "hO7h9UZonxlz"
      },
      "source": [
        "O objetivo deste laboratório é aplicar na base do titanic as etapas de prepação de dados apresentadas em sala de aula. Ao final apresente uma base de dados adequada para um modelo de classificação. Com a base pronta para o modelo vamos aplicar algumas modelos de aprendizado supervisionado para classifica os dados."
      ]
    },
    {
      "cell_type": "code",
      "execution_count": 2,
      "metadata": {
        "id": "AQnwclgLg7um"
      },
      "outputs": [],
      "source": [
        "# Imports necessário\n",
        "\n",
        "import numpy as np \n",
        "import pandas as pd\n",
        "import seaborn as sns\n",
        "import matplotlib.pyplot as plt\n",
        "from matplotlib.cbook import boxplot_stats\n",
        "from sklearn import preprocessing"
      ]
    },
    {
      "cell_type": "markdown",
      "metadata": {
        "id": "6VreZEcTp3YL"
      },
      "source": [
        "\n",
        "\n",
        "## Dataset\n",
        "\n",
        "Vamos trabalhar novamente com a base do Titanic. A bose pode ser baixada na página do desafio do Titanic no Kaggle: https://www.kaggle.com/c/titanic\n",
        "\n",
        "![](https://media.giphy.com/media/XOY5y7YXjTD7q/giphy.gif?cid=ecf05e47kfxmcx3vp300zcgdbteywwruog1dvtie391tk8mw&rid=giphy.gif&ct=g)\n",
        "\n"
      ]
    },
    {
      "cell_type": "code",
      "execution_count": 3,
      "metadata": {
        "colab": {
          "base_uri": "https://localhost:8080/",
          "height": 504
        },
        "id": "HhcXDidSl_Oy",
        "outputId": "86910753-44da-4d27-d1ae-d4ec26bc9ed8"
      },
      "outputs": [
        {
          "data": {
            "text/html": [
              "<div>\n",
              "<style scoped>\n",
              "    .dataframe tbody tr th:only-of-type {\n",
              "        vertical-align: middle;\n",
              "    }\n",
              "\n",
              "    .dataframe tbody tr th {\n",
              "        vertical-align: top;\n",
              "    }\n",
              "\n",
              "    .dataframe thead th {\n",
              "        text-align: right;\n",
              "    }\n",
              "</style>\n",
              "<table border=\"1\" class=\"dataframe\">\n",
              "  <thead>\n",
              "    <tr style=\"text-align: right;\">\n",
              "      <th></th>\n",
              "      <th>PassengerId</th>\n",
              "      <th>Survived</th>\n",
              "      <th>Pclass</th>\n",
              "      <th>Name</th>\n",
              "      <th>Sex</th>\n",
              "      <th>Age</th>\n",
              "      <th>SibSp</th>\n",
              "      <th>Parch</th>\n",
              "      <th>Ticket</th>\n",
              "      <th>Fare</th>\n",
              "      <th>Cabin</th>\n",
              "      <th>Embarked</th>\n",
              "    </tr>\n",
              "  </thead>\n",
              "  <tbody>\n",
              "    <tr>\n",
              "      <th>0</th>\n",
              "      <td>1</td>\n",
              "      <td>0</td>\n",
              "      <td>3</td>\n",
              "      <td>Braund, Mr. Owen Harris</td>\n",
              "      <td>male</td>\n",
              "      <td>22.0</td>\n",
              "      <td>1</td>\n",
              "      <td>0</td>\n",
              "      <td>A/5 21171</td>\n",
              "      <td>7.2500</td>\n",
              "      <td>NaN</td>\n",
              "      <td>S</td>\n",
              "    </tr>\n",
              "    <tr>\n",
              "      <th>1</th>\n",
              "      <td>2</td>\n",
              "      <td>1</td>\n",
              "      <td>1</td>\n",
              "      <td>Cumings, Mrs. John Bradley (Florence Briggs Th...</td>\n",
              "      <td>female</td>\n",
              "      <td>38.0</td>\n",
              "      <td>1</td>\n",
              "      <td>0</td>\n",
              "      <td>PC 17599</td>\n",
              "      <td>71.2833</td>\n",
              "      <td>C85</td>\n",
              "      <td>C</td>\n",
              "    </tr>\n",
              "    <tr>\n",
              "      <th>2</th>\n",
              "      <td>3</td>\n",
              "      <td>1</td>\n",
              "      <td>3</td>\n",
              "      <td>Heikkinen, Miss. Laina</td>\n",
              "      <td>female</td>\n",
              "      <td>26.0</td>\n",
              "      <td>0</td>\n",
              "      <td>0</td>\n",
              "      <td>STON/O2. 3101282</td>\n",
              "      <td>7.9250</td>\n",
              "      <td>NaN</td>\n",
              "      <td>S</td>\n",
              "    </tr>\n",
              "    <tr>\n",
              "      <th>3</th>\n",
              "      <td>4</td>\n",
              "      <td>1</td>\n",
              "      <td>1</td>\n",
              "      <td>Futrelle, Mrs. Jacques Heath (Lily May Peel)</td>\n",
              "      <td>female</td>\n",
              "      <td>35.0</td>\n",
              "      <td>1</td>\n",
              "      <td>0</td>\n",
              "      <td>113803</td>\n",
              "      <td>53.1000</td>\n",
              "      <td>C123</td>\n",
              "      <td>S</td>\n",
              "    </tr>\n",
              "    <tr>\n",
              "      <th>4</th>\n",
              "      <td>5</td>\n",
              "      <td>0</td>\n",
              "      <td>3</td>\n",
              "      <td>Allen, Mr. William Henry</td>\n",
              "      <td>male</td>\n",
              "      <td>35.0</td>\n",
              "      <td>0</td>\n",
              "      <td>0</td>\n",
              "      <td>373450</td>\n",
              "      <td>8.0500</td>\n",
              "      <td>NaN</td>\n",
              "      <td>S</td>\n",
              "    </tr>\n",
              "  </tbody>\n",
              "</table>\n",
              "</div>"
            ],
            "text/plain": [
              "   PassengerId  Survived  Pclass  \\\n",
              "0            1         0       3   \n",
              "1            2         1       1   \n",
              "2            3         1       3   \n",
              "3            4         1       1   \n",
              "4            5         0       3   \n",
              "\n",
              "                                                Name     Sex   Age  SibSp  \\\n",
              "0                            Braund, Mr. Owen Harris    male  22.0      1   \n",
              "1  Cumings, Mrs. John Bradley (Florence Briggs Th...  female  38.0      1   \n",
              "2                             Heikkinen, Miss. Laina  female  26.0      0   \n",
              "3       Futrelle, Mrs. Jacques Heath (Lily May Peel)  female  35.0      1   \n",
              "4                           Allen, Mr. William Henry    male  35.0      0   \n",
              "\n",
              "   Parch            Ticket     Fare Cabin Embarked  \n",
              "0      0         A/5 21171   7.2500   NaN        S  \n",
              "1      0          PC 17599  71.2833   C85        C  \n",
              "2      0  STON/O2. 3101282   7.9250   NaN        S  \n",
              "3      0            113803  53.1000  C123        S  \n",
              "4      0            373450   8.0500   NaN        S  "
            ]
          },
          "execution_count": 3,
          "metadata": {},
          "output_type": "execute_result"
        }
      ],
      "source": [
        "titanic_dataset = pd.read_csv(\"../datasets/TitanicDataset.csv\")\n",
        "titanic_dataset.head()"
      ]
    },
    {
      "cell_type": "markdown",
      "metadata": {
        "id": "1a8wiFyJo13l"
      },
      "source": [
        "## Descrição das Tarefas\n",
        "\n",
        "1. Eliminar os atributos manualmente\n",
        "2. Verificar se os dados estão desbalanceados\n",
        "3. Analisar dados ausentes\n",
        "4. Verificar dados incosistentes, redundantes e com ruído.\n",
        "5. Fazer as transformações dos dados, se necessário."
      ]
    },
    {
      "cell_type": "markdown",
      "metadata": {
        "id": "nwIXZClQlzHc"
      },
      "source": [
        "## Execução das Tarefas\n",
        "\n"
      ]
    },
    {
      "cell_type": "markdown",
      "metadata": {
        "id": "Ydiiyv71maQ-"
      },
      "source": [
        "### Eliminar os atributos manualmente\n",
        "\n",
        "A primeira coisa que pode ser feita é a eliminação de atributos manualmente. De cara, atributos como _PassengerId_, _Name_ e _Ticket_ não trazem informações relevantes para o processo de classificação. Desta forma podemos remove-los."
      ]
    },
    {
      "cell_type": "code",
      "execution_count": 4,
      "metadata": {
        "colab": {
          "base_uri": "https://localhost:8080/",
          "height": 206
        },
        "id": "ptkCzIIBqn-l",
        "outputId": "0480662a-3f62-4d23-c027-057dfc599d38"
      },
      "outputs": [
        {
          "data": {
            "text/html": [
              "<div>\n",
              "<style scoped>\n",
              "    .dataframe tbody tr th:only-of-type {\n",
              "        vertical-align: middle;\n",
              "    }\n",
              "\n",
              "    .dataframe tbody tr th {\n",
              "        vertical-align: top;\n",
              "    }\n",
              "\n",
              "    .dataframe thead th {\n",
              "        text-align: right;\n",
              "    }\n",
              "</style>\n",
              "<table border=\"1\" class=\"dataframe\">\n",
              "  <thead>\n",
              "    <tr style=\"text-align: right;\">\n",
              "      <th></th>\n",
              "      <th>Survived</th>\n",
              "      <th>Pclass</th>\n",
              "      <th>Sex</th>\n",
              "      <th>Age</th>\n",
              "      <th>SibSp</th>\n",
              "      <th>Parch</th>\n",
              "      <th>Fare</th>\n",
              "      <th>Cabin</th>\n",
              "      <th>Embarked</th>\n",
              "    </tr>\n",
              "  </thead>\n",
              "  <tbody>\n",
              "    <tr>\n",
              "      <th>0</th>\n",
              "      <td>0</td>\n",
              "      <td>3</td>\n",
              "      <td>male</td>\n",
              "      <td>22.0</td>\n",
              "      <td>1</td>\n",
              "      <td>0</td>\n",
              "      <td>7.2500</td>\n",
              "      <td>NaN</td>\n",
              "      <td>S</td>\n",
              "    </tr>\n",
              "    <tr>\n",
              "      <th>1</th>\n",
              "      <td>1</td>\n",
              "      <td>1</td>\n",
              "      <td>female</td>\n",
              "      <td>38.0</td>\n",
              "      <td>1</td>\n",
              "      <td>0</td>\n",
              "      <td>71.2833</td>\n",
              "      <td>C85</td>\n",
              "      <td>C</td>\n",
              "    </tr>\n",
              "    <tr>\n",
              "      <th>2</th>\n",
              "      <td>1</td>\n",
              "      <td>3</td>\n",
              "      <td>female</td>\n",
              "      <td>26.0</td>\n",
              "      <td>0</td>\n",
              "      <td>0</td>\n",
              "      <td>7.9250</td>\n",
              "      <td>NaN</td>\n",
              "      <td>S</td>\n",
              "    </tr>\n",
              "    <tr>\n",
              "      <th>3</th>\n",
              "      <td>1</td>\n",
              "      <td>1</td>\n",
              "      <td>female</td>\n",
              "      <td>35.0</td>\n",
              "      <td>1</td>\n",
              "      <td>0</td>\n",
              "      <td>53.1000</td>\n",
              "      <td>C123</td>\n",
              "      <td>S</td>\n",
              "    </tr>\n",
              "    <tr>\n",
              "      <th>4</th>\n",
              "      <td>0</td>\n",
              "      <td>3</td>\n",
              "      <td>male</td>\n",
              "      <td>35.0</td>\n",
              "      <td>0</td>\n",
              "      <td>0</td>\n",
              "      <td>8.0500</td>\n",
              "      <td>NaN</td>\n",
              "      <td>S</td>\n",
              "    </tr>\n",
              "  </tbody>\n",
              "</table>\n",
              "</div>"
            ],
            "text/plain": [
              "   Survived  Pclass     Sex   Age  SibSp  Parch     Fare Cabin Embarked\n",
              "0         0       3    male  22.0      1      0   7.2500   NaN        S\n",
              "1         1       1  female  38.0      1      0  71.2833   C85        C\n",
              "2         1       3  female  26.0      0      0   7.9250   NaN        S\n",
              "3         1       1  female  35.0      1      0  53.1000  C123        S\n",
              "4         0       3    male  35.0      0      0   8.0500   NaN        S"
            ]
          },
          "execution_count": 4,
          "metadata": {},
          "output_type": "execute_result"
        }
      ],
      "source": [
        "# Eliminando as colunas \n",
        "titanic_dataset = titanic_dataset.drop(columns=['PassengerId',\"Name\", \"Ticket\"])\n",
        "titanic_dataset.head()"
      ]
    },
    {
      "cell_type": "markdown",
      "metadata": {
        "id": "95kVxexJrmst"
      },
      "source": [
        "### Verificar se os dados estão desbalanceados\n",
        "\n",
        "Removido os atributos podemos verificar a distribuição de classes para saber se os dados estão desbalanceados."
      ]
    },
    {
      "cell_type": "code",
      "execution_count": 5,
      "metadata": {
        "colab": {
          "base_uri": "https://localhost:8080/",
          "height": 279
        },
        "id": "OFy13rGVryw0",
        "outputId": "58691b67-be50-4b81-e8f1-31a77f0562da"
      },
      "outputs": [
        {
          "data": {
            "text/plain": [
              "<AxesSubplot:>"
            ]
          },
          "execution_count": 5,
          "metadata": {},
          "output_type": "execute_result"
        },
        {
          "data": {
            "image/png": "[encoded data removed]",
            "text/plain": [
              "<Figure size 432x288 with 1 Axes>"
            ]
          },
          "metadata": {
            "needs_background": "light"
          },
          "output_type": "display_data"
        }
      ],
      "source": [
        "titanic_dataset['Survived'].value_counts(normalize=True).plot(kind='bar')\n"
      ]
    },
    {
      "cell_type": "markdown",
      "metadata": {
        "id": "aAkFSjLrIlNl"
      },
      "source": [
        "A proporção é de mais ou menos de 60% para a classe não sobreviveu e 40% para sobreviveu. Apesar de um desbalanceamento, nada muito crítico para os algoritmos de classificação.\n"
      ]
    },
    {
      "cell_type": "markdown",
      "metadata": {
        "id": "IgEUiyWGmg-q"
      },
      "source": [
        "### Analisar dados ausentes\n",
        "\n",
        "Uma outra análise que se pode fazer é em relação aos dados incompletos. Para isto, vamos usar a função count para indicar quantos dados tem cada atributo."
      ]
    },
    {
      "cell_type": "code",
      "execution_count": 6,
      "metadata": {
        "colab": {
          "base_uri": "https://localhost:8080/"
        },
        "id": "T__Vj9FJLq5V",
        "outputId": "7cd67ad2-8ab7-4c53-ca51-70ee6ced007d"
      },
      "outputs": [
        {
          "data": {
            "text/plain": [
              "Survived    891\n",
              "Pclass      891\n",
              "Sex         891\n",
              "Age         714\n",
              "SibSp       891\n",
              "Parch       891\n",
              "Fare        891\n",
              "Cabin       204\n",
              "Embarked    889\n",
              "dtype: int64"
            ]
          },
          "execution_count": 6,
          "metadata": {},
          "output_type": "execute_result"
        }
      ],
      "source": [
        "count_ = titanic_dataset.count()\n",
        "count_"
      ]
    },
    {
      "cell_type": "markdown",
      "metadata": {
        "id": "3Ez2looVR0d4"
      },
      "source": [
        "**O que podemos fazer com cada um dos atributos?**\n",
        "\n",
        "**Cabin:** nesse caso podemos remover o atributo _Cabin_ que refere-se a cabine em que o passageiro estava. Talvez se conseguíssemos relacionar a cabine com a posição dentro do navio, poderíamos ter algum tipo de informação. Mas dada a quantidade de dados válidos e a não relevância do atributo, podemos excluí-lo. \n",
        "\n",
        "**Age:** Remover este atributo é mais complicado. A idade é uma informação relevante para o processo de classificação. Remover os dados faria com que eliminássemos quase 200 instâncias, aproximadamente 20% da base. Nesse caso a gente deve pensar em outra abordagem. \n",
        "\n",
        "A documentação do pandas possui [um artigo](https://pandas.pydata.org/pandas-docs/stable/user_guide/missing_data.html) falando somente sobre dados ausentes. É possível identificar e aplicar algumas métricas de substituição de valores. \n",
        "\n",
        "Vamos usar o método de substituir os valores ausentes pela média da coluna. Essa é uma abordagem muito simples. Poderíamos utilizar algo mais elaborado. Fica como exercício a parte. \n"
      ]
    },
    {
      "cell_type": "code",
      "execution_count": 7,
      "metadata": {
        "colab": {
          "base_uri": "https://localhost:8080/",
          "height": 206
        },
        "id": "Qb-WojJmUym6",
        "outputId": "b782d6cf-c3b1-4223-9d74-9b7b6facf61a"
      },
      "outputs": [
        {
          "data": {
            "text/html": [
              "<div>\n",
              "<style scoped>\n",
              "    .dataframe tbody tr th:only-of-type {\n",
              "        vertical-align: middle;\n",
              "    }\n",
              "\n",
              "    .dataframe tbody tr th {\n",
              "        vertical-align: top;\n",
              "    }\n",
              "\n",
              "    .dataframe thead th {\n",
              "        text-align: right;\n",
              "    }\n",
              "</style>\n",
              "<table border=\"1\" class=\"dataframe\">\n",
              "  <thead>\n",
              "    <tr style=\"text-align: right;\">\n",
              "      <th></th>\n",
              "      <th>Survived</th>\n",
              "      <th>Pclass</th>\n",
              "      <th>Sex</th>\n",
              "      <th>Age</th>\n",
              "      <th>SibSp</th>\n",
              "      <th>Parch</th>\n",
              "      <th>Fare</th>\n",
              "      <th>Embarked</th>\n",
              "    </tr>\n",
              "  </thead>\n",
              "  <tbody>\n",
              "    <tr>\n",
              "      <th>0</th>\n",
              "      <td>0</td>\n",
              "      <td>3</td>\n",
              "      <td>male</td>\n",
              "      <td>22.0</td>\n",
              "      <td>1</td>\n",
              "      <td>0</td>\n",
              "      <td>7.2500</td>\n",
              "      <td>S</td>\n",
              "    </tr>\n",
              "    <tr>\n",
              "      <th>1</th>\n",
              "      <td>1</td>\n",
              "      <td>1</td>\n",
              "      <td>female</td>\n",
              "      <td>38.0</td>\n",
              "      <td>1</td>\n",
              "      <td>0</td>\n",
              "      <td>71.2833</td>\n",
              "      <td>C</td>\n",
              "    </tr>\n",
              "    <tr>\n",
              "      <th>2</th>\n",
              "      <td>1</td>\n",
              "      <td>3</td>\n",
              "      <td>female</td>\n",
              "      <td>26.0</td>\n",
              "      <td>0</td>\n",
              "      <td>0</td>\n",
              "      <td>7.9250</td>\n",
              "      <td>S</td>\n",
              "    </tr>\n",
              "    <tr>\n",
              "      <th>3</th>\n",
              "      <td>1</td>\n",
              "      <td>1</td>\n",
              "      <td>female</td>\n",
              "      <td>35.0</td>\n",
              "      <td>1</td>\n",
              "      <td>0</td>\n",
              "      <td>53.1000</td>\n",
              "      <td>S</td>\n",
              "    </tr>\n",
              "    <tr>\n",
              "      <th>4</th>\n",
              "      <td>0</td>\n",
              "      <td>3</td>\n",
              "      <td>male</td>\n",
              "      <td>35.0</td>\n",
              "      <td>0</td>\n",
              "      <td>0</td>\n",
              "      <td>8.0500</td>\n",
              "      <td>S</td>\n",
              "    </tr>\n",
              "  </tbody>\n",
              "</table>\n",
              "</div>"
            ],
            "text/plain": [
              "   Survived  Pclass     Sex   Age  SibSp  Parch     Fare Embarked\n",
              "0         0       3    male  22.0      1      0   7.2500        S\n",
              "1         1       1  female  38.0      1      0  71.2833        C\n",
              "2         1       3  female  26.0      0      0   7.9250        S\n",
              "3         1       1  female  35.0      1      0  53.1000        S\n",
              "4         0       3    male  35.0      0      0   8.0500        S"
            ]
          },
          "execution_count": 7,
          "metadata": {},
          "output_type": "execute_result"
        }
      ],
      "source": [
        "# Removendo a columa Cabin\n",
        "\n",
        "titanic_dataset = titanic_dataset.drop(columns=['Cabin'])\n",
        "titanic_dataset.head()"
      ]
    },
    {
      "cell_type": "code",
      "execution_count": 8,
      "metadata": {
        "id": "thyizqqOU8w-"
      },
      "outputs": [],
      "source": [
        "# Substituindo os valores ausentes pela média da coluna \n",
        "\n",
        "titanic_dataset['Age'] = titanic_dataset['Age'].fillna(titanic_dataset['Age'].mean())"
      ]
    },
    {
      "cell_type": "code",
      "execution_count": 9,
      "metadata": {
        "colab": {
          "base_uri": "https://localhost:8080/",
          "height": 323
        },
        "id": "XiHxRcRMVUW5",
        "outputId": "d9adefdb-de08-4582-eb6e-1d839d919c3d"
      },
      "outputs": [
        {
          "data": {
            "text/plain": [
              "Survived    891\n",
              "Pclass      891\n",
              "Sex         891\n",
              "Age         891\n",
              "SibSp       891\n",
              "Parch       891\n",
              "Fare        891\n",
              "Embarked    889\n",
              "dtype: int64"
            ]
          },
          "execution_count": 9,
          "metadata": {},
          "output_type": "execute_result"
        }
      ],
      "source": [
        "#Veritificando o quantitativo\n",
        "count_ = titanic_dataset.count()\n",
        "count_"
      ]
    },
    {
      "cell_type": "markdown",
      "metadata": {
        "id": "tDzX9lVmVnsz"
      },
      "source": [
        "### Verificar dados incosistentes, redundantes e com ruído.\n",
        "\n",
        "O passo seguinte é fazer a análise em cima de dados incosistentes, ruídos e redundantes. \n",
        "\n",
        "O pandas já possui um método que permite eliminar dados duplicados. No entanto, se aplicarmos ele a esta base, pode ser que muitos dados iguais mas não necessariamente é um problema de duplicidade. Como removemos todos os dados que de alguma forma identificava o passageiro, a duplicidade pode ser de fato por conta de um padrão que é comum na base. Sendo assim, vamos carregar temporariamente a base original e fazer a verificação de duplicidade nesta.\n",
        "\n"
      ]
    },
    {
      "cell_type": "code",
      "execution_count": 10,
      "metadata": {
        "colab": {
          "base_uri": "https://localhost:8080/"
        },
        "id": "IBn_O3AbZADU",
        "outputId": "cf94a1a1-4545-4a5d-93c9-a7215d9bbbe9"
      },
      "outputs": [
        {
          "data": {
            "text/plain": [
              "(0, 12)"
            ]
          },
          "execution_count": 10,
          "metadata": {},
          "output_type": "execute_result"
        }
      ],
      "source": [
        "dataframe_temp = pd.read_csv(\"../datasets/TitanicDataset.csv\")\n",
        "duplicated_rows = dataframe_temp[dataframe_temp.duplicated(keep='last')]\n",
        "duplicated_rows.shape"
      ]
    },
    {
      "cell_type": "markdown",
      "metadata": {
        "id": "0ySijszsZJQM"
      },
      "source": [
        "Observe que os dados originais não possuem instâncias duplicadas. \n",
        "\n",
        "A base pode apresentar redudância de atributos a nível de atributos. Pelo contexto do atributos, não foram identificadas redudâncias. \n",
        "\n",
        "Podemos olhar a partir da correlação dos atributos, usando a matriz de correlação extraída no último laboratório, temos:"
      ]
    },
    {
      "cell_type": "code",
      "execution_count": 11,
      "metadata": {
        "colab": {
          "base_uri": "https://localhost:8080/",
          "height": 286
        },
        "id": "q7RYyxqmWGt4",
        "outputId": "19543a83-0aa2-484a-ef14-bf4cb1d860bc"
      },
      "outputs": [
        {
          "data": {
            "text/plain": [
              "<AxesSubplot:>"
            ]
          },
          "execution_count": 11,
          "metadata": {},
          "output_type": "execute_result"
        },
        {
          "data": {
            "image/png": "[encoded data removed]",
            "text/plain": [
              "<Figure size 432x288 with 2 Axes>"
            ]
          },
          "metadata": {
            "needs_background": "light"
          },
          "output_type": "display_data"
        }
      ],
      "source": [
        "titanic_corr = titanic_dataset[['Age','SibSp','Parch', 'Fare']].corr()\n",
        "sns.heatmap(titanic_corr, xticklabels=titanic_corr.columns, yticklabels=titanic_corr.columns, annot=True)"
      ]
    },
    {
      "cell_type": "markdown",
      "metadata": {
        "id": "hxmaPwtcZ4hW"
      },
      "source": [
        "Nenhum atributo numérico tem uma correlação muito forte. Sendo assim, não vamos remover nenhum atributo. \n",
        "\n",
        "Em relação a dados inconsistentes e ruído, podemos analisar brevemente o boxplot dos atributos. Se analisarmos estes gráficos, podemos ver alguns outliers, principalmente nos atributos _Age_ e _Fare_."
      ]
    },
    {
      "cell_type": "code",
      "execution_count": 12,
      "metadata": {
        "colab": {
          "base_uri": "https://localhost:8080/",
          "height": 296
        },
        "id": "B26LLz22Z35t",
        "outputId": "404b78ff-f489-469e-cf81-cb2c7cbc6d43"
      },
      "outputs": [
        {
          "data": {
            "text/plain": [
              "<AxesSubplot:xlabel='Age'>"
            ]
          },
          "execution_count": 12,
          "metadata": {},
          "output_type": "execute_result"
        },
        {
          "data": {
            "image/png": "[encoded data removed]",
            "text/plain": [
              "<Figure size 432x288 with 1 Axes>"
            ]
          },
          "metadata": {
            "needs_background": "light"
          },
          "output_type": "display_data"
        }
      ],
      "source": [
        "sns.boxplot(x=titanic_dataset['Age'])"
      ]
    },
    {
      "cell_type": "code",
      "execution_count": 37,
      "metadata": {
        "colab": {
          "base_uri": "https://localhost:8080/",
          "height": 296
        },
        "id": "KnzdoWgza5Im",
        "outputId": "82d0d915-74c3-462c-b961-a33acbee8a74"
      },
      "outputs": [
        {
          "data": {
            "text/plain": [
              "<AxesSubplot:xlabel='Fare'>"
            ]
          },
          "execution_count": 37,
          "metadata": {},
          "output_type": "execute_result"
        },
        {
          "data": {
            "image/png": "[encoded data removed]",
            "text/plain": [
              "<Figure size 432x288 with 1 Axes>"
            ]
          },
          "metadata": {
            "needs_background": "light"
          },
          "output_type": "display_data"
        }
      ],
      "source": [
        "sns.boxplot(x=titanic_dataset['Fare'])"
      ]
    },
    {
      "cell_type": "markdown",
      "metadata": {
        "id": "RR27j-kei5gh"
      },
      "source": [
        "Uma ação que podemos tomar com esses valores é sua remoção da base de dados. No entanto, vamos deixar para fazer isso quando estivermos trabalhando com os modelos de Machine Learnig. Só assim saberemos se a retirada dessas instâncias implicará em algum projuízo para o processo de aprendizagem. "
      ]
    },
    {
      "cell_type": "markdown",
      "metadata": {
        "id": "z5puMpVpjtrF"
      },
      "source": [
        "### Fazer as transformações dos dados, se necessário.\n",
        "\n",
        "Para finalizar essa primeira parte de Preparação dos Dados, precisamos fazer as transformações de dados necessárias. Como vimos no guia de estudo, podemos transformar dados numéricos em categóricos ou vice-versa. Além disso, podemos trabalhar com a escala e o intervalo dos dados. \n",
        "\n",
        "Vamos analisar a base de dados resultante dos processo anteriores. "
      ]
    },
    {
      "cell_type": "code",
      "execution_count": 13,
      "metadata": {
        "colab": {
          "base_uri": "https://localhost:8080/",
          "height": 206
        },
        "id": "tRFxK-AtkDfq",
        "outputId": "c9a44cdb-91f8-49da-fb9d-700602561bd2"
      },
      "outputs": [
        {
          "data": {
            "text/html": [
              "<div>\n",
              "<style scoped>\n",
              "    .dataframe tbody tr th:only-of-type {\n",
              "        vertical-align: middle;\n",
              "    }\n",
              "\n",
              "    .dataframe tbody tr th {\n",
              "        vertical-align: top;\n",
              "    }\n",
              "\n",
              "    .dataframe thead th {\n",
              "        text-align: right;\n",
              "    }\n",
              "</style>\n",
              "<table border=\"1\" class=\"dataframe\">\n",
              "  <thead>\n",
              "    <tr style=\"text-align: right;\">\n",
              "      <th></th>\n",
              "      <th>Survived</th>\n",
              "      <th>Pclass</th>\n",
              "      <th>Sex</th>\n",
              "      <th>Age</th>\n",
              "      <th>SibSp</th>\n",
              "      <th>Parch</th>\n",
              "      <th>Fare</th>\n",
              "      <th>Embarked</th>\n",
              "    </tr>\n",
              "  </thead>\n",
              "  <tbody>\n",
              "    <tr>\n",
              "      <th>0</th>\n",
              "      <td>0</td>\n",
              "      <td>3</td>\n",
              "      <td>male</td>\n",
              "      <td>22.0</td>\n",
              "      <td>1</td>\n",
              "      <td>0</td>\n",
              "      <td>7.2500</td>\n",
              "      <td>S</td>\n",
              "    </tr>\n",
              "    <tr>\n",
              "      <th>1</th>\n",
              "      <td>1</td>\n",
              "      <td>1</td>\n",
              "      <td>female</td>\n",
              "      <td>38.0</td>\n",
              "      <td>1</td>\n",
              "      <td>0</td>\n",
              "      <td>71.2833</td>\n",
              "      <td>C</td>\n",
              "    </tr>\n",
              "    <tr>\n",
              "      <th>2</th>\n",
              "      <td>1</td>\n",
              "      <td>3</td>\n",
              "      <td>female</td>\n",
              "      <td>26.0</td>\n",
              "      <td>0</td>\n",
              "      <td>0</td>\n",
              "      <td>7.9250</td>\n",
              "      <td>S</td>\n",
              "    </tr>\n",
              "    <tr>\n",
              "      <th>3</th>\n",
              "      <td>1</td>\n",
              "      <td>1</td>\n",
              "      <td>female</td>\n",
              "      <td>35.0</td>\n",
              "      <td>1</td>\n",
              "      <td>0</td>\n",
              "      <td>53.1000</td>\n",
              "      <td>S</td>\n",
              "    </tr>\n",
              "    <tr>\n",
              "      <th>4</th>\n",
              "      <td>0</td>\n",
              "      <td>3</td>\n",
              "      <td>male</td>\n",
              "      <td>35.0</td>\n",
              "      <td>0</td>\n",
              "      <td>0</td>\n",
              "      <td>8.0500</td>\n",
              "      <td>S</td>\n",
              "    </tr>\n",
              "  </tbody>\n",
              "</table>\n",
              "</div>"
            ],
            "text/plain": [
              "   Survived  Pclass     Sex   Age  SibSp  Parch     Fare Embarked\n",
              "0         0       3    male  22.0      1      0   7.2500        S\n",
              "1         1       1  female  38.0      1      0  71.2833        C\n",
              "2         1       3  female  26.0      0      0   7.9250        S\n",
              "3         1       1  female  35.0      1      0  53.1000        S\n",
              "4         0       3    male  35.0      0      0   8.0500        S"
            ]
          },
          "execution_count": 13,
          "metadata": {},
          "output_type": "execute_result"
        }
      ],
      "source": [
        "titanic_dataset.head()"
      ]
    },
    {
      "cell_type": "markdown",
      "metadata": {
        "id": "zDBkGFK2kTrw"
      },
      "source": [
        "**Quais alterações podemos fazer nos dados?**\n",
        "\n",
        "* Os campos _Sex_ e _Embarked_ são categóricos e podems ser transformados em dados numéricos. No entanto, nenhum dos dois tem relação de ordem, logo devemos criar atributos novos para representar essa informação;\n",
        "* O Campo _PClass_ também é um campo categórico. No entanto, não vamos precisar fazer a transformação anterior porque existe uma relação de ordem em sua informação;\n",
        "* A escala do campo _Fare_ é muito grande se comparada com os demais dados. Logo, podemos normalizar os valores para reduzir essa diferença;\n",
        "* O atributo _Survived_ é categórico mas ele será nossa atributo alvo. Vamos manter dessa forma para que seja utilizado de forma adequado nos modelos de classificação. \n",
        "* O campo _Age_ pode ser transformado discretizado e transformado em um atributo qualitativo. Lembre-se que algoritmos de classificação trabalham melhor com esse tipo de atributo. \n",
        "\n",
        "Vamos usar o pandas para aplicar essas transformações nos dados. "
      ]
    },
    {
      "cell_type": "markdown",
      "metadata": {
        "id": "hjytqkKEnnhz"
      },
      "source": [
        "_Transformando os campos `Sex` e `Embarked`_\n",
        "\n",
        "\n",
        "Para isso vamos utilizar a função *get_dummie* do pandas. Essa função pega os valores categóricos e transformam em colunas. "
      ]
    },
    {
      "cell_type": "code",
      "execution_count": 14,
      "metadata": {
        "id": "PkAtp2RIn79V"
      },
      "outputs": [],
      "source": [
        "titanic_dataset = pd.get_dummies(titanic_dataset, columns=[\"Sex\",\"Embarked\"])"
      ]
    },
    {
      "cell_type": "code",
      "execution_count": 15,
      "metadata": {
        "colab": {
          "base_uri": "https://localhost:8080/",
          "height": 226
        },
        "id": "TQSuRpkuoKzb",
        "outputId": "259b8fb8-da69-4e54-8120-c075151ca180"
      },
      "outputs": [
        {
          "data": {
            "text/html": [
              "<div>\n",
              "<style scoped>\n",
              "    .dataframe tbody tr th:only-of-type {\n",
              "        vertical-align: middle;\n",
              "    }\n",
              "\n",
              "    .dataframe tbody tr th {\n",
              "        vertical-align: top;\n",
              "    }\n",
              "\n",
              "    .dataframe thead th {\n",
              "        text-align: right;\n",
              "    }\n",
              "</style>\n",
              "<table border=\"1\" class=\"dataframe\">\n",
              "  <thead>\n",
              "    <tr style=\"text-align: right;\">\n",
              "      <th></th>\n",
              "      <th>Survived</th>\n",
              "      <th>Pclass</th>\n",
              "      <th>Age</th>\n",
              "      <th>SibSp</th>\n",
              "      <th>Parch</th>\n",
              "      <th>Fare</th>\n",
              "      <th>Sex_female</th>\n",
              "      <th>Sex_male</th>\n",
              "      <th>Embarked_C</th>\n",
              "      <th>Embarked_Q</th>\n",
              "      <th>Embarked_S</th>\n",
              "    </tr>\n",
              "  </thead>\n",
              "  <tbody>\n",
              "    <tr>\n",
              "      <th>0</th>\n",
              "      <td>0</td>\n",
              "      <td>3</td>\n",
              "      <td>22.0</td>\n",
              "      <td>1</td>\n",
              "      <td>0</td>\n",
              "      <td>7.2500</td>\n",
              "      <td>0</td>\n",
              "      <td>1</td>\n",
              "      <td>0</td>\n",
              "      <td>0</td>\n",
              "      <td>1</td>\n",
              "    </tr>\n",
              "    <tr>\n",
              "      <th>1</th>\n",
              "      <td>1</td>\n",
              "      <td>1</td>\n",
              "      <td>38.0</td>\n",
              "      <td>1</td>\n",
              "      <td>0</td>\n",
              "      <td>71.2833</td>\n",
              "      <td>1</td>\n",
              "      <td>0</td>\n",
              "      <td>1</td>\n",
              "      <td>0</td>\n",
              "      <td>0</td>\n",
              "    </tr>\n",
              "    <tr>\n",
              "      <th>2</th>\n",
              "      <td>1</td>\n",
              "      <td>3</td>\n",
              "      <td>26.0</td>\n",
              "      <td>0</td>\n",
              "      <td>0</td>\n",
              "      <td>7.9250</td>\n",
              "      <td>1</td>\n",
              "      <td>0</td>\n",
              "      <td>0</td>\n",
              "      <td>0</td>\n",
              "      <td>1</td>\n",
              "    </tr>\n",
              "    <tr>\n",
              "      <th>3</th>\n",
              "      <td>1</td>\n",
              "      <td>1</td>\n",
              "      <td>35.0</td>\n",
              "      <td>1</td>\n",
              "      <td>0</td>\n",
              "      <td>53.1000</td>\n",
              "      <td>1</td>\n",
              "      <td>0</td>\n",
              "      <td>0</td>\n",
              "      <td>0</td>\n",
              "      <td>1</td>\n",
              "    </tr>\n",
              "    <tr>\n",
              "      <th>4</th>\n",
              "      <td>0</td>\n",
              "      <td>3</td>\n",
              "      <td>35.0</td>\n",
              "      <td>0</td>\n",
              "      <td>0</td>\n",
              "      <td>8.0500</td>\n",
              "      <td>0</td>\n",
              "      <td>1</td>\n",
              "      <td>0</td>\n",
              "      <td>0</td>\n",
              "      <td>1</td>\n",
              "    </tr>\n",
              "  </tbody>\n",
              "</table>\n",
              "</div>"
            ],
            "text/plain": [
              "   Survived  Pclass   Age  SibSp  Parch     Fare  Sex_female  Sex_male  \\\n",
              "0         0       3  22.0      1      0   7.2500           0         1   \n",
              "1         1       1  38.0      1      0  71.2833           1         0   \n",
              "2         1       3  26.0      0      0   7.9250           1         0   \n",
              "3         1       1  35.0      1      0  53.1000           1         0   \n",
              "4         0       3  35.0      0      0   8.0500           0         1   \n",
              "\n",
              "   Embarked_C  Embarked_Q  Embarked_S  \n",
              "0           0           0           1  \n",
              "1           1           0           0  \n",
              "2           0           0           1  \n",
              "3           0           0           1  \n",
              "4           0           0           1  "
            ]
          },
          "execution_count": 15,
          "metadata": {},
          "output_type": "execute_result"
        }
      ],
      "source": [
        "titanic_dataset.head()"
      ]
    },
    {
      "cell_type": "markdown",
      "metadata": {
        "id": "Wc4lWLAzovyh"
      },
      "source": [
        "Um bom guia sobre transformação de atributos categóricos com pandas pode ser encontrado [neste link](https://pbpython.com/categorical-encoding.html)"
      ]
    },
    {
      "cell_type": "markdown",
      "metadata": {
        "id": "mA2yhEp2opGY"
      },
      "source": [
        "_Normalizando o campo `Fare`_ \n",
        "\n",
        "\n",
        "Vamos utilizar o pacote _preprocessing_ do scikit-learn para essa tarefa. "
      ]
    },
    {
      "cell_type": "code",
      "execution_count": 16,
      "metadata": {
        "id": "MKLtVLA1q2ER"
      },
      "outputs": [],
      "source": [
        "# O primeiro passo é converter a coluna que será normalizada para float. \n",
        "# Para verificar os tipos das colunas use: titanic_dataset.dtypes \n",
        "\n",
        "float_array = titanic_dataset['Fare'].values"
      ]
    },
    {
      "cell_type": "code",
      "execution_count": 17,
      "metadata": {
        "id": "0nIbuRBBxws2"
      },
      "outputs": [],
      "source": [
        "# O segundo passo é criar o objeto min/max do preprocessing\n",
        "\n",
        "min_max_scaler = preprocessing.MinMaxScaler()\n",
        "scaled_array = min_max_scaler.fit_transform(float_array[:, np.newaxis])"
      ]
    },
    {
      "cell_type": "code",
      "execution_count": 18,
      "metadata": {
        "id": "iNjOC0Faxj6c"
      },
      "outputs": [],
      "source": [
        "# O terceiro passo é substituir os valores na base\n",
        "\n",
        "titanic_dataset['Fare'] = scaled_array"
      ]
    },
    {
      "cell_type": "code",
      "execution_count": 19,
      "metadata": {
        "colab": {
          "base_uri": "https://localhost:8080/",
          "height": 226
        },
        "id": "ky4ZHgm4rE_w",
        "outputId": "d318bb47-4fd4-41db-c17b-c7c0a2e5ce19"
      },
      "outputs": [
        {
          "data": {
            "text/html": [
              "<div>\n",
              "<style scoped>\n",
              "    .dataframe tbody tr th:only-of-type {\n",
              "        vertical-align: middle;\n",
              "    }\n",
              "\n",
              "    .dataframe tbody tr th {\n",
              "        vertical-align: top;\n",
              "    }\n",
              "\n",
              "    .dataframe thead th {\n",
              "        text-align: right;\n",
              "    }\n",
              "</style>\n",
              "<table border=\"1\" class=\"dataframe\">\n",
              "  <thead>\n",
              "    <tr style=\"text-align: right;\">\n",
              "      <th></th>\n",
              "      <th>Survived</th>\n",
              "      <th>Pclass</th>\n",
              "      <th>Age</th>\n",
              "      <th>SibSp</th>\n",
              "      <th>Parch</th>\n",
              "      <th>Fare</th>\n",
              "      <th>Sex_female</th>\n",
              "      <th>Sex_male</th>\n",
              "      <th>Embarked_C</th>\n",
              "      <th>Embarked_Q</th>\n",
              "      <th>Embarked_S</th>\n",
              "    </tr>\n",
              "  </thead>\n",
              "  <tbody>\n",
              "    <tr>\n",
              "      <th>0</th>\n",
              "      <td>0</td>\n",
              "      <td>3</td>\n",
              "      <td>22.0</td>\n",
              "      <td>1</td>\n",
              "      <td>0</td>\n",
              "      <td>0.014151</td>\n",
              "      <td>0</td>\n",
              "      <td>1</td>\n",
              "      <td>0</td>\n",
              "      <td>0</td>\n",
              "      <td>1</td>\n",
              "    </tr>\n",
              "    <tr>\n",
              "      <th>1</th>\n",
              "      <td>1</td>\n",
              "      <td>1</td>\n",
              "      <td>38.0</td>\n",
              "      <td>1</td>\n",
              "      <td>0</td>\n",
              "      <td>0.139136</td>\n",
              "      <td>1</td>\n",
              "      <td>0</td>\n",
              "      <td>1</td>\n",
              "      <td>0</td>\n",
              "      <td>0</td>\n",
              "    </tr>\n",
              "    <tr>\n",
              "      <th>2</th>\n",
              "      <td>1</td>\n",
              "      <td>3</td>\n",
              "      <td>26.0</td>\n",
              "      <td>0</td>\n",
              "      <td>0</td>\n",
              "      <td>0.015469</td>\n",
              "      <td>1</td>\n",
              "      <td>0</td>\n",
              "      <td>0</td>\n",
              "      <td>0</td>\n",
              "      <td>1</td>\n",
              "    </tr>\n",
              "    <tr>\n",
              "      <th>3</th>\n",
              "      <td>1</td>\n",
              "      <td>1</td>\n",
              "      <td>35.0</td>\n",
              "      <td>1</td>\n",
              "      <td>0</td>\n",
              "      <td>0.103644</td>\n",
              "      <td>1</td>\n",
              "      <td>0</td>\n",
              "      <td>0</td>\n",
              "      <td>0</td>\n",
              "      <td>1</td>\n",
              "    </tr>\n",
              "    <tr>\n",
              "      <th>4</th>\n",
              "      <td>0</td>\n",
              "      <td>3</td>\n",
              "      <td>35.0</td>\n",
              "      <td>0</td>\n",
              "      <td>0</td>\n",
              "      <td>0.015713</td>\n",
              "      <td>0</td>\n",
              "      <td>1</td>\n",
              "      <td>0</td>\n",
              "      <td>0</td>\n",
              "      <td>1</td>\n",
              "    </tr>\n",
              "  </tbody>\n",
              "</table>\n",
              "</div>"
            ],
            "text/plain": [
              "   Survived  Pclass   Age  SibSp  Parch      Fare  Sex_female  Sex_male  \\\n",
              "0         0       3  22.0      1      0  0.014151           0         1   \n",
              "1         1       1  38.0      1      0  0.139136           1         0   \n",
              "2         1       3  26.0      0      0  0.015469           1         0   \n",
              "3         1       1  35.0      1      0  0.103644           1         0   \n",
              "4         0       3  35.0      0      0  0.015713           0         1   \n",
              "\n",
              "   Embarked_C  Embarked_Q  Embarked_S  \n",
              "0           0           0           1  \n",
              "1           1           0           0  \n",
              "2           0           0           1  \n",
              "3           0           0           1  \n",
              "4           0           0           1  "
            ]
          },
          "execution_count": 19,
          "metadata": {},
          "output_type": "execute_result"
        }
      ],
      "source": [
        "titanic_dataset.head()"
      ]
    },
    {
      "cell_type": "markdown",
      "metadata": {
        "id": "v8sWw88Jzwcc"
      },
      "source": [
        "O passo seguinte é transformar o campo quantitativo de idade em qualitativo.\n",
        "\n",
        "Um dois métodos que permitem fazer isso é _cut_ do pandas. Detalhes deste método pode ser encontrado [neste link](https://pandas.pydata.org/pandas-docs/stable/reference/api/pandas.cut.html). \n",
        "\n",
        "Vamos usar a seguinte classificação de idades: Criança (0-12 anos), adolescente (13-18 anos), adulto (19-59 anos) and idoso (acima de 60 anos).\n",
        "\n",
        "Estou usando os parâmetros _bins_, _labels_ e _right_ do método _cut_. O primeiro diz o intervalo em que a discretização será feita. O segundo indica o label associado a cada intervalo e o terceiro indica que o lado direito vai ser aberto e o esquerdo fechado. Sendo assim, temos os seguintes intervalos: \n",
        "\n",
        "* **[0, 13)**  $0 \\leq x < 13$ **(criança)**\n",
        "* **[13, 19):** $13 \\leq x < 19$ **(adolescente)**\n",
        "* **[19, 60):** $ 19 \\leq x < 60$ **(adulto)**\n",
        "* **[60, infinito):** $ x \\geq 60$ **(idoso)**\n"
      ]
    },
    {
      "cell_type": "code",
      "execution_count": 20,
      "metadata": {
        "id": "imWhjJi0pu6M"
      },
      "outputs": [],
      "source": [
        "titanic_dataset['Age'] = pd.cut(titanic_dataset['Age'],bins=[0,13,19,60,float(\"inf\")],right=False,labels=['criança','adolescente','adulto','idoso'])"
      ]
    },
    {
      "cell_type": "code",
      "execution_count": 21,
      "metadata": {
        "colab": {
          "base_uri": "https://localhost:8080/",
          "height": 696
        },
        "id": "6vcpilEjT-nn",
        "outputId": "2539ae32-eee2-455d-d602-5de80d5ba52b"
      },
      "outputs": [
        {
          "data": {
            "text/html": [
              "<div>\n",
              "<style scoped>\n",
              "    .dataframe tbody tr th:only-of-type {\n",
              "        vertical-align: middle;\n",
              "    }\n",
              "\n",
              "    .dataframe tbody tr th {\n",
              "        vertical-align: top;\n",
              "    }\n",
              "\n",
              "    .dataframe thead th {\n",
              "        text-align: right;\n",
              "    }\n",
              "</style>\n",
              "<table border=\"1\" class=\"dataframe\">\n",
              "  <thead>\n",
              "    <tr style=\"text-align: right;\">\n",
              "      <th></th>\n",
              "      <th>Survived</th>\n",
              "      <th>Pclass</th>\n",
              "      <th>Age</th>\n",
              "      <th>SibSp</th>\n",
              "      <th>Parch</th>\n",
              "      <th>Fare</th>\n",
              "      <th>Sex_female</th>\n",
              "      <th>Sex_male</th>\n",
              "      <th>Embarked_C</th>\n",
              "      <th>Embarked_Q</th>\n",
              "      <th>Embarked_S</th>\n",
              "    </tr>\n",
              "  </thead>\n",
              "  <tbody>\n",
              "    <tr>\n",
              "      <th>0</th>\n",
              "      <td>0</td>\n",
              "      <td>3</td>\n",
              "      <td>adulto</td>\n",
              "      <td>1</td>\n",
              "      <td>0</td>\n",
              "      <td>0.014151</td>\n",
              "      <td>0</td>\n",
              "      <td>1</td>\n",
              "      <td>0</td>\n",
              "      <td>0</td>\n",
              "      <td>1</td>\n",
              "    </tr>\n",
              "    <tr>\n",
              "      <th>1</th>\n",
              "      <td>1</td>\n",
              "      <td>1</td>\n",
              "      <td>adulto</td>\n",
              "      <td>1</td>\n",
              "      <td>0</td>\n",
              "      <td>0.139136</td>\n",
              "      <td>1</td>\n",
              "      <td>0</td>\n",
              "      <td>1</td>\n",
              "      <td>0</td>\n",
              "      <td>0</td>\n",
              "    </tr>\n",
              "    <tr>\n",
              "      <th>2</th>\n",
              "      <td>1</td>\n",
              "      <td>3</td>\n",
              "      <td>adulto</td>\n",
              "      <td>0</td>\n",
              "      <td>0</td>\n",
              "      <td>0.015469</td>\n",
              "      <td>1</td>\n",
              "      <td>0</td>\n",
              "      <td>0</td>\n",
              "      <td>0</td>\n",
              "      <td>1</td>\n",
              "    </tr>\n",
              "    <tr>\n",
              "      <th>3</th>\n",
              "      <td>1</td>\n",
              "      <td>1</td>\n",
              "      <td>adulto</td>\n",
              "      <td>1</td>\n",
              "      <td>0</td>\n",
              "      <td>0.103644</td>\n",
              "      <td>1</td>\n",
              "      <td>0</td>\n",
              "      <td>0</td>\n",
              "      <td>0</td>\n",
              "      <td>1</td>\n",
              "    </tr>\n",
              "    <tr>\n",
              "      <th>4</th>\n",
              "      <td>0</td>\n",
              "      <td>3</td>\n",
              "      <td>adulto</td>\n",
              "      <td>0</td>\n",
              "      <td>0</td>\n",
              "      <td>0.015713</td>\n",
              "      <td>0</td>\n",
              "      <td>1</td>\n",
              "      <td>0</td>\n",
              "      <td>0</td>\n",
              "      <td>1</td>\n",
              "    </tr>\n",
              "    <tr>\n",
              "      <th>5</th>\n",
              "      <td>0</td>\n",
              "      <td>3</td>\n",
              "      <td>adulto</td>\n",
              "      <td>0</td>\n",
              "      <td>0</td>\n",
              "      <td>0.016510</td>\n",
              "      <td>0</td>\n",
              "      <td>1</td>\n",
              "      <td>0</td>\n",
              "      <td>1</td>\n",
              "      <td>0</td>\n",
              "    </tr>\n",
              "    <tr>\n",
              "      <th>6</th>\n",
              "      <td>0</td>\n",
              "      <td>1</td>\n",
              "      <td>adulto</td>\n",
              "      <td>0</td>\n",
              "      <td>0</td>\n",
              "      <td>0.101229</td>\n",
              "      <td>0</td>\n",
              "      <td>1</td>\n",
              "      <td>0</td>\n",
              "      <td>0</td>\n",
              "      <td>1</td>\n",
              "    </tr>\n",
              "    <tr>\n",
              "      <th>7</th>\n",
              "      <td>0</td>\n",
              "      <td>3</td>\n",
              "      <td>criança</td>\n",
              "      <td>3</td>\n",
              "      <td>1</td>\n",
              "      <td>0.041136</td>\n",
              "      <td>0</td>\n",
              "      <td>1</td>\n",
              "      <td>0</td>\n",
              "      <td>0</td>\n",
              "      <td>1</td>\n",
              "    </tr>\n",
              "    <tr>\n",
              "      <th>8</th>\n",
              "      <td>1</td>\n",
              "      <td>3</td>\n",
              "      <td>adulto</td>\n",
              "      <td>0</td>\n",
              "      <td>2</td>\n",
              "      <td>0.021731</td>\n",
              "      <td>1</td>\n",
              "      <td>0</td>\n",
              "      <td>0</td>\n",
              "      <td>0</td>\n",
              "      <td>1</td>\n",
              "    </tr>\n",
              "    <tr>\n",
              "      <th>9</th>\n",
              "      <td>1</td>\n",
              "      <td>2</td>\n",
              "      <td>adolescente</td>\n",
              "      <td>1</td>\n",
              "      <td>0</td>\n",
              "      <td>0.058694</td>\n",
              "      <td>1</td>\n",
              "      <td>0</td>\n",
              "      <td>1</td>\n",
              "      <td>0</td>\n",
              "      <td>0</td>\n",
              "    </tr>\n",
              "    <tr>\n",
              "      <th>10</th>\n",
              "      <td>1</td>\n",
              "      <td>3</td>\n",
              "      <td>criança</td>\n",
              "      <td>1</td>\n",
              "      <td>1</td>\n",
              "      <td>0.032596</td>\n",
              "      <td>1</td>\n",
              "      <td>0</td>\n",
              "      <td>0</td>\n",
              "      <td>0</td>\n",
              "      <td>1</td>\n",
              "    </tr>\n",
              "    <tr>\n",
              "      <th>11</th>\n",
              "      <td>1</td>\n",
              "      <td>1</td>\n",
              "      <td>adulto</td>\n",
              "      <td>0</td>\n",
              "      <td>0</td>\n",
              "      <td>0.051822</td>\n",
              "      <td>1</td>\n",
              "      <td>0</td>\n",
              "      <td>0</td>\n",
              "      <td>0</td>\n",
              "      <td>1</td>\n",
              "    </tr>\n",
              "    <tr>\n",
              "      <th>12</th>\n",
              "      <td>0</td>\n",
              "      <td>3</td>\n",
              "      <td>adulto</td>\n",
              "      <td>0</td>\n",
              "      <td>0</td>\n",
              "      <td>0.015713</td>\n",
              "      <td>0</td>\n",
              "      <td>1</td>\n",
              "      <td>0</td>\n",
              "      <td>0</td>\n",
              "      <td>1</td>\n",
              "    </tr>\n",
              "    <tr>\n",
              "      <th>13</th>\n",
              "      <td>0</td>\n",
              "      <td>3</td>\n",
              "      <td>adulto</td>\n",
              "      <td>1</td>\n",
              "      <td>5</td>\n",
              "      <td>0.061045</td>\n",
              "      <td>0</td>\n",
              "      <td>1</td>\n",
              "      <td>0</td>\n",
              "      <td>0</td>\n",
              "      <td>1</td>\n",
              "    </tr>\n",
              "    <tr>\n",
              "      <th>14</th>\n",
              "      <td>0</td>\n",
              "      <td>3</td>\n",
              "      <td>adolescente</td>\n",
              "      <td>0</td>\n",
              "      <td>0</td>\n",
              "      <td>0.015330</td>\n",
              "      <td>1</td>\n",
              "      <td>0</td>\n",
              "      <td>0</td>\n",
              "      <td>0</td>\n",
              "      <td>1</td>\n",
              "    </tr>\n",
              "    <tr>\n",
              "      <th>15</th>\n",
              "      <td>1</td>\n",
              "      <td>2</td>\n",
              "      <td>adulto</td>\n",
              "      <td>0</td>\n",
              "      <td>0</td>\n",
              "      <td>0.031230</td>\n",
              "      <td>1</td>\n",
              "      <td>0</td>\n",
              "      <td>0</td>\n",
              "      <td>0</td>\n",
              "      <td>1</td>\n",
              "    </tr>\n",
              "    <tr>\n",
              "      <th>16</th>\n",
              "      <td>0</td>\n",
              "      <td>3</td>\n",
              "      <td>criança</td>\n",
              "      <td>4</td>\n",
              "      <td>1</td>\n",
              "      <td>0.056848</td>\n",
              "      <td>0</td>\n",
              "      <td>1</td>\n",
              "      <td>0</td>\n",
              "      <td>1</td>\n",
              "      <td>0</td>\n",
              "    </tr>\n",
              "    <tr>\n",
              "      <th>17</th>\n",
              "      <td>1</td>\n",
              "      <td>2</td>\n",
              "      <td>adulto</td>\n",
              "      <td>0</td>\n",
              "      <td>0</td>\n",
              "      <td>0.025374</td>\n",
              "      <td>0</td>\n",
              "      <td>1</td>\n",
              "      <td>0</td>\n",
              "      <td>0</td>\n",
              "      <td>1</td>\n",
              "    </tr>\n",
              "    <tr>\n",
              "      <th>18</th>\n",
              "      <td>0</td>\n",
              "      <td>3</td>\n",
              "      <td>adulto</td>\n",
              "      <td>1</td>\n",
              "      <td>0</td>\n",
              "      <td>0.035134</td>\n",
              "      <td>1</td>\n",
              "      <td>0</td>\n",
              "      <td>0</td>\n",
              "      <td>0</td>\n",
              "      <td>1</td>\n",
              "    </tr>\n",
              "    <tr>\n",
              "      <th>19</th>\n",
              "      <td>1</td>\n",
              "      <td>3</td>\n",
              "      <td>adulto</td>\n",
              "      <td>0</td>\n",
              "      <td>0</td>\n",
              "      <td>0.014102</td>\n",
              "      <td>1</td>\n",
              "      <td>0</td>\n",
              "      <td>1</td>\n",
              "      <td>0</td>\n",
              "      <td>0</td>\n",
              "    </tr>\n",
              "  </tbody>\n",
              "</table>\n",
              "</div>"
            ],
            "text/plain": [
              "    Survived  Pclass          Age  SibSp  Parch      Fare  Sex_female  \\\n",
              "0          0       3       adulto      1      0  0.014151           0   \n",
              "1          1       1       adulto      1      0  0.139136           1   \n",
              "2          1       3       adulto      0      0  0.015469           1   \n",
              "3          1       1       adulto      1      0  0.103644           1   \n",
              "4          0       3       adulto      0      0  0.015713           0   \n",
              "5          0       3       adulto      0      0  0.016510           0   \n",
              "6          0       1       adulto      0      0  0.101229           0   \n",
              "7          0       3      criança      3      1  0.041136           0   \n",
              "8          1       3       adulto      0      2  0.021731           1   \n",
              "9          1       2  adolescente      1      0  0.058694           1   \n",
              "10         1       3      criança      1      1  0.032596           1   \n",
              "11         1       1       adulto      0      0  0.051822           1   \n",
              "12         0       3       adulto      0      0  0.015713           0   \n",
              "13         0       3       adulto      1      5  0.061045           0   \n",
              "14         0       3  adolescente      0      0  0.015330           1   \n",
              "15         1       2       adulto      0      0  0.031230           1   \n",
              "16         0       3      criança      4      1  0.056848           0   \n",
              "17         1       2       adulto      0      0  0.025374           0   \n",
              "18         0       3       adulto      1      0  0.035134           1   \n",
              "19         1       3       adulto      0      0  0.014102           1   \n",
              "\n",
              "    Sex_male  Embarked_C  Embarked_Q  Embarked_S  \n",
              "0          1           0           0           1  \n",
              "1          0           1           0           0  \n",
              "2          0           0           0           1  \n",
              "3          0           0           0           1  \n",
              "4          1           0           0           1  \n",
              "5          1           0           1           0  \n",
              "6          1           0           0           1  \n",
              "7          1           0           0           1  \n",
              "8          0           0           0           1  \n",
              "9          0           1           0           0  \n",
              "10         0           0           0           1  \n",
              "11         0           0           0           1  \n",
              "12         1           0           0           1  \n",
              "13         1           0           0           1  \n",
              "14         0           0           0           1  \n",
              "15         0           0           0           1  \n",
              "16         1           0           1           0  \n",
              "17         1           0           0           1  \n",
              "18         0           0           0           1  \n",
              "19         0           1           0           0  "
            ]
          },
          "execution_count": 21,
          "metadata": {},
          "output_type": "execute_result"
        }
      ],
      "source": [
        "titanic_dataset.head(20)"
      ]
    },
    {
      "cell_type": "markdown",
      "metadata": {
        "id": "jVdhSw_PUBvG"
      },
      "source": [
        "Como transformamos a coluna **Age** em qualitativo, devemos transformar agora em valores. Como não existe um grau de importância entre as idades, vamos utilizar o método _dummie_ usado anteriormente. "
      ]
    },
    {
      "cell_type": "code",
      "execution_count": 22,
      "metadata": {
        "id": "z6h2bbMTUOCR"
      },
      "outputs": [],
      "source": [
        "titanic_dataset = pd.get_dummies(titanic_dataset, columns=[\"Age\"])"
      ]
    },
    {
      "cell_type": "code",
      "execution_count": 23,
      "metadata": {
        "colab": {
          "base_uri": "https://localhost:8080/",
          "height": 226
        },
        "id": "5t9t23aiUTam",
        "outputId": "02f1647c-6e45-4c9b-df3a-94f8c5411cc7"
      },
      "outputs": [
        {
          "data": {
            "text/html": [
              "<div>\n",
              "<style scoped>\n",
              "    .dataframe tbody tr th:only-of-type {\n",
              "        vertical-align: middle;\n",
              "    }\n",
              "\n",
              "    .dataframe tbody tr th {\n",
              "        vertical-align: top;\n",
              "    }\n",
              "\n",
              "    .dataframe thead th {\n",
              "        text-align: right;\n",
              "    }\n",
              "</style>\n",
              "<table border=\"1\" class=\"dataframe\">\n",
              "  <thead>\n",
              "    <tr style=\"text-align: right;\">\n",
              "      <th></th>\n",
              "      <th>Survived</th>\n",
              "      <th>Pclass</th>\n",
              "      <th>SibSp</th>\n",
              "      <th>Parch</th>\n",
              "      <th>Fare</th>\n",
              "      <th>Sex_female</th>\n",
              "      <th>Sex_male</th>\n",
              "      <th>Embarked_C</th>\n",
              "      <th>Embarked_Q</th>\n",
              "      <th>Embarked_S</th>\n",
              "      <th>Age_criança</th>\n",
              "      <th>Age_adolescente</th>\n",
              "      <th>Age_adulto</th>\n",
              "      <th>Age_idoso</th>\n",
              "    </tr>\n",
              "  </thead>\n",
              "  <tbody>\n",
              "    <tr>\n",
              "      <th>0</th>\n",
              "      <td>0</td>\n",
              "      <td>3</td>\n",
              "      <td>1</td>\n",
              "      <td>0</td>\n",
              "      <td>0.014151</td>\n",
              "      <td>0</td>\n",
              "      <td>1</td>\n",
              "      <td>0</td>\n",
              "      <td>0</td>\n",
              "      <td>1</td>\n",
              "      <td>0</td>\n",
              "      <td>0</td>\n",
              "      <td>1</td>\n",
              "      <td>0</td>\n",
              "    </tr>\n",
              "    <tr>\n",
              "      <th>1</th>\n",
              "      <td>1</td>\n",
              "      <td>1</td>\n",
              "      <td>1</td>\n",
              "      <td>0</td>\n",
              "      <td>0.139136</td>\n",
              "      <td>1</td>\n",
              "      <td>0</td>\n",
              "      <td>1</td>\n",
              "      <td>0</td>\n",
              "      <td>0</td>\n",
              "      <td>0</td>\n",
              "      <td>0</td>\n",
              "      <td>1</td>\n",
              "      <td>0</td>\n",
              "    </tr>\n",
              "    <tr>\n",
              "      <th>2</th>\n",
              "      <td>1</td>\n",
              "      <td>3</td>\n",
              "      <td>0</td>\n",
              "      <td>0</td>\n",
              "      <td>0.015469</td>\n",
              "      <td>1</td>\n",
              "      <td>0</td>\n",
              "      <td>0</td>\n",
              "      <td>0</td>\n",
              "      <td>1</td>\n",
              "      <td>0</td>\n",
              "      <td>0</td>\n",
              "      <td>1</td>\n",
              "      <td>0</td>\n",
              "    </tr>\n",
              "    <tr>\n",
              "      <th>3</th>\n",
              "      <td>1</td>\n",
              "      <td>1</td>\n",
              "      <td>1</td>\n",
              "      <td>0</td>\n",
              "      <td>0.103644</td>\n",
              "      <td>1</td>\n",
              "      <td>0</td>\n",
              "      <td>0</td>\n",
              "      <td>0</td>\n",
              "      <td>1</td>\n",
              "      <td>0</td>\n",
              "      <td>0</td>\n",
              "      <td>1</td>\n",
              "      <td>0</td>\n",
              "    </tr>\n",
              "    <tr>\n",
              "      <th>4</th>\n",
              "      <td>0</td>\n",
              "      <td>3</td>\n",
              "      <td>0</td>\n",
              "      <td>0</td>\n",
              "      <td>0.015713</td>\n",
              "      <td>0</td>\n",
              "      <td>1</td>\n",
              "      <td>0</td>\n",
              "      <td>0</td>\n",
              "      <td>1</td>\n",
              "      <td>0</td>\n",
              "      <td>0</td>\n",
              "      <td>1</td>\n",
              "      <td>0</td>\n",
              "    </tr>\n",
              "  </tbody>\n",
              "</table>\n",
              "</div>"
            ],
            "text/plain": [
              "   Survived  Pclass  SibSp  Parch      Fare  Sex_female  Sex_male  Embarked_C  \\\n",
              "0         0       3      1      0  0.014151           0         1           0   \n",
              "1         1       1      1      0  0.139136           1         0           1   \n",
              "2         1       3      0      0  0.015469           1         0           0   \n",
              "3         1       1      1      0  0.103644           1         0           0   \n",
              "4         0       3      0      0  0.015713           0         1           0   \n",
              "\n",
              "   Embarked_Q  Embarked_S  Age_criança  Age_adolescente  Age_adulto  Age_idoso  \n",
              "0           0           1            0                0           1          0  \n",
              "1           0           0            0                0           1          0  \n",
              "2           0           1            0                0           1          0  \n",
              "3           0           1            0                0           1          0  \n",
              "4           0           1            0                0           1          0  "
            ]
          },
          "execution_count": 23,
          "metadata": {},
          "output_type": "execute_result"
        }
      ],
      "source": [
        "titanic_dataset.head()"
      ]
    },
    {
      "cell_type": "markdown",
      "metadata": {},
      "source": [
        "## Modelos de Classificação\n",
        "\n",
        "Agora que o dataset está no formato correto, vamos trabalhar alguns modelos de classificação. No código a seguir iremos trabalhar com 3 modelos: KNN (classe `KNeighborsClassifier`), a Árvore de Decisão (classe `DecisionTreeClassifier`) e o SVM (classe `SVC`).\n",
        "\n",
        "Nessa etapa, queremos apenas executar os modelos e ver os valores para a acurácia do modelo treinado."
      ]
    },
    {
      "cell_type": "code",
      "execution_count": 27,
      "metadata": {
        "id": "4E78pJcHHqCw"
      },
      "outputs": [],
      "source": [
        "# Importação dos modelos\n",
        "from sklearn.neighbors import KNeighborsClassifier\n",
        "from sklearn.tree import DecisionTreeClassifier\n",
        "from sklearn.svm import SVC\n",
        "\n",
        "# Importação para divisão da base\n",
        "from sklearn.model_selection import train_test_split\n",
        "\n",
        "import math "
      ]
    },
    {
      "cell_type": "markdown",
      "metadata": {},
      "source": [
        "Antes de prosseguir com as etapas de treinamento, vamos serparar nossa base em X (atributos) e y (classe)."
      ]
    },
    {
      "cell_type": "code",
      "execution_count": 25,
      "metadata": {
        "id": "S_3nB7siJTc_"
      },
      "outputs": [],
      "source": [
        "X = titanic_dataset[titanic_dataset.columns[1:]]\n",
        "y = titanic_dataset['Survived']"
      ]
    },
    {
      "cell_type": "markdown",
      "metadata": {},
      "source": [
        "### Separando treino e teste\n",
        "\n",
        "Como falamos em sala de aula, devemos separar treino e teste. O modelo deve ser treinado na base de treino e avaliado a partir do resultado da base de teste. Não devemos treinar e testar na mesma base. \n",
        "\n",
        "Para isso, vamos utilizar o método `train_test_split` do pacote `sklearn.model_selection`. "
      ]
    },
    {
      "cell_type": "code",
      "execution_count": 26,
      "metadata": {
        "id": "IjniIL5qJhEB"
      },
      "outputs": [],
      "source": [
        "X_train, X_test, y_train, y_test = train_test_split(X, y, test_size=0.33, random_state=42)"
      ]
    },
    {
      "cell_type": "markdown",
      "metadata": {},
      "source": [
        "Vamos treinar um modelo KNN variando o valor de K (número de vizinhos) e escolher modelo com o maior valor de K. "
      ]
    },
    {
      "cell_type": "code",
      "execution_count": 35,
      "metadata": {},
      "outputs": [
        {
          "name": "stdout",
          "output_type": "stream",
          "text": [
            "KNN com k = 1: 0.762712\n",
            "KNN com k = 2: 0.796610\n",
            "KNN com k = 3: 0.800000\n",
            "KNN com k = 4: 0.806780\n",
            "KNN com k = 5: 0.833898\n",
            "KNN com k = 6: 0.827119\n",
            "KNN com k = 7: 0.820339\n",
            "---------\n",
            "O melhor valor de K foi 5 com acurácia de 0.83\n"
          ]
        }
      ],
      "source": [
        "# KNN\n",
        "\n",
        "melhor_acc = -math.inf\n",
        "\n",
        "for n in range(1, 8):\n",
        "    model_knn = KNeighborsClassifier(n_neighbors=n)\n",
        "    model_knn.fit(X_train, y_train)\n",
        "    acc = model_knn.score(X_test, y_test)\n",
        "    if acc > melhor_acc:\n",
        "        melhor_acc = acc\n",
        "        melhor_k = n\n",
        "\n",
        "    print(\"KNN com k = %i: %f\" % (n, acc))\n",
        "\n",
        "print(\"---------\")\n",
        "print(\"O melhor valor de K foi %i com acurácia de %.2f\" % (melhor_k, melhor_acc))"
      ]
    },
    {
      "cell_type": "markdown",
      "metadata": {},
      "source": [
        "Podemos testar diferentes modelos e olhar o valor do Score para compará-los. "
      ]
    },
    {
      "cell_type": "code",
      "execution_count": 36,
      "metadata": {},
      "outputs": [
        {
          "name": "stdout",
          "output_type": "stream",
          "text": [
            "Acurácia para o mode de árvore de Decisão: 0.79\n"
          ]
        }
      ],
      "source": [
        "# Treinando um modelo de Árvore de Decisão\n",
        "\n",
        "model_tree = DecisionTreeClassifier()\n",
        "model_tree.fit(X_train, y_train)\n",
        "acc_dtree = model_tree.score(X_test, y_test)\n",
        "\n",
        "print(\"Acurácia para o modelo de árvore de Decisão: %.2f\" % acc_dtree)"
      ]
    },
    {
      "cell_type": "code",
      "execution_count": 37,
      "metadata": {},
      "outputs": [
        {
          "name": "stdout",
          "output_type": "stream",
          "text": [
            "Acurácia para o modelo SVM: 0.84\n"
          ]
        }
      ],
      "source": [
        "## Treinando um SVM \n",
        "\n",
        "model_svc = SVC()\n",
        "model_svc.fit(X_train, y_train)\n",
        "acc_svm = model_svc.score(X_test, y_test)\n",
        "\n",
        "print(\"Acurácia para o modelo SVM: %.2f\" % acc_svm)"
      ]
    },
    {
      "cell_type": "markdown",
      "metadata": {},
      "source": [
        "## Validação Cruzada \n",
        "\n",
        "Essa forma de treinar separando somente uma vez a base de dados podem levar a resultados que sejam influenciados pela divisão da base. O ideal é que a gente faça várias divisões na base e teste para cada uma dessas vez. Isso é chamado de validação cruzada e pode ser feita no scikit-learn com o método `cross_validade`."
      ]
    },
    {
      "cell_type": "code",
      "execution_count": 40,
      "metadata": {},
      "outputs": [],
      "source": [
        "# Importando o método de Validação Cruzada. \n",
        "\n",
        "from sklearn.model_selection import cross_validate"
      ]
    },
    {
      "cell_type": "markdown",
      "metadata": {},
      "source": [
        "Vamos fazer a validação cruzada, passando o SVM como modelo. Veja que antes precisamos instanciar os modelos com os parâmetro que a gente quer. Nesse caso, estamos usando os parâmetros padrão. "
      ]
    },
    {
      "cell_type": "code",
      "execution_count": 41,
      "metadata": {},
      "outputs": [
        {
          "data": {
            "text/plain": [
              "{'fit_time': array([0.04286909, 0.02834415, 0.02894783, 0.02301598, 0.02709794]),\n",
              " 'score_time': array([0.01970983, 0.01768398, 0.01718116, 0.01473713, 0.01293588]),\n",
              " 'test_score': array([0.83798883, 0.8258427 , 0.8258427 , 0.80337079, 0.85393258])}"
            ]
          },
          "execution_count": 41,
          "metadata": {},
          "output_type": "execute_result"
        }
      ],
      "source": [
        "model_svc = SVC()\n",
        "\n",
        "# Nesse caso, passamos o X e y. O cross_validade vai fazer a separação de treino e teste. \n",
        "val_score = cross_validate(model_svc, X, y, cv=5)\n",
        "val_score"
      ]
    },
    {
      "cell_type": "markdown",
      "metadata": {},
      "source": [
        "O método retorna um dicionário com 3 informações: \n",
        "\n",
        "* `fit_time`: o tempo de treinamento. \n",
        "* `score_time`: o tempo de teste. \n",
        "* `test_score`: os valores do teste (neste caso, acurácia).\n",
        "\n",
        "Vamos imprimir a média de cada uma dessas variáveis. "
      ]
    },
    {
      "cell_type": "code",
      "execution_count": 43,
      "metadata": {},
      "outputs": [
        {
          "name": "stdout",
          "output_type": "stream",
          "text": [
            "Tempo de treinamento médio:  0.030\n",
            "Tempo de teste médio: 0.016\n",
            "Valor de acurácia: 0.829\n"
          ]
        }
      ],
      "source": [
        "print(\"Tempo de treinamento médio:  %.3f\" % val_score['fit_time'].mean())\n",
        "print(\"Tempo de teste médio: %.3f\" % val_score['score_time'].mean())\n",
        "print(\"Valor de acurácia: %.3f\" % val_score['test_score'].mean()) "
      ]
    },
    {
      "cell_type": "markdown",
      "metadata": {},
      "source": [
        "É isso. Experimente testar diferentes modelos de Classificação e compare :) "
      ]
    }
  ],
  "metadata": {
    "colab": {
      "collapsed_sections": [],
      "name": "Cópia de lab501.ipynb",
      "provenance": []
    },
    "kernelspec": {
      "display_name": "Python 3",
      "name": "python3"
    },
    "language_info": {
      "codemirror_mode": {
        "name": "ipython",
        "version": 3
      },
      "file_extension": ".py",
      "mimetype": "text/x-python",
      "name": "python",
      "nbconvert_exporter": "python",
      "pygments_lexer": "ipython3",
      "version": "3.9.7"
    }
  },
  "nbformat": 4,
  "nbformat_minor": 0
}
