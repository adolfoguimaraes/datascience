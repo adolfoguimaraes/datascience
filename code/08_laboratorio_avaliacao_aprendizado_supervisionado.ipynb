{
  "cells": [
    {
      "cell_type": "markdown",
      "metadata": {
        "colab_type": "text",
        "id": "view-in-github"
      },
      "source": [
        "<a href=\"https://colab.research.google.com/github/adolfoguimaraes/datascience/blob/main/code/08_laboratorio_avaliacao_aprendizado_supervisionado.ipynb\" target=\"_parent\"><img src=\"https://colab.research.google.com/assets/colab-badge.svg\" alt=\"Open In Colab\"/></a>"
      ]
    },
    {
      "cell_type": "markdown",
      "metadata": {
        "id": "NVXtd2XMhPLC"
      },
      "source": [
        "# Aprendizado Supervisionado\n",
        "\n",
        "Vamos trabalhar com mais uma base e testar diferentes algortimos de Machine Learning. No entanto, nosso foco vai ser olhar as métricas de avaliação estudadas em sala de aula."
      ]
    },
    {
      "cell_type": "code",
      "execution_count": null,
      "metadata": {
        "id": "HSBd3CC6hPLH"
      },
      "outputs": [],
      "source": [
        "import pandas as pd\n",
        "from tabulate import tabulate\n",
        "from sklearn.model_selection import cross_validate\n",
        "\n",
        "import warnings\n",
        "warnings.filterwarnings('ignore')\n"
      ]
    },
    {
      "cell_type": "markdown",
      "metadata": {
        "id": "ugFF6CLWhPLK"
      },
      "source": [
        "## Base dos Dados \n",
        "\n",
        "Vamos utilizar a base de dados disponível nesse link: https://archive.ics.uci.edu/ml/datasets/spambase. A base está disponível na pasta `datasets` com o nome `SpamDataset.csv`. A versão deste repositório já está com os nomes das colunas. No repositório original, essas informações estão em arquivos separados. Não foi feita nenhuma modificação nos dados, apenas a inclusão no nome das colunas. "
      ]
    },
    {
      "cell_type": "code",
      "execution_count": null,
      "metadata": {
        "id": "jCAk5wS8hPLP",
        "outputId": "8da22405-c693-4c16-8120-aa069da192fd"
      },
      "outputs": [],
      "source": [
        "data_ = pd.read_csv(\"../datasets/SpamDataset.csv\")\n",
        "data_"
      ]
    },
    {
      "cell_type": "markdown",
      "metadata": {
        "id": "p8l6FTBwIv_N"
      },
      "source": [
        "Antes de começarmos a definir nossa estratégia de treinamento, vamos olhar como estão distribuídos esses dados. "
      ]
    },
    {
      "cell_type": "code",
      "execution_count": null,
      "metadata": {
        "id": "txqKUewMIv_O",
        "outputId": "3fb73b12-6340-41c7-b4c6-36f83d7c7f59"
      },
      "outputs": [],
      "source": [
        "pd.DataFrame(data_['classe'].value_counts(normalize=True))"
      ]
    },
    {
      "cell_type": "markdown",
      "metadata": {
        "id": "XxcGRMLlIv_Q"
      },
      "source": [
        "Isso indica que 60% das instâncias estão classificadas como não-spam e 40% como Spam. Existe um desbalanceamento dos dados e precisamos pensar em qual classe vamos levar em consideração na hora de treinar nossos modelos."
      ]
    },
    {
      "cell_type": "markdown",
      "metadata": {
        "id": "ty0oY3z2Iv_R"
      },
      "source": [
        "## Definindo o Treinamento\n",
        "\n",
        "### Separação Dados e Classe"
      ]
    },
    {
      "cell_type": "code",
      "execution_count": null,
      "metadata": {
        "id": "1uq05HIthPLS"
      },
      "outputs": [],
      "source": [
        "X = data_[data_.columns[:-1]]\n",
        "y = data_[data_.columns[-1]]"
      ]
    },
    {
      "cell_type": "markdown",
      "metadata": {
        "id": "eUbGWjwLIv_U"
      },
      "source": [
        "### Métodos utilizados"
      ]
    },
    {
      "cell_type": "markdown",
      "metadata": {
        "id": "OXd411zLIv_W"
      },
      "source": [
        "Vamos criar uma estratégia de treinamento de diferentes modelos de Machine Learning a tarefa de classificação de SPAM. Vamos testar os seguintes modelos e parâmetros:\n",
        "\n",
        "* **KNN:** Variar o valor de `n_neighbors` de 1 a 15. \n",
        "* **SVM:** Usar o kernel rbf e variar os parâmetros `C` e `gamma` com os valores [0.01, 0.1, 1, 10, 100] (para o `C`) e [0.01, 0.1, 1] para o `gamma`.\n",
        "* **Árvore de Decisão:** Será variado o `max_depth` com os valores [None, 1, 5, 10, 20, 30]. \n",
        "* **Regressão Logística:** Vamos fixar o solver em `liblinear` e variar `C` com os valores: [0.01, 0.1, 1, 10, 100].\n",
        "* **Radom Forest:** Vamos varia o `n_estimators` e o `max_depth` com so valores [10, 50, 100, 200] (para o `n_estimators`) e [None, 1, 5, 10, 20, 30] (para o `max_depth`),"
      ]
    },
    {
      "cell_type": "code",
      "execution_count": null,
      "metadata": {
        "id": "Z8DzGE3NIv_Y"
      },
      "outputs": [],
      "source": [
        "# Instanciando os métodos utilizados e o método para aplicar GridSearch\n",
        "\n",
        "from sklearn.neighbors import KNeighborsClassifier\n",
        "from sklearn.tree import DecisionTreeClassifier\n",
        "from sklearn.svm import SVC \n",
        "from sklearn.linear_model import LogisticRegression\n",
        "from sklearn.ensemble import RandomForestClassifier\n",
        "from sklearn.model_selection import GridSearchCV"
      ]
    },
    {
      "cell_type": "markdown",
      "metadata": {
        "id": "YxK-x9d7Iv_a"
      },
      "source": [
        "### Parâmetros\n",
        "\n",
        "Foram escolhidas apenas algumas variações de parâmetro com base no que foi discutido em sala."
      ]
    },
    {
      "cell_type": "code",
      "execution_count": null,
      "metadata": {
        "id": "xfeIiycPIv_b"
      },
      "outputs": [],
      "source": [
        "gridsearch_param_knn = {'n_neighbors': list(range(1,16))}\n",
        "gridsearch_param_svm = {'C': [0.1, 1, 10], 'gamma': [0.01, 0.1, 1]}\n",
        "gridsearch_param_dt = {'max_depth': [None, 1, 5, 10, 20, 30]}\n",
        "gridsearch_param_lr = {'C': [0.01, 0.1, 1, 10, 100]}\n",
        "gridsearch_param_rf =  {'n_estimators': [10, 50, 100, 200], 'max_depth': [None, 1, 5, 10, 20, 30]}\n"
      ]
    },
    {
      "cell_type": "markdown",
      "metadata": {
        "id": "Vk_7b67xIv_c"
      },
      "source": [
        "### Execução do Treinamento"
      ]
    },
    {
      "cell_type": "code",
      "execution_count": null,
      "metadata": {
        "id": "Pqd7Kww1Iv_d"
      },
      "outputs": [],
      "source": [
        "\n",
        "# Método que aplica o GridSearch com os parâmetros definido e retorna o melhor resultado de acordo com a métrica de interesse (score)\n",
        "\n",
        "def fit_grid_search(model, params, score, X, y):\n",
        "\n",
        "    gridsearch_model = GridSearchCV(model,param_grid=params, cv=5, scoring=['accuracy','precision','recall','f1'], refit=score)\n",
        "\n",
        "    gridsearch_model.fit(X, y)\n",
        "\n",
        "\n",
        "    print(\"Melhores parâmetros:\", gridsearch_model.best_params_)\n",
        "    print(\"Melhor score (%s): %f\" % (score,gridsearch_model.best_score_ ))\n",
        "    \n",
        "    \n",
        "    dt_frame = pd.DataFrame(gridsearch_model.cv_results_)\n",
        "\n",
        "    dt_frame = dt_frame.query(\"rank_test_\" + score + \" == 1\")\n",
        "    dt_frame = dt_frame[['mean_fit_time','std_fit_time','mean_score_time','std_score_time','mean_test_accuracy','mean_test_precision','mean_test_recall','mean_test_f1']]\n",
        "\n",
        "    return dt_frame\n"
      ]
    },
    {
      "cell_type": "code",
      "execution_count": null,
      "metadata": {
        "id": "MfyoFBLuIv_e"
      },
      "outputs": [],
      "source": [
        "# Instanciando os métodos com os parâmetros padrões ou fixos.\n",
        "knn_ = KNeighborsClassifier()\n",
        "svm_ = SVC(kernel='rbf')\n",
        "dt_ = DecisionTreeClassifier()\n",
        "lr_ = LogisticRegression(solver='liblinear')\n",
        "rf_ = RandomForestClassifier()"
      ]
    },
    {
      "cell_type": "markdown",
      "metadata": {
        "id": "uqVq-CvIIv_f"
      },
      "source": [
        "#### KNN"
      ]
    },
    {
      "cell_type": "code",
      "execution_count": null,
      "metadata": {
        "id": "B7uHs7wlIv_f",
        "outputId": "87174669-a105-48f4-bd58-762633ed45f5"
      },
      "outputs": [],
      "source": [
        "fit_grid_search(knn_, gridsearch_param_knn, 'accuracy', X, y)"
      ]
    },
    {
      "cell_type": "markdown",
      "metadata": {
        "id": "3X7rhzHGIv_g"
      },
      "source": [
        "#### Árvore de Decisão"
      ]
    },
    {
      "cell_type": "code",
      "execution_count": null,
      "metadata": {
        "id": "M294tQElIv_h",
        "outputId": "56a837a2-70bb-4cfc-d4bc-c8dfe53a2c92"
      },
      "outputs": [],
      "source": [
        "fit_grid_search(dt_, gridsearch_param_dt, 'accuracy', X, y)"
      ]
    },
    {
      "cell_type": "markdown",
      "metadata": {
        "id": "qHb-lPOKIv_h"
      },
      "source": [
        "#### Regressão Logística"
      ]
    },
    {
      "cell_type": "code",
      "execution_count": null,
      "metadata": {
        "id": "obopWRWJIv_i",
        "outputId": "58e91efd-d5b8-4e33-b5a9-978cf8d2ceef"
      },
      "outputs": [],
      "source": [
        "fit_grid_search(lr_, gridsearch_param_lr, 'accuracy', X, y)"
      ]
    },
    {
      "cell_type": "markdown",
      "metadata": {
        "id": "IkrcimVNIv_i"
      },
      "source": [
        "#### Random Forest"
      ]
    },
    {
      "cell_type": "code",
      "execution_count": null,
      "metadata": {
        "id": "5EHAzzVIIv_j",
        "outputId": "7d8f50bd-0ea1-4f89-c2e9-ffce1584ef29"
      },
      "outputs": [],
      "source": [
        "fit_grid_search(rf_, gridsearch_param_rf, 'accuracy', X, y)"
      ]
    },
    {
      "cell_type": "markdown",
      "metadata": {
        "id": "hPjaORUCIv_k"
      },
      "source": [
        "#### SVM"
      ]
    },
    {
      "cell_type": "code",
      "execution_count": null,
      "metadata": {
        "id": "8OPVXue3Iv_v",
        "outputId": "b2e76580-cf0a-48fc-c42a-bda21905cae0"
      },
      "outputs": [],
      "source": [
        "fit_grid_search(svm_, gridsearch_param_svm, 'accuracy', X, y)"
      ]
    },
    {
      "cell_type": "code",
      "execution_count": null,
      "metadata": {
        "id": "M-0ChP2jIv_w"
      },
      "outputs": [],
      "source": []
    }
  ],
  "metadata": {
    "colab": {
      "include_colab_link": true,
      "name": "08_laboratorio_avaliacao_aprendizado_supervisionado.ipynb",
      "provenance": []
    },
    "interpreter": {
      "hash": "5063cfe71bac910fcf2a966b61d684c7ab1acf2cfb80646acb374e5182a49f95"
    },
    "kernelspec": {
      "display_name": "Python 3.9.7 ('datascience')",
      "language": "python",
      "name": "python3"
    },
    "language_info": {
      "codemirror_mode": {
        "name": "ipython",
        "version": 3
      },
      "file_extension": ".py",
      "mimetype": "text/x-python",
      "name": "python",
      "nbconvert_exporter": "python",
      "pygments_lexer": "ipython3",
      "version": "3.9.13"
    },
    "orig_nbformat": 4
  },
  "nbformat": 4,
  "nbformat_minor": 0
}
