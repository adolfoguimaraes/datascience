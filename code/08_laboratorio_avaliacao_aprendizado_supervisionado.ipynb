{
  "cells": [
    {
      "cell_type": "markdown",
      "metadata": {
        "id": "view-in-github",
        "colab_type": "text"
      },
      "source": [
        "<a href=\"https://colab.research.google.com/github/adolfoguimaraes/datascience/blob/main/code/08_laboratorio_avaliacao_aprendizado_supervisionado.ipynb\" target=\"_parent\"><img src=\"https://colab.research.google.com/assets/colab-badge.svg\" alt=\"Open In Colab\"/></a>"
      ]
    },
    {
      "cell_type": "markdown",
      "metadata": {
        "id": "NVXtd2XMhPLC"
      },
      "source": [
        "# Aprendizado Supervisionado\n",
        "\n",
        "Vamos trabalhar com mais uma base e testar diferentes algortimos de Machine Learning. No entanto, nosso foco vai ser olhar as métricas de avaliação estudadas em sala de aula."
      ]
    },
    {
      "cell_type": "code",
      "execution_count": null,
      "metadata": {
        "id": "HSBd3CC6hPLH"
      },
      "outputs": [],
      "source": [
        "import pandas as pd\n",
        "from tabulate import tabulate\n",
        "from sklearn.model_selection import cross_validate\n",
        "\n",
        "import warnings\n",
        "warnings.filterwarnings('ignore')\n"
      ]
    },
    {
      "cell_type": "markdown",
      "metadata": {
        "id": "ugFF6CLWhPLK"
      },
      "source": [
        "## Base dos Dados \n",
        "\n",
        "Vamos utilizar a base de dados disponível nesse link: https://archive.ics.uci.edu/ml/datasets/spambase. A base está disponível na pasta `datasets` com o nome `SpamDataset.csv`. A versão deste repositório já está com os nomes das colunas. No repositório original, essas informações estão em arquivos separados. Não foi feita nenhuma modificação nos dados, apenas a inclusão no nome das colunas. "
      ]
    },
    {
      "cell_type": "code",
      "execution_count": null,
      "metadata": {
        "id": "jCAk5wS8hPLP",
        "outputId": "8da22405-c693-4c16-8120-aa069da192fd"
      },
      "outputs": [
        {
          "data": {
            "text/html": [
              "<div>\n",
              "<style scoped>\n",
              "    .dataframe tbody tr th:only-of-type {\n",
              "        vertical-align: middle;\n",
              "    }\n",
              "\n",
              "    .dataframe tbody tr th {\n",
              "        vertical-align: top;\n",
              "    }\n",
              "\n",
              "    .dataframe thead th {\n",
              "        text-align: right;\n",
              "    }\n",
              "</style>\n",
              "<table border=\"1\" class=\"dataframe\">\n",
              "  <thead>\n",
              "    <tr style=\"text-align: right;\">\n",
              "      <th></th>\n",
              "      <th>word_freq_make</th>\n",
              "      <th>word_freq_address</th>\n",
              "      <th>word_freq_all</th>\n",
              "      <th>word_freq_3d</th>\n",
              "      <th>word_freq_our</th>\n",
              "      <th>word_freq_over</th>\n",
              "      <th>word_freq_remove</th>\n",
              "      <th>word_freq_internet</th>\n",
              "      <th>word_freq_order</th>\n",
              "      <th>word_freq_mail</th>\n",
              "      <th>...</th>\n",
              "      <th>char_freq_;</th>\n",
              "      <th>char_freq_(</th>\n",
              "      <th>char_freq_[</th>\n",
              "      <th>char_freq_!</th>\n",
              "      <th>char_freq_$</th>\n",
              "      <th>char_freq_#</th>\n",
              "      <th>capital_run_length_average</th>\n",
              "      <th>capital_run_length_longest</th>\n",
              "      <th>capital_run_length_total</th>\n",
              "      <th>classe</th>\n",
              "    </tr>\n",
              "  </thead>\n",
              "  <tbody>\n",
              "    <tr>\n",
              "      <th>0</th>\n",
              "      <td>0.00</td>\n",
              "      <td>0.64</td>\n",
              "      <td>0.64</td>\n",
              "      <td>0.0</td>\n",
              "      <td>0.32</td>\n",
              "      <td>0.00</td>\n",
              "      <td>0.00</td>\n",
              "      <td>0.00</td>\n",
              "      <td>0.00</td>\n",
              "      <td>0.00</td>\n",
              "      <td>...</td>\n",
              "      <td>0.000</td>\n",
              "      <td>0.000</td>\n",
              "      <td>0.0</td>\n",
              "      <td>0.778</td>\n",
              "      <td>0.000</td>\n",
              "      <td>0.000</td>\n",
              "      <td>3.756</td>\n",
              "      <td>61</td>\n",
              "      <td>278</td>\n",
              "      <td>1</td>\n",
              "    </tr>\n",
              "    <tr>\n",
              "      <th>1</th>\n",
              "      <td>0.21</td>\n",
              "      <td>0.28</td>\n",
              "      <td>0.50</td>\n",
              "      <td>0.0</td>\n",
              "      <td>0.14</td>\n",
              "      <td>0.28</td>\n",
              "      <td>0.21</td>\n",
              "      <td>0.07</td>\n",
              "      <td>0.00</td>\n",
              "      <td>0.94</td>\n",
              "      <td>...</td>\n",
              "      <td>0.000</td>\n",
              "      <td>0.132</td>\n",
              "      <td>0.0</td>\n",
              "      <td>0.372</td>\n",
              "      <td>0.180</td>\n",
              "      <td>0.048</td>\n",
              "      <td>5.114</td>\n",
              "      <td>101</td>\n",
              "      <td>1028</td>\n",
              "      <td>1</td>\n",
              "    </tr>\n",
              "    <tr>\n",
              "      <th>2</th>\n",
              "      <td>0.06</td>\n",
              "      <td>0.00</td>\n",
              "      <td>0.71</td>\n",
              "      <td>0.0</td>\n",
              "      <td>1.23</td>\n",
              "      <td>0.19</td>\n",
              "      <td>0.19</td>\n",
              "      <td>0.12</td>\n",
              "      <td>0.64</td>\n",
              "      <td>0.25</td>\n",
              "      <td>...</td>\n",
              "      <td>0.010</td>\n",
              "      <td>0.143</td>\n",
              "      <td>0.0</td>\n",
              "      <td>0.276</td>\n",
              "      <td>0.184</td>\n",
              "      <td>0.010</td>\n",
              "      <td>9.821</td>\n",
              "      <td>485</td>\n",
              "      <td>2259</td>\n",
              "      <td>1</td>\n",
              "    </tr>\n",
              "    <tr>\n",
              "      <th>3</th>\n",
              "      <td>0.00</td>\n",
              "      <td>0.00</td>\n",
              "      <td>0.00</td>\n",
              "      <td>0.0</td>\n",
              "      <td>0.63</td>\n",
              "      <td>0.00</td>\n",
              "      <td>0.31</td>\n",
              "      <td>0.63</td>\n",
              "      <td>0.31</td>\n",
              "      <td>0.63</td>\n",
              "      <td>...</td>\n",
              "      <td>0.000</td>\n",
              "      <td>0.137</td>\n",
              "      <td>0.0</td>\n",
              "      <td>0.137</td>\n",
              "      <td>0.000</td>\n",
              "      <td>0.000</td>\n",
              "      <td>3.537</td>\n",
              "      <td>40</td>\n",
              "      <td>191</td>\n",
              "      <td>1</td>\n",
              "    </tr>\n",
              "    <tr>\n",
              "      <th>4</th>\n",
              "      <td>0.00</td>\n",
              "      <td>0.00</td>\n",
              "      <td>0.00</td>\n",
              "      <td>0.0</td>\n",
              "      <td>0.63</td>\n",
              "      <td>0.00</td>\n",
              "      <td>0.31</td>\n",
              "      <td>0.63</td>\n",
              "      <td>0.31</td>\n",
              "      <td>0.63</td>\n",
              "      <td>...</td>\n",
              "      <td>0.000</td>\n",
              "      <td>0.135</td>\n",
              "      <td>0.0</td>\n",
              "      <td>0.135</td>\n",
              "      <td>0.000</td>\n",
              "      <td>0.000</td>\n",
              "      <td>3.537</td>\n",
              "      <td>40</td>\n",
              "      <td>191</td>\n",
              "      <td>1</td>\n",
              "    </tr>\n",
              "    <tr>\n",
              "      <th>...</th>\n",
              "      <td>...</td>\n",
              "      <td>...</td>\n",
              "      <td>...</td>\n",
              "      <td>...</td>\n",
              "      <td>...</td>\n",
              "      <td>...</td>\n",
              "      <td>...</td>\n",
              "      <td>...</td>\n",
              "      <td>...</td>\n",
              "      <td>...</td>\n",
              "      <td>...</td>\n",
              "      <td>...</td>\n",
              "      <td>...</td>\n",
              "      <td>...</td>\n",
              "      <td>...</td>\n",
              "      <td>...</td>\n",
              "      <td>...</td>\n",
              "      <td>...</td>\n",
              "      <td>...</td>\n",
              "      <td>...</td>\n",
              "      <td>...</td>\n",
              "    </tr>\n",
              "    <tr>\n",
              "      <th>4596</th>\n",
              "      <td>0.31</td>\n",
              "      <td>0.00</td>\n",
              "      <td>0.62</td>\n",
              "      <td>0.0</td>\n",
              "      <td>0.00</td>\n",
              "      <td>0.31</td>\n",
              "      <td>0.00</td>\n",
              "      <td>0.00</td>\n",
              "      <td>0.00</td>\n",
              "      <td>0.00</td>\n",
              "      <td>...</td>\n",
              "      <td>0.000</td>\n",
              "      <td>0.232</td>\n",
              "      <td>0.0</td>\n",
              "      <td>0.000</td>\n",
              "      <td>0.000</td>\n",
              "      <td>0.000</td>\n",
              "      <td>1.142</td>\n",
              "      <td>3</td>\n",
              "      <td>88</td>\n",
              "      <td>0</td>\n",
              "    </tr>\n",
              "    <tr>\n",
              "      <th>4597</th>\n",
              "      <td>0.00</td>\n",
              "      <td>0.00</td>\n",
              "      <td>0.00</td>\n",
              "      <td>0.0</td>\n",
              "      <td>0.00</td>\n",
              "      <td>0.00</td>\n",
              "      <td>0.00</td>\n",
              "      <td>0.00</td>\n",
              "      <td>0.00</td>\n",
              "      <td>0.00</td>\n",
              "      <td>...</td>\n",
              "      <td>0.000</td>\n",
              "      <td>0.000</td>\n",
              "      <td>0.0</td>\n",
              "      <td>0.353</td>\n",
              "      <td>0.000</td>\n",
              "      <td>0.000</td>\n",
              "      <td>1.555</td>\n",
              "      <td>4</td>\n",
              "      <td>14</td>\n",
              "      <td>0</td>\n",
              "    </tr>\n",
              "    <tr>\n",
              "      <th>4598</th>\n",
              "      <td>0.30</td>\n",
              "      <td>0.00</td>\n",
              "      <td>0.30</td>\n",
              "      <td>0.0</td>\n",
              "      <td>0.00</td>\n",
              "      <td>0.00</td>\n",
              "      <td>0.00</td>\n",
              "      <td>0.00</td>\n",
              "      <td>0.00</td>\n",
              "      <td>0.00</td>\n",
              "      <td>...</td>\n",
              "      <td>0.102</td>\n",
              "      <td>0.718</td>\n",
              "      <td>0.0</td>\n",
              "      <td>0.000</td>\n",
              "      <td>0.000</td>\n",
              "      <td>0.000</td>\n",
              "      <td>1.404</td>\n",
              "      <td>6</td>\n",
              "      <td>118</td>\n",
              "      <td>0</td>\n",
              "    </tr>\n",
              "    <tr>\n",
              "      <th>4599</th>\n",
              "      <td>0.96</td>\n",
              "      <td>0.00</td>\n",
              "      <td>0.00</td>\n",
              "      <td>0.0</td>\n",
              "      <td>0.32</td>\n",
              "      <td>0.00</td>\n",
              "      <td>0.00</td>\n",
              "      <td>0.00</td>\n",
              "      <td>0.00</td>\n",
              "      <td>0.00</td>\n",
              "      <td>...</td>\n",
              "      <td>0.000</td>\n",
              "      <td>0.057</td>\n",
              "      <td>0.0</td>\n",
              "      <td>0.000</td>\n",
              "      <td>0.000</td>\n",
              "      <td>0.000</td>\n",
              "      <td>1.147</td>\n",
              "      <td>5</td>\n",
              "      <td>78</td>\n",
              "      <td>0</td>\n",
              "    </tr>\n",
              "    <tr>\n",
              "      <th>4600</th>\n",
              "      <td>0.00</td>\n",
              "      <td>0.00</td>\n",
              "      <td>0.65</td>\n",
              "      <td>0.0</td>\n",
              "      <td>0.00</td>\n",
              "      <td>0.00</td>\n",
              "      <td>0.00</td>\n",
              "      <td>0.00</td>\n",
              "      <td>0.00</td>\n",
              "      <td>0.00</td>\n",
              "      <td>...</td>\n",
              "      <td>0.000</td>\n",
              "      <td>0.000</td>\n",
              "      <td>0.0</td>\n",
              "      <td>0.125</td>\n",
              "      <td>0.000</td>\n",
              "      <td>0.000</td>\n",
              "      <td>1.250</td>\n",
              "      <td>5</td>\n",
              "      <td>40</td>\n",
              "      <td>0</td>\n",
              "    </tr>\n",
              "  </tbody>\n",
              "</table>\n",
              "<p>4601 rows × 58 columns</p>\n",
              "</div>"
            ],
            "text/plain": [
              "      word_freq_make  word_freq_address  word_freq_all  word_freq_3d  \\\n",
              "0               0.00               0.64           0.64           0.0   \n",
              "1               0.21               0.28           0.50           0.0   \n",
              "2               0.06               0.00           0.71           0.0   \n",
              "3               0.00               0.00           0.00           0.0   \n",
              "4               0.00               0.00           0.00           0.0   \n",
              "...              ...                ...            ...           ...   \n",
              "4596            0.31               0.00           0.62           0.0   \n",
              "4597            0.00               0.00           0.00           0.0   \n",
              "4598            0.30               0.00           0.30           0.0   \n",
              "4599            0.96               0.00           0.00           0.0   \n",
              "4600            0.00               0.00           0.65           0.0   \n",
              "\n",
              "      word_freq_our  word_freq_over  word_freq_remove  word_freq_internet  \\\n",
              "0              0.32            0.00              0.00                0.00   \n",
              "1              0.14            0.28              0.21                0.07   \n",
              "2              1.23            0.19              0.19                0.12   \n",
              "3              0.63            0.00              0.31                0.63   \n",
              "4              0.63            0.00              0.31                0.63   \n",
              "...             ...             ...               ...                 ...   \n",
              "4596           0.00            0.31              0.00                0.00   \n",
              "4597           0.00            0.00              0.00                0.00   \n",
              "4598           0.00            0.00              0.00                0.00   \n",
              "4599           0.32            0.00              0.00                0.00   \n",
              "4600           0.00            0.00              0.00                0.00   \n",
              "\n",
              "      word_freq_order  word_freq_mail  ...  char_freq_;  char_freq_(  \\\n",
              "0                0.00            0.00  ...        0.000        0.000   \n",
              "1                0.00            0.94  ...        0.000        0.132   \n",
              "2                0.64            0.25  ...        0.010        0.143   \n",
              "3                0.31            0.63  ...        0.000        0.137   \n",
              "4                0.31            0.63  ...        0.000        0.135   \n",
              "...               ...             ...  ...          ...          ...   \n",
              "4596             0.00            0.00  ...        0.000        0.232   \n",
              "4597             0.00            0.00  ...        0.000        0.000   \n",
              "4598             0.00            0.00  ...        0.102        0.718   \n",
              "4599             0.00            0.00  ...        0.000        0.057   \n",
              "4600             0.00            0.00  ...        0.000        0.000   \n",
              "\n",
              "      char_freq_[  char_freq_!  char_freq_$  char_freq_#  \\\n",
              "0             0.0        0.778        0.000        0.000   \n",
              "1             0.0        0.372        0.180        0.048   \n",
              "2             0.0        0.276        0.184        0.010   \n",
              "3             0.0        0.137        0.000        0.000   \n",
              "4             0.0        0.135        0.000        0.000   \n",
              "...           ...          ...          ...          ...   \n",
              "4596          0.0        0.000        0.000        0.000   \n",
              "4597          0.0        0.353        0.000        0.000   \n",
              "4598          0.0        0.000        0.000        0.000   \n",
              "4599          0.0        0.000        0.000        0.000   \n",
              "4600          0.0        0.125        0.000        0.000   \n",
              "\n",
              "      capital_run_length_average  capital_run_length_longest  \\\n",
              "0                          3.756                          61   \n",
              "1                          5.114                         101   \n",
              "2                          9.821                         485   \n",
              "3                          3.537                          40   \n",
              "4                          3.537                          40   \n",
              "...                          ...                         ...   \n",
              "4596                       1.142                           3   \n",
              "4597                       1.555                           4   \n",
              "4598                       1.404                           6   \n",
              "4599                       1.147                           5   \n",
              "4600                       1.250                           5   \n",
              "\n",
              "      capital_run_length_total  classe  \n",
              "0                          278       1  \n",
              "1                         1028       1  \n",
              "2                         2259       1  \n",
              "3                          191       1  \n",
              "4                          191       1  \n",
              "...                        ...     ...  \n",
              "4596                        88       0  \n",
              "4597                        14       0  \n",
              "4598                       118       0  \n",
              "4599                        78       0  \n",
              "4600                        40       0  \n",
              "\n",
              "[4601 rows x 58 columns]"
            ]
          },
          "execution_count": 2,
          "metadata": {},
          "output_type": "execute_result"
        }
      ],
      "source": [
        "data_ = pd.read_csv(\"../datasets/SpamDataset.csv\")\n",
        "data_"
      ]
    },
    {
      "cell_type": "markdown",
      "metadata": {
        "id": "p8l6FTBwIv_N"
      },
      "source": [
        "Antes de começarmos a definir nossa estratégia de treinamento, vamos olhar como estão distribuídos esses dados. "
      ]
    },
    {
      "cell_type": "code",
      "execution_count": null,
      "metadata": {
        "id": "txqKUewMIv_O",
        "outputId": "3fb73b12-6340-41c7-b4c6-36f83d7c7f59"
      },
      "outputs": [
        {
          "data": {
            "text/html": [
              "<div>\n",
              "<style scoped>\n",
              "    .dataframe tbody tr th:only-of-type {\n",
              "        vertical-align: middle;\n",
              "    }\n",
              "\n",
              "    .dataframe tbody tr th {\n",
              "        vertical-align: top;\n",
              "    }\n",
              "\n",
              "    .dataframe thead th {\n",
              "        text-align: right;\n",
              "    }\n",
              "</style>\n",
              "<table border=\"1\" class=\"dataframe\">\n",
              "  <thead>\n",
              "    <tr style=\"text-align: right;\">\n",
              "      <th></th>\n",
              "      <th>classe</th>\n",
              "    </tr>\n",
              "  </thead>\n",
              "  <tbody>\n",
              "    <tr>\n",
              "      <th>0</th>\n",
              "      <td>0.605955</td>\n",
              "    </tr>\n",
              "    <tr>\n",
              "      <th>1</th>\n",
              "      <td>0.394045</td>\n",
              "    </tr>\n",
              "  </tbody>\n",
              "</table>\n",
              "</div>"
            ],
            "text/plain": [
              "     classe\n",
              "0  0.605955\n",
              "1  0.394045"
            ]
          },
          "execution_count": 3,
          "metadata": {},
          "output_type": "execute_result"
        }
      ],
      "source": [
        "pd.DataFrame(data_['classe'].value_counts(normalize=True))"
      ]
    },
    {
      "cell_type": "markdown",
      "metadata": {
        "id": "XxcGRMLlIv_Q"
      },
      "source": [
        "Isso indica que 60% das instâncias estão classificadas como não-spam e 40% como Spam. Existe um desbalanceamento dos dados e precisamos pensar em qual classe vamos levar em consideração na hora de treinar nossos modelos."
      ]
    },
    {
      "cell_type": "markdown",
      "metadata": {
        "id": "ty0oY3z2Iv_R"
      },
      "source": [
        "## Definindo o Treinamento\n",
        "\n",
        "### Separação Dados e Classe"
      ]
    },
    {
      "cell_type": "code",
      "execution_count": null,
      "metadata": {
        "id": "1uq05HIthPLS"
      },
      "outputs": [],
      "source": [
        "X = data_[data_.columns[:-1]]\n",
        "y = data_[data_.columns[-1]]"
      ]
    },
    {
      "cell_type": "markdown",
      "metadata": {
        "id": "eUbGWjwLIv_U"
      },
      "source": [
        "### Métodos utilizados"
      ]
    },
    {
      "cell_type": "markdown",
      "metadata": {
        "id": "OXd411zLIv_W"
      },
      "source": [
        "Vamos criar uma estratégia de treinamento de diferentes modelos de Machine Learning a tarefa de classificação de SPAM. Vamos testar os seguintes modelos e parâmetros:\n",
        "\n",
        "* **KNN:** Variar o valor de `n_neighbors` de 1 a 15. \n",
        "* **SVM:** Usar o kernel rbf e variar os parâmetros `C` e `gamma` com os valores [0.01, 0.1, 1, 10, 100] (para o `C`) e [0.01, 0.1, 1] para o `gamma`.\n",
        "* **Árvore de Decisão:** Será variado o `max_depth` com os valores [None, 1, 5, 10, 20, 30]. \n",
        "* **Regressão Logística:** Vamos fixar o solver em `liblinear` e variar `C` com os valores: [0.01, 0.1, 1, 10, 100].\n",
        "* **Radom Forest:** Vamos varia o `n_estimators` e o `max_depth` com so valores [10, 50, 100, 200] (para o `n_estimators`) e [None, 1, 5, 10, 20, 30] (para o `max_depth`),"
      ]
    },
    {
      "cell_type": "code",
      "execution_count": null,
      "metadata": {
        "id": "Z8DzGE3NIv_Y"
      },
      "outputs": [],
      "source": [
        "# Instanciando os métodos utilizados e o método para aplicar GridSearch\n",
        "\n",
        "from sklearn.neighbors import KNeighborsClassifier\n",
        "from sklearn.tree import DecisionTreeClassifier\n",
        "from sklearn.svm import SVC \n",
        "from sklearn.linear_model import LogisticRegression\n",
        "from sklearn.ensemble import RandomForestClassifier\n",
        "from sklearn.model_selection import GridSearchCV"
      ]
    },
    {
      "cell_type": "markdown",
      "metadata": {
        "id": "YxK-x9d7Iv_a"
      },
      "source": [
        "### Parâmetros\n",
        "\n",
        "Foram escolhidas apenas algumas variações de parâmetro com base no que foi discutido em sala."
      ]
    },
    {
      "cell_type": "code",
      "execution_count": null,
      "metadata": {
        "id": "xfeIiycPIv_b"
      },
      "outputs": [],
      "source": [
        "gridsearch_param_knn = {'n_neighbors': list(range(1,16))}\n",
        "gridsearch_param_svm = {'C': [0.1, 1, 10], 'gamma': [0.01, 0.1, 1]}\n",
        "gridsearch_param_dt = {'max_depth': [None, 1, 5, 10, 20, 30]}\n",
        "gridsearch_param_lr = {'C': [0.01, 0.1, 1, 10, 100]}\n",
        "gridsearch_param_rf =  {'n_estimators': [10, 50, 100, 200], 'max_depth': [None, 1, 5, 10, 20, 30]}\n"
      ]
    },
    {
      "cell_type": "markdown",
      "metadata": {
        "id": "Vk_7b67xIv_c"
      },
      "source": [
        "### Execução do Treinamento"
      ]
    },
    {
      "cell_type": "code",
      "execution_count": null,
      "metadata": {
        "id": "Pqd7Kww1Iv_d"
      },
      "outputs": [],
      "source": [
        "\n",
        "# Método que aplica o GridSearch com os parâmetros definido e retorna o melhor resultado de acordo com a métrica de interesse (score)\n",
        "\n",
        "def fit_grid_search(model, params, score, X, y):\n",
        "\n",
        "    gridsearch_model = GridSearchCV(model,param_grid=params, cv=5, scoring=['accuracy','precision','recall','f1'], refit=score)\n",
        "\n",
        "    gridsearch_model.fit(X, y)\n",
        "\n",
        "\n",
        "    print(\"Melhores parâmetros:\", gridsearch_model.best_params_)\n",
        "    print(\"Melhor score (%s): %f\" % (score,gridsearch_model.best_score_ ))\n",
        "    \n",
        "    \n",
        "    dt_frame = pd.DataFrame(gridsearch_model.cv_results_)\n",
        "\n",
        "    dt_frame = dt_frame.query(\"rank_test_\" + score + \" == 1\")\n",
        "    dt_frame = dt_frame[['mean_fit_time','std_fit_time','mean_score_time','std_score_time','mean_test_accuracy','mean_test_precision','mean_test_recall','mean_test_f1']]\n",
        "\n",
        "    return dt_frame\n"
      ]
    },
    {
      "cell_type": "code",
      "execution_count": null,
      "metadata": {
        "id": "MfyoFBLuIv_e"
      },
      "outputs": [],
      "source": [
        "# Instanciando os métodos com os parâmetros padrões ou fixos.\n",
        "knn_ = KNeighborsClassifier()\n",
        "svm_ = SVC(kernel='rbf')\n",
        "dt_ = DecisionTreeClassifier()\n",
        "lr_ = LogisticRegression(solver='liblinear')\n",
        "rf_ = RandomForestClassifier()"
      ]
    },
    {
      "cell_type": "markdown",
      "metadata": {
        "id": "uqVq-CvIIv_f"
      },
      "source": [
        "#### KNN"
      ]
    },
    {
      "cell_type": "code",
      "execution_count": null,
      "metadata": {
        "id": "B7uHs7wlIv_f",
        "outputId": "87174669-a105-48f4-bd58-762633ed45f5"
      },
      "outputs": [
        {
          "name": "stdout",
          "output_type": "stream",
          "text": [
            "Melhores parâmetros: {'n_neighbors': 1}\n",
            "Melhor score (accuracy): 0.777007\n"
          ]
        },
        {
          "data": {
            "text/html": [
              "<div>\n",
              "<style scoped>\n",
              "    .dataframe tbody tr th:only-of-type {\n",
              "        vertical-align: middle;\n",
              "    }\n",
              "\n",
              "    .dataframe tbody tr th {\n",
              "        vertical-align: top;\n",
              "    }\n",
              "\n",
              "    .dataframe thead th {\n",
              "        text-align: right;\n",
              "    }\n",
              "</style>\n",
              "<table border=\"1\" class=\"dataframe\">\n",
              "  <thead>\n",
              "    <tr style=\"text-align: right;\">\n",
              "      <th></th>\n",
              "      <th>mean_fit_time</th>\n",
              "      <th>std_fit_time</th>\n",
              "      <th>mean_score_time</th>\n",
              "      <th>std_score_time</th>\n",
              "      <th>mean_test_accuracy</th>\n",
              "      <th>mean_test_precision</th>\n",
              "      <th>mean_test_recall</th>\n",
              "      <th>mean_test_f1</th>\n",
              "    </tr>\n",
              "  </thead>\n",
              "  <tbody>\n",
              "    <tr>\n",
              "      <th>0</th>\n",
              "      <td>0.006236</td>\n",
              "      <td>0.000861</td>\n",
              "      <td>0.135637</td>\n",
              "      <td>0.042277</td>\n",
              "      <td>0.777007</td>\n",
              "      <td>0.717829</td>\n",
              "      <td>0.724201</td>\n",
              "      <td>0.720072</td>\n",
              "    </tr>\n",
              "  </tbody>\n",
              "</table>\n",
              "</div>"
            ],
            "text/plain": [
              "   mean_fit_time  std_fit_time  mean_score_time  std_score_time  \\\n",
              "0       0.006236      0.000861         0.135637        0.042277   \n",
              "\n",
              "   mean_test_accuracy  mean_test_precision  mean_test_recall  mean_test_f1  \n",
              "0            0.777007             0.717829          0.724201      0.720072  "
            ]
          },
          "execution_count": 10,
          "metadata": {},
          "output_type": "execute_result"
        }
      ],
      "source": [
        "fit_grid_search(knn_, gridsearch_param_knn, 'accuracy', X, y)"
      ]
    },
    {
      "cell_type": "markdown",
      "metadata": {
        "id": "3X7rhzHGIv_g"
      },
      "source": [
        "#### Árvore de Decisão"
      ]
    },
    {
      "cell_type": "code",
      "execution_count": null,
      "metadata": {
        "id": "M294tQElIv_h",
        "outputId": "56a837a2-70bb-4cfc-d4bc-c8dfe53a2c92"
      },
      "outputs": [
        {
          "name": "stdout",
          "output_type": "stream",
          "text": [
            "Melhores parâmetros: {'max_depth': 10}\n",
            "Melhor score (accuracy): 0.900888\n"
          ]
        },
        {
          "data": {
            "text/html": [
              "<div>\n",
              "<style scoped>\n",
              "    .dataframe tbody tr th:only-of-type {\n",
              "        vertical-align: middle;\n",
              "    }\n",
              "\n",
              "    .dataframe tbody tr th {\n",
              "        vertical-align: top;\n",
              "    }\n",
              "\n",
              "    .dataframe thead th {\n",
              "        text-align: right;\n",
              "    }\n",
              "</style>\n",
              "<table border=\"1\" class=\"dataframe\">\n",
              "  <thead>\n",
              "    <tr style=\"text-align: right;\">\n",
              "      <th></th>\n",
              "      <th>mean_fit_time</th>\n",
              "      <th>std_fit_time</th>\n",
              "      <th>mean_score_time</th>\n",
              "      <th>std_score_time</th>\n",
              "      <th>mean_test_accuracy</th>\n",
              "      <th>mean_test_precision</th>\n",
              "      <th>mean_test_recall</th>\n",
              "      <th>mean_test_f1</th>\n",
              "    </tr>\n",
              "  </thead>\n",
              "  <tbody>\n",
              "    <tr>\n",
              "      <th>3</th>\n",
              "      <td>0.061356</td>\n",
              "      <td>0.005612</td>\n",
              "      <td>0.006937</td>\n",
              "      <td>0.000764</td>\n",
              "      <td>0.900888</td>\n",
              "      <td>0.891014</td>\n",
              "      <td>0.863754</td>\n",
              "      <td>0.875425</td>\n",
              "    </tr>\n",
              "  </tbody>\n",
              "</table>\n",
              "</div>"
            ],
            "text/plain": [
              "   mean_fit_time  std_fit_time  mean_score_time  std_score_time  \\\n",
              "3       0.061356      0.005612         0.006937        0.000764   \n",
              "\n",
              "   mean_test_accuracy  mean_test_precision  mean_test_recall  mean_test_f1  \n",
              "3            0.900888             0.891014          0.863754      0.875425  "
            ]
          },
          "execution_count": 11,
          "metadata": {},
          "output_type": "execute_result"
        }
      ],
      "source": [
        "fit_grid_search(dt_, gridsearch_param_dt, 'accuracy', X, y)"
      ]
    },
    {
      "cell_type": "markdown",
      "metadata": {
        "id": "qHb-lPOKIv_h"
      },
      "source": [
        "#### Regressão Logística"
      ]
    },
    {
      "cell_type": "code",
      "execution_count": null,
      "metadata": {
        "id": "obopWRWJIv_i",
        "outputId": "58e91efd-d5b8-4e33-b5a9-978cf8d2ceef"
      },
      "outputs": [
        {
          "name": "stdout",
          "output_type": "stream",
          "text": [
            "Melhores parâmetros: {'C': 1}\n",
            "Melhor score (accuracy): 0.910669\n"
          ]
        },
        {
          "data": {
            "text/html": [
              "<div>\n",
              "<style scoped>\n",
              "    .dataframe tbody tr th:only-of-type {\n",
              "        vertical-align: middle;\n",
              "    }\n",
              "\n",
              "    .dataframe tbody tr th {\n",
              "        vertical-align: top;\n",
              "    }\n",
              "\n",
              "    .dataframe thead th {\n",
              "        text-align: right;\n",
              "    }\n",
              "</style>\n",
              "<table border=\"1\" class=\"dataframe\">\n",
              "  <thead>\n",
              "    <tr style=\"text-align: right;\">\n",
              "      <th></th>\n",
              "      <th>mean_fit_time</th>\n",
              "      <th>std_fit_time</th>\n",
              "      <th>mean_score_time</th>\n",
              "      <th>std_score_time</th>\n",
              "      <th>mean_test_accuracy</th>\n",
              "      <th>mean_test_precision</th>\n",
              "      <th>mean_test_recall</th>\n",
              "      <th>mean_test_f1</th>\n",
              "    </tr>\n",
              "  </thead>\n",
              "  <tbody>\n",
              "    <tr>\n",
              "      <th>2</th>\n",
              "      <td>0.123258</td>\n",
              "      <td>0.09902</td>\n",
              "      <td>0.010029</td>\n",
              "      <td>0.004006</td>\n",
              "      <td>0.910669</td>\n",
              "      <td>0.893977</td>\n",
              "      <td>0.881954</td>\n",
              "      <td>0.887178</td>\n",
              "    </tr>\n",
              "  </tbody>\n",
              "</table>\n",
              "</div>"
            ],
            "text/plain": [
              "   mean_fit_time  std_fit_time  mean_score_time  std_score_time  \\\n",
              "2       0.123258       0.09902         0.010029        0.004006   \n",
              "\n",
              "   mean_test_accuracy  mean_test_precision  mean_test_recall  mean_test_f1  \n",
              "2            0.910669             0.893977          0.881954      0.887178  "
            ]
          },
          "execution_count": 12,
          "metadata": {},
          "output_type": "execute_result"
        }
      ],
      "source": [
        "fit_grid_search(lr_, gridsearch_param_lr, 'accuracy', X, y)"
      ]
    },
    {
      "cell_type": "markdown",
      "metadata": {
        "id": "IkrcimVNIv_i"
      },
      "source": [
        "#### Random Forest"
      ]
    },
    {
      "cell_type": "code",
      "execution_count": null,
      "metadata": {
        "id": "5EHAzzVIIv_j",
        "outputId": "7d8f50bd-0ea1-4f89-c2e9-ffce1584ef29"
      },
      "outputs": [
        {
          "name": "stdout",
          "output_type": "stream",
          "text": [
            "Melhores parâmetros: {'max_depth': None, 'n_estimators': 100}\n",
            "Melhor score (accuracy): 0.929577\n"
          ]
        },
        {
          "data": {
            "text/html": [
              "<div>\n",
              "<style scoped>\n",
              "    .dataframe tbody tr th:only-of-type {\n",
              "        vertical-align: middle;\n",
              "    }\n",
              "\n",
              "    .dataframe tbody tr th {\n",
              "        vertical-align: top;\n",
              "    }\n",
              "\n",
              "    .dataframe thead th {\n",
              "        text-align: right;\n",
              "    }\n",
              "</style>\n",
              "<table border=\"1\" class=\"dataframe\">\n",
              "  <thead>\n",
              "    <tr style=\"text-align: right;\">\n",
              "      <th></th>\n",
              "      <th>mean_fit_time</th>\n",
              "      <th>std_fit_time</th>\n",
              "      <th>mean_score_time</th>\n",
              "      <th>std_score_time</th>\n",
              "      <th>mean_test_accuracy</th>\n",
              "      <th>mean_test_precision</th>\n",
              "      <th>mean_test_recall</th>\n",
              "      <th>mean_test_f1</th>\n",
              "    </tr>\n",
              "  </thead>\n",
              "  <tbody>\n",
              "    <tr>\n",
              "      <th>2</th>\n",
              "      <td>0.773095</td>\n",
              "      <td>0.007136</td>\n",
              "      <td>0.047647</td>\n",
              "      <td>0.014469</td>\n",
              "      <td>0.929577</td>\n",
              "      <td>0.919703</td>\n",
              "      <td>0.908986</td>\n",
              "      <td>0.912758</td>\n",
              "    </tr>\n",
              "  </tbody>\n",
              "</table>\n",
              "</div>"
            ],
            "text/plain": [
              "   mean_fit_time  std_fit_time  mean_score_time  std_score_time  \\\n",
              "2       0.773095      0.007136         0.047647        0.014469   \n",
              "\n",
              "   mean_test_accuracy  mean_test_precision  mean_test_recall  mean_test_f1  \n",
              "2            0.929577             0.919703          0.908986      0.912758  "
            ]
          },
          "execution_count": 13,
          "metadata": {},
          "output_type": "execute_result"
        }
      ],
      "source": [
        "fit_grid_search(rf_, gridsearch_param_rf, 'accuracy', X, y)"
      ]
    },
    {
      "cell_type": "markdown",
      "metadata": {
        "id": "hPjaORUCIv_k"
      },
      "source": [
        "#### SVM"
      ]
    },
    {
      "cell_type": "code",
      "execution_count": null,
      "metadata": {
        "id": "8OPVXue3Iv_v",
        "outputId": "b2e76580-cf0a-48fc-c42a-bda21905cae0"
      },
      "outputs": [
        {
          "name": "stdout",
          "output_type": "stream",
          "text": [
            "Melhores parâmetros: {'C': 10, 'gamma': 0.01}\n",
            "Melhor score (accuracy): 0.834821\n"
          ]
        },
        {
          "data": {
            "text/html": [
              "<div>\n",
              "<style scoped>\n",
              "    .dataframe tbody tr th:only-of-type {\n",
              "        vertical-align: middle;\n",
              "    }\n",
              "\n",
              "    .dataframe tbody tr th {\n",
              "        vertical-align: top;\n",
              "    }\n",
              "\n",
              "    .dataframe thead th {\n",
              "        text-align: right;\n",
              "    }\n",
              "</style>\n",
              "<table border=\"1\" class=\"dataframe\">\n",
              "  <thead>\n",
              "    <tr style=\"text-align: right;\">\n",
              "      <th></th>\n",
              "      <th>mean_fit_time</th>\n",
              "      <th>std_fit_time</th>\n",
              "      <th>mean_score_time</th>\n",
              "      <th>std_score_time</th>\n",
              "      <th>mean_test_accuracy</th>\n",
              "      <th>mean_test_precision</th>\n",
              "      <th>mean_test_recall</th>\n",
              "      <th>mean_test_f1</th>\n",
              "    </tr>\n",
              "  </thead>\n",
              "  <tbody>\n",
              "    <tr>\n",
              "      <th>6</th>\n",
              "      <td>1.060252</td>\n",
              "      <td>0.232801</td>\n",
              "      <td>0.761939</td>\n",
              "      <td>0.253872</td>\n",
              "      <td>0.834821</td>\n",
              "      <td>0.777217</td>\n",
              "      <td>0.818515</td>\n",
              "      <td>0.796781</td>\n",
              "    </tr>\n",
              "  </tbody>\n",
              "</table>\n",
              "</div>"
            ],
            "text/plain": [
              "   mean_fit_time  std_fit_time  mean_score_time  std_score_time  \\\n",
              "6       1.060252      0.232801         0.761939        0.253872   \n",
              "\n",
              "   mean_test_accuracy  mean_test_precision  mean_test_recall  mean_test_f1  \n",
              "6            0.834821             0.777217          0.818515      0.796781  "
            ]
          },
          "execution_count": 17,
          "metadata": {},
          "output_type": "execute_result"
        }
      ],
      "source": [
        "fit_grid_search(svm_, gridsearch_param_svm, 'accuracy', X, y)"
      ]
    },
    {
      "cell_type": "code",
      "execution_count": null,
      "metadata": {
        "id": "M-0ChP2jIv_w"
      },
      "outputs": [],
      "source": []
    }
  ],
  "metadata": {
    "colab": {
      "name": "08_laboratorio_avaliacao_aprendizado_supervisionado.ipynb",
      "provenance": [],
      "include_colab_link": true
    },
    "interpreter": {
      "hash": "5063cfe71bac910fcf2a966b61d684c7ab1acf2cfb80646acb374e5182a49f95"
    },
    "kernelspec": {
      "display_name": "Python 3.9.7 ('datascience')",
      "language": "python",
      "name": "python3"
    },
    "language_info": {
      "codemirror_mode": {
        "name": "ipython",
        "version": 3
      },
      "file_extension": ".py",
      "mimetype": "text/x-python",
      "name": "python",
      "nbconvert_exporter": "python",
      "pygments_lexer": "ipython3",
      "version": "3.9.13"
    },
    "orig_nbformat": 4
  },
  "nbformat": 4,
  "nbformat_minor": 0
}
