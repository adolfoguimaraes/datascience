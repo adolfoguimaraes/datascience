{
  "cells": [
    {
      "cell_type": "markdown",
      "metadata": {
        "colab_type": "text",
        "id": "view-in-github"
      },
      "source": [
        "<a href=\"https://colab.research.google.com/github/adolfoguimaraes/datascience/blob/main/code/02_laboratorio_transformacao_dos_dados.ipynb\" target=\"_parent\"><img src=\"https://colab.research.google.com/assets/colab-badge.svg\" alt=\"Open In Colab\"/></a>"
      ]
    },
    {
      "cell_type": "markdown",
      "metadata": {
        "id": "JMLYZkZAgt2D"
      },
      "source": [
        "# Laboratório de Transformação dos Dados\n",
        "\n",
        "O objetivo deste laboratório é aplicar na base do titanic as etapas de prepação de dados apresentadas em sala de aula. Ao final apresente uma base de dados adequada para um modelo de classificação. \n",
        "\n",
        "Algumas tarefas de preparação de dados são implementadas no pandas. Se necessário, investigue a [documentação](https://pandas.pydata.org/) para usar os métodos. "
      ]
    },
    {
      "cell_type": "code",
      "execution_count": 27,
      "metadata": {
        "id": "AQnwclgLg7um"
      },
      "outputs": [],
      "source": [
        "# Imports necessário\n",
        "\n",
        "import numpy as np \n",
        "import pandas as pd\n",
        "import seaborn as sns\n",
        "import matplotlib.pyplot as plt\n",
        "from matplotlib.cbook import boxplot_stats\n",
        "from sklearn import preprocessing"
      ]
    },
    {
      "cell_type": "markdown",
      "metadata": {
        "id": "6VreZEcTp3YL"
      },
      "source": [
        "\n",
        "\n",
        "## Dataset\n",
        "\n",
        "Vamos trabalhar novamente com a base do Titanic. A bose pode ser baixada na página do desafio do Titanic no Kaggle: https://www.kaggle.com/c/titanic. O arquivo também está disponível na pasta `datasets` deste repositório. \n",
        "\n",
        "![](https://media.giphy.com/media/XOY5y7YXjTD7q/giphy.gif?cid=ecf05e47kfxmcx3vp300zcgdbteywwruog1dvtie391tk8mw&rid=giphy.gif&ct=g)\n",
        "\n"
      ]
    },
    {
      "cell_type": "code",
      "execution_count": 28,
      "metadata": {
        "colab": {
          "base_uri": "https://localhost:8080/",
          "height": 306
        },
        "id": "HhcXDidSl_Oy",
        "outputId": "6a944b14-2d82-493f-c8b0-0f5015e6e489"
      },
      "outputs": [
        {
          "data": {
            "text/html": [
              "<div>\n",
              "<style scoped>\n",
              "    .dataframe tbody tr th:only-of-type {\n",
              "        vertical-align: middle;\n",
              "    }\n",
              "\n",
              "    .dataframe tbody tr th {\n",
              "        vertical-align: top;\n",
              "    }\n",
              "\n",
              "    .dataframe thead th {\n",
              "        text-align: right;\n",
              "    }\n",
              "</style>\n",
              "<table border=\"1\" class=\"dataframe\">\n",
              "  <thead>\n",
              "    <tr style=\"text-align: right;\">\n",
              "      <th></th>\n",
              "      <th>PassengerId</th>\n",
              "      <th>Survived</th>\n",
              "      <th>Pclass</th>\n",
              "      <th>Name</th>\n",
              "      <th>Sex</th>\n",
              "      <th>Age</th>\n",
              "      <th>SibSp</th>\n",
              "      <th>Parch</th>\n",
              "      <th>Ticket</th>\n",
              "      <th>Fare</th>\n",
              "      <th>Cabin</th>\n",
              "      <th>Embarked</th>\n",
              "    </tr>\n",
              "  </thead>\n",
              "  <tbody>\n",
              "    <tr>\n",
              "      <th>0</th>\n",
              "      <td>1</td>\n",
              "      <td>0</td>\n",
              "      <td>3</td>\n",
              "      <td>Braund, Mr. Owen Harris</td>\n",
              "      <td>male</td>\n",
              "      <td>22.0</td>\n",
              "      <td>1</td>\n",
              "      <td>0</td>\n",
              "      <td>A/5 21171</td>\n",
              "      <td>7.2500</td>\n",
              "      <td>NaN</td>\n",
              "      <td>S</td>\n",
              "    </tr>\n",
              "    <tr>\n",
              "      <th>1</th>\n",
              "      <td>2</td>\n",
              "      <td>1</td>\n",
              "      <td>1</td>\n",
              "      <td>Cumings, Mrs. John Bradley (Florence Briggs Th...</td>\n",
              "      <td>female</td>\n",
              "      <td>38.0</td>\n",
              "      <td>1</td>\n",
              "      <td>0</td>\n",
              "      <td>PC 17599</td>\n",
              "      <td>71.2833</td>\n",
              "      <td>C85</td>\n",
              "      <td>C</td>\n",
              "    </tr>\n",
              "    <tr>\n",
              "      <th>2</th>\n",
              "      <td>3</td>\n",
              "      <td>1</td>\n",
              "      <td>3</td>\n",
              "      <td>Heikkinen, Miss. Laina</td>\n",
              "      <td>female</td>\n",
              "      <td>26.0</td>\n",
              "      <td>0</td>\n",
              "      <td>0</td>\n",
              "      <td>STON/O2. 3101282</td>\n",
              "      <td>7.9250</td>\n",
              "      <td>NaN</td>\n",
              "      <td>S</td>\n",
              "    </tr>\n",
              "    <tr>\n",
              "      <th>3</th>\n",
              "      <td>4</td>\n",
              "      <td>1</td>\n",
              "      <td>1</td>\n",
              "      <td>Futrelle, Mrs. Jacques Heath (Lily May Peel)</td>\n",
              "      <td>female</td>\n",
              "      <td>35.0</td>\n",
              "      <td>1</td>\n",
              "      <td>0</td>\n",
              "      <td>113803</td>\n",
              "      <td>53.1000</td>\n",
              "      <td>C123</td>\n",
              "      <td>S</td>\n",
              "    </tr>\n",
              "    <tr>\n",
              "      <th>4</th>\n",
              "      <td>5</td>\n",
              "      <td>0</td>\n",
              "      <td>3</td>\n",
              "      <td>Allen, Mr. William Henry</td>\n",
              "      <td>male</td>\n",
              "      <td>35.0</td>\n",
              "      <td>0</td>\n",
              "      <td>0</td>\n",
              "      <td>373450</td>\n",
              "      <td>8.0500</td>\n",
              "      <td>NaN</td>\n",
              "      <td>S</td>\n",
              "    </tr>\n",
              "  </tbody>\n",
              "</table>\n",
              "</div>"
            ],
            "text/plain": [
              "   PassengerId  Survived  Pclass  \\\n",
              "0            1         0       3   \n",
              "1            2         1       1   \n",
              "2            3         1       3   \n",
              "3            4         1       1   \n",
              "4            5         0       3   \n",
              "\n",
              "                                                Name     Sex   Age  SibSp  \\\n",
              "0                            Braund, Mr. Owen Harris    male  22.0      1   \n",
              "1  Cumings, Mrs. John Bradley (Florence Briggs Th...  female  38.0      1   \n",
              "2                             Heikkinen, Miss. Laina  female  26.0      0   \n",
              "3       Futrelle, Mrs. Jacques Heath (Lily May Peel)  female  35.0      1   \n",
              "4                           Allen, Mr. William Henry    male  35.0      0   \n",
              "\n",
              "   Parch            Ticket     Fare Cabin Embarked  \n",
              "0      0         A/5 21171   7.2500   NaN        S  \n",
              "1      0          PC 17599  71.2833   C85        C  \n",
              "2      0  STON/O2. 3101282   7.9250   NaN        S  \n",
              "3      0            113803  53.1000  C123        S  \n",
              "4      0            373450   8.0500   NaN        S  "
            ]
          },
          "execution_count": 28,
          "metadata": {},
          "output_type": "execute_result"
        }
      ],
      "source": [
        "titanic_dataset = pd.read_csv(\"../datasets/TitanicDataset.csv\")\n",
        "titanic_dataset.head()"
      ]
    },
    {
      "cell_type": "markdown",
      "metadata": {
        "id": "1a8wiFyJo13l"
      },
      "source": [
        "## Descrição das Tarefas\n",
        "\n",
        "1. Eliminar os atributos manualmente\n",
        "2. Verificar se os dados estão desbalanceados\n",
        "3. Analisar dados ausentes\n",
        "4. Verificar dados incosistentes, redundantes e com ruído.\n",
        "5. Fazer as transformações dos dados, se necessário."
      ]
    },
    {
      "cell_type": "markdown",
      "metadata": {
        "id": "nwIXZClQlzHc"
      },
      "source": [
        "## Execução das Tarefas\n",
        "\n"
      ]
    },
    {
      "cell_type": "markdown",
      "metadata": {
        "id": "Ydiiyv71maQ-"
      },
      "source": [
        "### Eliminar os atributos manualmente\n",
        "\n",
        "A primeira coisa que pode ser feita é a eliminação de atributos manualmente. De cara, atributos como _PassengerId_, _Name_ e _Ticket_ não trazem informações relevantes para o processo de classificação. Desta forma podemos remove-los. Vamos utilizar o método `drop` do pandas."
      ]
    },
    {
      "cell_type": "code",
      "execution_count": 29,
      "metadata": {
        "colab": {
          "base_uri": "https://localhost:8080/",
          "height": 204
        },
        "id": "ptkCzIIBqn-l",
        "outputId": "07b3fdb4-c299-4aca-cb57-d7f83121eba3"
      },
      "outputs": [
        {
          "data": {
            "text/html": [
              "<div>\n",
              "<style scoped>\n",
              "    .dataframe tbody tr th:only-of-type {\n",
              "        vertical-align: middle;\n",
              "    }\n",
              "\n",
              "    .dataframe tbody tr th {\n",
              "        vertical-align: top;\n",
              "    }\n",
              "\n",
              "    .dataframe thead th {\n",
              "        text-align: right;\n",
              "    }\n",
              "</style>\n",
              "<table border=\"1\" class=\"dataframe\">\n",
              "  <thead>\n",
              "    <tr style=\"text-align: right;\">\n",
              "      <th></th>\n",
              "      <th>Survived</th>\n",
              "      <th>Pclass</th>\n",
              "      <th>Sex</th>\n",
              "      <th>Age</th>\n",
              "      <th>SibSp</th>\n",
              "      <th>Parch</th>\n",
              "      <th>Fare</th>\n",
              "      <th>Cabin</th>\n",
              "      <th>Embarked</th>\n",
              "    </tr>\n",
              "  </thead>\n",
              "  <tbody>\n",
              "    <tr>\n",
              "      <th>0</th>\n",
              "      <td>0</td>\n",
              "      <td>3</td>\n",
              "      <td>male</td>\n",
              "      <td>22.0</td>\n",
              "      <td>1</td>\n",
              "      <td>0</td>\n",
              "      <td>7.2500</td>\n",
              "      <td>NaN</td>\n",
              "      <td>S</td>\n",
              "    </tr>\n",
              "    <tr>\n",
              "      <th>1</th>\n",
              "      <td>1</td>\n",
              "      <td>1</td>\n",
              "      <td>female</td>\n",
              "      <td>38.0</td>\n",
              "      <td>1</td>\n",
              "      <td>0</td>\n",
              "      <td>71.2833</td>\n",
              "      <td>C85</td>\n",
              "      <td>C</td>\n",
              "    </tr>\n",
              "    <tr>\n",
              "      <th>2</th>\n",
              "      <td>1</td>\n",
              "      <td>3</td>\n",
              "      <td>female</td>\n",
              "      <td>26.0</td>\n",
              "      <td>0</td>\n",
              "      <td>0</td>\n",
              "      <td>7.9250</td>\n",
              "      <td>NaN</td>\n",
              "      <td>S</td>\n",
              "    </tr>\n",
              "    <tr>\n",
              "      <th>3</th>\n",
              "      <td>1</td>\n",
              "      <td>1</td>\n",
              "      <td>female</td>\n",
              "      <td>35.0</td>\n",
              "      <td>1</td>\n",
              "      <td>0</td>\n",
              "      <td>53.1000</td>\n",
              "      <td>C123</td>\n",
              "      <td>S</td>\n",
              "    </tr>\n",
              "    <tr>\n",
              "      <th>4</th>\n",
              "      <td>0</td>\n",
              "      <td>3</td>\n",
              "      <td>male</td>\n",
              "      <td>35.0</td>\n",
              "      <td>0</td>\n",
              "      <td>0</td>\n",
              "      <td>8.0500</td>\n",
              "      <td>NaN</td>\n",
              "      <td>S</td>\n",
              "    </tr>\n",
              "  </tbody>\n",
              "</table>\n",
              "</div>"
            ],
            "text/plain": [
              "   Survived  Pclass     Sex   Age  SibSp  Parch     Fare Cabin Embarked\n",
              "0         0       3    male  22.0      1      0   7.2500   NaN        S\n",
              "1         1       1  female  38.0      1      0  71.2833   C85        C\n",
              "2         1       3  female  26.0      0      0   7.9250   NaN        S\n",
              "3         1       1  female  35.0      1      0  53.1000  C123        S\n",
              "4         0       3    male  35.0      0      0   8.0500   NaN        S"
            ]
          },
          "execution_count": 29,
          "metadata": {},
          "output_type": "execute_result"
        }
      ],
      "source": [
        "# Eliminando as colunas \n",
        "titanic_dataset = titanic_dataset.drop(columns=['PassengerId',\"Name\", \"Ticket\"])\n",
        "titanic_dataset.head()"
      ]
    },
    {
      "cell_type": "markdown",
      "metadata": {
        "id": "95kVxexJrmst"
      },
      "source": [
        "### Verificar se os dados estão desbalanceados\n",
        "\n",
        "Removido os atributos podemos verificar a distribuição de classes para saber se os dados estão desbalanceados."
      ]
    },
    {
      "cell_type": "code",
      "execution_count": 30,
      "metadata": {
        "colab": {
          "base_uri": "https://localhost:8080/",
          "height": 279
        },
        "id": "OFy13rGVryw0",
        "outputId": "5c881954-9a59-42fb-8aa2-e333bfd2be29"
      },
      "outputs": [
        {
          "data": {
            "text/plain": [
              "<AxesSubplot:>"
            ]
          },
          "execution_count": 30,
          "metadata": {},
          "output_type": "execute_result"
        },
        {
          "data": {
            "image/png": "[encoded data removed]",
            "text/plain": [
              "<Figure size 432x288 with 1 Axes>"
            ]
          },
          "metadata": {
            "needs_background": "light"
          },
          "output_type": "display_data"
        }
      ],
      "source": [
        "titanic_dataset['Survived'].value_counts(normalize=True).plot(kind='bar')"
      ]
    },
    {
      "cell_type": "markdown",
      "metadata": {
        "id": "aAkFSjLrIlNl"
      },
      "source": [
        "A proporção é de mais ou menos de 60% para a classe não sobreviveu e 40% para sobreviveu. A análise que devemos fazer é se essa diferença vai ter influência na tarefa de classificação. A gente vai trabalhar mais esse conceito quando começarmos a trabalhar com os modelos de machine learning.\n"
      ]
    },
    {
      "cell_type": "markdown",
      "metadata": {
        "id": "IgEUiyWGmg-q"
      },
      "source": [
        "### Analisar dados ausentes\n",
        "\n",
        "Uma outra análise que se pode fazer é em relação aos dados incompletos. Para isto, vamos usar a função `count` para indicar quantos dados tem cada atributo."
      ]
    },
    {
      "cell_type": "code",
      "execution_count": 31,
      "metadata": {
        "colab": {
          "base_uri": "https://localhost:8080/"
        },
        "id": "T__Vj9FJLq5V",
        "outputId": "201cf6a3-d8bb-43df-9812-a614d4a0c702"
      },
      "outputs": [
        {
          "data": {
            "text/plain": [
              "Survived    891\n",
              "Pclass      891\n",
              "Sex         891\n",
              "Age         714\n",
              "SibSp       891\n",
              "Parch       891\n",
              "Fare        891\n",
              "Cabin       204\n",
              "Embarked    889\n",
              "dtype: int64"
            ]
          },
          "execution_count": 31,
          "metadata": {},
          "output_type": "execute_result"
        }
      ],
      "source": [
        "count_ = titanic_dataset.count()\n",
        "count_"
      ]
    },
    {
      "cell_type": "markdown",
      "metadata": {
        "id": "qC0y5UadMRy8"
      },
      "source": [
        "Com o gráfico de barras, podemos ver a diferença de alguns atributos. O atributo _Cabin_ e _Age_ estão abaixo dos demais. O caso mais visível é o atributo _Cabin_."
      ]
    },
    {
      "cell_type": "code",
      "execution_count": 32,
      "metadata": {
        "colab": {
          "base_uri": "https://localhost:8080/",
          "height": 323
        },
        "id": "Tdt-Fiv2HDPo",
        "outputId": "822cb2ed-8760-41be-f5bf-93d6dca342c7"
      },
      "outputs": [
        {
          "data": {
            "text/plain": [
              "<AxesSubplot:>"
            ]
          },
          "execution_count": 32,
          "metadata": {},
          "output_type": "execute_result"
        },
        {
          "data": {
            "image/png": "[encoded data removed]",
            "text/plain": [
              "<Figure size 432x288 with 1 Axes>"
            ]
          },
          "metadata": {
            "needs_background": "light"
          },
          "output_type": "display_data"
        }
      ],
      "source": [
        "count_.plot(kind='bar',color='grey')"
      ]
    },
    {
      "cell_type": "markdown",
      "metadata": {
        "id": "3Ez2looVR0d4"
      },
      "source": [
        "**O que podemos fazer com cada um dos atributos?**\n",
        "\n",
        "`Cabin`: nesse caso podemos remover o atributo _Cabin_ que refere-se a cabine em que o passageiro estava. Talvez se conseguíssemos relacionar a cabine com a posição dentro do navio, poderíamos ter algum tipo de informação (mas a base não tem nenhuma informação que permita esse tipo de análise). Mas dada a quantidade de dados válidos e a não relevância do atributo, podemos excluí-lo. \n",
        "\n",
        "`Age`: Remover este atributo é mais complicado. A idade é uma informação relevante para o processo de classificação. Remover os dados faria com que eliminássemos quase 200 instâncias, aproximadamente 20% da base. Nesse caso a gente deve pensar em outra abordagem. \n",
        "\n",
        "A documentação do pandas possui [um artigo](https://pandas.pydata.org/pandas-docs/stable/user_guide/missing_data.html) falando somente sobre dados ausentes. É possível identificar e aplicar algumas métricas de substituição de valores.  Vamos usar o método de substituir os valores ausentes pela média da coluna. Essa é uma abordagem muito simples. Poderíamos utilizar algo mais elaborado. Fica como exercício a parte. "
      ]
    },
    {
      "cell_type": "code",
      "execution_count": 33,
      "metadata": {
        "colab": {
          "base_uri": "https://localhost:8080/",
          "height": 204
        },
        "id": "Qb-WojJmUym6",
        "outputId": "3c42b6f4-f5e5-42ab-e9c4-8c7720c8cffd"
      },
      "outputs": [
        {
          "data": {
            "text/html": [
              "<div>\n",
              "<style scoped>\n",
              "    .dataframe tbody tr th:only-of-type {\n",
              "        vertical-align: middle;\n",
              "    }\n",
              "\n",
              "    .dataframe tbody tr th {\n",
              "        vertical-align: top;\n",
              "    }\n",
              "\n",
              "    .dataframe thead th {\n",
              "        text-align: right;\n",
              "    }\n",
              "</style>\n",
              "<table border=\"1\" class=\"dataframe\">\n",
              "  <thead>\n",
              "    <tr style=\"text-align: right;\">\n",
              "      <th></th>\n",
              "      <th>Survived</th>\n",
              "      <th>Pclass</th>\n",
              "      <th>Sex</th>\n",
              "      <th>Age</th>\n",
              "      <th>SibSp</th>\n",
              "      <th>Parch</th>\n",
              "      <th>Fare</th>\n",
              "      <th>Embarked</th>\n",
              "    </tr>\n",
              "  </thead>\n",
              "  <tbody>\n",
              "    <tr>\n",
              "      <th>0</th>\n",
              "      <td>0</td>\n",
              "      <td>3</td>\n",
              "      <td>male</td>\n",
              "      <td>22.0</td>\n",
              "      <td>1</td>\n",
              "      <td>0</td>\n",
              "      <td>7.2500</td>\n",
              "      <td>S</td>\n",
              "    </tr>\n",
              "    <tr>\n",
              "      <th>1</th>\n",
              "      <td>1</td>\n",
              "      <td>1</td>\n",
              "      <td>female</td>\n",
              "      <td>38.0</td>\n",
              "      <td>1</td>\n",
              "      <td>0</td>\n",
              "      <td>71.2833</td>\n",
              "      <td>C</td>\n",
              "    </tr>\n",
              "    <tr>\n",
              "      <th>2</th>\n",
              "      <td>1</td>\n",
              "      <td>3</td>\n",
              "      <td>female</td>\n",
              "      <td>26.0</td>\n",
              "      <td>0</td>\n",
              "      <td>0</td>\n",
              "      <td>7.9250</td>\n",
              "      <td>S</td>\n",
              "    </tr>\n",
              "    <tr>\n",
              "      <th>3</th>\n",
              "      <td>1</td>\n",
              "      <td>1</td>\n",
              "      <td>female</td>\n",
              "      <td>35.0</td>\n",
              "      <td>1</td>\n",
              "      <td>0</td>\n",
              "      <td>53.1000</td>\n",
              "      <td>S</td>\n",
              "    </tr>\n",
              "    <tr>\n",
              "      <th>4</th>\n",
              "      <td>0</td>\n",
              "      <td>3</td>\n",
              "      <td>male</td>\n",
              "      <td>35.0</td>\n",
              "      <td>0</td>\n",
              "      <td>0</td>\n",
              "      <td>8.0500</td>\n",
              "      <td>S</td>\n",
              "    </tr>\n",
              "  </tbody>\n",
              "</table>\n",
              "</div>"
            ],
            "text/plain": [
              "   Survived  Pclass     Sex   Age  SibSp  Parch     Fare Embarked\n",
              "0         0       3    male  22.0      1      0   7.2500        S\n",
              "1         1       1  female  38.0      1      0  71.2833        C\n",
              "2         1       3  female  26.0      0      0   7.9250        S\n",
              "3         1       1  female  35.0      1      0  53.1000        S\n",
              "4         0       3    male  35.0      0      0   8.0500        S"
            ]
          },
          "execution_count": 33,
          "metadata": {},
          "output_type": "execute_result"
        }
      ],
      "source": [
        "# Removendo a columa Cabin\n",
        "\n",
        "titanic_dataset = titanic_dataset.drop(columns=['Cabin'])\n",
        "titanic_dataset.head()"
      ]
    },
    {
      "cell_type": "code",
      "execution_count": 34,
      "metadata": {
        "id": "thyizqqOU8w-",
        "outputId": "aad13181-7d10-4f81-eef7-932c403f3c76"
      },
      "outputs": [
        {
          "data": {
            "text/html": [
              "<div>\n",
              "<style scoped>\n",
              "    .dataframe tbody tr th:only-of-type {\n",
              "        vertical-align: middle;\n",
              "    }\n",
              "\n",
              "    .dataframe tbody tr th {\n",
              "        vertical-align: top;\n",
              "    }\n",
              "\n",
              "    .dataframe thead th {\n",
              "        text-align: right;\n",
              "    }\n",
              "</style>\n",
              "<table border=\"1\" class=\"dataframe\">\n",
              "  <thead>\n",
              "    <tr style=\"text-align: right;\">\n",
              "      <th></th>\n",
              "      <th>Survived</th>\n",
              "      <th>Pclass</th>\n",
              "      <th>Sex</th>\n",
              "      <th>Age</th>\n",
              "      <th>SibSp</th>\n",
              "      <th>Parch</th>\n",
              "      <th>Fare</th>\n",
              "      <th>Embarked</th>\n",
              "    </tr>\n",
              "  </thead>\n",
              "  <tbody>\n",
              "    <tr>\n",
              "      <th>0</th>\n",
              "      <td>0</td>\n",
              "      <td>3</td>\n",
              "      <td>male</td>\n",
              "      <td>22.0</td>\n",
              "      <td>1</td>\n",
              "      <td>0</td>\n",
              "      <td>7.2500</td>\n",
              "      <td>S</td>\n",
              "    </tr>\n",
              "    <tr>\n",
              "      <th>1</th>\n",
              "      <td>1</td>\n",
              "      <td>1</td>\n",
              "      <td>female</td>\n",
              "      <td>38.0</td>\n",
              "      <td>1</td>\n",
              "      <td>0</td>\n",
              "      <td>71.2833</td>\n",
              "      <td>C</td>\n",
              "    </tr>\n",
              "    <tr>\n",
              "      <th>2</th>\n",
              "      <td>1</td>\n",
              "      <td>3</td>\n",
              "      <td>female</td>\n",
              "      <td>26.0</td>\n",
              "      <td>0</td>\n",
              "      <td>0</td>\n",
              "      <td>7.9250</td>\n",
              "      <td>S</td>\n",
              "    </tr>\n",
              "    <tr>\n",
              "      <th>3</th>\n",
              "      <td>1</td>\n",
              "      <td>1</td>\n",
              "      <td>female</td>\n",
              "      <td>35.0</td>\n",
              "      <td>1</td>\n",
              "      <td>0</td>\n",
              "      <td>53.1000</td>\n",
              "      <td>S</td>\n",
              "    </tr>\n",
              "    <tr>\n",
              "      <th>4</th>\n",
              "      <td>0</td>\n",
              "      <td>3</td>\n",
              "      <td>male</td>\n",
              "      <td>35.0</td>\n",
              "      <td>0</td>\n",
              "      <td>0</td>\n",
              "      <td>8.0500</td>\n",
              "      <td>S</td>\n",
              "    </tr>\n",
              "  </tbody>\n",
              "</table>\n",
              "</div>"
            ],
            "text/plain": [
              "   Survived  Pclass     Sex   Age  SibSp  Parch     Fare Embarked\n",
              "0         0       3    male  22.0      1      0   7.2500        S\n",
              "1         1       1  female  38.0      1      0  71.2833        C\n",
              "2         1       3  female  26.0      0      0   7.9250        S\n",
              "3         1       1  female  35.0      1      0  53.1000        S\n",
              "4         0       3    male  35.0      0      0   8.0500        S"
            ]
          },
          "execution_count": 34,
          "metadata": {},
          "output_type": "execute_result"
        }
      ],
      "source": [
        "# Substituindo os valores ausentes pela média da coluna \n",
        "\n",
        "titanic_dataset['Age'] = titanic_dataset['Age'].fillna(titanic_dataset['Age'].mean())\n",
        "titanic_dataset.head()"
      ]
    },
    {
      "cell_type": "code",
      "execution_count": 35,
      "metadata": {
        "colab": {
          "base_uri": "https://localhost:8080/",
          "height": 323
        },
        "id": "XiHxRcRMVUW5",
        "outputId": "ea72b24b-bb7e-4338-b63b-8e2f3d3a2847"
      },
      "outputs": [
        {
          "data": {
            "text/plain": [
              "<AxesSubplot:>"
            ]
          },
          "execution_count": 35,
          "metadata": {},
          "output_type": "execute_result"
        },
        {
          "data": {
            "image/png": "[encoded data removed]",
            "text/plain": [
              "<Figure size 432x288 with 1 Axes>"
            ]
          },
          "metadata": {
            "needs_background": "light"
          },
          "output_type": "display_data"
        }
      ],
      "source": [
        "# Imprimindo novamente o gráfico \n",
        "count_ = titanic_dataset.count()\n",
        "count_.plot(kind='bar',color='grey')"
      ]
    },
    {
      "cell_type": "markdown",
      "metadata": {
        "id": "tDzX9lVmVnsz"
      },
      "source": [
        "### Verificar dados incosistentes, redundantes e com ruído.\n",
        "\n",
        "O passo seguinte é fazer a análise em cima de dados incosistentes, ruídos e redundantes. \n",
        "\n",
        "O pandas já possui um método que permite eliminar dados duplicados. No entanto, se aplicarmos ele a esta base, pode ser que muitos dados iguais mas não necessariamente é um problema de duplicidade. Como removemos todos os dados que de alguma forma identificava o passageiro, a duplicidade pode ser de fato por conta de um padrão que é comum na base. Sendo assim, vamos carregar temporariamente a base original e fazer a verificação de duplicidade nesta.\n",
        "\n"
      ]
    },
    {
      "cell_type": "code",
      "execution_count": 36,
      "metadata": {
        "colab": {
          "base_uri": "https://localhost:8080/"
        },
        "id": "IBn_O3AbZADU",
        "outputId": "853b8d89-4f79-4d98-c0fb-4719b4550e20"
      },
      "outputs": [
        {
          "data": {
            "text/plain": [
              "(0, 12)"
            ]
          },
          "execution_count": 36,
          "metadata": {},
          "output_type": "execute_result"
        }
      ],
      "source": [
        "dataframe_temp = pd.read_csv(\"../datasets/TitanicDataset.csv\")\n",
        "duplicated_rows = dataframe_temp[dataframe_temp.duplicated(keep='last')]\n",
        "duplicated_rows.shape"
      ]
    },
    {
      "cell_type": "markdown",
      "metadata": {
        "id": "0ySijszsZJQM"
      },
      "source": [
        "Observe que os dados originais não possuem instâncias duplicadas. \n",
        "\n",
        "A base pode apresentar redudância de atributos a nível de atributos. Pelo contexto do atributos, não foram identificadas redudâncias. \n",
        "\n",
        "Podemos olhar a partir da correlação dos atributos, usando a matriz de correlação extraída no último laboratório, temos:"
      ]
    },
    {
      "cell_type": "code",
      "execution_count": 37,
      "metadata": {
        "colab": {
          "base_uri": "https://localhost:8080/",
          "height": 286
        },
        "id": "q7RYyxqmWGt4",
        "outputId": "87627380-e979-4d9c-8d21-de4ce0a4bb7c"
      },
      "outputs": [
        {
          "data": {
            "text/plain": [
              "<AxesSubplot:>"
            ]
          },
          "execution_count": 37,
          "metadata": {},
          "output_type": "execute_result"
        },
        {
          "data": {
            "image/png": "[encoded data removed]",
            "text/plain": [
              "<Figure size 432x288 with 2 Axes>"
            ]
          },
          "metadata": {
            "needs_background": "light"
          },
          "output_type": "display_data"
        }
      ],
      "source": [
        "titanic_corr = titanic_dataset[['Age','SibSp','Parch', 'Fare']].corr()\n",
        "sns.heatmap(titanic_corr, xticklabels=titanic_corr.columns, yticklabels=titanic_corr.columns, annot=True)"
      ]
    },
    {
      "cell_type": "markdown",
      "metadata": {
        "id": "hxmaPwtcZ4hW"
      },
      "source": [
        "Nenhum atributo numérico tem uma correlação muito forte. Sendo assim, não vamos remover nenhum atributo. \n",
        "\n",
        "Em relação a dados inconsistentes e ruídos, podemos analisar brevemente o boxplot dos atributos. Se analisarmos estes gráficos, podemos ver alguns outliers, principalmente nos atributos _Age_ e _Fare_."
      ]
    },
    {
      "cell_type": "code",
      "execution_count": 38,
      "metadata": {
        "colab": {
          "base_uri": "https://localhost:8080/",
          "height": 296
        },
        "id": "B26LLz22Z35t",
        "outputId": "a4038de6-bfc4-4d61-d139-f7bafe4cf4c8"
      },
      "outputs": [
        {
          "data": {
            "text/plain": [
              "<AxesSubplot:xlabel='Age'>"
            ]
          },
          "execution_count": 38,
          "metadata": {},
          "output_type": "execute_result"
        },
        {
          "data": {
            "image/png": "[encoded data removed]",
            "text/plain": [
              "<Figure size 432x288 with 1 Axes>"
            ]
          },
          "metadata": {
            "needs_background": "light"
          },
          "output_type": "display_data"
        }
      ],
      "source": [
        "sns.boxplot(x=titanic_dataset['Age'])"
      ]
    },
    {
      "cell_type": "code",
      "execution_count": 39,
      "metadata": {
        "colab": {
          "base_uri": "https://localhost:8080/",
          "height": 296
        },
        "id": "KnzdoWgza5Im",
        "outputId": "3a018376-58bc-46c6-dd29-0b71387e1013"
      },
      "outputs": [
        {
          "data": {
            "text/plain": [
              "<AxesSubplot:xlabel='Fare'>"
            ]
          },
          "execution_count": 39,
          "metadata": {},
          "output_type": "execute_result"
        },
        {
          "data": {
            "image/png": "[encoded data removed]",
            "text/plain": [
              "<Figure size 432x288 with 1 Axes>"
            ]
          },
          "metadata": {
            "needs_background": "light"
          },
          "output_type": "display_data"
        }
      ],
      "source": [
        "sns.boxplot(x=titanic_dataset['Fare'])"
      ]
    },
    {
      "cell_type": "markdown",
      "metadata": {
        "id": "KxBQnDFKhn7Q"
      },
      "source": [
        "Podemos listar os valores que foram considerados outliers a partir do método _boxplot_stats_ do _matplotlib_. Vamos dar uma olhada nos valores de outliers dos dois casos. "
      ]
    },
    {
      "cell_type": "code",
      "execution_count": 40,
      "metadata": {
        "id": "xI37XJKWgD8q"
      },
      "outputs": [
        {
          "name": "stdout",
          "output_type": "stream",
          "text": [
            "66 valores como outliers de Age: [2.0, 2.0, 0.83, 2.0, 1.0, 1.0, 1.0, 2.0, 2.0, 0.92, 2.0, 1.0, 1.0, 0.75, 2.0, 2.0, 2.0, 0.75, 0.67, 1.0, 0.42, 2.0, 1.0, 0.83, 58.0, 55.0, 66.0, 65.0, 59.0, 71.0, 70.5, 55.5, 61.0, 56.0, 58.0, 59.0, 62.0, 58.0, 63.0, 65.0, 61.0, 60.0, 64.0, 65.0, 56.0, 63.0, 58.0, 55.0, 71.0, 64.0, 62.0, 62.0, 60.0, 61.0, 57.0, 80.0, 56.0, 58.0, 70.0, 60.0, 60.0, 70.0, 57.0, 62.0, 74.0, 56.0]\n"
          ]
        }
      ],
      "source": [
        "outliers_age = [y for stat in boxplot_stats(titanic_dataset['Age']) for y in stat['fliers']]\n",
        "print(\"%i valores como outliers de Age: %s\" % (len(outliers_age), outliers_age))"
      ]
    },
    {
      "cell_type": "code",
      "execution_count": 41,
      "metadata": {
        "id": "_8tDeeUAiBes"
      },
      "outputs": [
        {
          "name": "stdout",
          "output_type": "stream",
          "text": [
            "116 valores como outliers de Fare: [71.2833, 263.0, 146.5208, 82.1708, 76.7292, 80.0, 83.475, 73.5, 263.0, 77.2875, 247.5208, 73.5, 77.2875, 79.2, 66.6, 69.55, 69.55, 146.5208, 69.55, 113.275, 76.2917, 90.0, 83.475, 90.0, 79.2, 86.5, 512.3292, 79.65, 153.4625, 135.6333, 77.9583, 78.85, 91.0792, 151.55, 247.5208, 151.55, 110.8833, 108.9, 83.1583, 262.375, 164.8667, 134.5, 69.55, 135.6333, 153.4625, 133.65, 66.6, 134.5, 263.0, 75.25, 69.3, 135.6333, 82.1708, 211.5, 227.525, 73.5, 120.0, 113.275, 90.0, 120.0, 263.0, 81.8583, 89.1042, 91.0792, 90.0, 78.2667, 151.55, 86.5, 108.9, 93.5, 221.7792, 106.425, 71.0, 106.425, 110.8833, 227.525, 79.65, 110.8833, 79.65, 79.2, 78.2667, 153.4625, 77.9583, 69.3, 76.7292, 73.5, 113.275, 133.65, 73.5, 512.3292, 76.7292, 211.3375, 110.8833, 227.525, 151.55, 227.525, 211.3375, 512.3292, 78.85, 262.375, 71.0, 86.5, 120.0, 77.9583, 211.3375, 79.2, 69.55, 120.0, 93.5, 80.0, 83.1583, 69.55, 89.1042, 164.8667, 69.55, 83.1583]\n"
          ]
        }
      ],
      "source": [
        "outliers_fare = [y for stat in boxplot_stats(titanic_dataset['Fare']) for y in stat['fliers']]\n",
        "print(\"%i valores como outliers de Fare: %s\" % (len(outliers_fare), outliers_fare))"
      ]
    },
    {
      "cell_type": "markdown",
      "metadata": {
        "id": "RR27j-kei5gh"
      },
      "source": [
        "Uma ação que podemos tomar com esses valores é sua remoção da base de dados. No entanto, vamos deixar para fazer isso quando estivermos trabalhando com os modelos de Machine Learnig. Só assim saberemos se a retirada dessas instâncias implicará em algum projuízo para o processo de aprendizagem. "
      ]
    },
    {
      "cell_type": "markdown",
      "metadata": {
        "id": "z5puMpVpjtrF"
      },
      "source": [
        "### Fazer as transformações dos dados, se necessário.\n",
        "\n",
        "Para finalizar essa primeira parte de Preparação dos Dados, precisamos fazer as transformações de dados necessárias. Como vimos no guia de estudo, podemos transformar dados numéricos em categóricos ou vice-versa. Além disso, podemos trabalhar com a escala e o intervalo dos dados. \n",
        "\n",
        "Vamos analisar a base de dados resultante dos processo anteriores. "
      ]
    },
    {
      "cell_type": "code",
      "execution_count": 42,
      "metadata": {
        "colab": {
          "base_uri": "https://localhost:8080/",
          "height": 204
        },
        "id": "tRFxK-AtkDfq",
        "outputId": "835b1b03-c76c-44f2-b2bc-2f2f3c56d892"
      },
      "outputs": [
        {
          "data": {
            "text/html": [
              "<div>\n",
              "<style scoped>\n",
              "    .dataframe tbody tr th:only-of-type {\n",
              "        vertical-align: middle;\n",
              "    }\n",
              "\n",
              "    .dataframe tbody tr th {\n",
              "        vertical-align: top;\n",
              "    }\n",
              "\n",
              "    .dataframe thead th {\n",
              "        text-align: right;\n",
              "    }\n",
              "</style>\n",
              "<table border=\"1\" class=\"dataframe\">\n",
              "  <thead>\n",
              "    <tr style=\"text-align: right;\">\n",
              "      <th></th>\n",
              "      <th>Survived</th>\n",
              "      <th>Pclass</th>\n",
              "      <th>Sex</th>\n",
              "      <th>Age</th>\n",
              "      <th>SibSp</th>\n",
              "      <th>Parch</th>\n",
              "      <th>Fare</th>\n",
              "      <th>Embarked</th>\n",
              "    </tr>\n",
              "  </thead>\n",
              "  <tbody>\n",
              "    <tr>\n",
              "      <th>0</th>\n",
              "      <td>0</td>\n",
              "      <td>3</td>\n",
              "      <td>male</td>\n",
              "      <td>22.0</td>\n",
              "      <td>1</td>\n",
              "      <td>0</td>\n",
              "      <td>7.2500</td>\n",
              "      <td>S</td>\n",
              "    </tr>\n",
              "    <tr>\n",
              "      <th>1</th>\n",
              "      <td>1</td>\n",
              "      <td>1</td>\n",
              "      <td>female</td>\n",
              "      <td>38.0</td>\n",
              "      <td>1</td>\n",
              "      <td>0</td>\n",
              "      <td>71.2833</td>\n",
              "      <td>C</td>\n",
              "    </tr>\n",
              "    <tr>\n",
              "      <th>2</th>\n",
              "      <td>1</td>\n",
              "      <td>3</td>\n",
              "      <td>female</td>\n",
              "      <td>26.0</td>\n",
              "      <td>0</td>\n",
              "      <td>0</td>\n",
              "      <td>7.9250</td>\n",
              "      <td>S</td>\n",
              "    </tr>\n",
              "    <tr>\n",
              "      <th>3</th>\n",
              "      <td>1</td>\n",
              "      <td>1</td>\n",
              "      <td>female</td>\n",
              "      <td>35.0</td>\n",
              "      <td>1</td>\n",
              "      <td>0</td>\n",
              "      <td>53.1000</td>\n",
              "      <td>S</td>\n",
              "    </tr>\n",
              "    <tr>\n",
              "      <th>4</th>\n",
              "      <td>0</td>\n",
              "      <td>3</td>\n",
              "      <td>male</td>\n",
              "      <td>35.0</td>\n",
              "      <td>0</td>\n",
              "      <td>0</td>\n",
              "      <td>8.0500</td>\n",
              "      <td>S</td>\n",
              "    </tr>\n",
              "  </tbody>\n",
              "</table>\n",
              "</div>"
            ],
            "text/plain": [
              "   Survived  Pclass     Sex   Age  SibSp  Parch     Fare Embarked\n",
              "0         0       3    male  22.0      1      0   7.2500        S\n",
              "1         1       1  female  38.0      1      0  71.2833        C\n",
              "2         1       3  female  26.0      0      0   7.9250        S\n",
              "3         1       1  female  35.0      1      0  53.1000        S\n",
              "4         0       3    male  35.0      0      0   8.0500        S"
            ]
          },
          "execution_count": 42,
          "metadata": {},
          "output_type": "execute_result"
        }
      ],
      "source": [
        "titanic_dataset.head()"
      ]
    },
    {
      "cell_type": "markdown",
      "metadata": {
        "id": "zDBkGFK2kTrw"
      },
      "source": [
        "**Quais alterações podemos fazer nos dados?**\n",
        "\n",
        "* Os campos _Sex_ e _Embarked_ são categóricos e podems ser transformados em dados numéricos. No entanto, nenhum dos dois tem relação de ordem, logo devemos criar atributos novos para representar essa informação;\n",
        "* O Campo _PClass_ também é um campo categórico. No entanto, não vamos precisar fazer a transformação anterior porque existe uma relação de ordem em sua informação;\n",
        "* A escala do campo _Fare_ é muito grande se comparada com os demais dados. Logo, podemos normalizar os valores para reduzir essa diferença;\n",
        "* O atributo _Survived_ é categórico mas ele será nossa atributo alvo. Vamos manter dessa forma para que seja utilizado de forma adequado nos modelos de classificação. \n",
        "* O campo _Age_ pode ser discretizado e transformado em um atributo qualitativo. Lembre-se que algoritmos de classificação trabalham melhor com esse tipo de atributo. \n",
        "\n",
        "Vamos usar o pandas para aplicar essas transformações nos dados. "
      ]
    },
    {
      "cell_type": "markdown",
      "metadata": {
        "id": "hjytqkKEnnhz"
      },
      "source": [
        "_Transformando os campos `Sex` e `Embarked`_\n",
        "\n",
        "\n",
        "Para isso vamos utilizar a função *get_dummie* do pandas. Essa função pega os valores categóricos e transformam em colunas. "
      ]
    },
    {
      "cell_type": "code",
      "execution_count": 43,
      "metadata": {
        "id": "PkAtp2RIn79V"
      },
      "outputs": [],
      "source": [
        "titanic_dataset = pd.get_dummies(titanic_dataset, columns=[\"Sex\",\"Embarked\"])"
      ]
    },
    {
      "cell_type": "code",
      "execution_count": 44,
      "metadata": {
        "colab": {
          "base_uri": "https://localhost:8080/",
          "height": 204
        },
        "id": "TQSuRpkuoKzb",
        "outputId": "2f49063c-9fb4-43d5-d1f0-227c1671e67a"
      },
      "outputs": [
        {
          "data": {
            "text/html": [
              "<div>\n",
              "<style scoped>\n",
              "    .dataframe tbody tr th:only-of-type {\n",
              "        vertical-align: middle;\n",
              "    }\n",
              "\n",
              "    .dataframe tbody tr th {\n",
              "        vertical-align: top;\n",
              "    }\n",
              "\n",
              "    .dataframe thead th {\n",
              "        text-align: right;\n",
              "    }\n",
              "</style>\n",
              "<table border=\"1\" class=\"dataframe\">\n",
              "  <thead>\n",
              "    <tr style=\"text-align: right;\">\n",
              "      <th></th>\n",
              "      <th>Survived</th>\n",
              "      <th>Pclass</th>\n",
              "      <th>Age</th>\n",
              "      <th>SibSp</th>\n",
              "      <th>Parch</th>\n",
              "      <th>Fare</th>\n",
              "      <th>Sex_female</th>\n",
              "      <th>Sex_male</th>\n",
              "      <th>Embarked_C</th>\n",
              "      <th>Embarked_Q</th>\n",
              "      <th>Embarked_S</th>\n",
              "    </tr>\n",
              "  </thead>\n",
              "  <tbody>\n",
              "    <tr>\n",
              "      <th>0</th>\n",
              "      <td>0</td>\n",
              "      <td>3</td>\n",
              "      <td>22.0</td>\n",
              "      <td>1</td>\n",
              "      <td>0</td>\n",
              "      <td>7.2500</td>\n",
              "      <td>0</td>\n",
              "      <td>1</td>\n",
              "      <td>0</td>\n",
              "      <td>0</td>\n",
              "      <td>1</td>\n",
              "    </tr>\n",
              "    <tr>\n",
              "      <th>1</th>\n",
              "      <td>1</td>\n",
              "      <td>1</td>\n",
              "      <td>38.0</td>\n",
              "      <td>1</td>\n",
              "      <td>0</td>\n",
              "      <td>71.2833</td>\n",
              "      <td>1</td>\n",
              "      <td>0</td>\n",
              "      <td>1</td>\n",
              "      <td>0</td>\n",
              "      <td>0</td>\n",
              "    </tr>\n",
              "    <tr>\n",
              "      <th>2</th>\n",
              "      <td>1</td>\n",
              "      <td>3</td>\n",
              "      <td>26.0</td>\n",
              "      <td>0</td>\n",
              "      <td>0</td>\n",
              "      <td>7.9250</td>\n",
              "      <td>1</td>\n",
              "      <td>0</td>\n",
              "      <td>0</td>\n",
              "      <td>0</td>\n",
              "      <td>1</td>\n",
              "    </tr>\n",
              "    <tr>\n",
              "      <th>3</th>\n",
              "      <td>1</td>\n",
              "      <td>1</td>\n",
              "      <td>35.0</td>\n",
              "      <td>1</td>\n",
              "      <td>0</td>\n",
              "      <td>53.1000</td>\n",
              "      <td>1</td>\n",
              "      <td>0</td>\n",
              "      <td>0</td>\n",
              "      <td>0</td>\n",
              "      <td>1</td>\n",
              "    </tr>\n",
              "    <tr>\n",
              "      <th>4</th>\n",
              "      <td>0</td>\n",
              "      <td>3</td>\n",
              "      <td>35.0</td>\n",
              "      <td>0</td>\n",
              "      <td>0</td>\n",
              "      <td>8.0500</td>\n",
              "      <td>0</td>\n",
              "      <td>1</td>\n",
              "      <td>0</td>\n",
              "      <td>0</td>\n",
              "      <td>1</td>\n",
              "    </tr>\n",
              "  </tbody>\n",
              "</table>\n",
              "</div>"
            ],
            "text/plain": [
              "   Survived  Pclass   Age  SibSp  Parch     Fare  Sex_female  Sex_male  \\\n",
              "0         0       3  22.0      1      0   7.2500           0         1   \n",
              "1         1       1  38.0      1      0  71.2833           1         0   \n",
              "2         1       3  26.0      0      0   7.9250           1         0   \n",
              "3         1       1  35.0      1      0  53.1000           1         0   \n",
              "4         0       3  35.0      0      0   8.0500           0         1   \n",
              "\n",
              "   Embarked_C  Embarked_Q  Embarked_S  \n",
              "0           0           0           1  \n",
              "1           1           0           0  \n",
              "2           0           0           1  \n",
              "3           0           0           1  \n",
              "4           0           0           1  "
            ]
          },
          "execution_count": 44,
          "metadata": {},
          "output_type": "execute_result"
        }
      ],
      "source": [
        "titanic_dataset.head()"
      ]
    },
    {
      "cell_type": "markdown",
      "metadata": {
        "id": "Wc4lWLAzovyh"
      },
      "source": [
        "Um bom guia sobre transformação de atributos categóricos com pandas pode ser encontrado [neste link](https://pbpython.com/categorical-encoding.html)"
      ]
    },
    {
      "cell_type": "markdown",
      "metadata": {
        "id": "mA2yhEp2opGY"
      },
      "source": [
        "_Normalizando o campo `Fare`_ \n",
        "\n",
        "\n",
        "Vamos utilizar o pacote _preprocessing_ do scikit-learn para essa tarefa. "
      ]
    },
    {
      "cell_type": "code",
      "execution_count": 45,
      "metadata": {
        "id": "MKLtVLA1q2ER"
      },
      "outputs": [],
      "source": [
        "# O primeiro passo é converter a coluna que será normalizada para float. \n",
        "# Para verificar os tipos das colunas use: titanic_dataset.dtypes \n",
        "\n",
        "float_array = titanic_dataset['Fare'].values"
      ]
    },
    {
      "cell_type": "code",
      "execution_count": 46,
      "metadata": {
        "id": "0nIbuRBBxws2"
      },
      "outputs": [],
      "source": [
        "# O segundo passo é criar o objeto min/max do preprocessing\n",
        "\n",
        "min_max_scaler = preprocessing.MinMaxScaler()\n",
        "scaled_array = min_max_scaler.fit_transform(float_array[:, np.newaxis])"
      ]
    },
    {
      "cell_type": "code",
      "execution_count": 47,
      "metadata": {
        "id": "iNjOC0Faxj6c"
      },
      "outputs": [],
      "source": [
        "# O terceiro passo é substituir os valores na base\n",
        "\n",
        "titanic_dataset['Fare'] = scaled_array"
      ]
    },
    {
      "cell_type": "code",
      "execution_count": 48,
      "metadata": {
        "colab": {
          "base_uri": "https://localhost:8080/",
          "height": 204
        },
        "id": "ky4ZHgm4rE_w",
        "outputId": "f44b8e1e-146e-4713-d102-808200ab7fae"
      },
      "outputs": [
        {
          "data": {
            "text/html": [
              "<div>\n",
              "<style scoped>\n",
              "    .dataframe tbody tr th:only-of-type {\n",
              "        vertical-align: middle;\n",
              "    }\n",
              "\n",
              "    .dataframe tbody tr th {\n",
              "        vertical-align: top;\n",
              "    }\n",
              "\n",
              "    .dataframe thead th {\n",
              "        text-align: right;\n",
              "    }\n",
              "</style>\n",
              "<table border=\"1\" class=\"dataframe\">\n",
              "  <thead>\n",
              "    <tr style=\"text-align: right;\">\n",
              "      <th></th>\n",
              "      <th>Survived</th>\n",
              "      <th>Pclass</th>\n",
              "      <th>Age</th>\n",
              "      <th>SibSp</th>\n",
              "      <th>Parch</th>\n",
              "      <th>Fare</th>\n",
              "      <th>Sex_female</th>\n",
              "      <th>Sex_male</th>\n",
              "      <th>Embarked_C</th>\n",
              "      <th>Embarked_Q</th>\n",
              "      <th>Embarked_S</th>\n",
              "    </tr>\n",
              "  </thead>\n",
              "  <tbody>\n",
              "    <tr>\n",
              "      <th>0</th>\n",
              "      <td>0</td>\n",
              "      <td>3</td>\n",
              "      <td>22.0</td>\n",
              "      <td>1</td>\n",
              "      <td>0</td>\n",
              "      <td>0.014151</td>\n",
              "      <td>0</td>\n",
              "      <td>1</td>\n",
              "      <td>0</td>\n",
              "      <td>0</td>\n",
              "      <td>1</td>\n",
              "    </tr>\n",
              "    <tr>\n",
              "      <th>1</th>\n",
              "      <td>1</td>\n",
              "      <td>1</td>\n",
              "      <td>38.0</td>\n",
              "      <td>1</td>\n",
              "      <td>0</td>\n",
              "      <td>0.139136</td>\n",
              "      <td>1</td>\n",
              "      <td>0</td>\n",
              "      <td>1</td>\n",
              "      <td>0</td>\n",
              "      <td>0</td>\n",
              "    </tr>\n",
              "    <tr>\n",
              "      <th>2</th>\n",
              "      <td>1</td>\n",
              "      <td>3</td>\n",
              "      <td>26.0</td>\n",
              "      <td>0</td>\n",
              "      <td>0</td>\n",
              "      <td>0.015469</td>\n",
              "      <td>1</td>\n",
              "      <td>0</td>\n",
              "      <td>0</td>\n",
              "      <td>0</td>\n",
              "      <td>1</td>\n",
              "    </tr>\n",
              "    <tr>\n",
              "      <th>3</th>\n",
              "      <td>1</td>\n",
              "      <td>1</td>\n",
              "      <td>35.0</td>\n",
              "      <td>1</td>\n",
              "      <td>0</td>\n",
              "      <td>0.103644</td>\n",
              "      <td>1</td>\n",
              "      <td>0</td>\n",
              "      <td>0</td>\n",
              "      <td>0</td>\n",
              "      <td>1</td>\n",
              "    </tr>\n",
              "    <tr>\n",
              "      <th>4</th>\n",
              "      <td>0</td>\n",
              "      <td>3</td>\n",
              "      <td>35.0</td>\n",
              "      <td>0</td>\n",
              "      <td>0</td>\n",
              "      <td>0.015713</td>\n",
              "      <td>0</td>\n",
              "      <td>1</td>\n",
              "      <td>0</td>\n",
              "      <td>0</td>\n",
              "      <td>1</td>\n",
              "    </tr>\n",
              "  </tbody>\n",
              "</table>\n",
              "</div>"
            ],
            "text/plain": [
              "   Survived  Pclass   Age  SibSp  Parch      Fare  Sex_female  Sex_male  \\\n",
              "0         0       3  22.0      1      0  0.014151           0         1   \n",
              "1         1       1  38.0      1      0  0.139136           1         0   \n",
              "2         1       3  26.0      0      0  0.015469           1         0   \n",
              "3         1       1  35.0      1      0  0.103644           1         0   \n",
              "4         0       3  35.0      0      0  0.015713           0         1   \n",
              "\n",
              "   Embarked_C  Embarked_Q  Embarked_S  \n",
              "0           0           0           1  \n",
              "1           1           0           0  \n",
              "2           0           0           1  \n",
              "3           0           0           1  \n",
              "4           0           0           1  "
            ]
          },
          "execution_count": 48,
          "metadata": {},
          "output_type": "execute_result"
        }
      ],
      "source": [
        "titanic_dataset.head()"
      ]
    },
    {
      "cell_type": "markdown",
      "metadata": {
        "id": "v8sWw88Jzwcc"
      },
      "source": [
        "_Convertendo `idade` em qualitativo_\n",
        "\n",
        "O passo seguinte é transformar o campo quantitativo de idade em qualitativo. Um dos métodos que permite fazer isso é _cut_ do pandas. Detalhes deste método pode ser encontrado [neste link](https://pandas.pydata.org/pandas-docs/stable/reference/api/pandas.cut.html). \n",
        "\n",
        "Vamos usar a seguinte classificação de idades: Criança (0-12 anos), adolescente (13-18 anos), adulto (19-59 anos) and idoso (acima de 60 anos).\n",
        "\n",
        "Estou usando os parâmetros _bins_, _labels_ e _right_ do método _cut_. O primeiro diz o intervalo em que a discretização será feita. O segundo indica o label associado a cada intervalo e o terceiro indica que o lado direito vai ser aberto e o esquerdo fechado. Sendo assim, temos os seguintes intervalos: \n",
        "\n",
        "* **[0, 13)**  $0 \\leq x < 13$ **(criança)**\n",
        "* **[13, 19):** $13 \\leq x < 19$ **(adolescente)**\n",
        "* **[19, 60):** $ 19 \\leq x < 60$ **(adulto)**\n",
        "* **[60, infinito):** $ x \\geq 60$ **(idoso)**\n"
      ]
    },
    {
      "cell_type": "code",
      "execution_count": 49,
      "metadata": {
        "id": "imWhjJi0pu6M"
      },
      "outputs": [
        {
          "data": {
            "text/html": [
              "<div>\n",
              "<style scoped>\n",
              "    .dataframe tbody tr th:only-of-type {\n",
              "        vertical-align: middle;\n",
              "    }\n",
              "\n",
              "    .dataframe tbody tr th {\n",
              "        vertical-align: top;\n",
              "    }\n",
              "\n",
              "    .dataframe thead th {\n",
              "        text-align: right;\n",
              "    }\n",
              "</style>\n",
              "<table border=\"1\" class=\"dataframe\">\n",
              "  <thead>\n",
              "    <tr style=\"text-align: right;\">\n",
              "      <th></th>\n",
              "      <th>Survived</th>\n",
              "      <th>Pclass</th>\n",
              "      <th>Age</th>\n",
              "      <th>SibSp</th>\n",
              "      <th>Parch</th>\n",
              "      <th>Fare</th>\n",
              "      <th>Sex_female</th>\n",
              "      <th>Sex_male</th>\n",
              "      <th>Embarked_C</th>\n",
              "      <th>Embarked_Q</th>\n",
              "      <th>Embarked_S</th>\n",
              "    </tr>\n",
              "  </thead>\n",
              "  <tbody>\n",
              "    <tr>\n",
              "      <th>0</th>\n",
              "      <td>0</td>\n",
              "      <td>3</td>\n",
              "      <td>adulto</td>\n",
              "      <td>1</td>\n",
              "      <td>0</td>\n",
              "      <td>0.014151</td>\n",
              "      <td>0</td>\n",
              "      <td>1</td>\n",
              "      <td>0</td>\n",
              "      <td>0</td>\n",
              "      <td>1</td>\n",
              "    </tr>\n",
              "    <tr>\n",
              "      <th>1</th>\n",
              "      <td>1</td>\n",
              "      <td>1</td>\n",
              "      <td>adulto</td>\n",
              "      <td>1</td>\n",
              "      <td>0</td>\n",
              "      <td>0.139136</td>\n",
              "      <td>1</td>\n",
              "      <td>0</td>\n",
              "      <td>1</td>\n",
              "      <td>0</td>\n",
              "      <td>0</td>\n",
              "    </tr>\n",
              "    <tr>\n",
              "      <th>2</th>\n",
              "      <td>1</td>\n",
              "      <td>3</td>\n",
              "      <td>adulto</td>\n",
              "      <td>0</td>\n",
              "      <td>0</td>\n",
              "      <td>0.015469</td>\n",
              "      <td>1</td>\n",
              "      <td>0</td>\n",
              "      <td>0</td>\n",
              "      <td>0</td>\n",
              "      <td>1</td>\n",
              "    </tr>\n",
              "    <tr>\n",
              "      <th>3</th>\n",
              "      <td>1</td>\n",
              "      <td>1</td>\n",
              "      <td>adulto</td>\n",
              "      <td>1</td>\n",
              "      <td>0</td>\n",
              "      <td>0.103644</td>\n",
              "      <td>1</td>\n",
              "      <td>0</td>\n",
              "      <td>0</td>\n",
              "      <td>0</td>\n",
              "      <td>1</td>\n",
              "    </tr>\n",
              "    <tr>\n",
              "      <th>4</th>\n",
              "      <td>0</td>\n",
              "      <td>3</td>\n",
              "      <td>adulto</td>\n",
              "      <td>0</td>\n",
              "      <td>0</td>\n",
              "      <td>0.015713</td>\n",
              "      <td>0</td>\n",
              "      <td>1</td>\n",
              "      <td>0</td>\n",
              "      <td>0</td>\n",
              "      <td>1</td>\n",
              "    </tr>\n",
              "    <tr>\n",
              "      <th>5</th>\n",
              "      <td>0</td>\n",
              "      <td>3</td>\n",
              "      <td>adulto</td>\n",
              "      <td>0</td>\n",
              "      <td>0</td>\n",
              "      <td>0.016510</td>\n",
              "      <td>0</td>\n",
              "      <td>1</td>\n",
              "      <td>0</td>\n",
              "      <td>1</td>\n",
              "      <td>0</td>\n",
              "    </tr>\n",
              "    <tr>\n",
              "      <th>6</th>\n",
              "      <td>0</td>\n",
              "      <td>1</td>\n",
              "      <td>adulto</td>\n",
              "      <td>0</td>\n",
              "      <td>0</td>\n",
              "      <td>0.101229</td>\n",
              "      <td>0</td>\n",
              "      <td>1</td>\n",
              "      <td>0</td>\n",
              "      <td>0</td>\n",
              "      <td>1</td>\n",
              "    </tr>\n",
              "    <tr>\n",
              "      <th>7</th>\n",
              "      <td>0</td>\n",
              "      <td>3</td>\n",
              "      <td>criança</td>\n",
              "      <td>3</td>\n",
              "      <td>1</td>\n",
              "      <td>0.041136</td>\n",
              "      <td>0</td>\n",
              "      <td>1</td>\n",
              "      <td>0</td>\n",
              "      <td>0</td>\n",
              "      <td>1</td>\n",
              "    </tr>\n",
              "    <tr>\n",
              "      <th>8</th>\n",
              "      <td>1</td>\n",
              "      <td>3</td>\n",
              "      <td>adulto</td>\n",
              "      <td>0</td>\n",
              "      <td>2</td>\n",
              "      <td>0.021731</td>\n",
              "      <td>1</td>\n",
              "      <td>0</td>\n",
              "      <td>0</td>\n",
              "      <td>0</td>\n",
              "      <td>1</td>\n",
              "    </tr>\n",
              "    <tr>\n",
              "      <th>9</th>\n",
              "      <td>1</td>\n",
              "      <td>2</td>\n",
              "      <td>adolescente</td>\n",
              "      <td>1</td>\n",
              "      <td>0</td>\n",
              "      <td>0.058694</td>\n",
              "      <td>1</td>\n",
              "      <td>0</td>\n",
              "      <td>1</td>\n",
              "      <td>0</td>\n",
              "      <td>0</td>\n",
              "    </tr>\n",
              "    <tr>\n",
              "      <th>10</th>\n",
              "      <td>1</td>\n",
              "      <td>3</td>\n",
              "      <td>criança</td>\n",
              "      <td>1</td>\n",
              "      <td>1</td>\n",
              "      <td>0.032596</td>\n",
              "      <td>1</td>\n",
              "      <td>0</td>\n",
              "      <td>0</td>\n",
              "      <td>0</td>\n",
              "      <td>1</td>\n",
              "    </tr>\n",
              "    <tr>\n",
              "      <th>11</th>\n",
              "      <td>1</td>\n",
              "      <td>1</td>\n",
              "      <td>adulto</td>\n",
              "      <td>0</td>\n",
              "      <td>0</td>\n",
              "      <td>0.051822</td>\n",
              "      <td>1</td>\n",
              "      <td>0</td>\n",
              "      <td>0</td>\n",
              "      <td>0</td>\n",
              "      <td>1</td>\n",
              "    </tr>\n",
              "    <tr>\n",
              "      <th>12</th>\n",
              "      <td>0</td>\n",
              "      <td>3</td>\n",
              "      <td>adulto</td>\n",
              "      <td>0</td>\n",
              "      <td>0</td>\n",
              "      <td>0.015713</td>\n",
              "      <td>0</td>\n",
              "      <td>1</td>\n",
              "      <td>0</td>\n",
              "      <td>0</td>\n",
              "      <td>1</td>\n",
              "    </tr>\n",
              "    <tr>\n",
              "      <th>13</th>\n",
              "      <td>0</td>\n",
              "      <td>3</td>\n",
              "      <td>adulto</td>\n",
              "      <td>1</td>\n",
              "      <td>5</td>\n",
              "      <td>0.061045</td>\n",
              "      <td>0</td>\n",
              "      <td>1</td>\n",
              "      <td>0</td>\n",
              "      <td>0</td>\n",
              "      <td>1</td>\n",
              "    </tr>\n",
              "    <tr>\n",
              "      <th>14</th>\n",
              "      <td>0</td>\n",
              "      <td>3</td>\n",
              "      <td>adolescente</td>\n",
              "      <td>0</td>\n",
              "      <td>0</td>\n",
              "      <td>0.015330</td>\n",
              "      <td>1</td>\n",
              "      <td>0</td>\n",
              "      <td>0</td>\n",
              "      <td>0</td>\n",
              "      <td>1</td>\n",
              "    </tr>\n",
              "    <tr>\n",
              "      <th>15</th>\n",
              "      <td>1</td>\n",
              "      <td>2</td>\n",
              "      <td>adulto</td>\n",
              "      <td>0</td>\n",
              "      <td>0</td>\n",
              "      <td>0.031230</td>\n",
              "      <td>1</td>\n",
              "      <td>0</td>\n",
              "      <td>0</td>\n",
              "      <td>0</td>\n",
              "      <td>1</td>\n",
              "    </tr>\n",
              "    <tr>\n",
              "      <th>16</th>\n",
              "      <td>0</td>\n",
              "      <td>3</td>\n",
              "      <td>criança</td>\n",
              "      <td>4</td>\n",
              "      <td>1</td>\n",
              "      <td>0.056848</td>\n",
              "      <td>0</td>\n",
              "      <td>1</td>\n",
              "      <td>0</td>\n",
              "      <td>1</td>\n",
              "      <td>0</td>\n",
              "    </tr>\n",
              "    <tr>\n",
              "      <th>17</th>\n",
              "      <td>1</td>\n",
              "      <td>2</td>\n",
              "      <td>adulto</td>\n",
              "      <td>0</td>\n",
              "      <td>0</td>\n",
              "      <td>0.025374</td>\n",
              "      <td>0</td>\n",
              "      <td>1</td>\n",
              "      <td>0</td>\n",
              "      <td>0</td>\n",
              "      <td>1</td>\n",
              "    </tr>\n",
              "    <tr>\n",
              "      <th>18</th>\n",
              "      <td>0</td>\n",
              "      <td>3</td>\n",
              "      <td>adulto</td>\n",
              "      <td>1</td>\n",
              "      <td>0</td>\n",
              "      <td>0.035134</td>\n",
              "      <td>1</td>\n",
              "      <td>0</td>\n",
              "      <td>0</td>\n",
              "      <td>0</td>\n",
              "      <td>1</td>\n",
              "    </tr>\n",
              "    <tr>\n",
              "      <th>19</th>\n",
              "      <td>1</td>\n",
              "      <td>3</td>\n",
              "      <td>adulto</td>\n",
              "      <td>0</td>\n",
              "      <td>0</td>\n",
              "      <td>0.014102</td>\n",
              "      <td>1</td>\n",
              "      <td>0</td>\n",
              "      <td>1</td>\n",
              "      <td>0</td>\n",
              "      <td>0</td>\n",
              "    </tr>\n",
              "  </tbody>\n",
              "</table>\n",
              "</div>"
            ],
            "text/plain": [
              "    Survived  Pclass          Age  SibSp  Parch      Fare  Sex_female  \\\n",
              "0          0       3       adulto      1      0  0.014151           0   \n",
              "1          1       1       adulto      1      0  0.139136           1   \n",
              "2          1       3       adulto      0      0  0.015469           1   \n",
              "3          1       1       adulto      1      0  0.103644           1   \n",
              "4          0       3       adulto      0      0  0.015713           0   \n",
              "5          0       3       adulto      0      0  0.016510           0   \n",
              "6          0       1       adulto      0      0  0.101229           0   \n",
              "7          0       3      criança      3      1  0.041136           0   \n",
              "8          1       3       adulto      0      2  0.021731           1   \n",
              "9          1       2  adolescente      1      0  0.058694           1   \n",
              "10         1       3      criança      1      1  0.032596           1   \n",
              "11         1       1       adulto      0      0  0.051822           1   \n",
              "12         0       3       adulto      0      0  0.015713           0   \n",
              "13         0       3       adulto      1      5  0.061045           0   \n",
              "14         0       3  adolescente      0      0  0.015330           1   \n",
              "15         1       2       adulto      0      0  0.031230           1   \n",
              "16         0       3      criança      4      1  0.056848           0   \n",
              "17         1       2       adulto      0      0  0.025374           0   \n",
              "18         0       3       adulto      1      0  0.035134           1   \n",
              "19         1       3       adulto      0      0  0.014102           1   \n",
              "\n",
              "    Sex_male  Embarked_C  Embarked_Q  Embarked_S  \n",
              "0          1           0           0           1  \n",
              "1          0           1           0           0  \n",
              "2          0           0           0           1  \n",
              "3          0           0           0           1  \n",
              "4          1           0           0           1  \n",
              "5          1           0           1           0  \n",
              "6          1           0           0           1  \n",
              "7          1           0           0           1  \n",
              "8          0           0           0           1  \n",
              "9          0           1           0           0  \n",
              "10         0           0           0           1  \n",
              "11         0           0           0           1  \n",
              "12         1           0           0           1  \n",
              "13         1           0           0           1  \n",
              "14         0           0           0           1  \n",
              "15         0           0           0           1  \n",
              "16         1           0           1           0  \n",
              "17         1           0           0           1  \n",
              "18         0           0           0           1  \n",
              "19         0           1           0           0  "
            ]
          },
          "execution_count": 49,
          "metadata": {},
          "output_type": "execute_result"
        }
      ],
      "source": [
        "titanic_dataset['Age'] = pd.cut(titanic_dataset['Age'],bins=[0,13,19,60,float(\"inf\")],right=False,labels=['criança','adolescente','adulto','idoso'])\n",
        "titanic_dataset.head(20)"
      ]
    },
    {
      "cell_type": "markdown",
      "metadata": {
        "id": "jVdhSw_PUBvG"
      },
      "source": [
        "Como transformamos a coluna **Age** em qualitativo, devemos transformar agora em valores. Como não existe um grau de importância entre as idades, vamos utilizar o método _dummie_ usado anteriormente. "
      ]
    },
    {
      "cell_type": "code",
      "execution_count": 50,
      "metadata": {
        "id": "z6h2bbMTUOCR"
      },
      "outputs": [
        {
          "data": {
            "text/html": [
              "<div>\n",
              "<style scoped>\n",
              "    .dataframe tbody tr th:only-of-type {\n",
              "        vertical-align: middle;\n",
              "    }\n",
              "\n",
              "    .dataframe tbody tr th {\n",
              "        vertical-align: top;\n",
              "    }\n",
              "\n",
              "    .dataframe thead th {\n",
              "        text-align: right;\n",
              "    }\n",
              "</style>\n",
              "<table border=\"1\" class=\"dataframe\">\n",
              "  <thead>\n",
              "    <tr style=\"text-align: right;\">\n",
              "      <th></th>\n",
              "      <th>Survived</th>\n",
              "      <th>Pclass</th>\n",
              "      <th>SibSp</th>\n",
              "      <th>Parch</th>\n",
              "      <th>Fare</th>\n",
              "      <th>Sex_female</th>\n",
              "      <th>Sex_male</th>\n",
              "      <th>Embarked_C</th>\n",
              "      <th>Embarked_Q</th>\n",
              "      <th>Embarked_S</th>\n",
              "      <th>Age_criança</th>\n",
              "      <th>Age_adolescente</th>\n",
              "      <th>Age_adulto</th>\n",
              "      <th>Age_idoso</th>\n",
              "    </tr>\n",
              "  </thead>\n",
              "  <tbody>\n",
              "    <tr>\n",
              "      <th>0</th>\n",
              "      <td>0</td>\n",
              "      <td>3</td>\n",
              "      <td>1</td>\n",
              "      <td>0</td>\n",
              "      <td>0.014151</td>\n",
              "      <td>0</td>\n",
              "      <td>1</td>\n",
              "      <td>0</td>\n",
              "      <td>0</td>\n",
              "      <td>1</td>\n",
              "      <td>0</td>\n",
              "      <td>0</td>\n",
              "      <td>1</td>\n",
              "      <td>0</td>\n",
              "    </tr>\n",
              "    <tr>\n",
              "      <th>1</th>\n",
              "      <td>1</td>\n",
              "      <td>1</td>\n",
              "      <td>1</td>\n",
              "      <td>0</td>\n",
              "      <td>0.139136</td>\n",
              "      <td>1</td>\n",
              "      <td>0</td>\n",
              "      <td>1</td>\n",
              "      <td>0</td>\n",
              "      <td>0</td>\n",
              "      <td>0</td>\n",
              "      <td>0</td>\n",
              "      <td>1</td>\n",
              "      <td>0</td>\n",
              "    </tr>\n",
              "    <tr>\n",
              "      <th>2</th>\n",
              "      <td>1</td>\n",
              "      <td>3</td>\n",
              "      <td>0</td>\n",
              "      <td>0</td>\n",
              "      <td>0.015469</td>\n",
              "      <td>1</td>\n",
              "      <td>0</td>\n",
              "      <td>0</td>\n",
              "      <td>0</td>\n",
              "      <td>1</td>\n",
              "      <td>0</td>\n",
              "      <td>0</td>\n",
              "      <td>1</td>\n",
              "      <td>0</td>\n",
              "    </tr>\n",
              "    <tr>\n",
              "      <th>3</th>\n",
              "      <td>1</td>\n",
              "      <td>1</td>\n",
              "      <td>1</td>\n",
              "      <td>0</td>\n",
              "      <td>0.103644</td>\n",
              "      <td>1</td>\n",
              "      <td>0</td>\n",
              "      <td>0</td>\n",
              "      <td>0</td>\n",
              "      <td>1</td>\n",
              "      <td>0</td>\n",
              "      <td>0</td>\n",
              "      <td>1</td>\n",
              "      <td>0</td>\n",
              "    </tr>\n",
              "    <tr>\n",
              "      <th>4</th>\n",
              "      <td>0</td>\n",
              "      <td>3</td>\n",
              "      <td>0</td>\n",
              "      <td>0</td>\n",
              "      <td>0.015713</td>\n",
              "      <td>0</td>\n",
              "      <td>1</td>\n",
              "      <td>0</td>\n",
              "      <td>0</td>\n",
              "      <td>1</td>\n",
              "      <td>0</td>\n",
              "      <td>0</td>\n",
              "      <td>1</td>\n",
              "      <td>0</td>\n",
              "    </tr>\n",
              "  </tbody>\n",
              "</table>\n",
              "</div>"
            ],
            "text/plain": [
              "   Survived  Pclass  SibSp  Parch      Fare  Sex_female  Sex_male  Embarked_C  \\\n",
              "0         0       3      1      0  0.014151           0         1           0   \n",
              "1         1       1      1      0  0.139136           1         0           1   \n",
              "2         1       3      0      0  0.015469           1         0           0   \n",
              "3         1       1      1      0  0.103644           1         0           0   \n",
              "4         0       3      0      0  0.015713           0         1           0   \n",
              "\n",
              "   Embarked_Q  Embarked_S  Age_criança  Age_adolescente  Age_adulto  Age_idoso  \n",
              "0           0           1            0                0           1          0  \n",
              "1           0           0            0                0           1          0  \n",
              "2           0           1            0                0           1          0  \n",
              "3           0           1            0                0           1          0  \n",
              "4           0           1            0                0           1          0  "
            ]
          },
          "execution_count": 50,
          "metadata": {},
          "output_type": "execute_result"
        }
      ],
      "source": [
        "titanic_dataset = pd.get_dummies(titanic_dataset, columns=[\"Age\"])\n",
        "titanic_dataset.head()"
      ]
    },
    {
      "cell_type": "markdown",
      "metadata": {},
      "source": [
        "## Transformando os dados da base de `Popularidade de Notícias`"
      ]
    },
    {
      "cell_type": "code",
      "execution_count": 52,
      "metadata": {},
      "outputs": [
        {
          "data": {
            "text/html": [
              "<div>\n",
              "<style scoped>\n",
              "    .dataframe tbody tr th:only-of-type {\n",
              "        vertical-align: middle;\n",
              "    }\n",
              "\n",
              "    .dataframe tbody tr th {\n",
              "        vertical-align: top;\n",
              "    }\n",
              "\n",
              "    .dataframe thead th {\n",
              "        text-align: right;\n",
              "    }\n",
              "</style>\n",
              "<table border=\"1\" class=\"dataframe\">\n",
              "  <thead>\n",
              "    <tr style=\"text-align: right;\">\n",
              "      <th></th>\n",
              "      <th>timedelta</th>\n",
              "      <th>n_tokens_title</th>\n",
              "      <th>n_tokens_content</th>\n",
              "      <th>n_unique_tokens</th>\n",
              "      <th>num_hrefs</th>\n",
              "      <th>num_self_hrefs</th>\n",
              "      <th>num_imgs</th>\n",
              "      <th>num_videos</th>\n",
              "      <th>num_keywords</th>\n",
              "      <th>channel</th>\n",
              "      <th>weekday</th>\n",
              "      <th>global_subjectivity</th>\n",
              "      <th>global_sentiment_polarity</th>\n",
              "      <th>global_rate_positive_words</th>\n",
              "      <th>global_rate_negative_words</th>\n",
              "      <th>title_subjectivity</th>\n",
              "      <th>title_sentiment_polarity</th>\n",
              "      <th>shares</th>\n",
              "    </tr>\n",
              "  </thead>\n",
              "  <tbody>\n",
              "    <tr>\n",
              "      <th>0</th>\n",
              "      <td>731.0</td>\n",
              "      <td>8.0</td>\n",
              "      <td>960.0</td>\n",
              "      <td>0.418163</td>\n",
              "      <td>21.0</td>\n",
              "      <td>20.0</td>\n",
              "      <td>20.0</td>\n",
              "      <td>0.0</td>\n",
              "      <td>10.0</td>\n",
              "      <td>lifestyle</td>\n",
              "      <td>monday</td>\n",
              "      <td>0.514480</td>\n",
              "      <td>0.268303</td>\n",
              "      <td>0.080208</td>\n",
              "      <td>0.016667</td>\n",
              "      <td>0.000000</td>\n",
              "      <td>0.000000</td>\n",
              "      <td>556</td>\n",
              "    </tr>\n",
              "    <tr>\n",
              "      <th>1</th>\n",
              "      <td>731.0</td>\n",
              "      <td>10.0</td>\n",
              "      <td>187.0</td>\n",
              "      <td>0.666667</td>\n",
              "      <td>7.0</td>\n",
              "      <td>0.0</td>\n",
              "      <td>1.0</td>\n",
              "      <td>0.0</td>\n",
              "      <td>7.0</td>\n",
              "      <td>lifestyle</td>\n",
              "      <td>monday</td>\n",
              "      <td>0.477165</td>\n",
              "      <td>0.150000</td>\n",
              "      <td>0.026738</td>\n",
              "      <td>0.010695</td>\n",
              "      <td>0.000000</td>\n",
              "      <td>0.000000</td>\n",
              "      <td>1900</td>\n",
              "    </tr>\n",
              "    <tr>\n",
              "      <th>2</th>\n",
              "      <td>731.0</td>\n",
              "      <td>11.0</td>\n",
              "      <td>103.0</td>\n",
              "      <td>0.689320</td>\n",
              "      <td>3.0</td>\n",
              "      <td>1.0</td>\n",
              "      <td>1.0</td>\n",
              "      <td>0.0</td>\n",
              "      <td>6.0</td>\n",
              "      <td>lifestyle</td>\n",
              "      <td>monday</td>\n",
              "      <td>0.423611</td>\n",
              "      <td>0.118056</td>\n",
              "      <td>0.029126</td>\n",
              "      <td>0.009709</td>\n",
              "      <td>0.857143</td>\n",
              "      <td>-0.714286</td>\n",
              "      <td>5700</td>\n",
              "    </tr>\n",
              "    <tr>\n",
              "      <th>3</th>\n",
              "      <td>731.0</td>\n",
              "      <td>10.0</td>\n",
              "      <td>243.0</td>\n",
              "      <td>0.619247</td>\n",
              "      <td>1.0</td>\n",
              "      <td>1.0</td>\n",
              "      <td>0.0</td>\n",
              "      <td>0.0</td>\n",
              "      <td>10.0</td>\n",
              "      <td>lifestyle</td>\n",
              "      <td>monday</td>\n",
              "      <td>0.517984</td>\n",
              "      <td>0.155603</td>\n",
              "      <td>0.049383</td>\n",
              "      <td>0.020576</td>\n",
              "      <td>0.000000</td>\n",
              "      <td>0.000000</td>\n",
              "      <td>462</td>\n",
              "    </tr>\n",
              "    <tr>\n",
              "      <th>4</th>\n",
              "      <td>731.0</td>\n",
              "      <td>8.0</td>\n",
              "      <td>204.0</td>\n",
              "      <td>0.586207</td>\n",
              "      <td>7.0</td>\n",
              "      <td>2.0</td>\n",
              "      <td>1.0</td>\n",
              "      <td>0.0</td>\n",
              "      <td>8.0</td>\n",
              "      <td>lifestyle</td>\n",
              "      <td>monday</td>\n",
              "      <td>0.651940</td>\n",
              "      <td>0.316986</td>\n",
              "      <td>0.073529</td>\n",
              "      <td>0.004902</td>\n",
              "      <td>0.000000</td>\n",
              "      <td>0.000000</td>\n",
              "      <td>3600</td>\n",
              "    </tr>\n",
              "  </tbody>\n",
              "</table>\n",
              "</div>"
            ],
            "text/plain": [
              "   timedelta  n_tokens_title  n_tokens_content  n_unique_tokens  num_hrefs  \\\n",
              "0      731.0             8.0             960.0         0.418163       21.0   \n",
              "1      731.0            10.0             187.0         0.666667        7.0   \n",
              "2      731.0            11.0             103.0         0.689320        3.0   \n",
              "3      731.0            10.0             243.0         0.619247        1.0   \n",
              "4      731.0             8.0             204.0         0.586207        7.0   \n",
              "\n",
              "   num_self_hrefs  num_imgs  num_videos  num_keywords    channel weekday  \\\n",
              "0            20.0      20.0         0.0          10.0  lifestyle  monday   \n",
              "1             0.0       1.0         0.0           7.0  lifestyle  monday   \n",
              "2             1.0       1.0         0.0           6.0  lifestyle  monday   \n",
              "3             1.0       0.0         0.0          10.0  lifestyle  monday   \n",
              "4             2.0       1.0         0.0           8.0  lifestyle  monday   \n",
              "\n",
              "   global_subjectivity  global_sentiment_polarity  global_rate_positive_words  \\\n",
              "0             0.514480                   0.268303                    0.080208   \n",
              "1             0.477165                   0.150000                    0.026738   \n",
              "2             0.423611                   0.118056                    0.029126   \n",
              "3             0.517984                   0.155603                    0.049383   \n",
              "4             0.651940                   0.316986                    0.073529   \n",
              "\n",
              "   global_rate_negative_words  title_subjectivity  title_sentiment_polarity  \\\n",
              "0                    0.016667            0.000000                  0.000000   \n",
              "1                    0.010695            0.000000                  0.000000   \n",
              "2                    0.009709            0.857143                 -0.714286   \n",
              "3                    0.020576            0.000000                  0.000000   \n",
              "4                    0.004902            0.000000                  0.000000   \n",
              "\n",
              "   shares  \n",
              "0     556  \n",
              "1    1900  \n",
              "2    5700  \n",
              "3     462  \n",
              "4    3600  "
            ]
          },
          "execution_count": 52,
          "metadata": {},
          "output_type": "execute_result"
        }
      ],
      "source": [
        "data_popularity = pd.read_csv(\"../datasets/OnlineNewsPopularity.csv\")\n",
        "data_popularity.columns = [column.strip() for column in data_popularity.columns] # corrige o problema de ter espaço nos nomes das colunas \n",
        "data_popularity = transform_data(data_popularity)\n",
        "data_popularity.head()"
      ]
    },
    {
      "cell_type": "markdown",
      "metadata": {},
      "source": [
        "Identifique na base acima quais atributos devem ser transformados e aplique os métodos de transformação."
      ]
    },
    {
      "cell_type": "markdown",
      "metadata": {
        "id": "a-XeSDkCUYNV"
      },
      "source": [
        "## É isso\n",
        "\n",
        "Com isso finalizamos nosso laboratório de hoje, mas ainda precisamos analisar a redução de dimensionalidade. Isso vai ser abordado no próximo laboratório.\n",
        "\n",
        "![force](https://media.giphy.com/media/3o85xAojNshmzlySyc/giphy.gif?cid=ecf05e47x07q84ywa19aus9n1j1owve0mad420ffmpo6vjha&rid=giphy.gif&ct=g)\n",
        "\n",
        "**Boa atividade e Divirtam-se ;)**"
      ]
    },
    {
      "cell_type": "code",
      "execution_count": 51,
      "metadata": {},
      "outputs": [],
      "source": [
        "def transform_data(dataset):\n",
        "\n",
        "    # Colunas com informações de Channel \n",
        "\n",
        "    melt_columns_channel = [\n",
        "        'data_channel_is_lifestyle', 'data_channel_is_entertainment', 'data_channel_is_bus', 'data_channel_is_socmed',\n",
        "        'data_channel_is_tech', 'data_channel_is_world'\n",
        "    ]\n",
        "\n",
        "    # Demais colunas do dataset\n",
        "\n",
        "    all_columns_channel = [column for column in dataset.columns if column not in melt_columns_channel]\n",
        "\n",
        "    # Transformação da base de dados \n",
        "\n",
        "    data_final = pd.melt(dataset, id_vars=all_columns_channel, value_vars=melt_columns_channel, var_name='channel', value_name='channel_value')\n",
        "    data_final = data_final[data_final['channel_value'] != 0]\n",
        "    data_final['channel'] =data_final['channel'].str.split(\"_\").str[-1]\n",
        "    data_final.drop(columns=['channel_value'], inplace=True)\n",
        "    data_final.reset_index(inplace=True)\n",
        "    \n",
        "    \n",
        "    # Colunas com informações do weekday \n",
        "    melt_columns_weekday = ['weekday_is_monday', 'weekday_is_tuesday', \n",
        "        'weekday_is_wednesday', 'weekday_is_thursday', 'weekday_is_friday', 'weekday_is_saturday', 'weekday_is_sunday'\n",
        "    ]\n",
        "\n",
        "    # Demais colunas do dataset\n",
        "    all_columns_weekday = [column for column in data_final.columns if column not in melt_columns_weekday]\n",
        "\n",
        "\n",
        "    data_final = pd.melt(data_final, id_vars=all_columns_weekday, value_vars=melt_columns_weekday, var_name='weekday', value_name='weekday_value')\n",
        "    data_final = data_final[data_final['weekday_value'] != 0]\n",
        "    data_final['weekday'] =data_final['weekday'].str.split(\"_\").str[-1]\n",
        "    data_final.drop(columns=['weekday_value'], inplace=True)\n",
        "    data_final.reset_index(inplace=True)\n",
        "\n",
        "    # Selecionando colunas de interesse \n",
        "\n",
        "    data_final = data_final[['timedelta', 'n_tokens_title',\n",
        "       'n_tokens_content', 'n_unique_tokens','num_hrefs', 'num_self_hrefs', 'num_imgs',\n",
        "       'num_videos', 'num_keywords', 'channel', 'weekday', 'global_subjectivity',\n",
        "       'global_sentiment_polarity', 'global_rate_positive_words',\n",
        "       'global_rate_negative_words', 'title_subjectivity',\n",
        "       'title_sentiment_polarity', 'shares']]\n",
        "    \n",
        "\n",
        "    return data_final\n",
        "\n",
        "\n",
        "\n"
      ]
    },
    {
      "cell_type": "code",
      "execution_count": null,
      "metadata": {},
      "outputs": [],
      "source": []
    }
  ],
  "metadata": {
    "colab": {
      "collapsed_sections": [],
      "include_colab_link": true,
      "name": "lab301_comrespostas.ipynb",
      "provenance": []
    },
    "kernelspec": {
      "display_name": "Python 3.9.7 ('datascience')",
      "language": "python",
      "name": "python3"
    },
    "language_info": {
      "codemirror_mode": {
        "name": "ipython",
        "version": 3
      },
      "file_extension": ".py",
      "mimetype": "text/x-python",
      "name": "python",
      "nbconvert_exporter": "python",
      "pygments_lexer": "ipython3",
      "version": "3.9.7"
    },
    "vscode": {
      "interpreter": {
        "hash": "5063cfe71bac910fcf2a966b61d684c7ab1acf2cfb80646acb374e5182a49f95"
      }
    }
  },
  "nbformat": 4,
  "nbformat_minor": 0
}
