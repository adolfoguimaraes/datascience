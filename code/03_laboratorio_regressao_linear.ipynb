{
  "cells": [
    {
      "cell_type": "markdown",
      "metadata": {
        "colab_type": "text",
        "id": "view-in-github"
      },
      "source": [
        "<a href=\"https://colab.research.google.com/github/adolfoguimaraes/datascience/blob/main/code/03_laboratorio_regressao_linear.ipynb\" target=\"_parent\"><img src=\"https://colab.research.google.com/assets/colab-badge.svg\" alt=\"Open In Colab\"/></a>"
      ]
    },
    {
      "cell_type": "markdown",
      "metadata": {
        "id": "1fw0oXPxtfPI"
      },
      "source": [
        "# Regressão Linear \n",
        "\n",
        "Para este exemplo, vamos trabalhar com a base de Advertising disponibilizada pelo livro \"An Introduction to Statistical Learning\". Essa base consiste de 3 atributos que representam os gastos de propaganda (em milhares de dólares) de um determinado produto na TV, Rádio e Jornal. Além disso, é conhecida a quantidade de vendas realizadas (em milhares de unidades) para cada instância.\n",
        "\n",
        "A base de dados está disponível na pasta `datasets` destes repositório. Para carrega-la vamos utilizar a biblioteca Pandas. Detalhes dessa biblioteca estão fora do escopo destes tutoriais. Sendo assim, apenas vamos usá-la sem tecer muitos detalhes sobre as operações realizadas. Basicamente, vamos utiliza-la para carregar a base de arquivos, extrair informações sobre os dados e plota-los em gráficos que irão nos ajudar a interpretar os dados que estamos trabalhando."
      ]
    },
    {
      "cell_type": "code",
      "execution_count": 2,
      "metadata": {
        "id": "3Hi5104ItfPL"
      },
      "outputs": [],
      "source": [
        "# Imports Necessários\n",
        "import pandas as pd\n",
        "import seaborn as sns\n",
        "import matplotlib.pyplot as plt"
      ]
    },
    {
      "cell_type": "code",
      "execution_count": 3,
      "metadata": {
        "id": "F9sIpRPstfPO",
        "outputId": "6baa5fbf-27da-4c39-e132-4cafe7589206"
      },
      "outputs": [
        {
          "data": {
            "text/html": [
              "<div>\n",
              "<style scoped>\n",
              "    .dataframe tbody tr th:only-of-type {\n",
              "        vertical-align: middle;\n",
              "    }\n",
              "\n",
              "    .dataframe tbody tr th {\n",
              "        vertical-align: top;\n",
              "    }\n",
              "\n",
              "    .dataframe thead th {\n",
              "        text-align: right;\n",
              "    }\n",
              "</style>\n",
              "<table border=\"1\" class=\"dataframe\">\n",
              "  <thead>\n",
              "    <tr style=\"text-align: right;\">\n",
              "      <th></th>\n",
              "      <th>TV</th>\n",
              "      <th>Radio</th>\n",
              "      <th>Newspaper</th>\n",
              "      <th>Sales</th>\n",
              "    </tr>\n",
              "  </thead>\n",
              "  <tbody>\n",
              "    <tr>\n",
              "      <th>0</th>\n",
              "      <td>230.1</td>\n",
              "      <td>37.8</td>\n",
              "      <td>69.2</td>\n",
              "      <td>22.1</td>\n",
              "    </tr>\n",
              "    <tr>\n",
              "      <th>1</th>\n",
              "      <td>44.5</td>\n",
              "      <td>39.3</td>\n",
              "      <td>45.1</td>\n",
              "      <td>10.4</td>\n",
              "    </tr>\n",
              "    <tr>\n",
              "      <th>2</th>\n",
              "      <td>17.2</td>\n",
              "      <td>45.9</td>\n",
              "      <td>69.3</td>\n",
              "      <td>12.0</td>\n",
              "    </tr>\n",
              "    <tr>\n",
              "      <th>3</th>\n",
              "      <td>151.5</td>\n",
              "      <td>41.3</td>\n",
              "      <td>58.5</td>\n",
              "      <td>16.5</td>\n",
              "    </tr>\n",
              "    <tr>\n",
              "      <th>4</th>\n",
              "      <td>180.8</td>\n",
              "      <td>10.8</td>\n",
              "      <td>58.4</td>\n",
              "      <td>17.9</td>\n",
              "    </tr>\n",
              "    <tr>\n",
              "      <th>...</th>\n",
              "      <td>...</td>\n",
              "      <td>...</td>\n",
              "      <td>...</td>\n",
              "      <td>...</td>\n",
              "    </tr>\n",
              "    <tr>\n",
              "      <th>195</th>\n",
              "      <td>38.2</td>\n",
              "      <td>3.7</td>\n",
              "      <td>13.8</td>\n",
              "      <td>7.6</td>\n",
              "    </tr>\n",
              "    <tr>\n",
              "      <th>196</th>\n",
              "      <td>94.2</td>\n",
              "      <td>4.9</td>\n",
              "      <td>8.1</td>\n",
              "      <td>14.0</td>\n",
              "    </tr>\n",
              "    <tr>\n",
              "      <th>197</th>\n",
              "      <td>177.0</td>\n",
              "      <td>9.3</td>\n",
              "      <td>6.4</td>\n",
              "      <td>14.8</td>\n",
              "    </tr>\n",
              "    <tr>\n",
              "      <th>198</th>\n",
              "      <td>283.6</td>\n",
              "      <td>42.0</td>\n",
              "      <td>66.2</td>\n",
              "      <td>25.5</td>\n",
              "    </tr>\n",
              "    <tr>\n",
              "      <th>199</th>\n",
              "      <td>232.1</td>\n",
              "      <td>8.6</td>\n",
              "      <td>8.7</td>\n",
              "      <td>18.4</td>\n",
              "    </tr>\n",
              "  </tbody>\n",
              "</table>\n",
              "<p>200 rows × 4 columns</p>\n",
              "</div>"
            ],
            "text/plain": [
              "        TV  Radio  Newspaper  Sales\n",
              "0    230.1   37.8       69.2   22.1\n",
              "1     44.5   39.3       45.1   10.4\n",
              "2     17.2   45.9       69.3   12.0\n",
              "3    151.5   41.3       58.5   16.5\n",
              "4    180.8   10.8       58.4   17.9\n",
              "..     ...    ...        ...    ...\n",
              "195   38.2    3.7       13.8    7.6\n",
              "196   94.2    4.9        8.1   14.0\n",
              "197  177.0    9.3        6.4   14.8\n",
              "198  283.6   42.0       66.2   25.5\n",
              "199  232.1    8.6        8.7   18.4\n",
              "\n",
              "[200 rows x 4 columns]"
            ]
          },
          "execution_count": 3,
          "metadata": {},
          "output_type": "execute_result"
        }
      ],
      "source": [
        "# Carrega a base de dados (Se estiver usando no colab, utilize pd.read_csv(\"Advertising.csv\"))\n",
        "data = pd.read_csv(\"../datasets/Advertising.csv\")\n",
        "data"
      ]
    },
    {
      "cell_type": "markdown",
      "metadata": {
        "id": "-P45Biz6tfPR"
      },
      "source": [
        "O dataset possui 3 atributos: TV, Radio e Newspaper. Cada um deles corresponde a quantidade de dólares gastos em propaganda em cada uma das mídias para um produto específico. Já a resposta (*sales*) consiste na quantidade de produtos vendidos para cada produto. Esse dataset possui 200 instâncias.\n",
        "\n",
        "A partir dessa análise inicial juntamente com o estudo dos modelos de regresssão podemos construir um modelo que ajude a determinar como poderíamos gastar o dinheiro designado para propaganda no futuro.\n",
        "\n",
        "Além dessa pergunta mais geral, vamos querer responder: \n",
        "\n",
        "* Existe uma relação entre o dinheiro gasto em propaganda e a quantidade de vendas?\n",
        "* Quão forte é esse relacionamento?\n",
        "* Quais são os tipos de propaganda que contribuem para as vendas?\n",
        "* Qual o efeito de cada tipo de propaganda nas vendas?\n",
        "* Dado um gasto específico em propaganda, é possível prever quanto será vendido?\n",
        "* Como podemos interpretar diferentes modelos de Machine Learning para o mesmo problema? \n",
        "\n",
        "Para tentar responder essas perguntas vamos fazer uma análise inicial da base de dados para extrair algumas informações interessantes sobre os dados. "
      ]
    },
    {
      "cell_type": "code",
      "execution_count": 4,
      "metadata": {
        "id": "mMAIWSpEtfPS",
        "outputId": "01182ff5-13f9-471d-839a-8767ae7b4ae2"
      },
      "outputs": [
        {
          "data": {
            "text/html": [
              "<div>\n",
              "<style scoped>\n",
              "    .dataframe tbody tr th:only-of-type {\n",
              "        vertical-align: middle;\n",
              "    }\n",
              "\n",
              "    .dataframe tbody tr th {\n",
              "        vertical-align: top;\n",
              "    }\n",
              "\n",
              "    .dataframe thead th {\n",
              "        text-align: right;\n",
              "    }\n",
              "</style>\n",
              "<table border=\"1\" class=\"dataframe\">\n",
              "  <thead>\n",
              "    <tr style=\"text-align: right;\">\n",
              "      <th></th>\n",
              "      <th>TV</th>\n",
              "      <th>Radio</th>\n",
              "      <th>Newspaper</th>\n",
              "      <th>Sales</th>\n",
              "    </tr>\n",
              "  </thead>\n",
              "  <tbody>\n",
              "    <tr>\n",
              "      <th>count</th>\n",
              "      <td>200.000000</td>\n",
              "      <td>200.000000</td>\n",
              "      <td>200.000000</td>\n",
              "      <td>200.000000</td>\n",
              "    </tr>\n",
              "    <tr>\n",
              "      <th>mean</th>\n",
              "      <td>147.042500</td>\n",
              "      <td>23.264000</td>\n",
              "      <td>30.554000</td>\n",
              "      <td>15.130500</td>\n",
              "    </tr>\n",
              "    <tr>\n",
              "      <th>std</th>\n",
              "      <td>85.854236</td>\n",
              "      <td>14.846809</td>\n",
              "      <td>21.778621</td>\n",
              "      <td>5.283892</td>\n",
              "    </tr>\n",
              "    <tr>\n",
              "      <th>min</th>\n",
              "      <td>0.700000</td>\n",
              "      <td>0.000000</td>\n",
              "      <td>0.300000</td>\n",
              "      <td>1.600000</td>\n",
              "    </tr>\n",
              "    <tr>\n",
              "      <th>25%</th>\n",
              "      <td>74.375000</td>\n",
              "      <td>9.975000</td>\n",
              "      <td>12.750000</td>\n",
              "      <td>11.000000</td>\n",
              "    </tr>\n",
              "    <tr>\n",
              "      <th>50%</th>\n",
              "      <td>149.750000</td>\n",
              "      <td>22.900000</td>\n",
              "      <td>25.750000</td>\n",
              "      <td>16.000000</td>\n",
              "    </tr>\n",
              "    <tr>\n",
              "      <th>75%</th>\n",
              "      <td>218.825000</td>\n",
              "      <td>36.525000</td>\n",
              "      <td>45.100000</td>\n",
              "      <td>19.050000</td>\n",
              "    </tr>\n",
              "    <tr>\n",
              "      <th>max</th>\n",
              "      <td>296.400000</td>\n",
              "      <td>49.600000</td>\n",
              "      <td>114.000000</td>\n",
              "      <td>27.000000</td>\n",
              "    </tr>\n",
              "  </tbody>\n",
              "</table>\n",
              "</div>"
            ],
            "text/plain": [
              "               TV       Radio   Newspaper       Sales\n",
              "count  200.000000  200.000000  200.000000  200.000000\n",
              "mean   147.042500   23.264000   30.554000   15.130500\n",
              "std     85.854236   14.846809   21.778621    5.283892\n",
              "min      0.700000    0.000000    0.300000    1.600000\n",
              "25%     74.375000    9.975000   12.750000   11.000000\n",
              "50%    149.750000   22.900000   25.750000   16.000000\n",
              "75%    218.825000   36.525000   45.100000   19.050000\n",
              "max    296.400000   49.600000  114.000000   27.000000"
            ]
          },
          "execution_count": 4,
          "metadata": {},
          "output_type": "execute_result"
        }
      ],
      "source": [
        "data.describe()"
      ]
    },
    {
      "cell_type": "markdown",
      "metadata": {
        "id": "QTeKH-NwtfPV"
      },
      "source": [
        "Os dados dos quatis podem ser melhor visualizados com a ajuda dos boxplot. Observe que com exceção dos valores de newspaper, os demais dados tem valores bem distribuídos. O atributo newspaper possui alguns outliers que podem (ou não) influenciar nos modelos de classificação. Vamos analisar um pouco mais a correlação entre os atribuitos para extrair mais informações sobre eles."
      ]
    },
    {
      "cell_type": "code",
      "execution_count": 11,
      "metadata": {},
      "outputs": [
        {
          "data": {
            "text/plain": [
              "<AxesSubplot:>"
            ]
          },
          "execution_count": 11,
          "metadata": {},
          "output_type": "execute_result"
        },
        {
          "data": {
            "image/png": "[encoded data removed]",
            "text/plain": [
              "<Figure size 720x360 with 3 Axes>"
            ]
          },
          "metadata": {
            "needs_background": "light"
          },
          "output_type": "display_data"
        }
      ],
      "source": [
        "fig, axs = plt.subplots(ncols=3,figsize=(10,5))\n",
        "sns.boxplot(data=data[['TV']], ax=axs[0])\n",
        "sns.boxplot(data=data[['Radio']], ax=axs[1])\n",
        "sns.boxplot(data=data[['Newspaper']], ax=axs[2])\n",
        "\n",
        "\n"
      ]
    },
    {
      "cell_type": "markdown",
      "metadata": {
        "id": "_x9wjrmNtfPa"
      },
      "source": [
        "Analisando os gráficos de boxplot, o que chama atenção é o do atributo newspaper que apresenta alguns outliers. Percebe-se que a maioria dos valores para este atributo estão compreendidos em uma estreita faixa de valores e que alguns valores estão bem distantes nesta distribuição. Ainda não podemos afirmar muita coisa, mas, sem dúvidas, são dados que devem ser analisados.\n",
        "\n",
        "Para que a gente possa ter uma idéia melhor de como estes atributos se comportam, vamos analisar a matriz de correlação."
      ]
    },
    {
      "cell_type": "code",
      "execution_count": 12,
      "metadata": {
        "id": "kl35HTeotfPc",
        "outputId": "5c5781a3-5331-422e-c91a-966aac4ff169"
      },
      "outputs": [
        {
          "data": {
            "text/plain": [
              "<AxesSubplot:>"
            ]
          },
          "execution_count": 12,
          "metadata": {},
          "output_type": "execute_result"
        },
        {
          "data": {
            "image/png": "[encoded data removed]",
            "text/plain": [
              "<Figure size 432x288 with 2 Axes>"
            ]
          },
          "metadata": {
            "needs_background": "light"
          },
          "output_type": "display_data"
        }
      ],
      "source": [
        "data_corr = data.corr()\n",
        "sns.heatmap(data_corr, xticklabels=data_corr.columns, yticklabels=data_corr.columns,annot=True)"
      ]
    },
    {
      "cell_type": "markdown",
      "metadata": {
        "id": "4dbh1flstfPf"
      },
      "source": [
        "Na regressão linear, utilizamos os valores dos atributos para prever um determinado retorno de vendas a partir do investimento nas áreas representadas pelos atributos. Sendo assim, uma análise interessante que se pode fazer é como tais atributos se relacionam com o objetivo final: o campo `sales`. Perceba que existe uma forte correlação entre TV e vendas. Diferente da relação entre newspaper e vendas. Essa tabela nos mostra o quão forte é a relação linear entre esses atributos. Claramente, quanto maior o investimento em TV e radio maior o retorno em vendas. Tal relação é válida para o atributo newspaper, no entanto, ela não é tão forte quanto os demais. \n",
        "\n",
        "Com isso já conseguimos responder algumas perguntas listadas anteriomente. Vamos entender melhor essa relação a partir da implementação dos modelos de regressão linear a seguir. "
      ]
    },
    {
      "cell_type": "markdown",
      "metadata": {
        "id": "UNs6ysawtfPg"
      },
      "source": [
        "## Aplicando o modelo de regressão linear \n",
        "\n",
        "Para executar os modelos de Machine Learning, vamos utilizar a biblioteca **Scikit-Learn**: https://scikit-learn.org/."
      ]
    },
    {
      "cell_type": "code",
      "execution_count": 13,
      "metadata": {
        "id": "l-_qrv5VtfPi"
      },
      "outputs": [],
      "source": [
        "# Importando o modelo de Regressão Linear\n",
        "from sklearn.linear_model import LinearRegression"
      ]
    },
    {
      "cell_type": "markdown",
      "metadata": {
        "id": "T8IdppI9tfPj"
      },
      "source": [
        "O primeiro passo é separar dos dados (`features`) das classes (`labels`) dos dados que serão utilizados para treinar nosso modelo. Para o primeiro exemplo, vamos utilizar apenas um atributo, logo, vamos construir um modelo de regressão linear simples."
      ]
    },
    {
      "cell_type": "code",
      "execution_count": 14,
      "metadata": {
        "id": "dJwqVUXItfPk"
      },
      "outputs": [],
      "source": [
        "# Carregando os dados de treinamento e os labels\n",
        "\n",
        "feature_cols = ['TV'] # Carregando apenas os dados de TV\n",
        "\n",
        "X = data[feature_cols] # Dados de Treinamento\n",
        "y = data.Sales # Labels dos dados de Treinamento"
      ]
    },
    {
      "cell_type": "markdown",
      "metadata": {
        "id": "Nr201L-RtfPk"
      },
      "source": [
        "Em seguida, vamos instanciar o modelo de Regressão Linear do ScikitLearn e treina-lo com os dados."
      ]
    },
    {
      "cell_type": "code",
      "execution_count": 15,
      "metadata": {
        "id": "F4coDTQItfPl",
        "outputId": "3e878dff-ab83-48a4-e661-826a9a516f01"
      },
      "outputs": [
        {
          "data": {
            "text/plain": [
              "LinearRegression()"
            ]
          },
          "execution_count": 15,
          "metadata": {},
          "output_type": "execute_result"
        }
      ],
      "source": [
        "lm = LinearRegression() # Instanciando o modelo\n",
        "lm.fit(X.values, y) # Treinando com os dados de treinamento"
      ]
    },
    {
      "cell_type": "markdown",
      "metadata": {
        "id": "7HD78EmBtfPn"
      },
      "source": [
        "Como dito anteriormente, o modelo aprendeu, baseado no conjunto de dados, valores para β0\\beta_0β0​ e β1\\beta_1β1​. Vamos visualizar os valores encontrados."
      ]
    },
    {
      "cell_type": "code",
      "execution_count": 16,
      "metadata": {
        "id": "luDVFa0_tfPo",
        "outputId": "30df1e18-cd8d-44f8-e042-f7af8f4bfe04"
      },
      "outputs": [
        {
          "name": "stdout",
          "output_type": "stream",
          "text": [
            "Valor de Beta_0: 6.9748214882298925\n",
            "Valor de Beta_1: 0.05546477046955886\n"
          ]
        }
      ],
      "source": [
        "#Imprimindo beta_0\n",
        "print(\"Valor de Beta_0: \" + str(lm.intercept_))\n",
        "\n",
        "#Imprimindo beta_1\n",
        "print(\"Valor de Beta_1: \" + str(lm.coef_[0]))"
      ]
    },
    {
      "cell_type": "markdown",
      "metadata": {
        "id": "D1Gxz-CotfPp"
      },
      "source": [
        "Esse valores representam os valores de $\\beta_0$ e $\\beta_1$ da nossa equação que representa um modelo simples de regressão linear onde é levado em consideração somente um atributo.\n",
        "\n",
        "Com esses valores é possível estimar quanto será vendido dado um determinado gasto em propaganda de TV. Além disso, o coeficiente $\\beta_1$ nos conta mais sobre o problema.\n",
        "\n",
        "O valor de $0.05546477046955886$ indica que cada unidade que aumentarmos em propaganda de TV implica em um aumento de $0.05546477046955886$ nas vendas. Em outras palavras, cada $1.000$ gastos em TV está associado com um aumento de 55.464 de unidades nas vendas.\n",
        "\n",
        "Vamos usar esses valores para estimar quanto será vendido se gastarmos $50000$ em TV.\n",
        "\n",
        "$y = 6.9748214882298925 + 0.05546477046955886 \\times 50$\n",
        "$y = 9.7480600117$\n",
        "\n",
        "No entanto, nosso objetivo não é fazer isso manualmente. A idéia é construir o modelo e utiliza-lo para fazer a estimativa de valores. Para isso, vamos utilizar o método `predict`."
      ]
    },
    {
      "cell_type": "code",
      "execution_count": 17,
      "metadata": {
        "id": "Uxb_1Wq1tfPq",
        "outputId": "3bef41b9-def9-4215-de60-92ed61bf68af"
      },
      "outputs": [
        {
          "data": {
            "text/plain": [
              "array([9.74806001])"
            ]
          },
          "execution_count": 17,
          "metadata": {},
          "output_type": "execute_result"
        }
      ],
      "source": [
        "lm.predict([[50]])"
      ]
    },
    {
      "cell_type": "code",
      "execution_count": 18,
      "metadata": {
        "id": "Fmwf367DtfPr",
        "outputId": "6706dbcc-b085-4f5e-8048-0d3b0729b8da"
      },
      "outputs": [
        {
          "data": {
            "text/plain": [
              "array([ 9.74806001, 18.06777558,  7.52946919])"
            ]
          },
          "execution_count": 18,
          "metadata": {},
          "output_type": "execute_result"
        }
      ],
      "source": [
        "lm.predict([[50], [200], [10]])"
      ]
    },
    {
      "cell_type": "code",
      "execution_count": 19,
      "metadata": {
        "id": "AcTfN-NJtfPs",
        "outputId": "6a1a5d60-4fe1-446d-a8bb-484174d86962"
      },
      "outputs": [
        {
          "data": {
            "text/plain": [
              "[<matplotlib.lines.Line2D at 0x7fe2a8485550>]"
            ]
          },
          "execution_count": 19,
          "metadata": {},
          "output_type": "execute_result"
        },
        {
          "data": {
            "image/png": "[encoded data removed]",
            "text/plain": [
              "<Figure size 432x288 with 1 Axes>"
            ]
          },
          "metadata": {
            "needs_background": "light"
          },
          "output_type": "display_data"
        }
      ],
      "source": [
        "'''\n",
        "O código a seguir faz a predição para o menor e maior valores de X na base de treinamento. Estes valores\n",
        "são utilizados para construir uma reta que é plotada sobre os dados de treinamento.\n",
        "'''\n",
        "\n",
        "X_new = pd.DataFrame({'TV': [data.TV.min(), data.TV.max()]}) # Menor e Maior valores de X na base de treinamento\n",
        "preds = lm.predict(X_new.values) # Predição destes valores\n",
        "data.plot(kind='scatter', x='TV', y='Sales') # Plotagem dos valores da base de treinamento\n",
        "plt.plot(X_new.values, preds, c='red', linewidth=2) # Plotagem da reta"
      ]
    },
    {
      "cell_type": "markdown",
      "metadata": {
        "id": "zlGi8VZLtfPu"
      },
      "source": [
        "A reta em vermelho representa o modelo de regressão linear construído a partir dos dados passados.\n",
        "\n",
        "Podemos estender o modelo visto anteriormente para trabalhar com mais de um atributo, ou seja, regressão linear múltipla. "
      ]
    },
    {
      "cell_type": "code",
      "execution_count": 20,
      "metadata": {
        "id": "-eP-BLiDtfPu",
        "outputId": "f4ad5558-e1f1-4f79-bc76-ea0c38e64778"
      },
      "outputs": [
        {
          "name": "stdout",
          "output_type": "stream",
          "text": [
            "Valor de Beta_0: \n",
            "4.625124078808653\n",
            "\n",
            "Valores de Beta_1, Beta_2, ..., Beta_n: \n",
            "[('TV', 0.05444578033757093), ('Radio', 0.10700122823870299), ('Newspaper', 0.0003356579223305887)]\n"
          ]
        }
      ],
      "source": [
        "# Carregando os dados de X e y do dataset\n",
        "feature_cols = ['TV','Radio','Newspaper']\n",
        "X = data[feature_cols]\n",
        "y = data.Sales\n",
        "\n",
        "#Instanciando e treinando o modelo de regressão linear\n",
        "lm = LinearRegression()\n",
        "lm.fit(X.values, y)\n",
        "\n",
        "#Imprimindo os coeficientes encontrados\n",
        "\n",
        "print(\"Valor de Beta_0: \")\n",
        "print(str(lm.intercept_))\n",
        "print()\n",
        "print(\"Valores de Beta_1, Beta_2, ..., Beta_n: \")\n",
        "print(list(zip(feature_cols, lm.coef_)))"
      ]
    },
    {
      "cell_type": "markdown",
      "metadata": {
        "id": "f08KShGdtfPv"
      },
      "source": [
        "O modelo construído foi (arredondando os valores dos coeficientes):\n",
        "\n",
        "$y = 0.054 \\times TV + 0.107 \\times radio + 0.00003 \\times newspaper + 4.625$\n",
        "\n",
        "Assim como fizemos no primeiro exemplo, podemos utilzar o método predict para prever valores não conhecidos.\n"
      ]
    },
    {
      "cell_type": "code",
      "execution_count": 21,
      "metadata": {
        "id": "kfaFkRqWtfPv",
        "outputId": "ab923aae-29c8-4d61-861a-afb6068cfdd9"
      },
      "outputs": [
        {
          "data": {
            "text/plain": [
              "array([12.75312427, 16.58764901])"
            ]
          },
          "execution_count": 21,
          "metadata": {},
          "output_type": "execute_result"
        }
      ],
      "source": [
        "lm.predict([[100, 25, 25], [200, 10, 10]])"
      ]
    },
    {
      "cell_type": "markdown",
      "metadata": {
        "id": "T7CVDOSutfPw"
      },
      "source": [
        "## Comparando os dois modelos \n",
        "\n",
        "Uma vez que sabemos como testar nosso modelo, quais métricas podemos utilizar para verificar o quão bom é nosso modelo? \n",
        "\n",
        "Na aula, vimos que a avaliação de um modelo de regressão linear é baseada na diferença do valor real e o valor predito. O scikit-learn faz essa análise a partir da métrica $R^2$ (R-squared ou coeficiente de determinação).\n",
        "\n",
        "> **Segundo o [Wikipedia](https://pt.wikipedia.org/wiki/R%C2%B2):**\n",
        "O coeficiente de determinação, também chamado de $R^2$, é uma medida de ajustamento de um modelo estatístico linear generalizado, como a Regressão linear, em relação aos valores observados. O $R^2$ varia entre 0 e 1, indicando, em percentagem, o quanto o modelo consegue explicar os valores observados. Quanto maior o valor de $R^2$, mais explicativo é o modelo, ou seja, melhor ele se ajusta à amostra. Por exemplo, se o $R^2$ de um modelo é 0,8234, isto significa que $82,34\\%$ da variável dependente consegue ser explicada pelos regressores presentes no modelo.\n",
        "\n",
        "Para entender melhor a métrica, vamos analisar o gráfico a seguir:\n",
        "\n",
        "![r2_graph.png](https://raw.githubusercontent.com/justmarkham/DAT4/master/notebooks/08_r_squared.png)\n",
        "\n",
        "_Fonte da Imagem: [https://github.com/justmarkham/DAT4/](https://github.com/justmarkham/DAT4/)_\n",
        "\n",
        "Observe que a função representada pela cor vemelha se ajusta melhor aos dados do que as retas de cor azul e verde. Visualmente podemos ver que, de fato, a curva vemelha descreve melhor a distribuição dos dados plotados.\n",
        "\n",
        "Vamos calcular o valor do R-squared para o modelo construído utilizando o método score que recebe como parâmetro os dados de treinamento.\n",
        "\n",
        "Essa será a única análise que vamos fazer do modelo. Uma análise mais aprofundada de métricas será explorada no módulo de avaliação dos modelos.\n",
        "\n",
        "Vamos realizar a avaliação para os dois cenários: regressão linear simples e regressão linear múltipla. "
      ]
    },
    {
      "cell_type": "code",
      "execution_count": 22,
      "metadata": {
        "id": "YcFviDDxtfPw",
        "outputId": "631f2e1a-b7c3-46fd-e398-56110c831348"
      },
      "outputs": [
        {
          "name": "stdout",
          "output_type": "stream",
          "text": [
            "Score da regressão linear simples: 0.812176 \n",
            "Score da regressão linear múltipla: 0.902591 \n"
          ]
        }
      ],
      "source": [
        "# Carregando os dados de treinamento e os labels \n",
        "# para o modelo de regressão linear simples\n",
        "feature_cols_simple = ['TV']\n",
        "\n",
        "X_simple = data[feature_cols_simple] # Dados de Treinamento\n",
        "y_simple = data.Sales # Labels dos dados de Treinamento\n",
        "\n",
        "lm_simple = LinearRegression() # Instanciando o modelo\n",
        "lm_simple.fit(X_simple.values, y_simple) # Treinando com os dados de treinamento\n",
        "\n",
        "score_simple = lm_simple.score(X_simple.values, y_simple)\n",
        "\n",
        "print(\"Score da regressão linear simples: %f \" % score_simple)\n",
        "\n",
        "# Carregando os dados de treinamento e os labels \n",
        "# para o modelo de regressão linear múltipla\n",
        "feature_cols_multiple = ['TV','Radio','Newspaper']\n",
        "X_multiple = data[feature_cols_multiple]\n",
        "y_multiple = data.Sales\n",
        "\n",
        "#Instanciando e treinando o modelo de regressão linear\n",
        "lm_multiple = LinearRegression()\n",
        "lm_multiple.fit(X_multiple.values, y_multiple)\n",
        "\n",
        "score_multiple = lm_multiple.score(X_multiple.values, y_multiple)\n",
        "\n",
        "print(\"Score da regressão linear múltipla: %f \" % score_multiple)"
      ]
    },
    {
      "cell_type": "markdown",
      "metadata": {
        "id": "l7-PO4zgtfPx"
      },
      "source": [
        "## Como podemos intepretar esses resultados?\n",
        "\n",
        "Analise o resultado das análises e da regressão linear e responda a se seguintes perguntas: \n",
        "\n",
        "* Qual a importância de cada atributo para o resultado final da predição? \n",
        "* Por que o resultado da regressão linear múltipla é melhor que o resultado da regressão linear simples?\n",
        "* Qual o impacto na qualidade do modelo (com base na métrica calculada $R^2$) se considerarmos somente `TV` e `Radio`? Instancie e treine um modelo só com essas duas variáveis e calcule o `score` para comparar com os resultados já calculados."
      ]
    },
    {
      "cell_type": "markdown",
      "metadata": {},
      "source": [
        "## É isso \n",
        "\n",
        "![force](https://media.giphy.com/media/3o85xAojNshmzlySyc/giphy.gif?cid=ecf05e47x07q84ywa19aus9n1j1owve0mad420ffmpo6vjha&rid=giphy.gif&ct=g)\n",
        "\n",
        "**Boa atividade e Divirtam-se ;)**"
      ]
    }
  ],
  "metadata": {
    "colab": {
      "include_colab_link": true,
      "name": "03_regressao_linear.ipynb",
      "provenance": []
    },
    "interpreter": {
      "hash": "22f6bab55def2cab2159870198438f46de8e190d709b22092e52c9a14574a288"
    },
    "kernelspec": {
      "display_name": "Python 3.9.7 ('base')",
      "language": "python",
      "name": "python3"
    },
    "language_info": {
      "codemirror_mode": {
        "name": "ipython",
        "version": 3
      },
      "file_extension": ".py",
      "mimetype": "text/x-python",
      "name": "python",
      "nbconvert_exporter": "python",
      "pygments_lexer": "ipython3",
      "version": "3.9.7"
    },
    "orig_nbformat": 4
  },
  "nbformat": 4,
  "nbformat_minor": 0
}
