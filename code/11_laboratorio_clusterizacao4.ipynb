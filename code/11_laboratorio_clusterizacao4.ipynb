{
  "cells": [
    {
      "cell_type": "markdown",
      "metadata": {
        "id": "view-in-github",
        "colab_type": "text"
      },
      "source": [
        "<a href=\"https://colab.research.google.com/github/adolfoguimaraes/datascience/blob/main/code/11_laboratorio_clusterizacao4.ipynb\" target=\"_parent\"><img src=\"https://colab.research.google.com/assets/colab-badge.svg\" alt=\"Open In Colab\"/></a>"
      ]
    },
    {
      "cell_type": "markdown",
      "metadata": {
        "id": "2j2vCfRiRVKQ"
      },
      "source": [
        "# Laboratório de Clusterização\n",
        "\n",
        "O objetivo desse laboratório é usar algoritmos de clusterização para agrupar instâncias de um dataset que possui informações sobre espécies de animais. Você deve testar diferentes algoritmos de clusterização para gerar diferentes agrupamentos e analisar o resultado a partir da função `analyse_result`."
      ]
    },
    {
      "cell_type": "code",
      "execution_count": null,
      "metadata": {
        "id": "CCcx4duhRVKU"
      },
      "outputs": [],
      "source": [
        "import pandas as pd\n",
        "from sklearn.cluster import KMeans"
      ]
    },
    {
      "cell_type": "markdown",
      "metadata": {
        "id": "Mit30wo7RVKY"
      },
      "source": [
        "## Função Auxiliar"
      ]
    },
    {
      "cell_type": "code",
      "execution_count": null,
      "metadata": {
        "id": "ynh-muSzRVKZ"
      },
      "outputs": [],
      "source": [
        "# Função auxiliar para análise dos resultados. Não deve ser modificada. \n",
        "# Ela recebe como entrar o vetor com os clusters definidos na base.\n",
        "\n",
        "def analyse_result(clusters_):\n",
        "    compare_ = pd.read_csv(\"../datasets/clusterizacao/ZooCompare.csv\")\n",
        "    compare_.loc[:,'cluster'] = clusters_\n",
        "    compare_ = compare_.groupby(by=['cluster','class_name']).count()\n",
        "    compare_ = compare_.reset_index()\n",
        "\n",
        "    for c in list(set(clusters_)):\n",
        "        print(\"Cluster %i\" %c)\n",
        "        df_ = compare_[compare_['cluster'] == c]\n",
        "        for index, row in df_.iterrows():\n",
        "            print(\"\\t %s: %s\" % (row['class_name'],row['animal_name']))"
      ]
    },
    {
      "cell_type": "markdown",
      "metadata": {
        "id": "4GIAOdsKRVKa"
      },
      "source": [
        "## Dados"
      ]
    },
    {
      "cell_type": "code",
      "execution_count": null,
      "metadata": {
        "id": "taHIZzweRVKb",
        "outputId": "30dedc9d-245d-43bc-915b-72a21877fc78"
      },
      "outputs": [
        {
          "data": {
            "text/html": [
              "<div>\n",
              "<style scoped>\n",
              "    .dataframe tbody tr th:only-of-type {\n",
              "        vertical-align: middle;\n",
              "    }\n",
              "\n",
              "    .dataframe tbody tr th {\n",
              "        vertical-align: top;\n",
              "    }\n",
              "\n",
              "    .dataframe thead th {\n",
              "        text-align: right;\n",
              "    }\n",
              "</style>\n",
              "<table border=\"1\" class=\"dataframe\">\n",
              "  <thead>\n",
              "    <tr style=\"text-align: right;\">\n",
              "      <th></th>\n",
              "      <th>hair</th>\n",
              "      <th>feathers</th>\n",
              "      <th>eggs</th>\n",
              "      <th>milk</th>\n",
              "      <th>airborne</th>\n",
              "      <th>aquatic</th>\n",
              "      <th>predator</th>\n",
              "      <th>toothed</th>\n",
              "      <th>backbone</th>\n",
              "      <th>breathes</th>\n",
              "      <th>venomous</th>\n",
              "      <th>fins</th>\n",
              "      <th>legs</th>\n",
              "      <th>tail</th>\n",
              "      <th>domestic</th>\n",
              "      <th>catsize</th>\n",
              "    </tr>\n",
              "  </thead>\n",
              "  <tbody>\n",
              "    <tr>\n",
              "      <th>0</th>\n",
              "      <td>1</td>\n",
              "      <td>0</td>\n",
              "      <td>0</td>\n",
              "      <td>1</td>\n",
              "      <td>0</td>\n",
              "      <td>0</td>\n",
              "      <td>1</td>\n",
              "      <td>1</td>\n",
              "      <td>1</td>\n",
              "      <td>1</td>\n",
              "      <td>0</td>\n",
              "      <td>0</td>\n",
              "      <td>4</td>\n",
              "      <td>0</td>\n",
              "      <td>0</td>\n",
              "      <td>1</td>\n",
              "    </tr>\n",
              "    <tr>\n",
              "      <th>1</th>\n",
              "      <td>1</td>\n",
              "      <td>0</td>\n",
              "      <td>0</td>\n",
              "      <td>1</td>\n",
              "      <td>0</td>\n",
              "      <td>0</td>\n",
              "      <td>0</td>\n",
              "      <td>1</td>\n",
              "      <td>1</td>\n",
              "      <td>1</td>\n",
              "      <td>0</td>\n",
              "      <td>0</td>\n",
              "      <td>4</td>\n",
              "      <td>1</td>\n",
              "      <td>0</td>\n",
              "      <td>1</td>\n",
              "    </tr>\n",
              "    <tr>\n",
              "      <th>2</th>\n",
              "      <td>0</td>\n",
              "      <td>0</td>\n",
              "      <td>1</td>\n",
              "      <td>0</td>\n",
              "      <td>0</td>\n",
              "      <td>1</td>\n",
              "      <td>1</td>\n",
              "      <td>1</td>\n",
              "      <td>1</td>\n",
              "      <td>0</td>\n",
              "      <td>0</td>\n",
              "      <td>1</td>\n",
              "      <td>0</td>\n",
              "      <td>1</td>\n",
              "      <td>0</td>\n",
              "      <td>0</td>\n",
              "    </tr>\n",
              "    <tr>\n",
              "      <th>3</th>\n",
              "      <td>1</td>\n",
              "      <td>0</td>\n",
              "      <td>0</td>\n",
              "      <td>1</td>\n",
              "      <td>0</td>\n",
              "      <td>0</td>\n",
              "      <td>1</td>\n",
              "      <td>1</td>\n",
              "      <td>1</td>\n",
              "      <td>1</td>\n",
              "      <td>0</td>\n",
              "      <td>0</td>\n",
              "      <td>4</td>\n",
              "      <td>0</td>\n",
              "      <td>0</td>\n",
              "      <td>1</td>\n",
              "    </tr>\n",
              "    <tr>\n",
              "      <th>4</th>\n",
              "      <td>1</td>\n",
              "      <td>0</td>\n",
              "      <td>0</td>\n",
              "      <td>1</td>\n",
              "      <td>0</td>\n",
              "      <td>0</td>\n",
              "      <td>1</td>\n",
              "      <td>1</td>\n",
              "      <td>1</td>\n",
              "      <td>1</td>\n",
              "      <td>0</td>\n",
              "      <td>0</td>\n",
              "      <td>4</td>\n",
              "      <td>1</td>\n",
              "      <td>0</td>\n",
              "      <td>1</td>\n",
              "    </tr>\n",
              "    <tr>\n",
              "      <th>...</th>\n",
              "      <td>...</td>\n",
              "      <td>...</td>\n",
              "      <td>...</td>\n",
              "      <td>...</td>\n",
              "      <td>...</td>\n",
              "      <td>...</td>\n",
              "      <td>...</td>\n",
              "      <td>...</td>\n",
              "      <td>...</td>\n",
              "      <td>...</td>\n",
              "      <td>...</td>\n",
              "      <td>...</td>\n",
              "      <td>...</td>\n",
              "      <td>...</td>\n",
              "      <td>...</td>\n",
              "      <td>...</td>\n",
              "    </tr>\n",
              "    <tr>\n",
              "      <th>96</th>\n",
              "      <td>1</td>\n",
              "      <td>0</td>\n",
              "      <td>0</td>\n",
              "      <td>1</td>\n",
              "      <td>0</td>\n",
              "      <td>0</td>\n",
              "      <td>0</td>\n",
              "      <td>1</td>\n",
              "      <td>1</td>\n",
              "      <td>1</td>\n",
              "      <td>0</td>\n",
              "      <td>0</td>\n",
              "      <td>2</td>\n",
              "      <td>1</td>\n",
              "      <td>0</td>\n",
              "      <td>1</td>\n",
              "    </tr>\n",
              "    <tr>\n",
              "      <th>97</th>\n",
              "      <td>1</td>\n",
              "      <td>0</td>\n",
              "      <td>1</td>\n",
              "      <td>0</td>\n",
              "      <td>1</td>\n",
              "      <td>0</td>\n",
              "      <td>0</td>\n",
              "      <td>0</td>\n",
              "      <td>0</td>\n",
              "      <td>1</td>\n",
              "      <td>1</td>\n",
              "      <td>0</td>\n",
              "      <td>6</td>\n",
              "      <td>0</td>\n",
              "      <td>0</td>\n",
              "      <td>0</td>\n",
              "    </tr>\n",
              "    <tr>\n",
              "      <th>98</th>\n",
              "      <td>1</td>\n",
              "      <td>0</td>\n",
              "      <td>0</td>\n",
              "      <td>1</td>\n",
              "      <td>0</td>\n",
              "      <td>0</td>\n",
              "      <td>1</td>\n",
              "      <td>1</td>\n",
              "      <td>1</td>\n",
              "      <td>1</td>\n",
              "      <td>0</td>\n",
              "      <td>0</td>\n",
              "      <td>4</td>\n",
              "      <td>1</td>\n",
              "      <td>0</td>\n",
              "      <td>1</td>\n",
              "    </tr>\n",
              "    <tr>\n",
              "      <th>99</th>\n",
              "      <td>0</td>\n",
              "      <td>0</td>\n",
              "      <td>1</td>\n",
              "      <td>0</td>\n",
              "      <td>0</td>\n",
              "      <td>0</td>\n",
              "      <td>0</td>\n",
              "      <td>0</td>\n",
              "      <td>0</td>\n",
              "      <td>1</td>\n",
              "      <td>0</td>\n",
              "      <td>0</td>\n",
              "      <td>0</td>\n",
              "      <td>0</td>\n",
              "      <td>0</td>\n",
              "      <td>0</td>\n",
              "    </tr>\n",
              "    <tr>\n",
              "      <th>100</th>\n",
              "      <td>0</td>\n",
              "      <td>1</td>\n",
              "      <td>1</td>\n",
              "      <td>0</td>\n",
              "      <td>1</td>\n",
              "      <td>0</td>\n",
              "      <td>0</td>\n",
              "      <td>0</td>\n",
              "      <td>1</td>\n",
              "      <td>1</td>\n",
              "      <td>0</td>\n",
              "      <td>0</td>\n",
              "      <td>2</td>\n",
              "      <td>1</td>\n",
              "      <td>0</td>\n",
              "      <td>0</td>\n",
              "    </tr>\n",
              "  </tbody>\n",
              "</table>\n",
              "<p>101 rows × 16 columns</p>\n",
              "</div>"
            ],
            "text/plain": [
              "     hair  feathers  eggs  milk  airborne  aquatic  predator  toothed  \\\n",
              "0       1         0     0     1         0        0         1        1   \n",
              "1       1         0     0     1         0        0         0        1   \n",
              "2       0         0     1     0         0        1         1        1   \n",
              "3       1         0     0     1         0        0         1        1   \n",
              "4       1         0     0     1         0        0         1        1   \n",
              "..    ...       ...   ...   ...       ...      ...       ...      ...   \n",
              "96      1         0     0     1         0        0         0        1   \n",
              "97      1         0     1     0         1        0         0        0   \n",
              "98      1         0     0     1         0        0         1        1   \n",
              "99      0         0     1     0         0        0         0        0   \n",
              "100     0         1     1     0         1        0         0        0   \n",
              "\n",
              "     backbone  breathes  venomous  fins  legs  tail  domestic  catsize  \n",
              "0           1         1         0     0     4     0         0        1  \n",
              "1           1         1         0     0     4     1         0        1  \n",
              "2           1         0         0     1     0     1         0        0  \n",
              "3           1         1         0     0     4     0         0        1  \n",
              "4           1         1         0     0     4     1         0        1  \n",
              "..        ...       ...       ...   ...   ...   ...       ...      ...  \n",
              "96          1         1         0     0     2     1         0        1  \n",
              "97          0         1         1     0     6     0         0        0  \n",
              "98          1         1         0     0     4     1         0        1  \n",
              "99          0         1         0     0     0     0         0        0  \n",
              "100         1         1         0     0     2     1         0        0  \n",
              "\n",
              "[101 rows x 16 columns]"
            ]
          },
          "execution_count": 4,
          "metadata": {},
          "output_type": "execute_result"
        }
      ],
      "source": [
        "dataset_zoo = pd.read_csv(\"../datasets/clusterizacao/ZooDatasetCluster.csv\")\n",
        "dataset_zoo"
      ]
    },
    {
      "cell_type": "markdown",
      "metadata": {
        "id": "khGQxK46RVKd"
      },
      "source": [
        "## Algoritmos de Cluster"
      ]
    },
    {
      "cell_type": "code",
      "execution_count": null,
      "metadata": {
        "id": "j60exnIhRVKd"
      },
      "outputs": [],
      "source": [
        "kmeans = KMeans(n_clusters=2)\n",
        "kmeans.fit(dataset_zoo)\n",
        "clusters = kmeans.labels_.tolist()"
      ]
    },
    {
      "cell_type": "code",
      "execution_count": null,
      "metadata": {
        "id": "hZ6pfMs_RVKf",
        "outputId": "a2a9f195-98fe-461c-e933-9caf82d002d1"
      },
      "outputs": [
        {
          "name": "stdout",
          "output_type": "stream",
          "text": [
            "Cluster 0\n",
            "\t Amphibian: 4\n",
            "\t Bug: 8\n",
            "\t Invertebrate: 6\n",
            "\t Mammal: 31\n",
            "\t Reptile: 2\n",
            "Cluster 1\n",
            "\t Bird: 20\n",
            "\t Fish: 13\n",
            "\t Invertebrate: 4\n",
            "\t Mammal: 10\n",
            "\t Reptile: 3\n"
          ]
        }
      ],
      "source": [
        "analyse_result(clusters_=clusters)"
      ]
    }
  ],
  "metadata": {
    "interpreter": {
      "hash": "5063cfe71bac910fcf2a966b61d684c7ab1acf2cfb80646acb374e5182a49f95"
    },
    "kernelspec": {
      "display_name": "Python 3.9.7 ('datascience')",
      "language": "python",
      "name": "python3"
    },
    "language_info": {
      "codemirror_mode": {
        "name": "ipython",
        "version": 3
      },
      "file_extension": ".py",
      "mimetype": "text/x-python",
      "name": "python",
      "nbconvert_exporter": "python",
      "pygments_lexer": "ipython3",
      "version": "3.9.7"
    },
    "orig_nbformat": 4,
    "colab": {
      "name": "11_laboratorio_clusterizacao4.ipynb",
      "provenance": [],
      "include_colab_link": true
    }
  },
  "nbformat": 4,
  "nbformat_minor": 0
}