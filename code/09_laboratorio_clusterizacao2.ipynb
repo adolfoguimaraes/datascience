{
  "cells": [
    {
      "cell_type": "markdown",
      "metadata": {
        "id": "OsCNkUufrY-6"
      },
      "source": [
        "# Laboratório 602 - Cluterização de Documentos Textuais\n",
        "\n",
        "Nesse laboratório vamos aplicar técnicas de clusterização para agrupar documentos textuais. Como base de textos, vamos usar as sinopses dos TOP 250 filmes do site IMDB. As informações serão coletadas a partir da API [imdbpy](https://imdbpy.readthedocs.io/).\n",
        "\n",
        "Vamos seguir as seguinte estratégia:\n",
        "\n",
        "1. Instalação do pacote **imdbpy**;\n",
        "2. Coletar as informações dos filmes utilizando a biblioteca;\n",
        "3. Pré-processar os textos coletados para adequar ao formato aceito pelos algoritmos de clusterização;\n",
        "4. Aplicar a clusterização avaliando o valor da métrica [Sillhoutte](https://scikit-learn.org/stable/modules/generated/sklearn.metrics.silhouette_score.html) e analisando o [Dendrograma](https://docs.scipy.org/doc/scipy/reference/generated/scipy.cluster.hierarchy.dendrogram.html);\n",
        "5. Analisar os clusters  gerados a partir da análise dos centroídes.\n",
        "6. Por fim, será proposto uma atividade para clusterização de documentos textuais em português. \n",
        "\n",
        "Vamos começar :)"
      ]
    },
    {
      "cell_type": "markdown",
      "metadata": {
        "id": "FXBTHcnStXgf"
      },
      "source": [
        "## 1. Instalação  do pacote `imdbpy`.\n",
        "\n",
        "O pacote imdbpy permite coletar informações que são publicadas no site IMDb, um dos principais sites de cinema do mundo. Com a API é possível peagar informações sobre os filmes como título, ano, gênero, lista de atores, autores e demais informações. Veja a documentação para verificar as informações que podem ser coletadas."
      ]
    },
    {
      "cell_type": "code",
      "execution_count": null,
      "metadata": {
        "colab": {
          "base_uri": "https://localhost:8080/"
        },
        "id": "4y8ruuNzyEPQ",
        "outputId": "ed6cbf43-4b67-439b-8eee-03dd5fcaa9bd"
      },
      "outputs": [
        {
          "name": "stdout",
          "output_type": "stream",
          "text": [
            "Collecting imdbpy\n",
            "\u001b[?25l  Downloading https://files.pythonhosted.org/packages/93/49/1d6c29154deed34de46340bf968839a63639f1b23b6f7402b861a222376c/IMDbPY-2021.4.18-py3-none-any.whl (298kB)\n",
            "\r\u001b[K     |█                               | 10kB 14.3MB/s eta 0:00:01\r\u001b[K     |██▏                             | 20kB 17.9MB/s eta 0:00:01\r\u001b[K     |███▎                            | 30kB 21.3MB/s eta 0:00:01\r\u001b[K     |████▍                           | 40kB 23.4MB/s eta 0:00:01\r\u001b[K     |█████▌                          | 51kB 25.1MB/s eta 0:00:01\r\u001b[K     |██████▋                         | 61kB 27.2MB/s eta 0:00:01\r\u001b[K     |███████▊                        | 71kB 28.1MB/s eta 0:00:01\r\u001b[K     |████████▉                       | 81kB 27.8MB/s eta 0:00:01\r\u001b[K     |█████████▉                      | 92kB 27.9MB/s eta 0:00:01\r\u001b[K     |███████████                     | 102kB 29.2MB/s eta 0:00:01\r\u001b[K     |████████████                    | 112kB 29.2MB/s eta 0:00:01\r\u001b[K     |█████████████▏                  | 122kB 29.2MB/s eta 0:00:01\r\u001b[K     |██████████████▎                 | 133kB 29.2MB/s eta 0:00:01\r\u001b[K     |███████████████▍                | 143kB 29.2MB/s eta 0:00:01\r\u001b[K     |████████████████▌               | 153kB 29.2MB/s eta 0:00:01\r\u001b[K     |█████████████████▋              | 163kB 29.2MB/s eta 0:00:01\r\u001b[K     |██████████████████▋             | 174kB 29.2MB/s eta 0:00:01\r\u001b[K     |███████████████████▊            | 184kB 29.2MB/s eta 0:00:01\r\u001b[K     |████████████████████▉           | 194kB 29.2MB/s eta 0:00:01\r\u001b[K     |██████████████████████          | 204kB 29.2MB/s eta 0:00:01\r\u001b[K     |███████████████████████         | 215kB 29.2MB/s eta 0:00:01\r\u001b[K     |████████████████████████▏       | 225kB 29.2MB/s eta 0:00:01\r\u001b[K     |█████████████████████████▎      | 235kB 29.2MB/s eta 0:00:01\r\u001b[K     |██████████████████████████▍     | 245kB 29.2MB/s eta 0:00:01\r\u001b[K     |███████████████████████████▍    | 256kB 29.2MB/s eta 0:00:01\r\u001b[K     |████████████████████████████▌   | 266kB 29.2MB/s eta 0:00:01\r\u001b[K     |█████████████████████████████▋  | 276kB 29.2MB/s eta 0:00:01\r\u001b[K     |██████████████████████████████▊ | 286kB 29.2MB/s eta 0:00:01\r\u001b[K     |███████████████████████████████▉| 296kB 29.2MB/s eta 0:00:01\r\u001b[K     |████████████████████████████████| 307kB 29.2MB/s \n",
            "\u001b[?25hRequirement already satisfied: SQLAlchemy in /usr/local/lib/python3.7/dist-packages (from imdbpy) (1.4.15)\n",
            "Requirement already satisfied: lxml in /usr/local/lib/python3.7/dist-packages (from imdbpy) (4.2.6)\n",
            "Requirement already satisfied: greenlet!=0.4.17; python_version >= \"3\" in /usr/local/lib/python3.7/dist-packages (from SQLAlchemy->imdbpy) (1.1.0)\n",
            "Requirement already satisfied: importlib-metadata; python_version < \"3.8\" in /usr/local/lib/python3.7/dist-packages (from SQLAlchemy->imdbpy) (4.0.1)\n",
            "Requirement already satisfied: typing-extensions>=3.6.4; python_version < \"3.8\" in /usr/local/lib/python3.7/dist-packages (from importlib-metadata; python_version < \"3.8\"->SQLAlchemy->imdbpy) (3.7.4.3)\n",
            "Requirement already satisfied: zipp>=0.5 in /usr/local/lib/python3.7/dist-packages (from importlib-metadata; python_version < \"3.8\"->SQLAlchemy->imdbpy) (3.4.1)\n",
            "Installing collected packages: imdbpy\n",
            "Successfully installed imdbpy-2021.4.18\n"
          ]
        }
      ],
      "source": [
        "# Instalação do pacote imdbpy\n",
        "!pip install imdbpy"
      ]
    },
    {
      "cell_type": "markdown",
      "metadata": {
        "id": "NfXxTLYyxrIE"
      },
      "source": [
        "## 2. Coletar informações dos filmes utilizando a biblioteca `imdbpy`\n",
        "\n",
        "Nessa etapa vamos coletar as informações dos top 250 filmes do IMDbPy e armazenar em um dataframe pandas. Para isso, vamos importar os pacotes necessários e executar a coleta das informações. "
      ]
    },
    {
      "cell_type": "code",
      "execution_count": 1,
      "metadata": {
        "id": "_3dOqTadx9-W"
      },
      "outputs": [],
      "source": [
        "# Imports necessários para essa etapa\n",
        "\n",
        "from imdb import IMDb\n",
        "import pandas as pd"
      ]
    },
    {
      "cell_type": "code",
      "execution_count": 2,
      "metadata": {
        "id": "3fFE0k5GyMbv"
      },
      "outputs": [],
      "source": [
        "# Coletar as referências as fiilmes\n",
        "\n",
        "imdb = IMDb()\n",
        "top250 = imdb.get_top250_movies()"
      ]
    },
    {
      "cell_type": "code",
      "execution_count": 3,
      "metadata": {
        "colab": {
          "base_uri": "https://localhost:8080/"
        },
        "id": "ZvyyEJZRyXDj",
        "outputId": "08b298ce-4381-48c7-9429-7bff80716483"
      },
      "outputs": [
        {
          "name": "stdout",
          "output_type": "stream",
          "text": [
            "Movie 0 - collecting The Shawshank Redemption\n",
            "Movie 1 - collecting The Godfather\n",
            "Movie 2 - collecting The Dark Knight\n",
            "Movie 3 - collecting The Godfather: Part II\n",
            "Movie 4 - collecting 12 Angry Men\n",
            "Movie 5 - collecting Schindler's List\n",
            "Movie 6 - collecting The Lord of the Rings: The Return of the King\n",
            "Movie 7 - collecting Pulp Fiction\n",
            "Movie 8 - collecting The Lord of the Rings: The Fellowship of the Ring\n",
            "Movie 9 - collecting The Good, the Bad and the Ugly\n",
            "Movie 10 - collecting Forrest Gump\n",
            "Movie 11 - collecting Fight Club\n",
            "Movie 12 - collecting Inception\n",
            "Movie 13 - collecting The Lord of the Rings: The Two Towers\n",
            "Movie 14 - collecting Star Wars: Episode V - The Empire Strikes Back\n",
            "Movie 15 - collecting The Matrix\n",
            "Movie 16 - collecting Goodfellas\n",
            "Movie 17 - collecting One Flew Over the Cuckoo's Nest\n",
            "Movie 18 - collecting Se7en\n",
            "Movie 19 - collecting Seven Samurai\n",
            "Movie 20 - collecting It's a Wonderful Life\n",
            "Movie 21 - collecting The Silence of the Lambs\n",
            "Movie 22 - collecting City of God\n",
            "Movie 23 - collecting Saving Private Ryan\n",
            "Movie 24 - collecting Life Is Beautiful\n",
            "Movie 25 - collecting The Green Mile\n",
            "Movie 26 - collecting Star Wars\n",
            "Movie 27 - collecting Interstellar\n",
            "Movie 28 - collecting Terminator 2: Judgment Day\n",
            "Movie 29 - collecting Back to the Future\n",
            "Movie 30 - collecting Spirited Away\n",
            "Movie 31 - collecting Psycho\n",
            "Movie 32 - collecting The Pianist\n",
            "Movie 33 - collecting Léon: The Professional\n",
            "Movie 34 - collecting Parasite\n",
            "Movie 35 - collecting The Lion King\n",
            "Movie 36 - collecting American History X\n",
            "Movie 37 - collecting Gladiator\n",
            "Movie 38 - collecting The Usual Suspects\n",
            "Movie 39 - collecting The Departed\n",
            "Movie 40 - collecting The Prestige\n",
            "Movie 41 - collecting Casablanca\n",
            "Movie 42 - collecting Whiplash\n",
            "Movie 43 - collecting The Intouchables\n",
            "Movie 44 - collecting Modern Times\n",
            "Movie 45 - collecting Once Upon a Time in the West\n",
            "Movie 46 - collecting Hara-Kiri\n",
            "Movie 47 - collecting Grave of the Fireflies\n",
            "Movie 48 - collecting Rear Window\n",
            "Movie 49 - collecting Alien\n",
            "Movie 50 - collecting City Lights\n",
            "Movie 51 - collecting Cinema Paradiso\n",
            "Movie 52 - collecting Memento\n",
            "Movie 53 - collecting Apocalypse Now\n",
            "Movie 54 - collecting Indiana Jones and the Raiders of the Lost Ark\n",
            "Movie 55 - collecting Django Unchained\n",
            "Movie 56 - collecting WALL·E\n",
            "Movie 57 - collecting The Lives of Others\n",
            "Movie 58 - collecting Sunset Blvd.\n",
            "Movie 59 - collecting Paths of Glory\n",
            "Movie 60 - collecting The Shining\n",
            "Movie 61 - collecting The Great Dictator\n",
            "Movie 62 - collecting Witness for the Prosecution\n",
            "Movie 63 - collecting Avengers: Infinity War\n",
            "Movie 64 - collecting Aliens\n",
            "Movie 65 - collecting American Beauty\n",
            "Movie 66 - collecting Dr. Strangelove or: How I Learned to Stop Worrying and Love the Bomb\n",
            "Movie 67 - collecting The Dark Knight Rises\n",
            "Movie 68 - collecting Spider-Man: Into the Spider-Verse\n",
            "Movie 69 - collecting Joker\n",
            "Movie 70 - collecting Oldboy\n",
            "Movie 71 - collecting Braveheart\n",
            "Movie 72 - collecting Amadeus\n",
            "Movie 73 - collecting Toy Story\n",
            "Movie 74 - collecting The Boat\n",
            "Movie 75 - collecting Coco\n",
            "Movie 76 - collecting Inglourious Basterds\n",
            "Movie 77 - collecting Princess Mononoke\n",
            "Movie 78 - collecting Once Upon a Time in America\n",
            "Movie 79 - collecting Avengers: Endgame\n",
            "Movie 80 - collecting Good Will Hunting\n",
            "Movie 81 - collecting Requiem for a Dream\n",
            "Movie 82 - collecting Toy Story 3\n",
            "Movie 83 - collecting Singin' in the Rain\n",
            "Movie 84 - collecting Your Name.\n",
            "Movie 85 - collecting Star Wars: Episode VI - Return of the Jedi\n",
            "Movie 86 - collecting 3 Idiots\n",
            "Movie 87 - collecting Spider-Man: No Way Home\n",
            "Movie 88 - collecting 2001: A Space Odyssey\n",
            "Movie 89 - collecting Reservoir Dogs\n",
            "Movie 90 - collecting Eternal Sunshine of the Spotless Mind\n",
            "Movie 91 - collecting High and Low\n",
            "Movie 92 - collecting Citizen Kane\n",
            "Movie 93 - collecting Capernaum\n",
            "Movie 94 - collecting Lawrence of Arabia\n",
            "Movie 95 - collecting M\n",
            "Movie 96 - collecting North by Northwest\n",
            "Movie 97 - collecting The Hunt\n",
            "Movie 98 - collecting Vertigo\n",
            "Movie 99 - collecting Amélie\n",
            "Movie 100 - collecting A Clockwork Orange\n",
            "Movie 101 - collecting Come and See\n",
            "Movie 102 - collecting Full Metal Jacket\n",
            "Movie 103 - collecting Double Indemnity\n",
            "Movie 104 - collecting The Apartment\n",
            "Movie 105 - collecting Scarface\n",
            "Movie 106 - collecting Taxi Driver\n",
            "Movie 107 - collecting To Kill a Mockingbird\n",
            "Movie 108 - collecting The Sting\n",
            "Movie 109 - collecting Ikiru\n",
            "Movie 110 - collecting Hamilton\n",
            "Movie 111 - collecting L.A. Confidential\n",
            "Movie 112 - collecting Up\n",
            "Movie 113 - collecting Heat\n",
            "Movie 114 - collecting Metropolis\n",
            "Movie 115 - collecting Snatch\n",
            "Movie 116 - collecting A Separation\n",
            "Movie 117 - collecting Die Hard\n",
            "Movie 118 - collecting Indiana Jones and the Last Crusade\n",
            "Movie 119 - collecting Incendies\n",
            "Movie 120 - collecting Bicycle Thieves\n",
            "Movie 121 - collecting 1917\n",
            "Movie 122 - collecting Like Stars on Earth\n",
            "Movie 123 - collecting Downfall\n",
            "Movie 124 - collecting For a Few Dollars More\n",
            "Movie 125 - collecting Batman Begins\n",
            "Movie 126 - collecting Dangal\n",
            "Movie 127 - collecting The Kid\n",
            "Movie 128 - collecting Some Like It Hot\n",
            "Movie 129 - collecting The Father\n",
            "Movie 130 - collecting All About Eve\n",
            "Movie 131 - collecting Green Book\n",
            "Movie 132 - collecting The Wolf of Wall Street\n",
            "Movie 133 - collecting Judgment at Nuremberg\n",
            "Movie 134 - collecting Unforgiven\n",
            "Movie 135 - collecting Pan's Labyrinth\n",
            "Movie 136 - collecting Casino\n",
            "Movie 137 - collecting Ran\n",
            "Movie 138 - collecting Monty Python and the Holy Grail\n",
            "Movie 139 - collecting A Beautiful Mind\n",
            "Movie 140 - collecting There Will Be Blood\n",
            "Movie 141 - collecting The Sixth Sense\n",
            "Movie 142 - collecting The Truman Show\n",
            "Movie 143 - collecting Yojimbo\n",
            "Movie 144 - collecting The Treasure of the Sierra Madre\n",
            "Movie 145 - collecting Rashomon\n",
            "Movie 146 - collecting The Great Escape\n",
            "Movie 147 - collecting Shutter Island\n",
            "Movie 148 - collecting Kill Bill: Vol. 1\n",
            "Movie 149 - collecting Jurassic Park\n",
            "Movie 150 - collecting No Country for Old Men\n",
            "Movie 151 - collecting The Elephant Man\n",
            "Movie 152 - collecting Raging Bull\n",
            "Movie 153 - collecting Finding Nemo\n",
            "Movie 154 - collecting Chinatown\n",
            "Movie 155 - collecting Gone with the Wind\n",
            "Movie 156 - collecting V for Vendetta\n",
            "Movie 157 - collecting Inside Out\n",
            "Movie 158 - collecting Lock, Stock and Two Smoking Barrels\n",
            "Movie 159 - collecting The Thing\n",
            "Movie 160 - collecting Dial M for Murder\n",
            "Movie 161 - collecting The Secret in Their Eyes\n",
            "Movie 162 - collecting The Bridge on the River Kwai\n",
            "Movie 163 - collecting Howl's Moving Castle\n",
            "Movie 164 - collecting Trainspotting\n",
            "Movie 165 - collecting Three Billboards Outside Ebbing, Missouri\n",
            "Movie 166 - collecting Gran Torino\n",
            "Movie 167 - collecting Warrior\n",
            "Movie 168 - collecting Fargo\n",
            "Movie 169 - collecting My Neighbor Totoro\n",
            "Movie 170 - collecting Prisoners\n",
            "Movie 171 - collecting Million Dollar Baby\n",
            "Movie 172 - collecting The Gold Rush\n",
            "Movie 173 - collecting Blade Runner\n",
            "Movie 174 - collecting The Batman\n",
            "Movie 175 - collecting On the Waterfront\n",
            "Movie 176 - collecting Catch Me If You Can\n",
            "Movie 177 - collecting The Third Man\n",
            "Movie 178 - collecting Children of Heaven\n",
            "Movie 179 - collecting The General\n",
            "Movie 180 - collecting Ben-Hur\n",
            "Movie 181 - collecting 12 Years a Slave\n",
            "Movie 182 - collecting Wild Strawberries\n",
            "Movie 183 - collecting Gone Girl\n",
            "Movie 184 - collecting The Deer Hunter\n",
            "Movie 185 - collecting Before Sunrise\n",
            "Movie 186 - collecting In the Name of the Father\n",
            "Movie 187 - collecting Harry Potter and the Deathly Hallows: Part 2\n",
            "Movie 188 - collecting Mr. Smith Goes to Washington\n",
            "Movie 189 - collecting The Grand Budapest Hotel\n",
            "Movie 190 - collecting Sherlock Jr.\n",
            "Movie 191 - collecting The Wages of Fear\n",
            "Movie 192 - collecting Room\n",
            "Movie 193 - collecting Barry Lyndon\n",
            "Movie 194 - collecting Memories of Murder\n",
            "Movie 195 - collecting The Seventh Seal\n",
            "Movie 196 - collecting Hacksaw Ridge\n",
            "Movie 197 - collecting Wild Tales\n",
            "Movie 198 - collecting Klaus\n",
            "Movie 199 - collecting The Big Lebowski\n",
            "Movie 200 - collecting Pather Panchali\n",
            "Movie 201 - collecting How to Train Your Dragon\n",
            "Movie 202 - collecting Mad Max: Fury Road\n",
            "Movie 203 - collecting Mary and Max\n",
            "Movie 204 - collecting The Passion of Joan of Arc\n",
            "Movie 205 - collecting Jaws\n",
            "Movie 206 - collecting Monsters, Inc.\n",
            "Movie 207 - collecting Hotel Rwanda\n",
            "Movie 208 - collecting Tokyo Story\n",
            "Movie 209 - collecting Dead Poets Society\n",
            "Movie 210 - collecting Platoon\n",
            "Movie 211 - collecting Rocky\n",
            "Movie 212 - collecting Ford v Ferrari\n",
            "Movie 213 - collecting Stand by Me\n",
            "Movie 214 - collecting The Terminator\n",
            "Movie 215 - collecting Rush\n",
            "Movie 216 - collecting Into the Wild\n",
            "Movie 217 - collecting Spotlight\n",
            "Movie 218 - collecting Network\n",
            "Movie 219 - collecting The Wizard of Oz\n",
            "Movie 220 - collecting Logan\n",
            "Movie 221 - collecting Groundhog Day\n",
            "Movie 222 - collecting Ratatouille\n",
            "Movie 223 - collecting The Exorcist\n",
            "Movie 224 - collecting Before Sunset\n",
            "Movie 225 - collecting The Best Years of Our Lives\n",
            "Movie 226 - collecting The Incredibles\n",
            "Movie 227 - collecting The Battle of Algiers\n",
            "Movie 228 - collecting Rebecca\n",
            "Movie 229 - collecting To Be or Not to Be\n",
            "Movie 230 - collecting The Grapes of Wrath\n",
            "Movie 231 - collecting Cool Hand Luke\n",
            "Movie 232 - collecting Amores perros\n",
            "Movie 233 - collecting Hachi: A Dog's Tale\n",
            "Movie 234 - collecting Dersu Uzala\n",
            "Movie 235 - collecting My Father and My Son\n",
            "Movie 236 - collecting The 400 Blows\n",
            "Movie 237 - collecting Persona\n",
            "Movie 238 - collecting Life of Brian\n",
            "Movie 239 - collecting La Haine\n",
            "Movie 240 - collecting Pirates of the Caribbean: The Curse of the Black Pearl\n",
            "Movie 241 - collecting It Happened One Night\n",
            "Movie 242 - collecting The Sound of Music\n",
            "Movie 243 - collecting The Handmaiden\n",
            "Movie 244 - collecting Gandhi\n",
            "Movie 245 - collecting Aladdin\n",
            "Movie 246 - collecting The Help\n",
            "Movie 247 - collecting Beauty and the Beast\n",
            "Movie 248 - collecting Rififi\n",
            "Movie 249 - collecting Dances with Wolves\n"
          ]
        }
      ],
      "source": [
        "# Coletar as informações textuais dos filmes e criar o dataframe\n",
        "\n",
        "all_movies = {}\n",
        "count = 0\n",
        "\n",
        "for movie in top250:\n",
        "  imdb.update(movie, info=['plot'])\n",
        "  print(\"Movie %i - collecting %s\" % (count, movie['title']))\n",
        "  all_movies[count] = movie\n",
        "  count += 1"
      ]
    },
    {
      "cell_type": "code",
      "execution_count": 4,
      "metadata": {
        "id": "DgausK7HzM0p"
      },
      "outputs": [],
      "source": [
        "# Os textos são coletados a partir da variável synopsis, que consiste na sinopse do filme e da variável plot \n",
        "# que são resumos escritos pelos usuários do site. Essas duas variáveis são concatenadas em um único texto\n",
        "# que é associado ao filme. \n",
        "\n",
        "movie_database = []\n",
        "count = 0\n",
        "\n",
        "for m in all_movies:\n",
        "  movie_instance = {}\n",
        "  movie = all_movies[m]\n",
        "  movie_instance['id'] = movie.movieID\n",
        "  movie_instance['movie'] = movie['title']\n",
        "  movie_instance['year'] = movie['year']\n",
        "\n",
        "  text_ = \"\"\n",
        "\n",
        "  if 'synopsis' in movie.keys():\n",
        "    for synopsi in movie['synopsis']:\n",
        "      text_ += synopsi + \" \"\n",
        "    \n",
        "  if 'plot' in movie.keys():\n",
        "    for plot in movie['plot']:\n",
        "      text_ += plot + \" \"\n",
        "\n",
        "  movie_instance['text'] = text_\n",
        "\n",
        "  if len(movie_instance) > 0:\n",
        "    movie_database.append(movie_instance)\n",
        "\n"
      ]
    },
    {
      "cell_type": "code",
      "execution_count": 5,
      "metadata": {
        "colab": {
          "base_uri": "https://localhost:8080/",
          "height": 423
        },
        "id": "qQWOsxtV0amn",
        "outputId": "18864915-cc12-45fa-bca9-cd3f021a1879"
      },
      "outputs": [
        {
          "data": {
            "text/html": [
              "<div>\n",
              "<style scoped>\n",
              "    .dataframe tbody tr th:only-of-type {\n",
              "        vertical-align: middle;\n",
              "    }\n",
              "\n",
              "    .dataframe tbody tr th {\n",
              "        vertical-align: top;\n",
              "    }\n",
              "\n",
              "    .dataframe thead th {\n",
              "        text-align: right;\n",
              "    }\n",
              "</style>\n",
              "<table border=\"1\" class=\"dataframe\">\n",
              "  <thead>\n",
              "    <tr style=\"text-align: right;\">\n",
              "      <th></th>\n",
              "      <th>id</th>\n",
              "      <th>movie</th>\n",
              "      <th>year</th>\n",
              "      <th>text</th>\n",
              "    </tr>\n",
              "  </thead>\n",
              "  <tbody>\n",
              "    <tr>\n",
              "      <th>0</th>\n",
              "      <td>0111161</td>\n",
              "      <td>The Shawshank Redemption</td>\n",
              "      <td>1994</td>\n",
              "      <td>In 1947, Andy Dufresne (Tim Robbins), a banker...</td>\n",
              "    </tr>\n",
              "    <tr>\n",
              "      <th>1</th>\n",
              "      <td>0068646</td>\n",
              "      <td>The Godfather</td>\n",
              "      <td>1972</td>\n",
              "      <td>In late summer 1945, guests are gathered for t...</td>\n",
              "    </tr>\n",
              "    <tr>\n",
              "      <th>2</th>\n",
              "      <td>0468569</td>\n",
              "      <td>The Dark Knight</td>\n",
              "      <td>2008</td>\n",
              "      <td>The movie begins with a gang of men with clown...</td>\n",
              "    </tr>\n",
              "    <tr>\n",
              "      <th>3</th>\n",
              "      <td>0071562</td>\n",
              "      <td>The Godfather: Part II</td>\n",
              "      <td>1974</td>\n",
              "      <td>The Godfather Part II presents two parallel st...</td>\n",
              "    </tr>\n",
              "    <tr>\n",
              "      <th>4</th>\n",
              "      <td>0050083</td>\n",
              "      <td>12 Angry Men</td>\n",
              "      <td>1957</td>\n",
              "      <td>In a New York City courthouse, an eighteen-yea...</td>\n",
              "    </tr>\n",
              "    <tr>\n",
              "      <th>...</th>\n",
              "      <td>...</td>\n",
              "      <td>...</td>\n",
              "      <td>...</td>\n",
              "      <td>...</td>\n",
              "    </tr>\n",
              "    <tr>\n",
              "      <th>245</th>\n",
              "      <td>0103639</td>\n",
              "      <td>Aladdin</td>\n",
              "      <td>1992</td>\n",
              "      <td>A street peddler (Robin Williams) is guiding t...</td>\n",
              "    </tr>\n",
              "    <tr>\n",
              "      <th>246</th>\n",
              "      <td>1454029</td>\n",
              "      <td>The Help</td>\n",
              "      <td>2011</td>\n",
              "      <td>In civil-rights era Jackson, Mississippi, 23-y...</td>\n",
              "    </tr>\n",
              "    <tr>\n",
              "      <th>247</th>\n",
              "      <td>0101414</td>\n",
              "      <td>Beauty and the Beast</td>\n",
              "      <td>1991</td>\n",
              "      <td>In the prologue, told through stained glass wi...</td>\n",
              "    </tr>\n",
              "    <tr>\n",
              "      <th>248</th>\n",
              "      <td>0048021</td>\n",
              "      <td>Rififi</td>\n",
              "      <td>1955</td>\n",
              "      <td>Tony \"le Stéphanois\" has done five years for a...</td>\n",
              "    </tr>\n",
              "    <tr>\n",
              "      <th>249</th>\n",
              "      <td>0099348</td>\n",
              "      <td>Dances with Wolves</td>\n",
              "      <td>1990</td>\n",
              "      <td>During a US Civil War battle in Tennessee, Uni...</td>\n",
              "    </tr>\n",
              "  </tbody>\n",
              "</table>\n",
              "<p>250 rows × 4 columns</p>\n",
              "</div>"
            ],
            "text/plain": [
              "          id                     movie  year  \\\n",
              "0    0111161  The Shawshank Redemption  1994   \n",
              "1    0068646             The Godfather  1972   \n",
              "2    0468569           The Dark Knight  2008   \n",
              "3    0071562    The Godfather: Part II  1974   \n",
              "4    0050083              12 Angry Men  1957   \n",
              "..       ...                       ...   ...   \n",
              "245  0103639                   Aladdin  1992   \n",
              "246  1454029                  The Help  2011   \n",
              "247  0101414      Beauty and the Beast  1991   \n",
              "248  0048021                    Rififi  1955   \n",
              "249  0099348        Dances with Wolves  1990   \n",
              "\n",
              "                                                  text  \n",
              "0    In 1947, Andy Dufresne (Tim Robbins), a banker...  \n",
              "1    In late summer 1945, guests are gathered for t...  \n",
              "2    The movie begins with a gang of men with clown...  \n",
              "3    The Godfather Part II presents two parallel st...  \n",
              "4    In a New York City courthouse, an eighteen-yea...  \n",
              "..                                                 ...  \n",
              "245  A street peddler (Robin Williams) is guiding t...  \n",
              "246  In civil-rights era Jackson, Mississippi, 23-y...  \n",
              "247  In the prologue, told through stained glass wi...  \n",
              "248  Tony \"le Stéphanois\" has done five years for a...  \n",
              "249  During a US Civil War battle in Tennessee, Uni...  \n",
              "\n",
              "[250 rows x 4 columns]"
            ]
          },
          "execution_count": 5,
          "metadata": {},
          "output_type": "execute_result"
        }
      ],
      "source": [
        "# Criando o Dataframe pandas\n",
        "\n",
        "dataframe_movie =  pd.DataFrame(movie_database)\n",
        "dataframe_movie"
      ]
    },
    {
      "cell_type": "markdown",
      "metadata": {
        "id": "9891DTYG1pHb"
      },
      "source": [
        "## 3. Pré-processar os textos coletados para adequar ao formato aceito pelos algoritmos de clusterização;\n",
        "\n",
        "A terceira etapa consiste em pré-processa os textos de forma a gerar uma estrutura que possa ser utilizada como entrada dos algoritmos de clusterização. Essa estrutura é uma matriz na qual as linhas representam os textos e as colunas o vocabulário de toda coleção de textos. \n",
        "\n",
        "Isso pode ser feito por métodos de Vetorização. Vamos utilizar o `TfidfVectorizer` do scikit-learn. "
      ]
    },
    {
      "cell_type": "code",
      "execution_count": 6,
      "metadata": {
        "id": "zzoXIrvq4-Z-"
      },
      "outputs": [],
      "source": [
        "# Imports necessários\n",
        "from sklearn.feature_extraction.text import TfidfVectorizer\n",
        "\n",
        "# Criação da lista de textos que serão vetorizados. O método não aceita o dataframe como entrada. \n",
        "texts = list(dataframe_movie['text'])\n",
        "\n",
        "# Aplicação da Vetorização\n",
        "tfidf_vectorizer = TfidfVectorizer(max_df=0.8,\n",
        "                                 min_df=0.2, stop_words='english',\n",
        "                                 use_idf=True, ngram_range=(1,3),\n",
        "                                 max_features=10)\n",
        "tfidf_matrix = tfidf_vectorizer.fit_transform(texts)\n"
      ]
    },
    {
      "cell_type": "code",
      "execution_count": 7,
      "metadata": {
        "colab": {
          "base_uri": "https://localhost:8080/"
        },
        "id": "lFzLCDK3No38",
        "outputId": "b589f2c4-5cd9-4c75-c195-fe06f366ba8a"
      },
      "outputs": [
        {
          "data": {
            "text/plain": [
              "(250, 10)"
            ]
          },
          "execution_count": 7,
          "metadata": {},
          "output_type": "execute_result"
        }
      ],
      "source": [
        "tfidf_matrix.shape"
      ]
    },
    {
      "cell_type": "code",
      "execution_count": 8,
      "metadata": {
        "colab": {
          "base_uri": "https://localhost:8080/"
        },
        "id": "NSdsalj1yTdE",
        "outputId": "5d1f2f54-ef77-48f4-ef06-3e534eed960d"
      },
      "outputs": [
        {
          "data": {
            "text/plain": [
              "array([[0.64852693, 0.21081291, 0.        , ..., 0.19111555, 0.2134171 ,\n",
              "        0.3136481 ],\n",
              "       [0.19356599, 0.20764056, 0.5318607 , ..., 0.04183102, 0.10510278,\n",
              "        0.37757898],\n",
              "       [0.20888905, 0.16339005, 0.0597879 , ..., 0.14107015, 0.28355729,\n",
              "        0.83345904],\n",
              "       ...,\n",
              "       [0.21193099, 0.18945077, 0.84921983, ..., 0.05724979, 0.09589553,\n",
              "        0.328843  ],\n",
              "       [0.        , 0.        , 0.        , ..., 0.        , 0.        ,\n",
              "        0.27930536],\n",
              "       [0.        , 0.        , 0.23296593, ..., 0.        , 0.18414871,\n",
              "        0.36084515]])"
            ]
          },
          "execution_count": 8,
          "metadata": {},
          "output_type": "execute_result"
        }
      ],
      "source": [
        "tfidf_matrix.toarray()"
      ]
    },
    {
      "cell_type": "markdown",
      "metadata": {
        "id": "cc9DlHho5BXt"
      },
      "source": [
        "A variável `tfidf_matrix` representa a matriz que será entrada para os métodos de clusterização. Vamos aplica-lo na seção seguinte."
      ]
    },
    {
      "cell_type": "markdown",
      "metadata": {
        "id": "zN1TeJIH5MM7"
      },
      "source": [
        "## 4. Aplicar a clusterização avaliando o valor da métrica `Sillhoutte` e analisando o `Dendrograma`\n",
        "\n",
        "O primeiro passo é aplicar a clusterização utilizando o KMeans e avaliando a métrica Sillhoutte. Sobre esse métrica, vale destacar: \n",
        "\n",
        "`The silhouette value is a measure of how similar an object is to its own cluster (cohesion) compared to other clusters (separation). The silhouette ranges from −1 to +1, where a high value indicates that the object is well matched to its own cluster and poorly matched to neighboring clusters. If most objects have a high value, then the clustering configuration is appropriate. If many points have a low or negative value, then the clustering configuration may have too many or too few clusters.`\n",
        "\n",
        "Um dos problemas do KMeans é que precisamos indicar o número de cluster que queremos formar. Quando isso não é possível de identificar, podemos usar uma análise inicial do valor da métrica para decidir qual valor utilizar para a separação. "
      ]
    },
    {
      "cell_type": "code",
      "execution_count": 9,
      "metadata": {
        "colab": {
          "base_uri": "https://localhost:8080/"
        },
        "id": "StnSohlF6m9Z",
        "outputId": "5ffdd0e2-b7db-4c14-bdd0-7d4e989a01cb"
      },
      "outputs": [
        {
          "name": "stdout",
          "output_type": "stream",
          "text": [
            "Para k=2 o valor Silhoutte foi de 0.1682\n",
            "Para k=3 o valor Silhoutte foi de 0.1845\n",
            "Para k=4 o valor Silhoutte foi de 0.2021\n",
            "Para k=5 o valor Silhoutte foi de 0.1956\n",
            "Para k=6 o valor Silhoutte foi de 0.1982\n",
            "Para k=7 o valor Silhoutte foi de 0.2007\n",
            "Para k=8 o valor Silhoutte foi de 0.2031\n",
            "Para k=9 o valor Silhoutte foi de 0.1957\n"
          ]
        }
      ],
      "source": [
        "# Imports necessários\n",
        "from sklearn.cluster import KMeans\n",
        "from sklearn import metrics\n",
        "\n",
        "# Variando o número de k de 1 a 10 para analisar os valores da métrica\n",
        "\n",
        "for k in range(2, 10):\n",
        "  km = KMeans(n_clusters=k,random_state=42)\n",
        "  km.fit(tfidf_matrix)\n",
        "  score = metrics.silhouette_score(tfidf_matrix, km.labels_, metric='euclidean')\n",
        "  print(\"Para k=%i o valor Silhoutte foi de %.4f\" % (k, score))\n"
      ]
    },
    {
      "cell_type": "markdown",
      "metadata": {
        "id": "Whu77NwYv2HD"
      },
      "source": [
        "É fácil perceber que os valores estão muito próximos. Para simplificar a visualização, vamos escolher k = 3. Executando a clusterização, temos:\n"
      ]
    },
    {
      "cell_type": "code",
      "execution_count": 10,
      "metadata": {
        "id": "pcf9-ioOv40z"
      },
      "outputs": [],
      "source": [
        "km = KMeans(n_clusters=3,random_state=42)\n",
        "clusters_km = km.fit_predict(tfidf_matrix)"
      ]
    },
    {
      "cell_type": "markdown",
      "metadata": {
        "id": "YtNzZ9wZwLiZ"
      },
      "source": [
        "Vamos associar os clusters encontrados a uma coluna no dataframe."
      ]
    },
    {
      "cell_type": "code",
      "execution_count": 11,
      "metadata": {
        "colab": {
          "base_uri": "https://localhost:8080/",
          "height": 423
        },
        "id": "xro_VJgQwK4t",
        "outputId": "003e5e9a-b241-4bb4-d83c-e610f6b29f16"
      },
      "outputs": [
        {
          "data": {
            "text/html": [
              "<div>\n",
              "<style scoped>\n",
              "    .dataframe tbody tr th:only-of-type {\n",
              "        vertical-align: middle;\n",
              "    }\n",
              "\n",
              "    .dataframe tbody tr th {\n",
              "        vertical-align: top;\n",
              "    }\n",
              "\n",
              "    .dataframe thead th {\n",
              "        text-align: right;\n",
              "    }\n",
              "</style>\n",
              "<table border=\"1\" class=\"dataframe\">\n",
              "  <thead>\n",
              "    <tr style=\"text-align: right;\">\n",
              "      <th></th>\n",
              "      <th>id</th>\n",
              "      <th>movie</th>\n",
              "      <th>year</th>\n",
              "      <th>text</th>\n",
              "      <th>cluster_km</th>\n",
              "    </tr>\n",
              "  </thead>\n",
              "  <tbody>\n",
              "    <tr>\n",
              "      <th>0</th>\n",
              "      <td>0111161</td>\n",
              "      <td>The Shawshank Redemption</td>\n",
              "      <td>1994</td>\n",
              "      <td>In 1947, Andy Dufresne (Tim Robbins), a banker...</td>\n",
              "      <td>1</td>\n",
              "    </tr>\n",
              "    <tr>\n",
              "      <th>1</th>\n",
              "      <td>0068646</td>\n",
              "      <td>The Godfather</td>\n",
              "      <td>1972</td>\n",
              "      <td>In late summer 1945, guests are gathered for t...</td>\n",
              "      <td>0</td>\n",
              "    </tr>\n",
              "    <tr>\n",
              "      <th>2</th>\n",
              "      <td>0468569</td>\n",
              "      <td>The Dark Knight</td>\n",
              "      <td>2008</td>\n",
              "      <td>The movie begins with a gang of men with clown...</td>\n",
              "      <td>1</td>\n",
              "    </tr>\n",
              "    <tr>\n",
              "      <th>3</th>\n",
              "      <td>0071562</td>\n",
              "      <td>The Godfather: Part II</td>\n",
              "      <td>1974</td>\n",
              "      <td>The Godfather Part II presents two parallel st...</td>\n",
              "      <td>0</td>\n",
              "    </tr>\n",
              "    <tr>\n",
              "      <th>4</th>\n",
              "      <td>0050083</td>\n",
              "      <td>12 Angry Men</td>\n",
              "      <td>1957</td>\n",
              "      <td>In a New York City courthouse, an eighteen-yea...</td>\n",
              "      <td>0</td>\n",
              "    </tr>\n",
              "    <tr>\n",
              "      <th>...</th>\n",
              "      <td>...</td>\n",
              "      <td>...</td>\n",
              "      <td>...</td>\n",
              "      <td>...</td>\n",
              "      <td>...</td>\n",
              "    </tr>\n",
              "    <tr>\n",
              "      <th>245</th>\n",
              "      <td>0103639</td>\n",
              "      <td>Aladdin</td>\n",
              "      <td>1992</td>\n",
              "      <td>A street peddler (Robin Williams) is guiding t...</td>\n",
              "      <td>1</td>\n",
              "    </tr>\n",
              "    <tr>\n",
              "      <th>246</th>\n",
              "      <td>1454029</td>\n",
              "      <td>The Help</td>\n",
              "      <td>2011</td>\n",
              "      <td>In civil-rights era Jackson, Mississippi, 23-y...</td>\n",
              "      <td>1</td>\n",
              "    </tr>\n",
              "    <tr>\n",
              "      <th>247</th>\n",
              "      <td>0101414</td>\n",
              "      <td>Beauty and the Beast</td>\n",
              "      <td>1991</td>\n",
              "      <td>In the prologue, told through stained glass wi...</td>\n",
              "      <td>0</td>\n",
              "    </tr>\n",
              "    <tr>\n",
              "      <th>248</th>\n",
              "      <td>0048021</td>\n",
              "      <td>Rififi</td>\n",
              "      <td>1955</td>\n",
              "      <td>Tony \"le Stéphanois\" has done five years for a...</td>\n",
              "      <td>2</td>\n",
              "    </tr>\n",
              "    <tr>\n",
              "      <th>249</th>\n",
              "      <td>0099348</td>\n",
              "      <td>Dances with Wolves</td>\n",
              "      <td>1990</td>\n",
              "      <td>During a US Civil War battle in Tennessee, Uni...</td>\n",
              "      <td>2</td>\n",
              "    </tr>\n",
              "  </tbody>\n",
              "</table>\n",
              "<p>250 rows × 5 columns</p>\n",
              "</div>"
            ],
            "text/plain": [
              "          id                     movie  year  \\\n",
              "0    0111161  The Shawshank Redemption  1994   \n",
              "1    0068646             The Godfather  1972   \n",
              "2    0468569           The Dark Knight  2008   \n",
              "3    0071562    The Godfather: Part II  1974   \n",
              "4    0050083              12 Angry Men  1957   \n",
              "..       ...                       ...   ...   \n",
              "245  0103639                   Aladdin  1992   \n",
              "246  1454029                  The Help  2011   \n",
              "247  0101414      Beauty and the Beast  1991   \n",
              "248  0048021                    Rififi  1955   \n",
              "249  0099348        Dances with Wolves  1990   \n",
              "\n",
              "                                                  text  cluster_km  \n",
              "0    In 1947, Andy Dufresne (Tim Robbins), a banker...           1  \n",
              "1    In late summer 1945, guests are gathered for t...           0  \n",
              "2    The movie begins with a gang of men with clown...           1  \n",
              "3    The Godfather Part II presents two parallel st...           0  \n",
              "4    In a New York City courthouse, an eighteen-yea...           0  \n",
              "..                                                 ...         ...  \n",
              "245  A street peddler (Robin Williams) is guiding t...           1  \n",
              "246  In civil-rights era Jackson, Mississippi, 23-y...           1  \n",
              "247  In the prologue, told through stained glass wi...           0  \n",
              "248  Tony \"le Stéphanois\" has done five years for a...           2  \n",
              "249  During a US Civil War battle in Tennessee, Uni...           2  \n",
              "\n",
              "[250 rows x 5 columns]"
            ]
          },
          "execution_count": 11,
          "metadata": {},
          "output_type": "execute_result"
        }
      ],
      "source": [
        "dataframe_movie['cluster_km'] = clusters_km\n",
        "dataframe_movie"
      ]
    },
    {
      "cell_type": "code",
      "execution_count": 12,
      "metadata": {
        "colab": {
          "base_uri": "https://localhost:8080/"
        },
        "id": "2yf9Q14-zf4R",
        "outputId": "bc2fe628-ad4f-44f0-a9d5-02ace3956800"
      },
      "outputs": [
        {
          "data": {
            "text/plain": [
              "1    132\n",
              "0     61\n",
              "2     57\n",
              "Name: cluster_km, dtype: int64"
            ]
          },
          "execution_count": 12,
          "metadata": {},
          "output_type": "execute_result"
        }
      ],
      "source": [
        "dataframe_movie['cluster_km'].value_counts()"
      ]
    },
    {
      "cell_type": "markdown",
      "metadata": {
        "id": "9lIdqJPtBcjA"
      },
      "source": [
        "Uma outra forma de agrupar é a partir de um cluster hirárquico. Vamos utilizar esse tipo de agrupamento para fazer a análise de um Dendrograma que pode nos ajudar a entender qual a melhor separação destes dados. \n",
        "\n",
        "Vamos utilizar o pacote `import scipy.cluster.hierarchy` da biblioteca Scipy.  O método `linkage` será usado para fazer a clusterização e o método `dendrogram` para montar o gráfico. \n",
        "\n",
        "Um bom resumo sobre cluster hierárquico e como interpretar um dendrograma pode ser encontrado [neste link](https://stackabuse.com/hierarchical-clustering-with-python-and-scikit-learn/) e [neste outro](https://joernhees.de/blog/2015/08/26/scipy-hierarchical-clustering-and-dendrogram-tutorial/). [Esse vídeo](https://youtu.be/ijUMKMC4f9I) também resume bem o conteúdo. \n",
        "\n",
        "Vamos plotar o dendrograma e em seguida fazer algumas análises.\n"
      ]
    },
    {
      "cell_type": "code",
      "execution_count": 13,
      "metadata": {
        "colab": {
          "base_uri": "https://localhost:8080/",
          "height": 444
        },
        "id": "4uF-bpZ3CN-c",
        "outputId": "68652c66-b3d5-4023-be2c-a38aed79cc73"
      },
      "outputs": [
        {
          "data": {
            "image/png": "[encoded data removed]",
            "text/plain": [
              "<Figure size 720x504 with 1 Axes>"
            ]
          },
          "metadata": {
            "needs_background": "light"
          },
          "output_type": "display_data"
        }
      ],
      "source": [
        "# Imports necessários\n",
        "import scipy.cluster.hierarchy as shc\n",
        "import matplotlib.pyplot as plt\n",
        "\n",
        "# Criando e plotando o dendrograma\n",
        "plt.figure(figsize=(10, 7))\n",
        "plt.title(\"Movies Dendrogram\")\n",
        "cluster_alg = shc.linkage(tfidf_matrix.toarray(), method='ward',)\n",
        "dend = shc.dendrogram(cluster_alg)"
      ]
    },
    {
      "cell_type": "markdown",
      "metadata": {
        "id": "Wr9-WvTfm0Ah"
      },
      "source": [
        "O dendrograma separou os dados em 7 clusters, diferenciados pelas cores. No entanto, determinar esse número pode ser feito a partir da análise do dendrograma. Não existe um método específico para fazer isso. O que sabemos é que o tamanho das linhas verticais indicam a distância entre os clusters. Ou seja, quanto maior essa linha, mais separados estão os clusters analisados. \n",
        "\n",
        "Uma forma de verificar quantos clusters você pode separar os seus dados é traçando uma linha horizontal e verificar em quantos pontos essa linha toca as linhas verticais, essa quantidade de pontos é o número de cluster. Vamos analisar alguns gráficos.\n",
        "\n",
        "Se traçarmos a linha pontinhada a seguir, marcamos a separação desses dados em dois clusters. Observe que ela corta as linhas verticais em dois pontos. Os dados aninhados nestes dois pontos formam os clusters."
      ]
    },
    {
      "cell_type": "code",
      "execution_count": 16,
      "metadata": {
        "colab": {
          "base_uri": "https://localhost:8080/",
          "height": 462
        },
        "id": "2DXVvLv9neWH",
        "outputId": "b2318c9b-cd57-4b39-ba51-4efe094b5b6b"
      },
      "outputs": [
        {
          "data": {
            "text/plain": [
              "<matplotlib.lines.Line2D at 0x7fdae56d51f0>"
            ]
          },
          "execution_count": 16,
          "metadata": {},
          "output_type": "execute_result"
        },
        {
          "data": {
            "image/png": "[encoded data removed]",
            "text/plain": [
              "<Figure size 720x504 with 1 Axes>"
            ]
          },
          "metadata": {
            "needs_background": "light"
          },
          "output_type": "display_data"
        }
      ],
      "source": [
        "plt.figure(figsize=(10, 7))\n",
        "plt.title(\"Linha separando 2 clusters\")\n",
        "dend = shc.dendrogram(cluster_alg)\n",
        "plt.axhline(y=5.6, c='k', ls='--')"
      ]
    },
    {
      "cell_type": "markdown",
      "metadata": {
        "id": "DZXYiiSNoeyk"
      },
      "source": [
        "Já nesse outro gráfico, estaríamos separando os dados em 3 clusters. "
      ]
    },
    {
      "cell_type": "code",
      "execution_count": 17,
      "metadata": {
        "colab": {
          "base_uri": "https://localhost:8080/",
          "height": 462
        },
        "id": "NcHh6tGZoke7",
        "outputId": "9ef691bd-2827-4568-b7fb-52b6f09a181d"
      },
      "outputs": [
        {
          "data": {
            "text/plain": [
              "<matplotlib.lines.Line2D at 0x7fdae342e9a0>"
            ]
          },
          "execution_count": 17,
          "metadata": {},
          "output_type": "execute_result"
        },
        {
          "data": {
            "image/png": "[encoded data removed]",
            "text/plain": [
              "<Figure size 720x504 with 1 Axes>"
            ]
          },
          "metadata": {
            "needs_background": "light"
          },
          "output_type": "display_data"
        }
      ],
      "source": [
        "plt.figure(figsize=(10, 7))\n",
        "plt.title(\"Linha separando 3 clusters\")\n",
        "dend = shc.dendrogram(cluster_alg)\n",
        "plt.axhline(y=5, c='k', ls='--')"
      ]
    },
    {
      "cell_type": "markdown",
      "metadata": {
        "id": "lHGcZ0_bpLyh"
      },
      "source": [
        "Agora, demarcando a linha que separa em 5 clusters. "
      ]
    },
    {
      "cell_type": "code",
      "execution_count": 18,
      "metadata": {
        "colab": {
          "base_uri": "https://localhost:8080/",
          "height": 462
        },
        "id": "Z8j7-fUxo-ZF",
        "outputId": "d510a015-096a-43f3-e7fa-ba9a8b1de178"
      },
      "outputs": [
        {
          "data": {
            "text/plain": [
              "<matplotlib.lines.Line2D at 0x7fdae378c310>"
            ]
          },
          "execution_count": 18,
          "metadata": {},
          "output_type": "execute_result"
        },
        {
          "data": {
            "image/png": "[encoded data removed]",
            "text/plain": [
              "<Figure size 720x504 with 1 Axes>"
            ]
          },
          "metadata": {
            "needs_background": "light"
          },
          "output_type": "display_data"
        }
      ],
      "source": [
        "plt.figure(figsize=(10, 7))\n",
        "plt.title(\"Linha separando 5 clusters\")\n",
        "dend = shc.dendrogram(cluster_alg)\n",
        "plt.axhline(y=3.3, c='k', ls='--')"
      ]
    },
    {
      "cell_type": "markdown",
      "metadata": {
        "id": "j_LHi2sTpQX_"
      },
      "source": [
        "Observe que a partir de agora, as linhas verticais de alguns clusters vai ficando muito pequena, indicando uma proximidade maior entre os clusters relacionados. Sendo assim, vou finalizar essa analise com 3 clusters e usar esse parâmetro para o agrupamento final dos dados. \n",
        "\n",
        "Para gerar o agrupamento final, vamos utilizar um cluster hierárquico no `scikit-learn` com os mesmo parâmetros passados na geração do dendrograma. Para isso, vamos usar o `AgglomerativeCluster`\n"
      ]
    },
    {
      "cell_type": "code",
      "execution_count": 19,
      "metadata": {
        "id": "r2KitN8VqFZP"
      },
      "outputs": [],
      "source": [
        "# Imports Necessários\n",
        "from sklearn.cluster import AgglomerativeClustering\n",
        "\n",
        "# Criação do Cluster\n",
        "agg_cluster = AgglomerativeClustering(n_clusters=3, affinity='euclidean', linkage='ward')\n",
        "clusters_agg = agg_cluster.fit_predict(tfidf_matrix.toarray())"
      ]
    },
    {
      "cell_type": "code",
      "execution_count": 20,
      "metadata": {
        "colab": {
          "base_uri": "https://localhost:8080/",
          "height": 423
        },
        "id": "muSES6c9qblk",
        "outputId": "fffd288e-0161-46ee-ccf4-383d9df7759a"
      },
      "outputs": [
        {
          "data": {
            "text/html": [
              "<div>\n",
              "<style scoped>\n",
              "    .dataframe tbody tr th:only-of-type {\n",
              "        vertical-align: middle;\n",
              "    }\n",
              "\n",
              "    .dataframe tbody tr th {\n",
              "        vertical-align: top;\n",
              "    }\n",
              "\n",
              "    .dataframe thead th {\n",
              "        text-align: right;\n",
              "    }\n",
              "</style>\n",
              "<table border=\"1\" class=\"dataframe\">\n",
              "  <thead>\n",
              "    <tr style=\"text-align: right;\">\n",
              "      <th></th>\n",
              "      <th>id</th>\n",
              "      <th>movie</th>\n",
              "      <th>year</th>\n",
              "      <th>text</th>\n",
              "      <th>cluster_km</th>\n",
              "      <th>cluster_agg</th>\n",
              "    </tr>\n",
              "  </thead>\n",
              "  <tbody>\n",
              "    <tr>\n",
              "      <th>0</th>\n",
              "      <td>0111161</td>\n",
              "      <td>The Shawshank Redemption</td>\n",
              "      <td>1994</td>\n",
              "      <td>In 1947, Andy Dufresne (Tim Robbins), a banker...</td>\n",
              "      <td>1</td>\n",
              "      <td>0</td>\n",
              "    </tr>\n",
              "    <tr>\n",
              "      <th>1</th>\n",
              "      <td>0068646</td>\n",
              "      <td>The Godfather</td>\n",
              "      <td>1972</td>\n",
              "      <td>In late summer 1945, guests are gathered for t...</td>\n",
              "      <td>0</td>\n",
              "      <td>0</td>\n",
              "    </tr>\n",
              "    <tr>\n",
              "      <th>2</th>\n",
              "      <td>0468569</td>\n",
              "      <td>The Dark Knight</td>\n",
              "      <td>2008</td>\n",
              "      <td>The movie begins with a gang of men with clown...</td>\n",
              "      <td>1</td>\n",
              "      <td>0</td>\n",
              "    </tr>\n",
              "    <tr>\n",
              "      <th>3</th>\n",
              "      <td>0071562</td>\n",
              "      <td>The Godfather: Part II</td>\n",
              "      <td>1974</td>\n",
              "      <td>The Godfather Part II presents two parallel st...</td>\n",
              "      <td>0</td>\n",
              "      <td>1</td>\n",
              "    </tr>\n",
              "    <tr>\n",
              "      <th>4</th>\n",
              "      <td>0050083</td>\n",
              "      <td>12 Angry Men</td>\n",
              "      <td>1957</td>\n",
              "      <td>In a New York City courthouse, an eighteen-yea...</td>\n",
              "      <td>0</td>\n",
              "      <td>1</td>\n",
              "    </tr>\n",
              "    <tr>\n",
              "      <th>...</th>\n",
              "      <td>...</td>\n",
              "      <td>...</td>\n",
              "      <td>...</td>\n",
              "      <td>...</td>\n",
              "      <td>...</td>\n",
              "      <td>...</td>\n",
              "    </tr>\n",
              "    <tr>\n",
              "      <th>245</th>\n",
              "      <td>0103639</td>\n",
              "      <td>Aladdin</td>\n",
              "      <td>1992</td>\n",
              "      <td>A street peddler (Robin Williams) is guiding t...</td>\n",
              "      <td>1</td>\n",
              "      <td>0</td>\n",
              "    </tr>\n",
              "    <tr>\n",
              "      <th>246</th>\n",
              "      <td>1454029</td>\n",
              "      <td>The Help</td>\n",
              "      <td>2011</td>\n",
              "      <td>In civil-rights era Jackson, Mississippi, 23-y...</td>\n",
              "      <td>1</td>\n",
              "      <td>1</td>\n",
              "    </tr>\n",
              "    <tr>\n",
              "      <th>247</th>\n",
              "      <td>0101414</td>\n",
              "      <td>Beauty and the Beast</td>\n",
              "      <td>1991</td>\n",
              "      <td>In the prologue, told through stained glass wi...</td>\n",
              "      <td>0</td>\n",
              "      <td>1</td>\n",
              "    </tr>\n",
              "    <tr>\n",
              "      <th>248</th>\n",
              "      <td>0048021</td>\n",
              "      <td>Rififi</td>\n",
              "      <td>1955</td>\n",
              "      <td>Tony \"le Stéphanois\" has done five years for a...</td>\n",
              "      <td>2</td>\n",
              "      <td>2</td>\n",
              "    </tr>\n",
              "    <tr>\n",
              "      <th>249</th>\n",
              "      <td>0099348</td>\n",
              "      <td>Dances with Wolves</td>\n",
              "      <td>1990</td>\n",
              "      <td>During a US Civil War battle in Tennessee, Uni...</td>\n",
              "      <td>2</td>\n",
              "      <td>0</td>\n",
              "    </tr>\n",
              "  </tbody>\n",
              "</table>\n",
              "<p>250 rows × 6 columns</p>\n",
              "</div>"
            ],
            "text/plain": [
              "          id                     movie  year  \\\n",
              "0    0111161  The Shawshank Redemption  1994   \n",
              "1    0068646             The Godfather  1972   \n",
              "2    0468569           The Dark Knight  2008   \n",
              "3    0071562    The Godfather: Part II  1974   \n",
              "4    0050083              12 Angry Men  1957   \n",
              "..       ...                       ...   ...   \n",
              "245  0103639                   Aladdin  1992   \n",
              "246  1454029                  The Help  2011   \n",
              "247  0101414      Beauty and the Beast  1991   \n",
              "248  0048021                    Rififi  1955   \n",
              "249  0099348        Dances with Wolves  1990   \n",
              "\n",
              "                                                  text  cluster_km  \\\n",
              "0    In 1947, Andy Dufresne (Tim Robbins), a banker...           1   \n",
              "1    In late summer 1945, guests are gathered for t...           0   \n",
              "2    The movie begins with a gang of men with clown...           1   \n",
              "3    The Godfather Part II presents two parallel st...           0   \n",
              "4    In a New York City courthouse, an eighteen-yea...           0   \n",
              "..                                                 ...         ...   \n",
              "245  A street peddler (Robin Williams) is guiding t...           1   \n",
              "246  In civil-rights era Jackson, Mississippi, 23-y...           1   \n",
              "247  In the prologue, told through stained glass wi...           0   \n",
              "248  Tony \"le Stéphanois\" has done five years for a...           2   \n",
              "249  During a US Civil War battle in Tennessee, Uni...           2   \n",
              "\n",
              "     cluster_agg  \n",
              "0              0  \n",
              "1              0  \n",
              "2              0  \n",
              "3              1  \n",
              "4              1  \n",
              "..           ...  \n",
              "245            0  \n",
              "246            1  \n",
              "247            1  \n",
              "248            2  \n",
              "249            0  \n",
              "\n",
              "[250 rows x 6 columns]"
            ]
          },
          "execution_count": 20,
          "metadata": {},
          "output_type": "execute_result"
        }
      ],
      "source": [
        "# A variável clusters indica qual cluster cada texto foi atribuído. O código a seguir cria uma coluna \n",
        "# associando o rótulo do cluster a cada filme\n",
        "dataframe_movie['cluster_agg'] = clusters_agg\n",
        "dataframe_movie"
      ]
    },
    {
      "cell_type": "markdown",
      "metadata": {
        "id": "szMsCQGDpn_8"
      },
      "source": [
        "## 5. Analisar os clusters gerados \n",
        "\n",
        "Como aplicamos técnicas distintas, a análise das informações referente a cada cluster será feita a partir das informações disponibilizadas por cada tipo de cluster. No caso do K-Means, a análise será feita dos atributos associados ao centróide de cada cluster. No caso do Cluster Hierárquico, vamos analisar as palavras mais frequentes dos filmes presentes em cada cluster. Vamos começar :) "
      ]
    },
    {
      "cell_type": "markdown",
      "metadata": {
        "id": "plrAR0PaPsR3"
      },
      "source": [
        "### Analisando o resultado do K-Means."
      ]
    },
    {
      "cell_type": "markdown",
      "metadata": {
        "id": "cZ3j7SyuP_io"
      },
      "source": [
        "O primeiro passo é extrair quais foram os atributos que estão associados ao centróide de cada cluster. Isso pode ser feito a partir do atributo `cluster_centers_` que retorna o valor para cada um dos atributos na posição do centróide. "
      ]
    },
    {
      "cell_type": "code",
      "execution_count": 21,
      "metadata": {
        "colab": {
          "base_uri": "https://localhost:8080/"
        },
        "id": "eEBauVV9QHKF",
        "outputId": "6b626160-83d3-4e1a-a09a-7a532823bf9f"
      },
      "outputs": [
        {
          "data": {
            "text/plain": [
              "array([[2, 4, 9, 6, 8, 3, 1, 0, 7, 5],\n",
              "       [9, 6, 3, 4, 1, 7, 8, 0, 5, 2],\n",
              "       [5, 9, 1, 8, 3, 6, 0, 4, 7, 2]])"
            ]
          },
          "execution_count": 21,
          "metadata": {},
          "output_type": "execute_result"
        }
      ],
      "source": [
        "order_centroids = km.cluster_centers_.argsort()[:, ::-1]\n",
        "order_centroids"
      ]
    },
    {
      "cell_type": "markdown",
      "metadata": {
        "id": "9ldPyzILTIYp"
      },
      "source": [
        "Cada índice desta lista é uma palavra que corresponde a um atributo da matriz utilizada para treinar o modelo não-supervisionado. Para descobrir a palavra, basta ver a lista de palavras geradas pelo método de vetorização. "
      ]
    },
    {
      "cell_type": "code",
      "execution_count": 22,
      "metadata": {
        "id": "xbuMPHpN5mp9"
      },
      "outputs": [
        {
          "name": "stderr",
          "output_type": "stream",
          "text": [
            "/Users/adolfoguimaraes/opt/anaconda3/envs/datascience/lib/python3.9/site-packages/sklearn/utils/deprecation.py:87: FutureWarning: Function get_feature_names is deprecated; get_feature_names is deprecated in 1.0 and will be removed in 1.2. Please use get_feature_names_out instead.\n",
            "  warnings.warn(msg, category=FutureWarning)\n"
          ]
        }
      ],
      "source": [
        "# Criação de uma veriável com a lista de palavras que representa as colunas da matriz.\n",
        "terms = tfidf_vectorizer.get_feature_names()"
      ]
    },
    {
      "cell_type": "code",
      "execution_count": 23,
      "metadata": {
        "colab": {
          "base_uri": "https://localhost:8080/"
        },
        "id": "D2V4Df5G01tw",
        "outputId": "3fd09497-62dc-4d37-9b33-e1ea5c37052b"
      },
      "outputs": [
        {
          "data": {
            "text/plain": [
              "['asks',\n",
              " 'away',\n",
              " 'father',\n",
              " 'finds',\n",
              " 'home',\n",
              " 'men',\n",
              " 'new',\n",
              " 'says',\n",
              " 'takes',\n",
              " 'tells']"
            ]
          },
          "execution_count": 23,
          "metadata": {},
          "output_type": "execute_result"
        }
      ],
      "source": [
        "terms"
      ]
    },
    {
      "cell_type": "markdown",
      "metadata": {
        "id": "07_Fh0x6Toh5"
      },
      "source": [
        "Por fim, vamos ver quais palavras que melhor caracterizam cada um dos clusters criados. "
      ]
    },
    {
      "cell_type": "code",
      "execution_count": null,
      "metadata": {
        "id": "cGF6--un00IL"
      },
      "outputs": [],
      "source": []
    },
    {
      "cell_type": "code",
      "execution_count": 24,
      "metadata": {
        "colab": {
          "base_uri": "https://localhost:8080/",
          "height": 143
        },
        "id": "biIMtSGGTs7r",
        "outputId": "33be0ed3-9fb8-4cff-f2c0-f736523d310d"
      },
      "outputs": [
        {
          "data": {
            "text/html": [
              "<div>\n",
              "<style scoped>\n",
              "    .dataframe tbody tr th:only-of-type {\n",
              "        vertical-align: middle;\n",
              "    }\n",
              "\n",
              "    .dataframe tbody tr th {\n",
              "        vertical-align: top;\n",
              "    }\n",
              "\n",
              "    .dataframe thead th {\n",
              "        text-align: right;\n",
              "    }\n",
              "</style>\n",
              "<table border=\"1\" class=\"dataframe\">\n",
              "  <thead>\n",
              "    <tr style=\"text-align: right;\">\n",
              "      <th></th>\n",
              "      <th>cluster</th>\n",
              "      <th>words</th>\n",
              "    </tr>\n",
              "  </thead>\n",
              "  <tbody>\n",
              "    <tr>\n",
              "      <th>0</th>\n",
              "      <td>0</td>\n",
              "      <td>father, home, tells, new, takes, finds, away, ...</td>\n",
              "    </tr>\n",
              "    <tr>\n",
              "      <th>1</th>\n",
              "      <td>1</td>\n",
              "      <td>tells, new, finds, home, away, says, takes, as...</td>\n",
              "    </tr>\n",
              "    <tr>\n",
              "      <th>2</th>\n",
              "      <td>2</td>\n",
              "      <td>men, tells, away, takes, finds, new, asks, hom...</td>\n",
              "    </tr>\n",
              "  </tbody>\n",
              "</table>\n",
              "</div>"
            ],
            "text/plain": [
              "   cluster                                              words\n",
              "0        0  father, home, tells, new, takes, finds, away, ...\n",
              "1        1  tells, new, finds, home, away, says, takes, as...\n",
              "2        2  men, tells, away, takes, finds, new, asks, hom..."
            ]
          },
          "execution_count": 24,
          "metadata": {},
          "output_type": "execute_result"
        }
      ],
      "source": [
        "centroids = []\n",
        "for i in range(3):\n",
        "  list_id = order_centroids[i]\n",
        "  list_terms = [terms[id] for id in list_id[:10]]\n",
        "  centroids.append({'cluster': i, 'words': ', '.join(list_terms)})\n",
        "\n",
        "df_centroids = pd.DataFrame(centroids)\n",
        "df_centroids"
      ]
    },
    {
      "cell_type": "markdown",
      "metadata": {
        "id": "f8xNA1SBUAgG"
      },
      "source": [
        "Vamos selecionar alguns filmes de cada um do cluster. "
      ]
    },
    {
      "cell_type": "code",
      "execution_count": 25,
      "metadata": {
        "colab": {
          "base_uri": "https://localhost:8080/"
        },
        "id": "Cock8oP-UHjB",
        "outputId": "57e17005-f1d3-49f0-cd7d-0918451b557c"
      },
      "outputs": [
        {
          "name": "stdout",
          "output_type": "stream",
          "text": [
            "Cluster 0: ['father, home, tells, new, takes, finds, away, asks, says, men']\n",
            "\tFilme: The Godfather\n",
            "\tFilme: The Godfather: Part II\n",
            "\tFilme: 12 Angry Men\n",
            "\tFilme: The Lord of the Rings: The Fellowship of the Ring\n",
            "\tFilme: Forrest Gump\n",
            "\tFilme: Inception\n",
            "\tFilme: Star Wars: Episode V - The Empire Strikes Back\n",
            "\tFilme: Interstellar\n",
            "\tFilme: The Pianist\n",
            "\tFilme: Léon: The Professional\n",
            "\n",
            "Cluster 1: ['tells, new, finds, home, away, says, takes, asks, men, father']\n",
            "\tFilme: The Shawshank Redemption\n",
            "\tFilme: The Dark Knight\n",
            "\tFilme: Schindler's List\n",
            "\tFilme: Fight Club\n",
            "\tFilme: The Matrix\n",
            "\tFilme: Goodfellas\n",
            "\tFilme: Se7en\n",
            "\tFilme: It's a Wonderful Life\n",
            "\tFilme: The Silence of the Lambs\n",
            "\tFilme: Life Is Beautiful\n",
            "\n",
            "Cluster 2: ['men, tells, away, takes, finds, new, asks, home, says, father']\n",
            "\tFilme: The Lord of the Rings: The Return of the King\n",
            "\tFilme: Pulp Fiction\n",
            "\tFilme: The Good, the Bad and the Ugly\n",
            "\tFilme: The Lord of the Rings: The Two Towers\n",
            "\tFilme: One Flew Over the Cuckoo's Nest\n",
            "\tFilme: Seven Samurai\n",
            "\tFilme: City of God\n",
            "\tFilme: Saving Private Ryan\n",
            "\tFilme: American History X\n",
            "\tFilme: The Usual Suspects\n",
            "\n"
          ]
        }
      ],
      "source": [
        "for n in range(3):\n",
        "  print(\"Cluster %i: %s\" % (n, list(df_centroids[df_centroids['cluster'] == n]['words'][:5])))\n",
        "  data_selected = dataframe_movie[dataframe_movie['cluster_km'] == n]\n",
        "  for index, row in data_selected.head(10).iterrows():\n",
        "    print(\"\\tFilme: %s\" % row['movie'])\n",
        "  print()"
      ]
    },
    {
      "cell_type": "markdown",
      "metadata": {
        "id": "3Su3wj4sWQgo"
      },
      "source": [
        "### Analisando o resultado do Cluster Hierárquico.\n",
        "\n",
        "No caso do cluster hierárquico, vamos pegar as informações dirertamente do dataframe já que esse método não possui um centróide para analisar. Vamos pegar os termos mais relevantes de acordo com o `TfidfVectorizer`. \n"
      ]
    },
    {
      "cell_type": "code",
      "execution_count": 26,
      "metadata": {
        "id": "4sviTNC6ux-s"
      },
      "outputs": [
        {
          "name": "stderr",
          "output_type": "stream",
          "text": [
            "/Users/adolfoguimaraes/opt/anaconda3/envs/datascience/lib/python3.9/site-packages/sklearn/utils/deprecation.py:87: FutureWarning: Function get_feature_names is deprecated; get_feature_names is deprecated in 1.0 and will be removed in 1.2. Please use get_feature_names_out instead.\n",
            "  warnings.warn(msg, category=FutureWarning)\n"
          ]
        }
      ],
      "source": [
        "import collections\n",
        "\n",
        "top_words_by_movie = []\n",
        "\n",
        "for row in tfidf_matrix.toarray():\n",
        "  a = row\n",
        "  b = tfidf_vectorizer.get_feature_names()\n",
        "\n",
        "  dict_words = dict(zip(b, a))\n",
        "  sorted_dict = sorted(dict_words.items(), key=lambda x: x[1], reverse=True)\n",
        "  \n",
        "  top_words_by_movie.append({'words': [w[0] for w in sorted_dict[:5]]})\n",
        "  count += 1"
      ]
    },
    {
      "cell_type": "code",
      "execution_count": 27,
      "metadata": {
        "colab": {
          "base_uri": "https://localhost:8080/"
        },
        "id": "8C61EtYkxxFz",
        "outputId": "94afaa6d-049c-4c4a-83de-17c280916176"
      },
      "outputs": [
        {
          "name": "stdout",
          "output_type": "stream",
          "text": [
            "Cluster 0: ['tells', 'asks', 'new', 'away', 'finds']\n",
            "\tFilme: The Shawshank Redemption\n",
            "\tFilme: The Godfather\n",
            "\tFilme: The Dark Knight\n",
            "\tFilme: Schindler's List\n",
            "\tFilme: Fight Club\n",
            "\tFilme: The Lord of the Rings: The Two Towers\n",
            "\tFilme: The Matrix\n",
            "\tFilme: Goodfellas\n",
            "\tFilme: Se7en\n",
            "\tFilme: Seven Samurai\n",
            "\n",
            "Cluster 1: ['father', 'home', 'tells', 'finds', 'new']\n",
            "\tFilme: The Godfather: Part II\n",
            "\tFilme: 12 Angry Men\n",
            "\tFilme: Forrest Gump\n",
            "\tFilme: Inception\n",
            "\tFilme: Star Wars: Episode V - The Empire Strikes Back\n",
            "\tFilme: Interstellar\n",
            "\tFilme: The Pianist\n",
            "\tFilme: Léon: The Professional\n",
            "\tFilme: Parasite\n",
            "\tFilme: The Lion King\n",
            "\n",
            "Cluster 2: ['men', 'away', 'tells', 'asks', 'takes']\n",
            "\tFilme: The Lord of the Rings: The Return of the King\n",
            "\tFilme: Pulp Fiction\n",
            "\tFilme: The Lord of the Rings: The Fellowship of the Ring\n",
            "\tFilme: The Good, the Bad and the Ugly\n",
            "\tFilme: One Flew Over the Cuckoo's Nest\n",
            "\tFilme: City of God\n",
            "\tFilme: Saving Private Ryan\n",
            "\tFilme: American History X\n",
            "\tFilme: The Usual Suspects\n",
            "\tFilme: Once Upon a Time in the West\n",
            "\n"
          ]
        }
      ],
      "source": [
        "for i in range(3):\n",
        "  all_cluster_i = dataframe_movie[dataframe_movie['cluster_agg']==i]\n",
        "  all_movies_index = list(all_cluster_i.index)\n",
        "  cluster_words = [w for m in all_movies_index for w in top_words_by_movie[m]['words']]\n",
        "  word_count = sorted(dict(collections.Counter(cluster_words)).items(), key=lambda x: x[1], reverse=True)\n",
        "  print(\"Cluster %i: %s\" % (i, [word[0] for word in word_count[:5]]))\n",
        "  for index, row in all_cluster_i.head(10).iterrows():\n",
        "    print(\"\\tFilme: %s\" % row['movie'])\n",
        "  print()\n"
      ]
    },
    {
      "cell_type": "markdown",
      "metadata": {
        "id": "hS3MUDrx2GMr"
      },
      "source": [
        "Com isso finalizamos essa atividade. Observer que temos informações suficientes para analisar o que cada cluster quer contar :) Podemos melhorar as informações de cada cluster mexendo um pouco mais no pré-processamento do texto, mas isso não será feito agora, mas fiquem à vontade para fazer :) \n",
        "\n",
        "Agora é a sua vez de colocar esse conhecimento em prática. Tenho uma atividade na próxima seção ;) "
      ]
    }
  ],
  "metadata": {
    "colab": {
      "collapsed_sections": [],
      "name": "lab602_atividade.ipynb",
      "provenance": []
    },
    "kernelspec": {
      "display_name": "Python 3",
      "name": "python3"
    },
    "language_info": {
      "codemirror_mode": {
        "name": "ipython",
        "version": 3
      },
      "file_extension": ".py",
      "mimetype": "text/x-python",
      "name": "python",
      "nbconvert_exporter": "python",
      "pygments_lexer": "ipython3",
      "version": "3.9.7"
    }
  },
  "nbformat": 4,
  "nbformat_minor": 0
}
