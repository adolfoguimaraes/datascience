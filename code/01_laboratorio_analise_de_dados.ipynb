{
 "cells": [
  {
   "cell_type": "markdown",
   "metadata": {
    "colab_type": "text",
    "id": "view-in-github"
   },
   "source": [
    "<a href=\"https://colab.research.google.com/github/adolfoguimaraes/datascience/blob/main/code/01_laboratorio_analise_de_dados.ipynb\" target=\"_parent\"><img src=\"https://colab.research.google.com/assets/colab-badge.svg\" alt=\"Open In Colab\"/></a>"
   ]
  },
  {
   "cell_type": "markdown",
   "metadata": {
    "id": "hbWpGQNsUDdF"
   },
   "source": [
    "# Laboratório de Análise de Dados\n",
    "\n",
    "Esse laboratório tem como objetivo fazer a caracterização de cada atributo das bases sugeridas, mostrando tipos e escala correspondentes. Em seguida faça uma análise exploratória dos atributos. Inicie com um análise de dados univaridos e em seguida utilize métricas para os dados multivariados. Para cada análise vamos escrever uma conclusão sobre as tarefas realizadas. \n",
    "\n",
    "Esse notebook é dividido em 3 partes: \n",
    "\n",
    "1. Na primeira parte será mostrado alguns conceitos básicos e métodos para gerar algumas visualizações utilizando as bibliotecas propostas. Para isso, vamos utilizar a base de dados da Iris. Nosso objetivo nessa primeira parte é forcar mais em conhecer a ferramenta do que na análise em si. \n",
    "\n",
    "2. Já na segunda parte, vamos aplicar análise completa a base do Titanic. Vamos usar métodos do pandas e mecanismos da visualização para enxergar melhor o conjunto de dados apresentados. \n",
    "\n",
    "3. Na terceira parte, vamos usar uma base real para análise e vamos trabalhar de forma colaborativa para obter as respostas da análise.\n",
    "\n",
    "\n",
    "Vamos lá?\n",
    "\n",
    "![lets_go](https://media.giphy.com/media/3o7TKUM3IgJBX2as9O/giphy.gif?cid=ecf05e47mtninky8spwobfnp5rt74b7zr4vr5k4cckab9ujz&rid=giphy.gif&ct=g)"
   ]
  },
  {
   "cell_type": "code",
   "execution_count": 1,
   "metadata": {
    "id": "zhq60I9qUBYN"
   },
   "outputs": [],
   "source": [
    "# Importação de pacotes necessários para este laboratório\n",
    "\n",
    "import seaborn as sns # Biblioteca para visualização\n",
    "import matplotlib.pyplot as plt # Biblioteca de visualização\n",
    "import pandas as pd # Biblioteca para lidar com a base de dados"
   ]
  },
  {
   "cell_type": "markdown",
   "metadata": {
    "id": "-faCWOu80PnI"
   },
   "source": [
    "## Base de Dados da Iris\n",
    "\n",
    "Vamos começar com uma tradicional base para estudo em Machine Learning. O dataset [Iris](https://archive.ics.uci.edu/ml/datasets/iris). Esse dataset é bastante utilizado por quem está começando a trabalhar com análise de dados e agrupa algumas informações sobre espécies de plantas."
   ]
  },
  {
   "cell_type": "code",
   "execution_count": 2,
   "metadata": {
    "colab": {
     "base_uri": "https://localhost:8080/",
     "height": 424
    },
    "id": "MYkONvad_cYo",
    "outputId": "b26121d3-3602-4a49-f22e-636383830a98"
   },
   "outputs": [
    {
     "data": {
      "text/html": [
       "<div>\n",
       "<style scoped>\n",
       "    .dataframe tbody tr th:only-of-type {\n",
       "        vertical-align: middle;\n",
       "    }\n",
       "\n",
       "    .dataframe tbody tr th {\n",
       "        vertical-align: top;\n",
       "    }\n",
       "\n",
       "    .dataframe thead th {\n",
       "        text-align: right;\n",
       "    }\n",
       "</style>\n",
       "<table border=\"1\" class=\"dataframe\">\n",
       "  <thead>\n",
       "    <tr style=\"text-align: right;\">\n",
       "      <th></th>\n",
       "      <th>sepal_length</th>\n",
       "      <th>sepal_width</th>\n",
       "      <th>petal_length</th>\n",
       "      <th>petal_width</th>\n",
       "      <th>species</th>\n",
       "    </tr>\n",
       "  </thead>\n",
       "  <tbody>\n",
       "    <tr>\n",
       "      <th>0</th>\n",
       "      <td>5.1</td>\n",
       "      <td>3.5</td>\n",
       "      <td>1.4</td>\n",
       "      <td>0.2</td>\n",
       "      <td>Iris-setosa</td>\n",
       "    </tr>\n",
       "    <tr>\n",
       "      <th>1</th>\n",
       "      <td>4.9</td>\n",
       "      <td>3.0</td>\n",
       "      <td>1.4</td>\n",
       "      <td>0.2</td>\n",
       "      <td>Iris-setosa</td>\n",
       "    </tr>\n",
       "    <tr>\n",
       "      <th>2</th>\n",
       "      <td>4.7</td>\n",
       "      <td>3.2</td>\n",
       "      <td>1.3</td>\n",
       "      <td>0.2</td>\n",
       "      <td>Iris-setosa</td>\n",
       "    </tr>\n",
       "    <tr>\n",
       "      <th>3</th>\n",
       "      <td>4.6</td>\n",
       "      <td>3.1</td>\n",
       "      <td>1.5</td>\n",
       "      <td>0.2</td>\n",
       "      <td>Iris-setosa</td>\n",
       "    </tr>\n",
       "    <tr>\n",
       "      <th>4</th>\n",
       "      <td>5.0</td>\n",
       "      <td>3.6</td>\n",
       "      <td>1.4</td>\n",
       "      <td>0.2</td>\n",
       "      <td>Iris-setosa</td>\n",
       "    </tr>\n",
       "    <tr>\n",
       "      <th>...</th>\n",
       "      <td>...</td>\n",
       "      <td>...</td>\n",
       "      <td>...</td>\n",
       "      <td>...</td>\n",
       "      <td>...</td>\n",
       "    </tr>\n",
       "    <tr>\n",
       "      <th>145</th>\n",
       "      <td>6.7</td>\n",
       "      <td>3.0</td>\n",
       "      <td>5.2</td>\n",
       "      <td>2.3</td>\n",
       "      <td>Iris-virginica</td>\n",
       "    </tr>\n",
       "    <tr>\n",
       "      <th>146</th>\n",
       "      <td>6.3</td>\n",
       "      <td>2.5</td>\n",
       "      <td>5.0</td>\n",
       "      <td>1.9</td>\n",
       "      <td>Iris-virginica</td>\n",
       "    </tr>\n",
       "    <tr>\n",
       "      <th>147</th>\n",
       "      <td>6.5</td>\n",
       "      <td>3.0</td>\n",
       "      <td>5.2</td>\n",
       "      <td>2.0</td>\n",
       "      <td>Iris-virginica</td>\n",
       "    </tr>\n",
       "    <tr>\n",
       "      <th>148</th>\n",
       "      <td>6.2</td>\n",
       "      <td>3.4</td>\n",
       "      <td>5.4</td>\n",
       "      <td>2.3</td>\n",
       "      <td>Iris-virginica</td>\n",
       "    </tr>\n",
       "    <tr>\n",
       "      <th>149</th>\n",
       "      <td>5.9</td>\n",
       "      <td>3.0</td>\n",
       "      <td>5.1</td>\n",
       "      <td>1.8</td>\n",
       "      <td>Iris-virginica</td>\n",
       "    </tr>\n",
       "  </tbody>\n",
       "</table>\n",
       "<p>150 rows × 5 columns</p>\n",
       "</div>"
      ],
      "text/plain": [
       "     sepal_length  sepal_width  petal_length  petal_width         species\n",
       "0             5.1          3.5           1.4          0.2     Iris-setosa\n",
       "1             4.9          3.0           1.4          0.2     Iris-setosa\n",
       "2             4.7          3.2           1.3          0.2     Iris-setosa\n",
       "3             4.6          3.1           1.5          0.2     Iris-setosa\n",
       "4             5.0          3.6           1.4          0.2     Iris-setosa\n",
       "..            ...          ...           ...          ...             ...\n",
       "145           6.7          3.0           5.2          2.3  Iris-virginica\n",
       "146           6.3          2.5           5.0          1.9  Iris-virginica\n",
       "147           6.5          3.0           5.2          2.0  Iris-virginica\n",
       "148           6.2          3.4           5.4          2.3  Iris-virginica\n",
       "149           5.9          3.0           5.1          1.8  Iris-virginica\n",
       "\n",
       "[150 rows x 5 columns]"
      ]
     },
     "execution_count": 2,
     "metadata": {},
     "output_type": "execute_result"
    }
   ],
   "source": [
    "data_iris = pd.read_csv(\"https://archive.ics.uci.edu/ml/machine-learning-databases/iris/iris.data\", names=['sepal_length', 'sepal_width', 'petal_length', 'petal_width', 'species'])\n",
    "data_iris"
   ]
  },
  {
   "cell_type": "markdown",
   "metadata": {},
   "source": [
    "## Análise Univariada"
   ]
  },
  {
   "cell_type": "markdown",
   "metadata": {
    "id": "8rYyCJhuuwz8"
   },
   "source": [
    "O primeiro passo é classificar o tipo de cada atributo. Podemos ver que, nesse caso, todos os atributos são quantitativos contínuos representados por números reais. Segundo a descrição da base, eles se referem as medidas de característica de plantas: tamanho das sépalas e pétalas.\n",
    "\n",
    "A coluna **species** corresponde ao _label_ de cada instância. Cada entrada da base é classificada em uma espécie que pode assumir 3 valores: `Iris-setosa`, `Iris-versicolor` e `Iris-virginica`. A seguir, podemos ver a quantidade de instâncias de cada classe."
   ]
  },
  {
   "cell_type": "code",
   "execution_count": 3,
   "metadata": {
    "colab": {
     "base_uri": "https://localhost:8080/",
     "height": 143
    },
    "id": "HJo71d9izLro",
    "outputId": "1e7ac188-823f-4b79-ad20-dab58b058c95"
   },
   "outputs": [
    {
     "data": {
      "text/html": [
       "<div>\n",
       "<style scoped>\n",
       "    .dataframe tbody tr th:only-of-type {\n",
       "        vertical-align: middle;\n",
       "    }\n",
       "\n",
       "    .dataframe tbody tr th {\n",
       "        vertical-align: top;\n",
       "    }\n",
       "\n",
       "    .dataframe thead th {\n",
       "        text-align: right;\n",
       "    }\n",
       "</style>\n",
       "<table border=\"1\" class=\"dataframe\">\n",
       "  <thead>\n",
       "    <tr style=\"text-align: right;\">\n",
       "      <th></th>\n",
       "      <th>species</th>\n",
       "    </tr>\n",
       "  </thead>\n",
       "  <tbody>\n",
       "    <tr>\n",
       "      <th>Iris-setosa</th>\n",
       "      <td>50</td>\n",
       "    </tr>\n",
       "    <tr>\n",
       "      <th>Iris-versicolor</th>\n",
       "      <td>50</td>\n",
       "    </tr>\n",
       "    <tr>\n",
       "      <th>Iris-virginica</th>\n",
       "      <td>50</td>\n",
       "    </tr>\n",
       "  </tbody>\n",
       "</table>\n",
       "</div>"
      ],
      "text/plain": [
       "                 species\n",
       "Iris-setosa           50\n",
       "Iris-versicolor       50\n",
       "Iris-virginica        50"
      ]
     },
     "execution_count": 3,
     "metadata": {},
     "output_type": "execute_result"
    }
   ],
   "source": [
    "values = data_iris['species'].value_counts().to_frame()\n",
    "values"
   ]
  },
  {
   "cell_type": "markdown",
   "metadata": {
    "id": "lwE_LwUpzfk4"
   },
   "source": [
    "Um outro método interessante do pandas é o _describe_. Ele permite exibir uma série de informações de uma vez só sobre os atributos."
   ]
  },
  {
   "cell_type": "code",
   "execution_count": 20,
   "metadata": {
    "colab": {
     "base_uri": "https://localhost:8080/",
     "height": 300
    },
    "id": "l6DgqYDe0Png",
    "outputId": "abeb56ce-274a-4827-e6ad-86ed9faf3c46"
   },
   "outputs": [
    {
     "data": {
      "text/html": [
       "\n",
       "  <div id=\"df-457d5565-af57-4f29-885e-7a3c50e5fb5f\">\n",
       "    <div class=\"colab-df-container\">\n",
       "      <div>\n",
       "<style scoped>\n",
       "    .dataframe tbody tr th:only-of-type {\n",
       "        vertical-align: middle;\n",
       "    }\n",
       "\n",
       "    .dataframe tbody tr th {\n",
       "        vertical-align: top;\n",
       "    }\n",
       "\n",
       "    .dataframe thead th {\n",
       "        text-align: right;\n",
       "    }\n",
       "</style>\n",
       "<table border=\"1\" class=\"dataframe\">\n",
       "  <thead>\n",
       "    <tr style=\"text-align: right;\">\n",
       "      <th></th>\n",
       "      <th>sepal_length</th>\n",
       "      <th>sepal_width</th>\n",
       "      <th>petal_length</th>\n",
       "      <th>petal_width</th>\n",
       "    </tr>\n",
       "  </thead>\n",
       "  <tbody>\n",
       "    <tr>\n",
       "      <th>count</th>\n",
       "      <td>150.000000</td>\n",
       "      <td>150.000000</td>\n",
       "      <td>150.000000</td>\n",
       "      <td>150.000000</td>\n",
       "    </tr>\n",
       "    <tr>\n",
       "      <th>mean</th>\n",
       "      <td>5.843333</td>\n",
       "      <td>3.054000</td>\n",
       "      <td>3.758667</td>\n",
       "      <td>1.198667</td>\n",
       "    </tr>\n",
       "    <tr>\n",
       "      <th>std</th>\n",
       "      <td>0.828066</td>\n",
       "      <td>0.433594</td>\n",
       "      <td>1.764420</td>\n",
       "      <td>0.763161</td>\n",
       "    </tr>\n",
       "    <tr>\n",
       "      <th>min</th>\n",
       "      <td>4.300000</td>\n",
       "      <td>2.000000</td>\n",
       "      <td>1.000000</td>\n",
       "      <td>0.100000</td>\n",
       "    </tr>\n",
       "    <tr>\n",
       "      <th>25%</th>\n",
       "      <td>5.100000</td>\n",
       "      <td>2.800000</td>\n",
       "      <td>1.600000</td>\n",
       "      <td>0.300000</td>\n",
       "    </tr>\n",
       "    <tr>\n",
       "      <th>50%</th>\n",
       "      <td>5.800000</td>\n",
       "      <td>3.000000</td>\n",
       "      <td>4.350000</td>\n",
       "      <td>1.300000</td>\n",
       "    </tr>\n",
       "    <tr>\n",
       "      <th>75%</th>\n",
       "      <td>6.400000</td>\n",
       "      <td>3.300000</td>\n",
       "      <td>5.100000</td>\n",
       "      <td>1.800000</td>\n",
       "    </tr>\n",
       "    <tr>\n",
       "      <th>max</th>\n",
       "      <td>7.900000</td>\n",
       "      <td>4.400000</td>\n",
       "      <td>6.900000</td>\n",
       "      <td>2.500000</td>\n",
       "    </tr>\n",
       "  </tbody>\n",
       "</table>\n",
       "</div>\n",
       "      <button class=\"colab-df-convert\" onclick=\"convertToInteractive('df-457d5565-af57-4f29-885e-7a3c50e5fb5f')\"\n",
       "              title=\"Convert this dataframe to an interactive table.\"\n",
       "              style=\"display:none;\">\n",
       "        \n",
       "  <svg xmlns=\"http://www.w3.org/2000/svg\" height=\"24px\"viewBox=\"0 0 24 24\"\n",
       "       width=\"24px\">\n",
       "    <path d=\"M0 0h24v24H0V0z\" fill=\"none\"/>\n",
       "    <path d=\"M18.56 5.44l.94 2.06.94-2.06 2.06-.94-2.06-.94-.94-2.06-.94 2.06-2.06.94zm-11 1L8.5 8.5l.94-2.06 2.06-.94-2.06-.94L8.5 2.5l-.94 2.06-2.06.94zm10 10l.94 2.06.94-2.06 2.06-.94-2.06-.94-.94-2.06-.94 2.06-2.06.94z\"/><path d=\"M17.41 7.96l-1.37-1.37c-.4-.4-.92-.59-1.43-.59-.52 0-1.04.2-1.43.59L10.3 9.45l-7.72 7.72c-.78.78-.78 2.05 0 2.83L4 21.41c.39.39.9.59 1.41.59.51 0 1.02-.2 1.41-.59l7.78-7.78 2.81-2.81c.8-.78.8-2.07 0-2.86zM5.41 20L4 18.59l7.72-7.72 1.47 1.35L5.41 20z\"/>\n",
       "  </svg>\n",
       "      </button>\n",
       "      \n",
       "  <style>\n",
       "    .colab-df-container {\n",
       "      display:flex;\n",
       "      flex-wrap:wrap;\n",
       "      gap: 12px;\n",
       "    }\n",
       "\n",
       "    .colab-df-convert {\n",
       "      background-color: #E8F0FE;\n",
       "      border: none;\n",
       "      border-radius: 50%;\n",
       "      cursor: pointer;\n",
       "      display: none;\n",
       "      fill: #1967D2;\n",
       "      height: 32px;\n",
       "      padding: 0 0 0 0;\n",
       "      width: 32px;\n",
       "    }\n",
       "\n",
       "    .colab-df-convert:hover {\n",
       "      background-color: #E2EBFA;\n",
       "      box-shadow: 0px 1px 2px rgba(60, 64, 67, 0.3), 0px 1px 3px 1px rgba(60, 64, 67, 0.15);\n",
       "      fill: #174EA6;\n",
       "    }\n",
       "\n",
       "    [theme=dark] .colab-df-convert {\n",
       "      background-color: #3B4455;\n",
       "      fill: #D2E3FC;\n",
       "    }\n",
       "\n",
       "    [theme=dark] .colab-df-convert:hover {\n",
       "      background-color: #434B5C;\n",
       "      box-shadow: 0px 1px 3px 1px rgba(0, 0, 0, 0.15);\n",
       "      filter: drop-shadow(0px 1px 2px rgba(0, 0, 0, 0.3));\n",
       "      fill: #FFFFFF;\n",
       "    }\n",
       "  </style>\n",
       "\n",
       "      <script>\n",
       "        const buttonEl =\n",
       "          document.querySelector('#df-457d5565-af57-4f29-885e-7a3c50e5fb5f button.colab-df-convert');\n",
       "        buttonEl.style.display =\n",
       "          google.colab.kernel.accessAllowed ? 'block' : 'none';\n",
       "\n",
       "        async function convertToInteractive(key) {\n",
       "          const element = document.querySelector('#df-457d5565-af57-4f29-885e-7a3c50e5fb5f');\n",
       "          const dataTable =\n",
       "            await google.colab.kernel.invokeFunction('convertToInteractive',\n",
       "                                                     [key], {});\n",
       "          if (!dataTable) return;\n",
       "\n",
       "          const docLinkHtml = 'Like what you see? Visit the ' +\n",
       "            '<a target=\"_blank\" href=https://colab.research.google.com/notebooks/data_table.ipynb>data table notebook</a>'\n",
       "            + ' to learn more about interactive tables.';\n",
       "          element.innerHTML = '';\n",
       "          dataTable['output_type'] = 'display_data';\n",
       "          await google.colab.output.renderOutput(dataTable, element);\n",
       "          const docLink = document.createElement('div');\n",
       "          docLink.innerHTML = docLinkHtml;\n",
       "          element.appendChild(docLink);\n",
       "        }\n",
       "      </script>\n",
       "    </div>\n",
       "  </div>\n",
       "  "
      ],
      "text/plain": [
       "       sepal_length  sepal_width  petal_length  petal_width\n",
       "count    150.000000   150.000000    150.000000   150.000000\n",
       "mean       5.843333     3.054000      3.758667     1.198667\n",
       "std        0.828066     0.433594      1.764420     0.763161\n",
       "min        4.300000     2.000000      1.000000     0.100000\n",
       "25%        5.100000     2.800000      1.600000     0.300000\n",
       "50%        5.800000     3.000000      4.350000     1.300000\n",
       "75%        6.400000     3.300000      5.100000     1.800000\n",
       "max        7.900000     4.400000      6.900000     2.500000"
      ]
     },
     "execution_count": 20,
     "metadata": {},
     "output_type": "execute_result"
    }
   ],
   "source": [
    "data_iris.describe()"
   ]
  },
  {
   "cell_type": "markdown",
   "metadata": {
    "id": "NuuN4sRHssN_"
   },
   "source": [
    "Com esse método podemos extrair informações sobre `média`, `desvio padrão` e `valores do quartil`, além do total para cada atributo. O que podemos extrair desses dados? \n",
    "\n",
    "* A base é completa. Não existem valores faltando para um ou mais atributos. Observe que cada coluna tem exatamente 150 linhas. \n",
    "* Os dados tem pouca variação, quando isso acontece o desvio padrão tende a ser baixo."
   ]
  },
  {
   "cell_type": "markdown",
   "metadata": {
    "id": "qN4SC3fNAJ46"
   },
   "source": [
    "Apesar do método _describe_ já trazer um conjunto de informações, podemos extrai-las individualmente ou calcular outras que não são fornecidadas pelo método."
   ]
  },
  {
   "cell_type": "markdown",
   "metadata": {},
   "source": [
    "**Cálculo da Média**"
   ]
  },
  {
   "cell_type": "code",
   "execution_count": 8,
   "metadata": {
    "colab": {
     "base_uri": "https://localhost:8080/"
    },
    "id": "gw8wjPYzAcPO",
    "outputId": "42f1ff6d-9b21-473d-da9b-e140f5a511ac"
   },
   "outputs": [
    {
     "data": {
      "text/plain": [
       "sepal_length    5.843333\n",
       "sepal_width     3.054000\n",
       "petal_length    3.758667\n",
       "petal_width     1.198667\n",
       "dtype: float64"
      ]
     },
     "execution_count": 8,
     "metadata": {},
     "output_type": "execute_result"
    }
   ],
   "source": [
    "# média\n",
    "\n",
    "data_iris[[\"sepal_length\",\"sepal_width\",\"petal_length\",\"petal_width\"]].mean()"
   ]
  },
  {
   "cell_type": "markdown",
   "metadata": {},
   "source": [
    "**Cálculo da Mediana**"
   ]
  },
  {
   "cell_type": "code",
   "execution_count": 11,
   "metadata": {},
   "outputs": [
    {
     "data": {
      "text/plain": [
       "sepal_length    5.80\n",
       "sepal_width     3.00\n",
       "petal_length    4.35\n",
       "petal_width     1.30\n",
       "dtype: float64"
      ]
     },
     "execution_count": 11,
     "metadata": {},
     "output_type": "execute_result"
    }
   ],
   "source": [
    "# média\n",
    "\n",
    "data_iris[[\"sepal_length\",\"sepal_width\",\"petal_length\",\"petal_width\"]].median()"
   ]
  },
  {
   "cell_type": "markdown",
   "metadata": {
    "id": "Wxhg76JDA2lj"
   },
   "source": [
    "Estas métricas calculadas são sensíveis a *outliers* na base. No entanto, analisando somente esse números fica difícil ver se tem algum _outlier_ já que os valores estão muito próximos. Podemos enxergar melhor essas informações utilizando um `boxplot` para cada um dos atributos. Vamos utilizar a biblioteca do `seaborn` para visualizar essa informação. "
   ]
  },
  {
   "cell_type": "code",
   "execution_count": 9,
   "metadata": {
    "colab": {
     "base_uri": "https://localhost:8080/",
     "height": 284
    },
    "id": "iOskPBsuBnoi",
    "outputId": "05174d47-e50f-4b03-a396-85341cdda8a4"
   },
   "outputs": [
    {
     "data": {
      "text/plain": [
       "<AxesSubplot:>"
      ]
     },
     "execution_count": 9,
     "metadata": {},
     "output_type": "execute_result"
    },
    {
     "data": {
      "image/png": "[encoded data removed]",
      "text/plain": [
       "<Figure size 432x288 with 1 Axes>"
      ]
     },
     "metadata": {
      "needs_background": "light"
     },
     "output_type": "display_data"
    }
   ],
   "source": [
    "sns.boxplot(data=data_iris)"
   ]
  },
  {
   "cell_type": "markdown",
   "metadata": {},
   "source": [
    "Os pontos que aparecem no gráfico do `sepal_width` são os outliers identificados neste atributo. Isso indica que esses valores fogem um pouco da média dos valores para este atributo. O que fazer com esses dados será discutido mais a frente."
   ]
  },
  {
   "cell_type": "markdown",
   "metadata": {
    "id": "xS9uyZIWDG1I"
   },
   "source": [
    "O gráfico anterior mostrou os valores para toda a base. Podemo mostrá-los por espécie."
   ]
  },
  {
   "cell_type": "code",
   "execution_count": 10,
   "metadata": {
    "colab": {
     "base_uri": "https://localhost:8080/",
     "height": 626
    },
    "id": "PzBEj-FyDGPV",
    "outputId": "2899e700-0c9f-47f3-acca-5ab7b66757cd"
   },
   "outputs": [
    {
     "data": {
      "text/plain": [
       "<AxesSubplot:xlabel='species', ylabel='petal_width'>"
      ]
     },
     "execution_count": 10,
     "metadata": {},
     "output_type": "execute_result"
    },
    {
     "data": {
      "image/png": "[encoded data removed]",
      "text/plain": [
       "<Figure size 720x720 with 4 Axes>"
      ]
     },
     "metadata": {
      "needs_background": "light"
     },
     "output_type": "display_data"
    }
   ],
   "source": [
    "fig, axs = plt.subplots(ncols=2,nrows=2,figsize=(10,10))\n",
    "sns.boxplot(data=data_iris, x=\"species\", y=\"sepal_length\", ax=axs[0][0])\n",
    "sns.boxplot(data=data_iris, x=\"species\", y=\"sepal_width\", ax=axs[0][1])\n",
    "sns.boxplot(data=data_iris, x=\"species\", y=\"petal_length\", ax=axs[1][0])\n",
    "sns.boxplot(data=data_iris, x=\"species\", y=\"petal_width\", ax=axs[1][1])"
   ]
  },
  {
   "cell_type": "markdown",
   "metadata": {},
   "source": [
    "Vamos calcular algumas métricas de espalhamento (ou dispersão)."
   ]
  },
  {
   "cell_type": "markdown",
   "metadata": {},
   "source": [
    "**Cálculo do Intervalo**"
   ]
  },
  {
   "cell_type": "code",
   "execution_count": 5,
   "metadata": {
    "colab": {
     "base_uri": "https://localhost:8080/"
    },
    "id": "BKxMUWVcrlzy",
    "outputId": "e3892b00-fdaa-4973-e8bc-28fdd7f3065d"
   },
   "outputs": [
    {
     "data": {
      "text/plain": [
       "sepal_length    3.6\n",
       "sepal_width     2.4\n",
       "petal_length    5.9\n",
       "petal_width     2.4\n",
       "dtype: float64"
      ]
     },
     "execution_count": 5,
     "metadata": {},
     "output_type": "execute_result"
    }
   ],
   "source": [
    "# intervalo\n",
    "\n",
    "data_features = data_iris[[\"sepal_length\",\"sepal_width\",\"petal_length\",\"petal_width\"]]\n",
    "data_features.max() - data_features.min()"
   ]
  },
  {
   "cell_type": "markdown",
   "metadata": {},
   "source": [
    "**Cálculo da Variância**"
   ]
  },
  {
   "cell_type": "code",
   "execution_count": 18,
   "metadata": {},
   "outputs": [
    {
     "data": {
      "text/plain": [
       "sepal_length    0.685694\n",
       "sepal_width     0.188004\n",
       "petal_length    3.113179\n",
       "petal_width     0.582414\n",
       "dtype: float64"
      ]
     },
     "execution_count": 18,
     "metadata": {},
     "output_type": "execute_result"
    }
   ],
   "source": [
    "# Variância\n",
    "\n",
    "data_iris[[\"sepal_length\",\"sepal_width\",\"petal_length\",\"petal_width\"]].var()"
   ]
  },
  {
   "cell_type": "markdown",
   "metadata": {},
   "source": [
    "**Cálculo do Desvio Padrão**"
   ]
  },
  {
   "cell_type": "code",
   "execution_count": 7,
   "metadata": {
    "colab": {
     "base_uri": "https://localhost:8080/"
    },
    "id": "7kJNsHOrAk0l",
    "outputId": "ab986c86-5b6e-48b0-e6d0-aae83e705c6f"
   },
   "outputs": [
    {
     "data": {
      "text/plain": [
       "sepal_length    0.828066\n",
       "sepal_width     0.433594\n",
       "petal_length    1.764420\n",
       "petal_width     0.763161\n",
       "dtype: float64"
      ]
     },
     "execution_count": 7,
     "metadata": {},
     "output_type": "execute_result"
    }
   ],
   "source": [
    "# desvio padrão\n",
    "\n",
    "data_iris[[\"sepal_length\",\"sepal_width\",\"petal_length\",\"petal_width\"]].std()"
   ]
  },
  {
   "cell_type": "markdown",
   "metadata": {},
   "source": [
    "**Cálculo do coeficiente de variação**"
   ]
  },
  {
   "cell_type": "code",
   "execution_count": 19,
   "metadata": {},
   "outputs": [
    {
     "data": {
      "text/plain": [
       "sepal_length    14.171126\n",
       "sepal_width     14.197587\n",
       "petal_length    46.942721\n",
       "petal_width     63.667470\n",
       "dtype: float64"
      ]
     },
     "execution_count": 19,
     "metadata": {},
     "output_type": "execute_result"
    }
   ],
   "source": [
    "# coeficiente de variação\n",
    "\n",
    "data_ = data_iris[[\"sepal_length\",\"sepal_width\",\"petal_length\",\"petal_width\"]]\n",
    "\n",
    "(100 * data_.std()) / data_.mean()"
   ]
  },
  {
   "cell_type": "markdown",
   "metadata": {},
   "source": [
    "Vamos calcular algumas métricas que nos permite ver a distribuição dos valores de cada atributo."
   ]
  },
  {
   "cell_type": "code",
   "execution_count": 37,
   "metadata": {},
   "outputs": [
    {
     "data": {
      "text/plain": [
       "<AxesSubplot:xlabel='petal_width', ylabel='Count'>"
      ]
     },
     "execution_count": 37,
     "metadata": {},
     "output_type": "execute_result"
    },
    {
     "data": {
      "image/png": "[encoded data removed]",
      "text/plain": [
       "<Figure size 864x576 with 4 Axes>"
      ]
     },
     "metadata": {
      "needs_background": "light"
     },
     "output_type": "display_data"
    }
   ],
   "source": [
    "fig, axs  = plt.subplots(ncols=2,nrows=2,figsize=(12,8))\n",
    "sns.histplot(data_iris['sepal_length'], ax=axs[0][0])\n",
    "sns.histplot(data_iris['sepal_width'], ax=axs[0][1])\n",
    "sns.histplot(data_iris['petal_length'], ax=axs[1][0])\n",
    "sns.histplot(data_iris['petal_width'], ax=axs[1][1])"
   ]
  },
  {
   "cell_type": "markdown",
   "metadata": {},
   "source": [
    "A visualização do histograma permite enxergar como os dados estão distribuídos. Como os valores que estamos trabalhando são todos contínuos, o eixo x do histograma são intervalo de valores e o eixo y a quantidade de instâncias que estão naquele intervalo. As informações sobre a distribuição dos dados também pode ser calculado a partir das métricas `obliquidade` e `curtose`. A primeira permite ver se a distribuição é simétrica (se aproxima da distribuição normal), se concentra mais a esquerda ou a direita. Já a segunda, permite verificar o achatamento da distribuição. Vamos calcular tais métricas. "
   ]
  },
  {
   "cell_type": "code",
   "execution_count": 32,
   "metadata": {},
   "outputs": [],
   "source": [
    "data_ = data_iris[[\"sepal_length\",\"sepal_width\",\"petal_length\",\"petal_width\"]]"
   ]
  },
  {
   "cell_type": "markdown",
   "metadata": {},
   "source": [
    "**Cálculo da Obliquidade**"
   ]
  },
  {
   "cell_type": "code",
   "execution_count": 72,
   "metadata": {},
   "outputs": [
    {
     "data": {
      "text/plain": [
       "sepal_length    0.314911\n",
       "sepal_width     0.334053\n",
       "petal_length   -0.274464\n",
       "petal_width    -0.104997\n",
       "dtype: float64"
      ]
     },
     "execution_count": 72,
     "metadata": {},
     "output_type": "execute_result"
    }
   ],
   "source": [
    "data_.skew()"
   ]
  },
  {
   "cell_type": "markdown",
   "metadata": {},
   "source": [
    "**Cálculo da curtose**"
   ]
  },
  {
   "cell_type": "code",
   "execution_count": 34,
   "metadata": {},
   "outputs": [
    {
     "data": {
      "text/plain": [
       "sepal_length   -0.552064\n",
       "sepal_width     0.290781\n",
       "petal_length   -1.401921\n",
       "petal_width    -1.339754\n",
       "dtype: float64"
      ]
     },
     "execution_count": 34,
     "metadata": {},
     "output_type": "execute_result"
    }
   ],
   "source": [
    "data_.kurtosis()"
   ]
  },
  {
   "cell_type": "markdown",
   "metadata": {},
   "source": [
    "Observe que os valores condizem com o que foi visto no histograma. "
   ]
  },
  {
   "cell_type": "markdown",
   "metadata": {},
   "source": [
    "## Análise Multivariada"
   ]
  },
  {
   "cell_type": "markdown",
   "metadata": {
    "id": "ByJzvGOXBTj_"
   },
   "source": [
    "A outra análise que podemos fazer é em relação aos dados multivariados. A informação que mais interessa por enquanto é a relação de correlação. Vamos exibir a matriz de correlação e o gráfico _scatter plot_ dos atributos."
   ]
  },
  {
   "cell_type": "code",
   "execution_count": 38,
   "metadata": {
    "colab": {
     "base_uri": "https://localhost:8080/",
     "height": 175
    },
    "id": "h61SBks3BvuT",
    "outputId": "468cb749-05c4-4a92-e398-24517379dd1b"
   },
   "outputs": [
    {
     "data": {
      "text/html": [
       "<div>\n",
       "<style scoped>\n",
       "    .dataframe tbody tr th:only-of-type {\n",
       "        vertical-align: middle;\n",
       "    }\n",
       "\n",
       "    .dataframe tbody tr th {\n",
       "        vertical-align: top;\n",
       "    }\n",
       "\n",
       "    .dataframe thead th {\n",
       "        text-align: right;\n",
       "    }\n",
       "</style>\n",
       "<table border=\"1\" class=\"dataframe\">\n",
       "  <thead>\n",
       "    <tr style=\"text-align: right;\">\n",
       "      <th></th>\n",
       "      <th>sepal_length</th>\n",
       "      <th>sepal_width</th>\n",
       "      <th>petal_length</th>\n",
       "      <th>petal_width</th>\n",
       "    </tr>\n",
       "  </thead>\n",
       "  <tbody>\n",
       "    <tr>\n",
       "      <th>sepal_length</th>\n",
       "      <td>1.000000</td>\n",
       "      <td>-0.109369</td>\n",
       "      <td>0.871754</td>\n",
       "      <td>0.817954</td>\n",
       "    </tr>\n",
       "    <tr>\n",
       "      <th>sepal_width</th>\n",
       "      <td>-0.109369</td>\n",
       "      <td>1.000000</td>\n",
       "      <td>-0.420516</td>\n",
       "      <td>-0.356544</td>\n",
       "    </tr>\n",
       "    <tr>\n",
       "      <th>petal_length</th>\n",
       "      <td>0.871754</td>\n",
       "      <td>-0.420516</td>\n",
       "      <td>1.000000</td>\n",
       "      <td>0.962757</td>\n",
       "    </tr>\n",
       "    <tr>\n",
       "      <th>petal_width</th>\n",
       "      <td>0.817954</td>\n",
       "      <td>-0.356544</td>\n",
       "      <td>0.962757</td>\n",
       "      <td>1.000000</td>\n",
       "    </tr>\n",
       "  </tbody>\n",
       "</table>\n",
       "</div>"
      ],
      "text/plain": [
       "              sepal_length  sepal_width  petal_length  petal_width\n",
       "sepal_length      1.000000    -0.109369      0.871754     0.817954\n",
       "sepal_width      -0.109369     1.000000     -0.420516    -0.356544\n",
       "petal_length      0.871754    -0.420516      1.000000     0.962757\n",
       "petal_width       0.817954    -0.356544      0.962757     1.000000"
      ]
     },
     "execution_count": 38,
     "metadata": {},
     "output_type": "execute_result"
    }
   ],
   "source": [
    "# Tabela de Correlação\n",
    "\n",
    "corr_table = data_iris.corr()\n",
    "corr_table"
   ]
  },
  {
   "cell_type": "markdown",
   "metadata": {
    "id": "BnQrHqV9D3V0"
   },
   "source": [
    "Podemos visualizar isso melhor com o um Heatmap."
   ]
  },
  {
   "cell_type": "code",
   "execution_count": 39,
   "metadata": {
    "colab": {
     "base_uri": "https://localhost:8080/",
     "height": 288
    },
    "id": "EGHn0PAhB8Ls",
    "outputId": "51e31a29-0144-4f77-fd43-866f85c9e2f8"
   },
   "outputs": [
    {
     "data": {
      "text/plain": [
       "<AxesSubplot:>"
      ]
     },
     "execution_count": 39,
     "metadata": {},
     "output_type": "execute_result"
    },
    {
     "data": {
      "image/png": "[encoded data removed]",
      "text/plain": [
       "<Figure size 432x288 with 2 Axes>"
      ]
     },
     "metadata": {
      "needs_background": "light"
     },
     "output_type": "display_data"
    }
   ],
   "source": [
    "# Heatmap\n",
    "\n",
    "sns.heatmap(corr_table, xticklabels=corr_table.columns, yticklabels=corr_table.columns, annot=True)"
   ]
  },
  {
   "cell_type": "markdown",
   "metadata": {
    "id": "O2O6NwXLD92Q"
   },
   "source": [
    "Outra forma de enxergar com os dados se comportam é a partir de um `Scatter Plot` que permite ver a distribuição dos dados."
   ]
  },
  {
   "cell_type": "code",
   "execution_count": 40,
   "metadata": {
    "colab": {
     "base_uri": "https://localhost:8080/",
     "height": 726
    },
    "id": "PCPj__VLCI9c",
    "outputId": "b8c467d4-e58e-4de0-bc4a-eeb8f6f1c46a"
   },
   "outputs": [
    {
     "data": {
      "image/png": "[encoded data removed]",
      "text/plain": [
       "<Figure size 823.25x720 with 20 Axes>"
      ]
     },
     "metadata": {
      "needs_background": "light"
     },
     "output_type": "display_data"
    }
   ],
   "source": [
    "# Scatter Plot\n",
    "\n",
    "sns.pairplot(data_iris, kind=\"scatter\", hue=\"species\", markers=[\"o\", \"o\",\"o\"], palette=\"Set2\",diag_kind=\"hist\")\n",
    "plt.show()"
   ]
  },
  {
   "cell_type": "markdown",
   "metadata": {
    "id": "DxMiCk3flgBk"
   },
   "source": [
    "Vamos analisar duas correlações para reforçar o significado desses valores. Primeiro vamos comentar sobre uma correlação positiva, no caso a correlação entre *petal_length* e *petal_width* com coeficiente de correlação igual a 0.96 e a correlação entre *sepal_width*  e *petal_length* que possuem um coeficiente negativo de de -0.43. Se plotarmos somente o gráfico do primeiro caso temos:"
   ]
  },
  {
   "cell_type": "code",
   "execution_count": 41,
   "metadata": {
    "colab": {
     "base_uri": "https://localhost:8080/",
     "height": 374
    },
    "id": "rHsMpGLYlfFT",
    "outputId": "e22e1414-85a1-4b96-ff18-a070f3ef2016"
   },
   "outputs": [
    {
     "data": {
      "image/png": "[encoded data removed]",
      "text/plain": [
       "<Figure size 463.25x360 with 6 Axes>"
      ]
     },
     "metadata": {
      "needs_background": "light"
     },
     "output_type": "display_data"
    }
   ],
   "source": [
    "sns.pairplot(data_iris[['petal_length','petal_width','species']], kind=\"scatter\", hue=\"species\", markers=[\"o\", \"o\",\"o\"], palette=\"Set2\",diag_kind=\"hist\")\n",
    "plt.show()"
   ]
  },
  {
   "cell_type": "markdown",
   "metadata": {
    "id": "ZRZ0M8l9o81n"
   },
   "source": [
    "Observe que claramente existe uma relação linear positva entre os dois atributos. É fácil traçar uma reta que consiga casar com estes dados (ou com boa parte deles) e o comportamento da reta indica que o aumento de um influencia no aumento do outro. \n",
    "\n",
    "No entanto, se analisarmos o caso negativo, temos: "
   ]
  },
  {
   "cell_type": "code",
   "execution_count": 42,
   "metadata": {
    "colab": {
     "base_uri": "https://localhost:8080/",
     "height": 374
    },
    "id": "QQzx5Ps-pO0O",
    "outputId": "7cc69009-14a0-46a8-d3f6-a685069f2f28"
   },
   "outputs": [
    {
     "data": {
      "image/png": "[encoded data removed]",
      "text/plain": [
       "<Figure size 463.25x360 with 6 Axes>"
      ]
     },
     "metadata": {
      "needs_background": "light"
     },
     "output_type": "display_data"
    }
   ],
   "source": [
    "sns.pairplot(data_iris[['sepal_width','petal_length','species']], kind=\"scatter\", hue=\"species\", markers=[\"o\", \"o\",\"o\"], palette=\"Set2\",diag_kind=\"hist\")\n",
    "plt.show()"
   ]
  },
  {
   "cell_type": "markdown",
   "metadata": {
    "id": "lT0QTNsIpbfd"
   },
   "source": [
    "Já neste caso, a relação é negativa. Ou seja, o aumento de um implica na redução de outro. Observe que é bem influenciado por conta dos dados marcados de verde (classe _setosa_)."
   ]
  },
  {
   "cell_type": "markdown",
   "metadata": {
    "id": "SY9Sjot2Wklj"
   },
   "source": [
    "## Base da Dados do Titanic\n",
    "\n",
    "Vamos praticar alguns dos conceitos vistos até aqui. Para isso, vamos trabalhar com a base de sobreviventes do Titanic. Originalmente, esse base pode ser acessada a partir do Kaggle no endereço https://www.kaggle.com/c/titanic/.\n",
    "\n",
    "![yesss](https://media.giphy.com/media/Uj3SeuVfg2oCs/giphy.gif)"
   ]
  },
  {
   "cell_type": "markdown",
   "metadata": {
    "id": "y1l7ogFSmuq3"
   },
   "source": [
    "Um passo importante antes de trabalhar com qualquer base é identificar o que significa cada coluna da base. Essas informações devem ser adquiridas por quem forneceu a base de dados ou o especialista da área que se está trabalhando. Neste caso, as informações foram retiradas do próprio site do Kaggle.\n",
    "\n",
    "| Atributo | Definição | Chave dos valores |\n",
    "|:--------|:--------:|:--------:|\n",
    "| Survived | Se sobreviveu ou não ao titanic | 0 = Não e 1 = Sim |\n",
    "| Pclass | Classe do ticket | 1 = primeira, 2 = segunda e 3 = terceira |\n",
    "| Sex | Sexo do passageiro | |\n",
    "| Age | Idade em anos | |\n",
    "| SibSp | Número de irmãos / cônjuges a bordo | |\n",
    "| Parch | Número de pais / filhos a bordo | |\n",
    "| Ticket | Número do ticket | | \n",
    "| Fare | Valor da passagem | | \n",
    "| Cabin | Número da cabine | |\n",
    "| Embarked | Portão de embarque | C = Cherboug, Q - Queenstown, S = Southampton | \n",
    "\n",
    "Vamos carregar a base em um DataFrame para começar os trabalhos.\n"
   ]
  },
  {
   "cell_type": "code",
   "execution_count": 45,
   "metadata": {
    "colab": {
     "base_uri": "https://localhost:8080/",
     "height": 206
    },
    "id": "ih5VzdpAWsx9",
    "outputId": "b0897410-1c4c-4328-d46e-e552b136e939"
   },
   "outputs": [
    {
     "data": {
      "text/html": [
       "<div>\n",
       "<style scoped>\n",
       "    .dataframe tbody tr th:only-of-type {\n",
       "        vertical-align: middle;\n",
       "    }\n",
       "\n",
       "    .dataframe tbody tr th {\n",
       "        vertical-align: top;\n",
       "    }\n",
       "\n",
       "    .dataframe thead th {\n",
       "        text-align: right;\n",
       "    }\n",
       "</style>\n",
       "<table border=\"1\" class=\"dataframe\">\n",
       "  <thead>\n",
       "    <tr style=\"text-align: right;\">\n",
       "      <th></th>\n",
       "      <th>PassengerId</th>\n",
       "      <th>Survived</th>\n",
       "      <th>Pclass</th>\n",
       "      <th>Name</th>\n",
       "      <th>Sex</th>\n",
       "      <th>Age</th>\n",
       "      <th>SibSp</th>\n",
       "      <th>Parch</th>\n",
       "      <th>Ticket</th>\n",
       "      <th>Fare</th>\n",
       "      <th>Cabin</th>\n",
       "      <th>Embarked</th>\n",
       "    </tr>\n",
       "  </thead>\n",
       "  <tbody>\n",
       "    <tr>\n",
       "      <th>0</th>\n",
       "      <td>1</td>\n",
       "      <td>0</td>\n",
       "      <td>3</td>\n",
       "      <td>Braund, Mr. Owen Harris</td>\n",
       "      <td>male</td>\n",
       "      <td>22.0</td>\n",
       "      <td>1</td>\n",
       "      <td>0</td>\n",
       "      <td>A/5 21171</td>\n",
       "      <td>7.2500</td>\n",
       "      <td>NaN</td>\n",
       "      <td>S</td>\n",
       "    </tr>\n",
       "    <tr>\n",
       "      <th>1</th>\n",
       "      <td>2</td>\n",
       "      <td>1</td>\n",
       "      <td>1</td>\n",
       "      <td>Cumings, Mrs. John Bradley (Florence Briggs Th...</td>\n",
       "      <td>female</td>\n",
       "      <td>38.0</td>\n",
       "      <td>1</td>\n",
       "      <td>0</td>\n",
       "      <td>PC 17599</td>\n",
       "      <td>71.2833</td>\n",
       "      <td>C85</td>\n",
       "      <td>C</td>\n",
       "    </tr>\n",
       "    <tr>\n",
       "      <th>2</th>\n",
       "      <td>3</td>\n",
       "      <td>1</td>\n",
       "      <td>3</td>\n",
       "      <td>Heikkinen, Miss. Laina</td>\n",
       "      <td>female</td>\n",
       "      <td>26.0</td>\n",
       "      <td>0</td>\n",
       "      <td>0</td>\n",
       "      <td>STON/O2. 3101282</td>\n",
       "      <td>7.9250</td>\n",
       "      <td>NaN</td>\n",
       "      <td>S</td>\n",
       "    </tr>\n",
       "    <tr>\n",
       "      <th>3</th>\n",
       "      <td>4</td>\n",
       "      <td>1</td>\n",
       "      <td>1</td>\n",
       "      <td>Futrelle, Mrs. Jacques Heath (Lily May Peel)</td>\n",
       "      <td>female</td>\n",
       "      <td>35.0</td>\n",
       "      <td>1</td>\n",
       "      <td>0</td>\n",
       "      <td>113803</td>\n",
       "      <td>53.1000</td>\n",
       "      <td>C123</td>\n",
       "      <td>S</td>\n",
       "    </tr>\n",
       "    <tr>\n",
       "      <th>4</th>\n",
       "      <td>5</td>\n",
       "      <td>0</td>\n",
       "      <td>3</td>\n",
       "      <td>Allen, Mr. William Henry</td>\n",
       "      <td>male</td>\n",
       "      <td>35.0</td>\n",
       "      <td>0</td>\n",
       "      <td>0</td>\n",
       "      <td>373450</td>\n",
       "      <td>8.0500</td>\n",
       "      <td>NaN</td>\n",
       "      <td>S</td>\n",
       "    </tr>\n",
       "  </tbody>\n",
       "</table>\n",
       "</div>"
      ],
      "text/plain": [
       "   PassengerId  Survived  Pclass  \\\n",
       "0            1         0       3   \n",
       "1            2         1       1   \n",
       "2            3         1       3   \n",
       "3            4         1       1   \n",
       "4            5         0       3   \n",
       "\n",
       "                                                Name     Sex   Age  SibSp  \\\n",
       "0                            Braund, Mr. Owen Harris    male  22.0      1   \n",
       "1  Cumings, Mrs. John Bradley (Florence Briggs Th...  female  38.0      1   \n",
       "2                             Heikkinen, Miss. Laina  female  26.0      0   \n",
       "3       Futrelle, Mrs. Jacques Heath (Lily May Peel)  female  35.0      1   \n",
       "4                           Allen, Mr. William Henry    male  35.0      0   \n",
       "\n",
       "   Parch            Ticket     Fare Cabin Embarked  \n",
       "0      0         A/5 21171   7.2500   NaN        S  \n",
       "1      0          PC 17599  71.2833   C85        C  \n",
       "2      0  STON/O2. 3101282   7.9250   NaN        S  \n",
       "3      0            113803  53.1000  C123        S  \n",
       "4      0            373450   8.0500   NaN        S  "
      ]
     },
     "execution_count": 45,
     "metadata": {},
     "output_type": "execute_result"
    }
   ],
   "source": [
    "# Carregand o a base de dados\n",
    "titanic_dataset = pd.read_csv(\"../datasets/TitanicDataset.csv\")\n",
    "titanic_dataset.head()"
   ]
  },
  {
   "cell_type": "markdown",
   "metadata": {
    "id": "Zq-Xtq81Z1j6"
   },
   "source": [
    "### Descrição das Tarefas\n",
    "\n",
    "1. Classificar cada um dos atributos em relação à tipo e escala vistos em sala de aula.\n",
    "2. Calcular as métricas vistas em sala de aula. Observe o tipo de atributo para cálculo da métrica correta.\n",
    "\n",
    "O objetivo  é fazer com que vocês comecem a mexer com base de dados aqui no nosso ambiente de trabalho e comecem também a tirar conclusões sobre as métricas analisadas."
   ]
  },
  {
   "cell_type": "markdown",
   "metadata": {},
   "source": [
    "**Vamos começar?**\n",
    "\n",
    "![gif_yes](https://media.giphy.com/media/ckeHl52mNtoq87veET/giphy.gif)"
   ]
  },
  {
   "cell_type": "markdown",
   "metadata": {
    "id": "43w4Al_sHCua"
   },
   "source": [
    "Para começar vamos ver a quantidade de atribuitos e instâncias da base de dados. Isso pode ser facilmente descoberto com o método `shape`. "
   ]
  },
  {
   "cell_type": "code",
   "execution_count": 49,
   "metadata": {
    "colab": {
     "base_uri": "https://localhost:8080/"
    },
    "id": "MaTkyCXtYhUE",
    "outputId": "d3951b0f-25c7-4a5d-cb3f-a2cd9e413708"
   },
   "outputs": [
    {
     "data": {
      "text/plain": [
       "(891, 12)"
      ]
     },
     "execution_count": 49,
     "metadata": {},
     "output_type": "execute_result"
    }
   ],
   "source": [
    "titanic_dataset.shape"
   ]
  },
  {
   "cell_type": "markdown",
   "metadata": {
    "id": "wt6FwPcdHMyc"
   },
   "source": [
    "Isso indica que a base possui 891 instâncias e 12 atributos. Destes atributos, um é considerado classe: `Survived`. O conceito dessa classe vai ficar mais claro nos próximos assuntos. Por enquanto, saiba que ela é nossa variável de referência. Em outras palavras, eu quero entender como os atributos se comportam de acordo com os valores dessa variável. Isso vai ficar mais claro ao longo da explicação. "
   ]
  },
  {
   "cell_type": "markdown",
   "metadata": {
    "id": "XJLAEIauHnmG"
   },
   "source": [
    "O próximo passo é analisar o tipo de cada um dos atributos da base de dados. No caso da base do titanic, temos a seguinte classificação:"
   ]
  },
  {
   "cell_type": "markdown",
   "metadata": {
    "id": "W816JmzpITaV"
   },
   "source": [
    "| Variável | Tipo | Escala | \n",
    "|:------|:------:|:------:|\n",
    "|PassengerId | Qualitativo | Nominal |\n",
    "|Survived | Qualitativo | Nominal |\n",
    "|Pclass | Qualitativo | Ordinal |\n",
    "|Name | Qualitativo | Nominal |\n",
    "|Sex | Qualitativo | Nominal |\n",
    "|Age | Quantitativo Discreto | Racional |\n",
    "|SibSp | Quantitativo Discreto | Racional |\n",
    "|Parch | Quantitativo Discreto | Racional |\n",
    "|Ticket| Qualitativo | Nominal | \n",
    "|Fare | Quantitativo Contínuo | Racional |\n",
    "|Cabin | Qualitativo | Nominal |\n",
    "|Embarked | Qualitativo | Nominal |\n",
    "\n"
   ]
  },
  {
   "cell_type": "markdown",
   "metadata": {
    "id": "CCvUkK4AIiUT"
   },
   "source": [
    "Esse é o ponto de partida para começar a análise exploratória dos dados. A depender do tipo de atributo, vamos escolher diferentes estratégias e métricas para avaliar. Vamos primeiro trabalhar com os atributos quantitativos, extraindo informações gerais como média, desvio padrão e quartil. Depois vamos analisar a partir de gráficos como estão distribuídos os atributos qualitativos. "
   ]
  },
  {
   "cell_type": "markdown",
   "metadata": {
    "id": "-pGBd5wJIxnO"
   },
   "source": [
    "### Análise Quantitativa"
   ]
  },
  {
   "cell_type": "markdown",
   "metadata": {
    "id": "GLlGxaHvIuPR"
   },
   "source": [
    "Uma forma simples de var as principais métricas dos atributos quantitativos é utilizar o método `describe`. "
   ]
  },
  {
   "cell_type": "code",
   "execution_count": 54,
   "metadata": {
    "colab": {
     "base_uri": "https://localhost:8080/",
     "height": 300
    },
    "id": "RDiWW9gwIKkd",
    "outputId": "754bcabe-0c4c-4184-ca70-2be03393dcd1"
   },
   "outputs": [
    {
     "data": {
      "text/html": [
       "\n",
       "  <div id=\"df-923409f5-1ec3-47e5-b8c5-dbcac0fa7862\">\n",
       "    <div class=\"colab-df-container\">\n",
       "      <div>\n",
       "<style scoped>\n",
       "    .dataframe tbody tr th:only-of-type {\n",
       "        vertical-align: middle;\n",
       "    }\n",
       "\n",
       "    .dataframe tbody tr th {\n",
       "        vertical-align: top;\n",
       "    }\n",
       "\n",
       "    .dataframe thead th {\n",
       "        text-align: right;\n",
       "    }\n",
       "</style>\n",
       "<table border=\"1\" class=\"dataframe\">\n",
       "  <thead>\n",
       "    <tr style=\"text-align: right;\">\n",
       "      <th></th>\n",
       "      <th>PassengerId</th>\n",
       "      <th>Survived</th>\n",
       "      <th>Pclass</th>\n",
       "      <th>Age</th>\n",
       "      <th>SibSp</th>\n",
       "      <th>Parch</th>\n",
       "      <th>Fare</th>\n",
       "    </tr>\n",
       "  </thead>\n",
       "  <tbody>\n",
       "    <tr>\n",
       "      <th>count</th>\n",
       "      <td>891.000000</td>\n",
       "      <td>891.000000</td>\n",
       "      <td>891.000000</td>\n",
       "      <td>714.000000</td>\n",
       "      <td>891.000000</td>\n",
       "      <td>891.000000</td>\n",
       "      <td>891.000000</td>\n",
       "    </tr>\n",
       "    <tr>\n",
       "      <th>mean</th>\n",
       "      <td>446.000000</td>\n",
       "      <td>0.383838</td>\n",
       "      <td>2.308642</td>\n",
       "      <td>29.699118</td>\n",
       "      <td>0.523008</td>\n",
       "      <td>0.381594</td>\n",
       "      <td>32.204208</td>\n",
       "    </tr>\n",
       "    <tr>\n",
       "      <th>std</th>\n",
       "      <td>257.353842</td>\n",
       "      <td>0.486592</td>\n",
       "      <td>0.836071</td>\n",
       "      <td>14.526497</td>\n",
       "      <td>1.102743</td>\n",
       "      <td>0.806057</td>\n",
       "      <td>49.693429</td>\n",
       "    </tr>\n",
       "    <tr>\n",
       "      <th>min</th>\n",
       "      <td>1.000000</td>\n",
       "      <td>0.000000</td>\n",
       "      <td>1.000000</td>\n",
       "      <td>0.420000</td>\n",
       "      <td>0.000000</td>\n",
       "      <td>0.000000</td>\n",
       "      <td>0.000000</td>\n",
       "    </tr>\n",
       "    <tr>\n",
       "      <th>25%</th>\n",
       "      <td>223.500000</td>\n",
       "      <td>0.000000</td>\n",
       "      <td>2.000000</td>\n",
       "      <td>20.125000</td>\n",
       "      <td>0.000000</td>\n",
       "      <td>0.000000</td>\n",
       "      <td>7.910400</td>\n",
       "    </tr>\n",
       "    <tr>\n",
       "      <th>50%</th>\n",
       "      <td>446.000000</td>\n",
       "      <td>0.000000</td>\n",
       "      <td>3.000000</td>\n",
       "      <td>28.000000</td>\n",
       "      <td>0.000000</td>\n",
       "      <td>0.000000</td>\n",
       "      <td>14.454200</td>\n",
       "    </tr>\n",
       "    <tr>\n",
       "      <th>75%</th>\n",
       "      <td>668.500000</td>\n",
       "      <td>1.000000</td>\n",
       "      <td>3.000000</td>\n",
       "      <td>38.000000</td>\n",
       "      <td>1.000000</td>\n",
       "      <td>0.000000</td>\n",
       "      <td>31.000000</td>\n",
       "    </tr>\n",
       "    <tr>\n",
       "      <th>max</th>\n",
       "      <td>891.000000</td>\n",
       "      <td>1.000000</td>\n",
       "      <td>3.000000</td>\n",
       "      <td>80.000000</td>\n",
       "      <td>8.000000</td>\n",
       "      <td>6.000000</td>\n",
       "      <td>512.329200</td>\n",
       "    </tr>\n",
       "  </tbody>\n",
       "</table>\n",
       "</div>\n",
       "      <button class=\"colab-df-convert\" onclick=\"convertToInteractive('df-923409f5-1ec3-47e5-b8c5-dbcac0fa7862')\"\n",
       "              title=\"Convert this dataframe to an interactive table.\"\n",
       "              style=\"display:none;\">\n",
       "        \n",
       "  <svg xmlns=\"http://www.w3.org/2000/svg\" height=\"24px\"viewBox=\"0 0 24 24\"\n",
       "       width=\"24px\">\n",
       "    <path d=\"M0 0h24v24H0V0z\" fill=\"none\"/>\n",
       "    <path d=\"M18.56 5.44l.94 2.06.94-2.06 2.06-.94-2.06-.94-.94-2.06-.94 2.06-2.06.94zm-11 1L8.5 8.5l.94-2.06 2.06-.94-2.06-.94L8.5 2.5l-.94 2.06-2.06.94zm10 10l.94 2.06.94-2.06 2.06-.94-2.06-.94-.94-2.06-.94 2.06-2.06.94z\"/><path d=\"M17.41 7.96l-1.37-1.37c-.4-.4-.92-.59-1.43-.59-.52 0-1.04.2-1.43.59L10.3 9.45l-7.72 7.72c-.78.78-.78 2.05 0 2.83L4 21.41c.39.39.9.59 1.41.59.51 0 1.02-.2 1.41-.59l7.78-7.78 2.81-2.81c.8-.78.8-2.07 0-2.86zM5.41 20L4 18.59l7.72-7.72 1.47 1.35L5.41 20z\"/>\n",
       "  </svg>\n",
       "      </button>\n",
       "      \n",
       "  <style>\n",
       "    .colab-df-container {\n",
       "      display:flex;\n",
       "      flex-wrap:wrap;\n",
       "      gap: 12px;\n",
       "    }\n",
       "\n",
       "    .colab-df-convert {\n",
       "      background-color: #E8F0FE;\n",
       "      border: none;\n",
       "      border-radius: 50%;\n",
       "      cursor: pointer;\n",
       "      display: none;\n",
       "      fill: #1967D2;\n",
       "      height: 32px;\n",
       "      padding: 0 0 0 0;\n",
       "      width: 32px;\n",
       "    }\n",
       "\n",
       "    .colab-df-convert:hover {\n",
       "      background-color: #E2EBFA;\n",
       "      box-shadow: 0px 1px 2px rgba(60, 64, 67, 0.3), 0px 1px 3px 1px rgba(60, 64, 67, 0.15);\n",
       "      fill: #174EA6;\n",
       "    }\n",
       "\n",
       "    [theme=dark] .colab-df-convert {\n",
       "      background-color: #3B4455;\n",
       "      fill: #D2E3FC;\n",
       "    }\n",
       "\n",
       "    [theme=dark] .colab-df-convert:hover {\n",
       "      background-color: #434B5C;\n",
       "      box-shadow: 0px 1px 3px 1px rgba(0, 0, 0, 0.15);\n",
       "      filter: drop-shadow(0px 1px 2px rgba(0, 0, 0, 0.3));\n",
       "      fill: #FFFFFF;\n",
       "    }\n",
       "  </style>\n",
       "\n",
       "      <script>\n",
       "        const buttonEl =\n",
       "          document.querySelector('#df-923409f5-1ec3-47e5-b8c5-dbcac0fa7862 button.colab-df-convert');\n",
       "        buttonEl.style.display =\n",
       "          google.colab.kernel.accessAllowed ? 'block' : 'none';\n",
       "\n",
       "        async function convertToInteractive(key) {\n",
       "          const element = document.querySelector('#df-923409f5-1ec3-47e5-b8c5-dbcac0fa7862');\n",
       "          const dataTable =\n",
       "            await google.colab.kernel.invokeFunction('convertToInteractive',\n",
       "                                                     [key], {});\n",
       "          if (!dataTable) return;\n",
       "\n",
       "          const docLinkHtml = 'Like what you see? Visit the ' +\n",
       "            '<a target=\"_blank\" href=https://colab.research.google.com/notebooks/data_table.ipynb>data table notebook</a>'\n",
       "            + ' to learn more about interactive tables.';\n",
       "          element.innerHTML = '';\n",
       "          dataTable['output_type'] = 'display_data';\n",
       "          await google.colab.output.renderOutput(dataTable, element);\n",
       "          const docLink = document.createElement('div');\n",
       "          docLink.innerHTML = docLinkHtml;\n",
       "          element.appendChild(docLink);\n",
       "        }\n",
       "      </script>\n",
       "    </div>\n",
       "  </div>\n",
       "  "
      ],
      "text/plain": [
       "       PassengerId    Survived      Pclass  ...       SibSp       Parch        Fare\n",
       "count   891.000000  891.000000  891.000000  ...  891.000000  891.000000  891.000000\n",
       "mean    446.000000    0.383838    2.308642  ...    0.523008    0.381594   32.204208\n",
       "std     257.353842    0.486592    0.836071  ...    1.102743    0.806057   49.693429\n",
       "min       1.000000    0.000000    1.000000  ...    0.000000    0.000000    0.000000\n",
       "25%     223.500000    0.000000    2.000000  ...    0.000000    0.000000    7.910400\n",
       "50%     446.000000    0.000000    3.000000  ...    0.000000    0.000000   14.454200\n",
       "75%     668.500000    1.000000    3.000000  ...    1.000000    0.000000   31.000000\n",
       "max     891.000000    1.000000    3.000000  ...    8.000000    6.000000  512.329200\n",
       "\n",
       "[8 rows x 7 columns]"
      ]
     },
     "execution_count": 54,
     "metadata": {},
     "output_type": "execute_result"
    }
   ],
   "source": [
    "titanic_dataset.describe()"
   ]
  },
  {
   "cell_type": "markdown",
   "metadata": {
    "id": "9Q_nZOpZJdny"
   },
   "source": [
    "Observe que ele gera estatística para todos os campos numéricos da base. Mas sabemos que mesmo que alguns campos sejam representados por números, eles não são quantitativos e sim qualitativos. Por exemplo, no caso do atributo `Survived` não faz sentido calcularmos a média, desvio padrão, percentil, porque é um atributo qualitativo. Vamos melhorar isso vendo o tipo de cada um dos atributos da base. O método `dtypes` permite isso."
   ]
  },
  {
   "cell_type": "code",
   "execution_count": 47,
   "metadata": {
    "colab": {
     "base_uri": "https://localhost:8080/"
    },
    "id": "lXKaGdFSJ09q",
    "outputId": "6d2b4036-4996-4f06-93e2-870800a8f63e"
   },
   "outputs": [
    {
     "data": {
      "text/plain": [
       "PassengerId      int64\n",
       "Survived         int64\n",
       "Pclass           int64\n",
       "Name            object\n",
       "Sex             object\n",
       "Age            float64\n",
       "SibSp            int64\n",
       "Parch            int64\n",
       "Ticket          object\n",
       "Fare           float64\n",
       "Cabin           object\n",
       "Embarked        object\n",
       "dtype: object"
      ]
     },
     "execution_count": 47,
     "metadata": {},
     "output_type": "execute_result"
    }
   ],
   "source": [
    "# Descobrindo o tipo dos atributos\n",
    "titanic_dataset.dtypes"
   ]
  },
  {
   "cell_type": "markdown",
   "metadata": {},
   "source": [
    "Para converter um atributo para um determinado tipo, podemos usar o método `astype` passando como parâmetro o tipo que será atribuído aos atributos. Por exemplo, nessa base, os campos `PassengerId`, `Survived`, `Pclass`, `Sex`, `Ticket`, `Cabin`, `Embarked` vão ser convertidos para o tipo `category`, que representa o tipo de dado qualitativo. "
   ]
  },
  {
   "cell_type": "code",
   "execution_count": 48,
   "metadata": {
    "colab": {
     "base_uri": "https://localhost:8080/"
    },
    "id": "L7ShkXDwKPR1",
    "outputId": "dacdef41-c742-4bab-bbdd-211130398a7a"
   },
   "outputs": [
    {
     "data": {
      "text/plain": [
       "PassengerId    category\n",
       "Survived       category\n",
       "Pclass         category\n",
       "Name           category\n",
       "Sex            category\n",
       "Age             float64\n",
       "SibSp             int64\n",
       "Parch             int64\n",
       "Ticket         category\n",
       "Fare            float64\n",
       "Cabin          category\n",
       "Embarked       category\n",
       "dtype: object"
      ]
     },
     "execution_count": 48,
     "metadata": {},
     "output_type": "execute_result"
    }
   ],
   "source": [
    "# Convertendo os atributos para categórico\n",
    "\n",
    "titanic_dataset[['PassengerId','Survived','Pclass','Name','Sex','Ticket','Cabin','Embarked']] = titanic_dataset[['PassengerId','Survived','Pclass','Name','Sex','Ticket','Cabin','Embarked']].astype(\"category\")\n",
    "titanic_dataset.dtypes"
   ]
  },
  {
   "cell_type": "markdown",
   "metadata": {
    "id": "1U10PG_cK1dE"
   },
   "source": [
    "Agora, se chamarmos o método `describe`, apenas o atributos numéricos vão aparecer."
   ]
  },
  {
   "cell_type": "code",
   "execution_count": 49,
   "metadata": {
    "colab": {
     "base_uri": "https://localhost:8080/",
     "height": 300
    },
    "id": "V4FVqOsVKpBj",
    "outputId": "b7e93dc0-c11c-442c-fdfb-bcc64867255d"
   },
   "outputs": [
    {
     "data": {
      "text/html": [
       "<div>\n",
       "<style scoped>\n",
       "    .dataframe tbody tr th:only-of-type {\n",
       "        vertical-align: middle;\n",
       "    }\n",
       "\n",
       "    .dataframe tbody tr th {\n",
       "        vertical-align: top;\n",
       "    }\n",
       "\n",
       "    .dataframe thead th {\n",
       "        text-align: right;\n",
       "    }\n",
       "</style>\n",
       "<table border=\"1\" class=\"dataframe\">\n",
       "  <thead>\n",
       "    <tr style=\"text-align: right;\">\n",
       "      <th></th>\n",
       "      <th>Age</th>\n",
       "      <th>SibSp</th>\n",
       "      <th>Parch</th>\n",
       "      <th>Fare</th>\n",
       "    </tr>\n",
       "  </thead>\n",
       "  <tbody>\n",
       "    <tr>\n",
       "      <th>count</th>\n",
       "      <td>714.000000</td>\n",
       "      <td>891.000000</td>\n",
       "      <td>891.000000</td>\n",
       "      <td>891.000000</td>\n",
       "    </tr>\n",
       "    <tr>\n",
       "      <th>mean</th>\n",
       "      <td>29.699118</td>\n",
       "      <td>0.523008</td>\n",
       "      <td>0.381594</td>\n",
       "      <td>32.204208</td>\n",
       "    </tr>\n",
       "    <tr>\n",
       "      <th>std</th>\n",
       "      <td>14.526497</td>\n",
       "      <td>1.102743</td>\n",
       "      <td>0.806057</td>\n",
       "      <td>49.693429</td>\n",
       "    </tr>\n",
       "    <tr>\n",
       "      <th>min</th>\n",
       "      <td>0.420000</td>\n",
       "      <td>0.000000</td>\n",
       "      <td>0.000000</td>\n",
       "      <td>0.000000</td>\n",
       "    </tr>\n",
       "    <tr>\n",
       "      <th>25%</th>\n",
       "      <td>20.125000</td>\n",
       "      <td>0.000000</td>\n",
       "      <td>0.000000</td>\n",
       "      <td>7.910400</td>\n",
       "    </tr>\n",
       "    <tr>\n",
       "      <th>50%</th>\n",
       "      <td>28.000000</td>\n",
       "      <td>0.000000</td>\n",
       "      <td>0.000000</td>\n",
       "      <td>14.454200</td>\n",
       "    </tr>\n",
       "    <tr>\n",
       "      <th>75%</th>\n",
       "      <td>38.000000</td>\n",
       "      <td>1.000000</td>\n",
       "      <td>0.000000</td>\n",
       "      <td>31.000000</td>\n",
       "    </tr>\n",
       "    <tr>\n",
       "      <th>max</th>\n",
       "      <td>80.000000</td>\n",
       "      <td>8.000000</td>\n",
       "      <td>6.000000</td>\n",
       "      <td>512.329200</td>\n",
       "    </tr>\n",
       "  </tbody>\n",
       "</table>\n",
       "</div>"
      ],
      "text/plain": [
       "              Age       SibSp       Parch        Fare\n",
       "count  714.000000  891.000000  891.000000  891.000000\n",
       "mean    29.699118    0.523008    0.381594   32.204208\n",
       "std     14.526497    1.102743    0.806057   49.693429\n",
       "min      0.420000    0.000000    0.000000    0.000000\n",
       "25%     20.125000    0.000000    0.000000    7.910400\n",
       "50%     28.000000    0.000000    0.000000   14.454200\n",
       "75%     38.000000    1.000000    0.000000   31.000000\n",
       "max     80.000000    8.000000    6.000000  512.329200"
      ]
     },
     "execution_count": 49,
     "metadata": {},
     "output_type": "execute_result"
    }
   ],
   "source": [
    "titanic_dataset.describe()"
   ]
  },
  {
   "cell_type": "markdown",
   "metadata": {},
   "source": [
    "Vamos calcular também o coeficiente de variação de cada um dos atributos numéricos."
   ]
  },
  {
   "cell_type": "code",
   "execution_count": 62,
   "metadata": {},
   "outputs": [
    {
     "data": {
      "text/plain": [
       "Age      0.489122\n",
       "SibSp    2.108464\n",
       "Parch    2.112344\n",
       "Fare     1.543073\n",
       "dtype: float64"
      ]
     },
     "execution_count": 62,
     "metadata": {},
     "output_type": "execute_result"
    }
   ],
   "source": [
    "data_temp = titanic_dataset[['Age','SibSp','Parch','Fare']]\n",
    "data_temp.std()/ data_temp.mean()"
   ]
  },
  {
   "cell_type": "markdown",
   "metadata": {
    "id": "f0MhZb-eI96j"
   },
   "source": [
    "**O que podemos falar desses valores?**"
   ]
  },
  {
   "cell_type": "markdown",
   "metadata": {
    "id": "gONxmhvGJEWK"
   },
   "source": [
    "1. Uma primeira informação que temos é que nem todas as instâncias tem a informação de idade (isso pode ser visto pela a partir de `count`). Isso pode ser um problema quando for trabalhar com modelos de machine learning. É papel do analista de dados decidir o que fazer com essas instâncias. Isso será abordado quando falarmos de transformação de dados.\n",
    "\n",
    "2. Podemos perceber que muitos dados não possuem informações a respeito de parentes (atributos `SibSp` e `Parch`). Isso não significa que tenha um erro nos dados e sim que de fato tinham poucos parentes. Podemos perceber isso pelos valores de quartil. Veja que basicamente os valores associados a estes atributos estão nos 75%. \n",
    "\n",
    "3. Em relação ao desvio padrão vale a pena observar seu valor alto no campo de preço da passagem. Apesar da média ser 32, existe o valor máximo de 512. Isso pode ser um _outlier_ é importante analisar com mais atenção. Existe valores nulos para o preço de passagem também. Interessante analisar se também é um ruído ou de fato existiram pessoas que não pagaram passagem. \n",
    "\n",
    "4. Em relação ao coenficiente de variação, todos os atributos analisados não possuem dados tão homogêneos em relação à média. Um percetual de 25% (0.25) é indicativo de dados homogêneos. Isso não é válido para nenhum dos atributos. "
   ]
  },
  {
   "cell_type": "markdown",
   "metadata": {},
   "source": [
    "Vamos plotar os boxplots destes atributos para analisar melhor. Como a escala de valores é muito diferente, os gráficos serão plotados de forma separada."
   ]
  },
  {
   "cell_type": "code",
   "execution_count": 63,
   "metadata": {
    "colab": {
     "base_uri": "https://localhost:8080/",
     "height": 596
    },
    "id": "0qEwps8wHid-",
    "outputId": "36bfcd6d-9df7-43c5-bce6-5e6b9d8f67a7"
   },
   "outputs": [
    {
     "data": {
      "text/plain": [
       "<AxesSubplot:ylabel='Parch'>"
      ]
     },
     "execution_count": 63,
     "metadata": {},
     "output_type": "execute_result"
    },
    {
     "data": {
      "image/png": "[encoded data removed]",
      "text/plain": [
       "<Figure size 720x720 with 4 Axes>"
      ]
     },
     "metadata": {
      "needs_background": "light"
     },
     "output_type": "display_data"
    }
   ],
   "source": [
    "fig, axs = plt.subplots(ncols=2,nrows=2,figsize=(10,10))\n",
    "sns.boxplot(data=titanic_dataset, y=\"Age\", ax=axs[0][0])\n",
    "sns.boxplot(data=titanic_dataset, y=\"Fare\", ax=axs[0][1])\n",
    "sns.boxplot(data=titanic_dataset, y=\"SibSp\", ax=axs[1][0])\n",
    "sns.boxplot(data=titanic_dataset, y=\"Parch\", ax=axs[1][1])"
   ]
  },
  {
   "cell_type": "markdown",
   "metadata": {
    "id": "wbjtCOM-Mg6X"
   },
   "source": [
    "As análise feitas anteriormente ficam mais evidentes com a apresentação dos boxsplot. Os `outliers` aparecem em todos os atributos. Na etapa de transformação dos dados, vamos analisar o que fazer com esses valores. "
   ]
  },
  {
   "cell_type": "markdown",
   "metadata": {},
   "source": [
    "**Análise do Histograma**\n",
    "\n",
    "Para finalizar a análise dos atributos univariados, vamos olhar para o histograma de alguns atributos."
   ]
  },
  {
   "cell_type": "code",
   "execution_count": 71,
   "metadata": {},
   "outputs": [
    {
     "data": {
      "text/plain": [
       "<AxesSubplot:xlabel='Parch', ylabel='Count'>"
      ]
     },
     "execution_count": 71,
     "metadata": {},
     "output_type": "execute_result"
    },
    {
     "data": {
      "image/png": "[encoded data removed]",
      "text/plain": [
       "<Figure size 864x576 with 4 Axes>"
      ]
     },
     "metadata": {
      "needs_background": "light"
     },
     "output_type": "display_data"
    }
   ],
   "source": [
    "fig, axs  = plt.subplots(ncols=2,nrows=2,figsize=(12,8))\n",
    "sns.histplot(titanic_dataset['Age'], ax=axs[0][0])\n",
    "sns.histplot(titanic_dataset['Fare'], ax=axs[0][1])\n",
    "sns.histplot(titanic_dataset['SibSp'], ax=axs[1][0])\n",
    "sns.histplot(titanic_dataset['Parch'], ax=axs[1][1])"
   ]
  },
  {
   "cell_type": "markdown",
   "metadata": {},
   "source": [
    "Os histogramas mostram que as informações de idade estão muito mais bem distribuída do que os outros atributos analisados. Em relação, a o preço da passagem, podemos notar que os dados se concentram muito mais em valores baixos, tendo algumas poucas instâncias com valores elevados. Isso já foi observado em outras análises e o histograma confirma isso. O mesmo acontece com as informações de parentes, que já tínhamos observados que a grande maioria não tinha parentes no Titanic. \n",
    "\n",
    "Essa mesma informação pode ser confirmada a partir dos valores de `obliquidade` a seguir:"
   ]
  },
  {
   "cell_type": "code",
   "execution_count": 73,
   "metadata": {},
   "outputs": [
    {
     "data": {
      "text/plain": [
       "Age      0.389108\n",
       "SibSp    3.695352\n",
       "Parch    2.749117\n",
       "Fare     4.787317\n",
       "dtype: float64"
      ]
     },
     "execution_count": 73,
     "metadata": {},
     "output_type": "execute_result"
    }
   ],
   "source": [
    "data_temp.skew()"
   ]
  },
  {
   "cell_type": "markdown",
   "metadata": {},
   "source": [
    "No caso da obliquidade, valores próximos de zero indicam uma distribuição mais próxima da normal. Valores maiores que 0, indicam uma distribuição mais a esquerda e valores menores que zero, uma distribuição mais a direita. "
   ]
  },
  {
   "cell_type": "markdown",
   "metadata": {
    "id": "1yHNRSKLOg2L"
   },
   "source": [
    "Para finalizar a análise atributos quantitativos do Titanic, vamos explorar a correlação entre os dados quantitativos. "
   ]
  },
  {
   "cell_type": "code",
   "execution_count": 71,
   "metadata": {
    "colab": {
     "base_uri": "https://localhost:8080/",
     "height": 287
    },
    "id": "zZ8Ww4pbOmJN",
    "outputId": "450d3b78-12a1-470e-fdd9-e716208fde30"
   },
   "outputs": [
    {
     "data": {
      "text/plain": [
       "<matplotlib.axes._subplots.AxesSubplot at 0x7f3069e6a0d0>"
      ]
     },
     "execution_count": 71,
     "metadata": {},
     "output_type": "execute_result"
    },
    {
     "data": {
      "image/png": "[encoded data removed]",
      "text/plain": [
       "<Figure size 432x288 with 2 Axes>"
      ]
     },
     "metadata": {
      "needs_background": "light"
     },
     "output_type": "display_data"
    }
   ],
   "source": [
    "titanic_corr = titanic_dataset[['Age','SibSp','Parch', 'Fare']].corr()\n",
    "sns.heatmap(titanic_corr, xticklabels=titanic_corr.columns, yticklabels=titanic_corr.columns, annot=True)"
   ]
  },
  {
   "cell_type": "markdown",
   "metadata": {
    "id": "W55Yz2dnOpmh"
   },
   "source": [
    "Podemos enxergar por meio do Scatter Plot também."
   ]
  },
  {
   "cell_type": "code",
   "execution_count": 72,
   "metadata": {
    "colab": {
     "base_uri": "https://localhost:8080/",
     "height": 726
    },
    "id": "HSYISplYOsnA",
    "outputId": "4468bdf2-e869-443f-c868-0236f9f2e379"
   },
   "outputs": [
    {
     "data": {
      "image/png": "[encoded data removed]",
      "text/plain": [
       "<Figure size 720x720 with 20 Axes>"
      ]
     },
     "metadata": {
      "needs_background": "light"
     },
     "output_type": "display_data"
    }
   ],
   "source": [
    "sns.pairplot(titanic_dataset[['Age','SibSp','Parch', 'Fare']], kind=\"scatter\",markers=[\"o\"], palette=\"Set2\",diag_kind=\"hist\")\n",
    "plt.show()"
   ]
  },
  {
   "cell_type": "markdown",
   "metadata": {
    "id": "6TkNzJKcO0Ui"
   },
   "source": [
    "É fácil perceber que não existem muitas correlações lineares entre os atributos numéricos. A maioria das correlações são próximas de zero com algumas tendências positivas ou negativas. No entanto, esses atribuitos serão melhor relacionados com outros atributos mais a frente. "
   ]
  },
  {
   "cell_type": "markdown",
   "metadata": {
    "id": "zHQZjmAzMhtr"
   },
   "source": [
    "### Análise Qualitativa\n",
    "\n",
    "Veja que podemos extrair muitas informações apenas com medidas estatísticas a respeito dos dados quantitativos. De forma semelhante, podemos analisar os dados qualitativos. Para visualizar a distribuição de valores, vamos utilizar gráficos de barra. Ao longo do curso, serão exploradas outras formas de visualização dos dados.\n",
    "\n",
    "Vamos trabalhar com os seguintes dados qualitativos: `Survived`, `Pclass`, `Sex` e `Embarked`.  "
   ]
  },
  {
   "cell_type": "markdown",
   "metadata": {
    "id": "XOHLJLqdMq5j"
   },
   "source": [
    "Primeiro vamos ver se eles estão completos. Ou seja, se todas as instâncias têm as informações para todos esses atributos. "
   ]
  },
  {
   "cell_type": "code",
   "execution_count": 69,
   "metadata": {
    "colab": {
     "base_uri": "https://localhost:8080/"
    },
    "id": "uIsWij1JMykJ",
    "outputId": "bef804d3-a045-469e-ac2d-68e8f12191e5"
   },
   "outputs": [
    {
     "data": {
      "text/plain": [
       "Survived    891\n",
       "Pclass      891\n",
       "Sex         891\n",
       "Embarked    889\n",
       "dtype: int64"
      ]
     },
     "execution_count": 69,
     "metadata": {},
     "output_type": "execute_result"
    }
   ],
   "source": [
    "titanic_dataset[['Survived', 'Pclass', 'Sex', 'Embarked']].count()"
   ]
  },
  {
   "cell_type": "markdown",
   "metadata": {
    "id": "0e3hcxLpNAeu"
   },
   "source": [
    "Observe que apenas duas instâncias não possuem a infomação do portão de embarque. Os demais atributos estão presentes em todas as instâncias."
   ]
  },
  {
   "cell_type": "markdown",
   "metadata": {
    "id": "FMo_2j_eNX9Z"
   },
   "source": [
    "Um jeito simples de entender os dados dos atributos qualitativos é plotar um gráfico de barras para cada um dos atributos para entender como os dados estão distribuídos dentro de cada um dos atributos. "
   ]
  },
  {
   "cell_type": "code",
   "execution_count": 76,
   "metadata": {
    "colab": {
     "base_uri": "https://localhost:8080/",
     "height": 624
    },
    "id": "hoHr1BScNf28",
    "outputId": "dbc22ae9-b59b-4516-b4ab-4a251a91c12f"
   },
   "outputs": [
    {
     "data": {
      "text/plain": [
       "<AxesSubplot:xlabel='Embarked', ylabel='count'>"
      ]
     },
     "execution_count": 76,
     "metadata": {},
     "output_type": "execute_result"
    },
    {
     "data": {
      "image/png": "[encoded data removed]",
      "text/plain": [
       "<Figure size 720x720 with 4 Axes>"
      ]
     },
     "metadata": {
      "needs_background": "light"
     },
     "output_type": "display_data"
    }
   ],
   "source": [
    "fig, axs = plt.subplots(ncols=2,nrows=2,figsize=(10,10))\n",
    "sns.countplot(x=\"Survived\",data=titanic_dataset,ax=axs[0][0])\n",
    "sns.countplot(x=\"Pclass\",data=titanic_dataset,ax=axs[0][1])\n",
    "sns.countplot(x=\"Sex\",data=titanic_dataset,ax=axs[1][0])\n",
    "sns.countplot(x=\"Embarked\",data=titanic_dataset,ax=axs[1][1])"
   ]
  },
  {
   "cell_type": "markdown",
   "metadata": {
    "id": "RdMipMLgOAK8"
   },
   "source": [
    "**O que podemos analisar desses gráficos?**"
   ]
  },
  {
   "cell_type": "markdown",
   "metadata": {
    "id": "DaomLYCROENw"
   },
   "source": [
    "1. É fácil ver que existem mais pessoas que não sobreviveram ao Titanic. Se essa for nossa variável de classificação em um modelo de Machine Learning, isso deve ser analisado para saber se esse desbalanceamento terá implicâncias no modelo de classificação. Isso será trabalhado mais à frente no curso.\n",
    "\n",
    "2. As outras classes a gente observa que existe um predominância de alguns valores. Tem mais pessoas da terceira classe, mais homens e mais pessoas que embarcaram no portão S. "
   ]
  },
  {
   "cell_type": "markdown",
   "metadata": {},
   "source": [
    "A moda pode ser uma métrica que ajude a ver essa informação nos dados qualitativos. "
   ]
  },
  {
   "cell_type": "code",
   "execution_count": 77,
   "metadata": {},
   "outputs": [
    {
     "data": {
      "text/html": [
       "<div>\n",
       "<style scoped>\n",
       "    .dataframe tbody tr th:only-of-type {\n",
       "        vertical-align: middle;\n",
       "    }\n",
       "\n",
       "    .dataframe tbody tr th {\n",
       "        vertical-align: top;\n",
       "    }\n",
       "\n",
       "    .dataframe thead th {\n",
       "        text-align: right;\n",
       "    }\n",
       "</style>\n",
       "<table border=\"1\" class=\"dataframe\">\n",
       "  <thead>\n",
       "    <tr style=\"text-align: right;\">\n",
       "      <th></th>\n",
       "      <th>Survived</th>\n",
       "      <th>Pclass</th>\n",
       "      <th>Sex</th>\n",
       "      <th>Embarked</th>\n",
       "    </tr>\n",
       "  </thead>\n",
       "  <tbody>\n",
       "    <tr>\n",
       "      <th>0</th>\n",
       "      <td>0</td>\n",
       "      <td>3</td>\n",
       "      <td>male</td>\n",
       "      <td>S</td>\n",
       "    </tr>\n",
       "  </tbody>\n",
       "</table>\n",
       "</div>"
      ],
      "text/plain": [
       "  Survived Pclass   Sex Embarked\n",
       "0        0      3  male        S"
      ]
     },
     "execution_count": 77,
     "metadata": {},
     "output_type": "execute_result"
    }
   ],
   "source": [
    "titanic_dataset[['Survived', 'Pclass', 'Sex', 'Embarked']].mode()"
   ]
  },
  {
   "cell_type": "markdown",
   "metadata": {},
   "source": [
    "Na tabela acima, para cada atributo é mostrado o que é mais frequente. "
   ]
  },
  {
   "cell_type": "markdown",
   "metadata": {
    "id": "aDU4XTQAPDG7"
   },
   "source": [
    "Vamos olhar melhor esses dados qualitativos fazendo algumas correlações entre os atributos. Uma forma simples de ver essa correlações é por meio de gráfico de barra, onde conseguimos relacionar as duas variáveis qualitativas. Um pouco de como relacionar estes dois tipos de variáveis pode ser visto [neste vídeo](https://www.youtube.com/watch?v=7zzQAPuATK8)"
   ]
  },
  {
   "cell_type": "markdown",
   "metadata": {
    "id": "AIZyRE2hPz0N"
   },
   "source": [
    "**Sobrevivente x Classe** "
   ]
  },
  {
   "cell_type": "code",
   "execution_count": 78,
   "metadata": {
    "colab": {
     "base_uri": "https://localhost:8080/",
     "height": 294
    },
    "id": "BlVo0FxJP2xx",
    "outputId": "43080120-af8e-4620-c8e7-e74f162e4c1e"
   },
   "outputs": [
    {
     "data": {
      "text/plain": [
       "<AxesSubplot:xlabel='Pclass'>"
      ]
     },
     "execution_count": 78,
     "metadata": {},
     "output_type": "execute_result"
    },
    {
     "data": {
      "image/png": "[encoded data removed]",
      "text/plain": [
       "<Figure size 432x288 with 1 Axes>"
      ]
     },
     "metadata": {
      "needs_background": "light"
     },
     "output_type": "display_data"
    }
   ],
   "source": [
    "props = titanic_dataset.groupby(\"Pclass\")['Survived'].value_counts(normalize=True).unstack()\n",
    "props.plot(kind='bar', stacked='True')"
   ]
  },
  {
   "cell_type": "markdown",
   "metadata": {
    "id": "KdPhiMaQP5GT"
   },
   "source": [
    "**O que esse gráfico nos conta?**"
   ]
  },
  {
   "cell_type": "markdown",
   "metadata": {
    "id": "64xV7TCHP94_"
   },
   "source": [
    "É fácil perceber que os passageiros que estavam na terceira classe foram os que tiveram maior número de vítimas. Uma justificativa para isso pode ter sido os privilégios dos passageiros das classes superiores. No entanto, qualquer análise mais profunda de causalidade deve ser analisada com certa ponderação e com outras fontes de informações. "
   ]
  },
  {
   "cell_type": "markdown",
   "metadata": {},
   "source": [
    "**Sobrevivente x Sexo**"
   ]
  },
  {
   "cell_type": "code",
   "execution_count": 79,
   "metadata": {
    "colab": {
     "base_uri": "https://localhost:8080/",
     "height": 322
    },
    "id": "7IwiTfYOQPDc",
    "outputId": "152a7ace-2e77-4fe8-b1f6-3bd7105bf96b"
   },
   "outputs": [
    {
     "data": {
      "text/plain": [
       "<AxesSubplot:xlabel='Sex'>"
      ]
     },
     "execution_count": 79,
     "metadata": {},
     "output_type": "execute_result"
    },
    {
     "data": {
      "image/png": "[encoded data removed]",
      "text/plain": [
       "<Figure size 432x288 with 1 Axes>"
      ]
     },
     "metadata": {
      "needs_background": "light"
     },
     "output_type": "display_data"
    }
   ],
   "source": [
    "props = titanic_dataset.groupby(\"Sex\")['Survived'].value_counts(normalize=True).unstack()\n",
    "props.plot(kind='bar', stacked='True')"
   ]
  },
  {
   "cell_type": "markdown",
   "metadata": {
    "id": "ZsrR59YeQaVs"
   },
   "source": [
    "**O que esse gráfico nos conta?**"
   ]
  },
  {
   "cell_type": "markdown",
   "metadata": {
    "id": "vkY9yEYoQUaB"
   },
   "source": [
    "De fato, as mulheres tinham preferência sobre o uso dos botes salva-vidas. Logo, o número de sobreviventes mulheres é maior que os de homem. "
   ]
  },
  {
   "cell_type": "markdown",
   "metadata": {
    "id": "47J7vtD7QcvI"
   },
   "source": [
    "**Sobrevivente x Ter Parentes**\n",
    "\n",
    "Outra coisa que pode ser relacionada é o fato do passageiro ter parentes ou não. É sabido que passageiros com crianças tinham preferência. Para fazer essa analise, vamos criar um campo qualitativo que indica se o passageiro tinha algum tipo de parente. "
   ]
  },
  {
   "cell_type": "code",
   "execution_count": 80,
   "metadata": {
    "id": "YiWg1tRoQS9D"
   },
   "outputs": [],
   "source": [
    "cond_ = (titanic_dataset['SibSp'] + titanic_dataset['Parch']) > 0\n",
    "titanic_dataset['HasRelatives'] = cond_\n",
    "titanic_dataset['Survived'] = titanic_dataset['Survived'].astype(\"bool\")"
   ]
  },
  {
   "cell_type": "code",
   "execution_count": 81,
   "metadata": {
    "colab": {
     "base_uri": "https://localhost:8080/",
     "height": 313
    },
    "id": "2xcQzYydQjzX",
    "outputId": "95c86705-9b98-444a-f37a-3c03f5c483bf"
   },
   "outputs": [
    {
     "data": {
      "text/plain": [
       "<AxesSubplot:xlabel='HasRelatives'>"
      ]
     },
     "execution_count": 81,
     "metadata": {},
     "output_type": "execute_result"
    },
    {
     "data": {
      "image/png": "[encoded data removed]",
      "text/plain": [
       "<Figure size 432x288 with 1 Axes>"
      ]
     },
     "metadata": {
      "needs_background": "light"
     },
     "output_type": "display_data"
    }
   ],
   "source": [
    "props = titanic_dataset.groupby(\"HasRelatives\")['Survived'].value_counts(normalize=True).unstack()\n",
    "props.plot(kind='bar', stacked='True')"
   ]
  },
  {
   "cell_type": "markdown",
   "metadata": {
    "id": "jFICeKi6Qs6x"
   },
   "source": [
    "**O que esse gráfico nos conta?**"
   ]
  },
  {
   "cell_type": "markdown",
   "metadata": {
    "id": "7eiAHkr9QvoG"
   },
   "source": [
    "De fato, a porcentagem de sobreviventes é maior naquele grupo que tinha parentes. Talvez uma análise interessante de se fazer é relacionar esses dois fatores com o fato dos passageiros serem da primeira, segunda ou terceira classe. "
   ]
  },
  {
   "cell_type": "markdown",
   "metadata": {},
   "source": [
    "**Sobrevivente x Ter Parentes x Classe**"
   ]
  },
  {
   "cell_type": "code",
   "execution_count": 84,
   "metadata": {
    "colab": {
     "base_uri": "https://localhost:8080/",
     "height": 369
    },
    "id": "K3aIEjB1UZyp",
    "outputId": "62d0f821-425c-4c5e-f3c3-78d0746b0263"
   },
   "outputs": [
    {
     "data": {
      "image/png": "[encoded data removed]",
      "text/plain": [
       "<Figure size 648x360 with 3 Axes>"
      ]
     },
     "metadata": {
      "needs_background": "light"
     },
     "output_type": "display_data"
    }
   ],
   "source": [
    "g = sns.catplot(x=\"HasRelatives\", y=\"Survived\", col=\"Pclass\",\n",
    "                data=titanic_dataset,\n",
    "                kind=\"bar\", ci=None, aspect=.6)"
   ]
  },
  {
   "cell_type": "markdown",
   "metadata": {
    "id": "kmAugIiiR0Ad"
   },
   "source": [
    "Veja que mesmo tendo parentes, a taxa de sobreviventes na terceira classe variou pouco (de 20% para 30%). Já na primeira classe, esse valor passou de 50% para um pouco mais de 70%."
   ]
  },
  {
   "cell_type": "markdown",
   "metadata": {
    "id": "p5YYoNrSTI96"
   },
   "source": [
    "### Análise Qualitativa x Quantitativa\n",
    "\n",
    "Outra relação interessantes para extrair deste conjunto de dados é a relação Idade/Sobrevivente. Neste caso, estamos relacionando um atributo quantitativo com um atributo qualitativo. As métricas e modelos utilizados até então foram de atributos do mesmo tipo. Uma explicação dessa abordagem pode ser encontrada [neste vídeo](https://www.youtube.com/watch?v=qMVALuutgU0).\n",
    "\n",
    "**Sobrevivente x Idade**\n",
    "\n",
    "A relação de idade e sobrevivente pode ser analisada a partir de um boxplot que relacione a variável qualitativa com a quantitativa.\n"
   ]
  },
  {
   "cell_type": "code",
   "execution_count": 85,
   "metadata": {
    "colab": {
     "base_uri": "https://localhost:8080/",
     "height": 279
    },
    "id": "TnzHeTa4TSAg",
    "outputId": "cdc8f73c-2325-4407-e2ea-0fa1f3ddb215"
   },
   "outputs": [
    {
     "data": {
      "image/png": "[encoded data removed]",
      "text/plain": [
       "<Figure size 432x288 with 1 Axes>"
      ]
     },
     "metadata": {
      "needs_background": "light"
     },
     "output_type": "display_data"
    }
   ],
   "source": [
    "ax = sns.boxplot(x=\"Survived\", y=\"Age\", data=titanic_dataset)"
   ]
  },
  {
   "cell_type": "markdown",
   "metadata": {
    "id": "1Z05sajjTsAy"
   },
   "source": [
    "**O que podemos analisar desse gráfico?**\n",
    "\n",
    "Obseve no gráfico a seguir que a faixa etária de pessoas que sobreviveram e as que não sobreviveram são bem parecidas. A mediana em ambos os casos é quase a mesma. Sendo assim, não existe uma relação entre a idade e o fato de ter sobrevivido. "
   ]
  },
  {
   "cell_type": "markdown",
   "metadata": {
    "id": "zj9aDuS3TUgB"
   },
   "source": [
    "**Classe x Passagem**\n",
    "\n",
    "Vamos olhar a relação também a relação entre a classe e o valor pago pela passagem. "
   ]
  },
  {
   "cell_type": "code",
   "execution_count": 103,
   "metadata": {
    "colab": {
     "base_uri": "https://localhost:8080/",
     "height": 279
    },
    "id": "XaYGkyV2TW6r",
    "outputId": "7b58df42-ce0c-41b2-d5b2-60625ec9f370"
   },
   "outputs": [
    {
     "data": {
      "image/png": "[encoded data removed]",
      "text/plain": [
       "<Figure size 432x288 with 1 Axes>"
      ]
     },
     "metadata": {
      "needs_background": "light"
     },
     "output_type": "display_data"
    }
   ],
   "source": [
    "ax = sns.boxplot(x=\"Pclass\", y=\"Fare\", data=titanic_dataset)"
   ]
  },
  {
   "cell_type": "markdown",
   "metadata": {
    "id": "EFGqumIGTeAz"
   },
   "source": [
    "**O que podemos analisar desse gráfico?**\n",
    "\n",
    "Esse gráfico ajuda a ver que o valor alto pago pela passagem está relacionado com passageiros da primeira classe. Isso pode mostrar que de fato o valor faz sentido e corresponde a alguma cabine que tem um valor alto."
   ]
  },
  {
   "cell_type": "markdown",
   "metadata": {},
   "source": [
    "Com isso concluímos nossa análise da base de dados Titanic. \n",
    "\n",
    "![img_final](https://media.giphy.com/media/MDh6t9yZMhUOEGrioV/giphy.gif)\n",
    "\n",
    "Veja que as métricas e gráficos estudados permitem fazer diferentes análises e conhecer melhor os dados que estamos trabalhando. Isso é fundamental para o processo de transformação dos dados e, consequentemente, de treinamento dos modelos de Machine Lerning."
   ]
  },
  {
   "cell_type": "markdown",
   "metadata": {
    "id": "CfdHqObsWJNi"
   },
   "source": [
    "## Sugestão de Análise: Popularidade de Notícias\n",
    "\n",
    "Agora é sua vez :) Faça a análise da base a seguir.\n",
    "\n",
    "Um empresa coletou uma série de informações sobre artigos publicados em seu site. Para cada artigo foi coletada uma série de métricas interessantes. Analise as métricas a seguir e construa visualizações que facilitem  análise. Como a base possui muitos atributos, escolha um conjunto de atributos que, no seu ponto de vista, seria importante para analisar. \n",
    "\n",
    "Informações originais sobre o dataset estão disponíveis no paper: \n",
    "\n",
    "> K. Fernandes, P. Vinagre and P. Cortez. A Proactive Intelligent Decision Support System for Predicting the Popularity of Online News. Proceedings of the 17th EPIA 2015 - Portuguese Conference on Artificial Intelligence, September, Coimbra, Portugal. Disponível em: https://link.springer.com/chapter/10.1007/978-3-319-23485-4_53. \n",
    "\n",
    "O dataset pode ser baixado no site: https://archive.ics.uci.edu/ml/datasets/online+news+popularity ou acessado na pasta `datasets` deste repositório. \n",
    "\n",
    "Para o uso dessa atividade, vamos fazer algumas modificações na base. Como não é o escopo desse material, apenas aplique as transformações a partir da função `transform_data`. Detalhes sobre essas transformações serão dadas nas próximas aulas. Aqui o foco vai ser a análise dos dados. \n",
    "\n",
    "\n",
    "### Tarefa\n",
    "\n",
    "Você como analista de dados teve acesso a essas informações e foi contratado para fazer uma análise desses dados com o objetivo de responder a seguinte pergunta: **Quais fatores estão relacionados com um maior ou menor compartilhamento das notícias?**. Com base nessa pergunta, faça o que se pede:\n",
    "\n",
    "1. Classificar cada um dos atributos em relação à tipo e escala vistos em sala de aula.\n",
    "2. Calcular as métricas de localidade, distribuição e correlação vistas em sala de aula. Observe o tipo de atributo para cálculo da métrica correta.\n",
    "3. Faça uma análise dos resultados obtidos com o intuito de responde a pergunta levantada.\n",
    "\n",
    "Vamos começar. Vamos carregar a base a partir do arquivo `OnlineNewsPopularity.csv`. Ele está disponível na pasta `dataset` do repositório ou diretamente no link: https://archive.ics.uci.edu/ml/datasets/online+news+popularity e aplicar as funções de transformação da base.\n",
    "\n",
    "A base possui as seguintes colunas, após a tranformação: \n",
    "\n",
    "| Atributo                   | Descrição                                                                               |\n",
    "|----------------------------|-----------------------------------------------------------------------------------------|\n",
    "| timedelta                  | Days between the article publication and the dataset acquisition                        |\n",
    "| n_tokens_title             | Number of words in the title                                                            |\n",
    "| n_tokens_content           | Number of words in the content                                                          |\n",
    "| n_unique_tokens            | Rate of unique words in the content                                                     |\n",
    "| num_hrefs                  | Number of links                                                                         |\n",
    "| num_self_hrefs             | Number of links to other articles published by Mashable                                 |\n",
    "| num_imgs                   | Number of images                                                                        |\n",
    "| num_videos                 | Number of videos                                                                        |\n",
    "| num_keywords               | Number of keywords in the metadata                                                      |\n",
    "| channel                    | Channel of publication: Lifestyle, Entertainment, Business, Social Media, Tech, World.  |\n",
    "| weekday                    | Weekday of publication: Monday, Tuesday, Wednesday, Thursday, Friday, Saturday, Sunday. |\n",
    "| global_subjectivity        | Text subjectivity                                                                       |\n",
    "| global_sentiment_polarity  | Text sentiment polarity                                                                 |\n",
    "| global_rate_positive_words | Rate of positive words in the content                                                   |\n",
    "| global_rate_negative_words | Rate of negative words in the content                                                   |\n",
    "| title_subjectivity         | Title subjectivity                                                                      |\n",
    "| title_sentiment_polarity   | Title polarity                                                                          |\n",
    "| shares                     | Number of shares (target)                                                               |"
   ]
  },
  {
   "cell_type": "code",
   "execution_count": 95,
   "metadata": {},
   "outputs": [
    {
     "data": {
      "text/html": [
       "<div>\n",
       "<style scoped>\n",
       "    .dataframe tbody tr th:only-of-type {\n",
       "        vertical-align: middle;\n",
       "    }\n",
       "\n",
       "    .dataframe tbody tr th {\n",
       "        vertical-align: top;\n",
       "    }\n",
       "\n",
       "    .dataframe thead th {\n",
       "        text-align: right;\n",
       "    }\n",
       "</style>\n",
       "<table border=\"1\" class=\"dataframe\">\n",
       "  <thead>\n",
       "    <tr style=\"text-align: right;\">\n",
       "      <th></th>\n",
       "      <th>timedelta</th>\n",
       "      <th>n_tokens_title</th>\n",
       "      <th>n_tokens_content</th>\n",
       "      <th>n_unique_tokens</th>\n",
       "      <th>num_hrefs</th>\n",
       "      <th>num_self_hrefs</th>\n",
       "      <th>num_imgs</th>\n",
       "      <th>num_videos</th>\n",
       "      <th>num_keywords</th>\n",
       "      <th>channel</th>\n",
       "      <th>weekday</th>\n",
       "      <th>global_subjectivity</th>\n",
       "      <th>global_sentiment_polarity</th>\n",
       "      <th>global_rate_positive_words</th>\n",
       "      <th>global_rate_negative_words</th>\n",
       "      <th>title_subjectivity</th>\n",
       "      <th>title_sentiment_polarity</th>\n",
       "      <th>shares</th>\n",
       "    </tr>\n",
       "  </thead>\n",
       "  <tbody>\n",
       "    <tr>\n",
       "      <th>0</th>\n",
       "      <td>731.0</td>\n",
       "      <td>8.0</td>\n",
       "      <td>960.0</td>\n",
       "      <td>0.418163</td>\n",
       "      <td>21.0</td>\n",
       "      <td>20.0</td>\n",
       "      <td>20.0</td>\n",
       "      <td>0.0</td>\n",
       "      <td>10.0</td>\n",
       "      <td>lifestyle</td>\n",
       "      <td>monday</td>\n",
       "      <td>0.514480</td>\n",
       "      <td>0.268303</td>\n",
       "      <td>0.080208</td>\n",
       "      <td>0.016667</td>\n",
       "      <td>0.000000</td>\n",
       "      <td>0.000000</td>\n",
       "      <td>556</td>\n",
       "    </tr>\n",
       "    <tr>\n",
       "      <th>1</th>\n",
       "      <td>731.0</td>\n",
       "      <td>10.0</td>\n",
       "      <td>187.0</td>\n",
       "      <td>0.666667</td>\n",
       "      <td>7.0</td>\n",
       "      <td>0.0</td>\n",
       "      <td>1.0</td>\n",
       "      <td>0.0</td>\n",
       "      <td>7.0</td>\n",
       "      <td>lifestyle</td>\n",
       "      <td>monday</td>\n",
       "      <td>0.477165</td>\n",
       "      <td>0.150000</td>\n",
       "      <td>0.026738</td>\n",
       "      <td>0.010695</td>\n",
       "      <td>0.000000</td>\n",
       "      <td>0.000000</td>\n",
       "      <td>1900</td>\n",
       "    </tr>\n",
       "    <tr>\n",
       "      <th>2</th>\n",
       "      <td>731.0</td>\n",
       "      <td>11.0</td>\n",
       "      <td>103.0</td>\n",
       "      <td>0.689320</td>\n",
       "      <td>3.0</td>\n",
       "      <td>1.0</td>\n",
       "      <td>1.0</td>\n",
       "      <td>0.0</td>\n",
       "      <td>6.0</td>\n",
       "      <td>lifestyle</td>\n",
       "      <td>monday</td>\n",
       "      <td>0.423611</td>\n",
       "      <td>0.118056</td>\n",
       "      <td>0.029126</td>\n",
       "      <td>0.009709</td>\n",
       "      <td>0.857143</td>\n",
       "      <td>-0.714286</td>\n",
       "      <td>5700</td>\n",
       "    </tr>\n",
       "    <tr>\n",
       "      <th>3</th>\n",
       "      <td>731.0</td>\n",
       "      <td>10.0</td>\n",
       "      <td>243.0</td>\n",
       "      <td>0.619247</td>\n",
       "      <td>1.0</td>\n",
       "      <td>1.0</td>\n",
       "      <td>0.0</td>\n",
       "      <td>0.0</td>\n",
       "      <td>10.0</td>\n",
       "      <td>lifestyle</td>\n",
       "      <td>monday</td>\n",
       "      <td>0.517984</td>\n",
       "      <td>0.155603</td>\n",
       "      <td>0.049383</td>\n",
       "      <td>0.020576</td>\n",
       "      <td>0.000000</td>\n",
       "      <td>0.000000</td>\n",
       "      <td>462</td>\n",
       "    </tr>\n",
       "    <tr>\n",
       "      <th>4</th>\n",
       "      <td>731.0</td>\n",
       "      <td>8.0</td>\n",
       "      <td>204.0</td>\n",
       "      <td>0.586207</td>\n",
       "      <td>7.0</td>\n",
       "      <td>2.0</td>\n",
       "      <td>1.0</td>\n",
       "      <td>0.0</td>\n",
       "      <td>8.0</td>\n",
       "      <td>lifestyle</td>\n",
       "      <td>monday</td>\n",
       "      <td>0.651940</td>\n",
       "      <td>0.316986</td>\n",
       "      <td>0.073529</td>\n",
       "      <td>0.004902</td>\n",
       "      <td>0.000000</td>\n",
       "      <td>0.000000</td>\n",
       "      <td>3600</td>\n",
       "    </tr>\n",
       "  </tbody>\n",
       "</table>\n",
       "</div>"
      ],
      "text/plain": [
       "   timedelta  n_tokens_title  n_tokens_content  n_unique_tokens  num_hrefs  \\\n",
       "0      731.0             8.0             960.0         0.418163       21.0   \n",
       "1      731.0            10.0             187.0         0.666667        7.0   \n",
       "2      731.0            11.0             103.0         0.689320        3.0   \n",
       "3      731.0            10.0             243.0         0.619247        1.0   \n",
       "4      731.0             8.0             204.0         0.586207        7.0   \n",
       "\n",
       "   num_self_hrefs  num_imgs  num_videos  num_keywords    channel weekday  \\\n",
       "0            20.0      20.0         0.0          10.0  lifestyle  monday   \n",
       "1             0.0       1.0         0.0           7.0  lifestyle  monday   \n",
       "2             1.0       1.0         0.0           6.0  lifestyle  monday   \n",
       "3             1.0       0.0         0.0          10.0  lifestyle  monday   \n",
       "4             2.0       1.0         0.0           8.0  lifestyle  monday   \n",
       "\n",
       "   global_subjectivity  global_sentiment_polarity  global_rate_positive_words  \\\n",
       "0             0.514480                   0.268303                    0.080208   \n",
       "1             0.477165                   0.150000                    0.026738   \n",
       "2             0.423611                   0.118056                    0.029126   \n",
       "3             0.517984                   0.155603                    0.049383   \n",
       "4             0.651940                   0.316986                    0.073529   \n",
       "\n",
       "   global_rate_negative_words  title_subjectivity  title_sentiment_polarity  \\\n",
       "0                    0.016667            0.000000                  0.000000   \n",
       "1                    0.010695            0.000000                  0.000000   \n",
       "2                    0.009709            0.857143                 -0.714286   \n",
       "3                    0.020576            0.000000                  0.000000   \n",
       "4                    0.004902            0.000000                  0.000000   \n",
       "\n",
       "   shares  \n",
       "0     556  \n",
       "1    1900  \n",
       "2    5700  \n",
       "3     462  \n",
       "4    3600  "
      ]
     },
     "execution_count": 95,
     "metadata": {},
     "output_type": "execute_result"
    }
   ],
   "source": [
    "data_popularity = pd.read_csv(\"../datasets/OnlineNewsPopularity.csv\")\n",
    "data_popularity.columns = [column.strip() for column in data_popularity.columns] # corrige o problema de ter espaço nos nomes das colunas \n",
    "data_popularity = transform_data(data_popularity)\n",
    "data_popularity.head()"
   ]
  },
  {
   "cell_type": "markdown",
   "metadata": {},
   "source": [
    "## É isso\n",
    "\n",
    "Agora é com vocês. Façam a análise de acordo com o que foi pedido. Com isso encerramos nossa aula de análise de dados. Outros tipos de análise podem aparecer ao longo do curso. "
   ]
  },
  {
   "cell_type": "markdown",
   "metadata": {
    "id": "_rOQ8M2aaBUG"
   },
   "source": [
    "![force](https://media.giphy.com/media/3o85xAojNshmzlySyc/giphy.gif?cid=ecf05e47x07q84ywa19aus9n1j1owve0mad420ffmpo6vjha&rid=giphy.gif&ct=g)\n",
    "\n",
    "**Boa atividade e Divirtam-se ;)**"
   ]
  },
  {
   "cell_type": "markdown",
   "metadata": {},
   "source": [
    "## Funções de Suporte\n",
    "\n",
    "As funções a seguir são apenas de suporte para o conteúdo passado. Não precisa modifica-las."
   ]
  },
  {
   "cell_type": "code",
   "execution_count": 94,
   "metadata": {},
   "outputs": [],
   "source": [
    "def transform_data(dataset):\n",
    "\n",
    "    # Colunas com informações de Channel \n",
    "\n",
    "    melt_columns_channel = [\n",
    "        'data_channel_is_lifestyle', 'data_channel_is_entertainment', 'data_channel_is_bus', 'data_channel_is_socmed',\n",
    "        'data_channel_is_tech', 'data_channel_is_world'\n",
    "    ]\n",
    "\n",
    "    # Demais colunas do dataset\n",
    "\n",
    "    all_columns_channel = [column for column in dataset.columns if column not in melt_columns_channel]\n",
    "\n",
    "    # Transformação da base de dados \n",
    "\n",
    "    data_final = pd.melt(dataset, id_vars=all_columns_channel, value_vars=melt_columns_channel, var_name='channel', value_name='channel_value')\n",
    "    data_final = data_final[data_final['channel_value'] != 0]\n",
    "    data_final['channel'] =data_final['channel'].str.split(\"_\").str[-1]\n",
    "    data_final.drop(columns=['channel_value'], inplace=True)\n",
    "    data_final.reset_index(inplace=True)\n",
    "    \n",
    "    \n",
    "    # Colunas com informações do weekday \n",
    "    melt_columns_weekday = ['weekday_is_monday', 'weekday_is_tuesday', \n",
    "        'weekday_is_wednesday', 'weekday_is_thursday', 'weekday_is_friday', 'weekday_is_saturday', 'weekday_is_sunday'\n",
    "    ]\n",
    "\n",
    "    # Demais colunas do dataset\n",
    "    all_columns_weekday = [column for column in data_final.columns if column not in melt_columns_weekday]\n",
    "\n",
    "\n",
    "    data_final = pd.melt(data_final, id_vars=all_columns_weekday, value_vars=melt_columns_weekday, var_name='weekday', value_name='weekday_value')\n",
    "    data_final = data_final[data_final['weekday_value'] != 0]\n",
    "    data_final['weekday'] =data_final['weekday'].str.split(\"_\").str[-1]\n",
    "    data_final.drop(columns=['weekday_value'], inplace=True)\n",
    "    data_final.reset_index(inplace=True)\n",
    "\n",
    "    # Selecionando colunas de interesse \n",
    "\n",
    "    data_final = data_final[['timedelta', 'n_tokens_title',\n",
    "       'n_tokens_content', 'n_unique_tokens','num_hrefs', 'num_self_hrefs', 'num_imgs',\n",
    "       'num_videos', 'num_keywords', 'channel', 'weekday', 'global_subjectivity',\n",
    "       'global_sentiment_polarity', 'global_rate_positive_words',\n",
    "       'global_rate_negative_words', 'title_subjectivity',\n",
    "       'title_sentiment_polarity', 'shares']]\n",
    "    \n",
    "\n",
    "    return data_final\n",
    "\n",
    "\n",
    "\n"
   ]
  }
 ],
 "metadata": {
  "colab": {
   "collapsed_sections": [],
   "include_colab_link": true,
   "name": "01_laboratorio_analise_de_dados.ipynb",
   "provenance": [],
   "toc_visible": true
  },
  "kernelspec": {
   "display_name": "Python 3.9.7 ('datascience')",
   "language": "python",
   "name": "python3"
  },
  "language_info": {
   "codemirror_mode": {
    "name": "ipython",
    "version": 3
   },
   "file_extension": ".py",
   "mimetype": "text/x-python",
   "name": "python",
   "nbconvert_exporter": "python",
   "pygments_lexer": "ipython3",
   "version": "3.9.7"
  },
  "vscode": {
   "interpreter": {
    "hash": "5063cfe71bac910fcf2a966b61d684c7ab1acf2cfb80646acb374e5182a49f95"
   }
  }
 },
 "nbformat": 4,
 "nbformat_minor": 4
}
